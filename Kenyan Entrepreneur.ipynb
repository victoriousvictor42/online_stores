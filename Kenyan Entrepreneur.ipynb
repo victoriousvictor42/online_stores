{
 "cells": [
  {
   "cell_type": "markdown",
   "metadata": {},
   "source": [
    "# Defining the question"
   ]
  },
  {
   "cell_type": "markdown",
   "metadata": {},
   "source": [
    "### Identifying the individuals who are most likely going to click on the Kenyan entrepreneur's ads\n"
   ]
  },
  {
   "cell_type": "markdown",
   "metadata": {},
   "source": [
    "## Metric for success"
   ]
  },
  {
   "cell_type": "markdown",
   "metadata": {},
   "source": [
    "###  supervised learning"
   ]
  },
  {
   "cell_type": "markdown",
   "metadata": {},
   "source": [
    "## Context"
   ]
  },
  {
   "cell_type": "markdown",
   "metadata": {},
   "source": [
    "### a Kenyan entreneur has started an online cryptography course and would want to advertise it on her blog. she targets audiences from various countries.\n",
    "\n"
   ]
  },
  {
   "cell_type": "markdown",
   "metadata": {},
   "source": [
    "## Experimental design "
   ]
  },
  {
   "cell_type": "markdown",
   "metadata": {},
   "source": [
    "### kNN"
   ]
  },
  {
   "cell_type": "markdown",
   "metadata": {},
   "source": [
    "### SVM"
   ]
  },
  {
   "cell_type": "markdown",
   "metadata": {},
   "source": [
    "### Naive Bayes"
   ]
  },
  {
   "cell_type": "markdown",
   "metadata": {},
   "source": [
    "## Appropriateness of the data"
   ]
  },
  {
   "cell_type": "markdown",
   "metadata": {},
   "source": [
    "### The Kenyan Entrepreneur has already collected the data that will enable me to work on. "
   ]
  },
  {
   "cell_type": "code",
   "execution_count": 1,
   "metadata": {
    "ExecuteTime": {
     "end_time": "2020-03-12T10:07:13.108003Z",
     "start_time": "2020-03-12T10:07:07.750Z"
    }
   },
   "outputs": [],
   "source": [
    "# Loading the dataset\n",
    "advertising <- read.csv(\"C:/Users/I/Downloads/advertising.csv\")"
   ]
  },
  {
   "cell_type": "markdown",
   "metadata": {},
   "source": [
    "# Checking the dataset"
   ]
  },
  {
   "cell_type": "code",
   "execution_count": 2,
   "metadata": {
    "ExecuteTime": {
     "end_time": "2020-03-12T10:07:27.996587Z",
     "start_time": "2020-03-12T10:07:27.929Z"
    }
   },
   "outputs": [
    {
     "name": "stdout",
     "output_type": "stream",
     "text": [
      "'data.frame':\t1000 obs. of  10 variables:\n",
      " $ Daily.Time.Spent.on.Site: num  69 80.2 69.5 74.2 68.4 ...\n",
      " $ Age                     : int  35 31 26 29 35 23 33 48 30 20 ...\n",
      " $ Area.Income             : num  61834 68442 59786 54806 73890 ...\n",
      " $ Daily.Internet.Usage    : num  256 194 236 246 226 ...\n",
      " $ Ad.Topic.Line           : Factor w/ 1000 levels \"Adaptive 24hour Graphic Interface\",..: 92 465 567 904 767 806 223 724 108 455 ...\n",
      " $ City                    : Factor w/ 969 levels \"Adamsbury\",\"Adamside\",..: 962 904 112 940 806 283 47 672 885 713 ...\n",
      " $ Male                    : int  0 1 0 1 0 1 0 1 1 1 ...\n",
      " $ Country                 : Factor w/ 237 levels \"Afghanistan\",..: 216 148 185 104 97 159 146 13 83 79 ...\n",
      " $ Timestamp               : Factor w/ 1000 levels \"2016-01-01 02:52:10\",..: 440 475 368 57 768 690 131 334 549 942 ...\n",
      " $ Clicked.on.Ad           : int  0 0 0 0 0 0 0 1 0 0 ...\n"
     ]
    }
   ],
   "source": [
    "# checking for the data types in the dataset\n",
    "str(advertising)"
   ]
  },
  {
   "cell_type": "code",
   "execution_count": 3,
   "metadata": {
    "ExecuteTime": {
     "end_time": "2020-03-12T10:08:03.553803Z",
     "start_time": "2020-03-12T10:08:02.820Z"
    }
   },
   "outputs": [
    {
     "data": {
      "text/html": [
       "<table>\n",
       "<thead><tr><th scope=col>Daily.Time.Spent.on.Site</th><th scope=col>Age</th><th scope=col>Area.Income</th><th scope=col>Daily.Internet.Usage</th><th scope=col>Ad.Topic.Line</th><th scope=col>City</th><th scope=col>Male</th><th scope=col>Country</th><th scope=col>Timestamp</th><th scope=col>Clicked.on.Ad</th></tr></thead>\n",
       "<tbody>\n",
       "\t<tr><td>68.95                                </td><td>35                                   </td><td>61833.90                             </td><td>256.09                               </td><td>Cloned 5thgeneration orchestration   </td><td>Wrightburgh                          </td><td>0                                    </td><td>Tunisia                              </td><td>2016-03-27 00:53:11                  </td><td>0                                    </td></tr>\n",
       "\t<tr><td>80.23                                </td><td>31                                   </td><td>68441.85                             </td><td>193.77                               </td><td>Monitored national standardization   </td><td>West Jodi                            </td><td>1                                    </td><td>Nauru                                </td><td>2016-04-04 01:39:02                  </td><td>0                                    </td></tr>\n",
       "\t<tr><td>69.47                                </td><td>26                                   </td><td>59785.94                             </td><td>236.50                               </td><td>Organic bottom-line service-desk     </td><td>Davidton                             </td><td>0                                    </td><td>San Marino                           </td><td>2016-03-13 20:35:42                  </td><td>0                                    </td></tr>\n",
       "\t<tr><td>74.15                                </td><td>29                                   </td><td>54806.18                             </td><td>245.89                               </td><td>Triple-buffered reciprocal time-frame</td><td>West Terrifurt                       </td><td>1                                    </td><td>Italy                                </td><td>2016-01-10 02:31:19                  </td><td>0                                    </td></tr>\n",
       "\t<tr><td>68.37                                </td><td>35                                   </td><td>73889.99                             </td><td>225.58                               </td><td>Robust logistical utilization        </td><td>South Manuel                         </td><td>0                                    </td><td>Iceland                              </td><td>2016-06-03 03:36:18                  </td><td>0                                    </td></tr>\n",
       "\t<tr><td>59.99                                </td><td>23                                   </td><td>59761.56                             </td><td>226.74                               </td><td>Sharable client-driven software      </td><td>Jamieberg                            </td><td>1                                    </td><td>Norway                               </td><td>2016-05-19 14:30:17                  </td><td>0                                    </td></tr>\n",
       "</tbody>\n",
       "</table>\n"
      ],
      "text/latex": [
       "\\begin{tabular}{r|llllllllll}\n",
       " Daily.Time.Spent.on.Site & Age & Area.Income & Daily.Internet.Usage & Ad.Topic.Line & City & Male & Country & Timestamp & Clicked.on.Ad\\\\\n",
       "\\hline\n",
       "\t 68.95                                 & 35                                    & 61833.90                              & 256.09                                & Cloned 5thgeneration orchestration    & Wrightburgh                           & 0                                     & Tunisia                               & 2016-03-27 00:53:11                   & 0                                    \\\\\n",
       "\t 80.23                                 & 31                                    & 68441.85                              & 193.77                                & Monitored national standardization    & West Jodi                             & 1                                     & Nauru                                 & 2016-04-04 01:39:02                   & 0                                    \\\\\n",
       "\t 69.47                                 & 26                                    & 59785.94                              & 236.50                                & Organic bottom-line service-desk      & Davidton                              & 0                                     & San Marino                            & 2016-03-13 20:35:42                   & 0                                    \\\\\n",
       "\t 74.15                                 & 29                                    & 54806.18                              & 245.89                                & Triple-buffered reciprocal time-frame & West Terrifurt                        & 1                                     & Italy                                 & 2016-01-10 02:31:19                   & 0                                    \\\\\n",
       "\t 68.37                                 & 35                                    & 73889.99                              & 225.58                                & Robust logistical utilization         & South Manuel                          & 0                                     & Iceland                               & 2016-06-03 03:36:18                   & 0                                    \\\\\n",
       "\t 59.99                                 & 23                                    & 59761.56                              & 226.74                                & Sharable client-driven software       & Jamieberg                             & 1                                     & Norway                                & 2016-05-19 14:30:17                   & 0                                    \\\\\n",
       "\\end{tabular}\n"
      ],
      "text/markdown": [
       "\n",
       "| Daily.Time.Spent.on.Site | Age | Area.Income | Daily.Internet.Usage | Ad.Topic.Line | City | Male | Country | Timestamp | Clicked.on.Ad |\n",
       "|---|---|---|---|---|---|---|---|---|---|\n",
       "| 68.95                                 | 35                                    | 61833.90                              | 256.09                                | Cloned 5thgeneration orchestration    | Wrightburgh                           | 0                                     | Tunisia                               | 2016-03-27 00:53:11                   | 0                                     |\n",
       "| 80.23                                 | 31                                    | 68441.85                              | 193.77                                | Monitored national standardization    | West Jodi                             | 1                                     | Nauru                                 | 2016-04-04 01:39:02                   | 0                                     |\n",
       "| 69.47                                 | 26                                    | 59785.94                              | 236.50                                | Organic bottom-line service-desk      | Davidton                              | 0                                     | San Marino                            | 2016-03-13 20:35:42                   | 0                                     |\n",
       "| 74.15                                 | 29                                    | 54806.18                              | 245.89                                | Triple-buffered reciprocal time-frame | West Terrifurt                        | 1                                     | Italy                                 | 2016-01-10 02:31:19                   | 0                                     |\n",
       "| 68.37                                 | 35                                    | 73889.99                              | 225.58                                | Robust logistical utilization         | South Manuel                          | 0                                     | Iceland                               | 2016-06-03 03:36:18                   | 0                                     |\n",
       "| 59.99                                 | 23                                    | 59761.56                              | 226.74                                | Sharable client-driven software       | Jamieberg                             | 1                                     | Norway                                | 2016-05-19 14:30:17                   | 0                                     |\n",
       "\n"
      ],
      "text/plain": [
       "  Daily.Time.Spent.on.Site Age Area.Income Daily.Internet.Usage\n",
       "1 68.95                    35  61833.90    256.09              \n",
       "2 80.23                    31  68441.85    193.77              \n",
       "3 69.47                    26  59785.94    236.50              \n",
       "4 74.15                    29  54806.18    245.89              \n",
       "5 68.37                    35  73889.99    225.58              \n",
       "6 59.99                    23  59761.56    226.74              \n",
       "  Ad.Topic.Line                         City           Male Country   \n",
       "1 Cloned 5thgeneration orchestration    Wrightburgh    0    Tunisia   \n",
       "2 Monitored national standardization    West Jodi      1    Nauru     \n",
       "3 Organic bottom-line service-desk      Davidton       0    San Marino\n",
       "4 Triple-buffered reciprocal time-frame West Terrifurt 1    Italy     \n",
       "5 Robust logistical utilization         South Manuel   0    Iceland   \n",
       "6 Sharable client-driven software       Jamieberg      1    Norway    \n",
       "  Timestamp           Clicked.on.Ad\n",
       "1 2016-03-27 00:53:11 0            \n",
       "2 2016-04-04 01:39:02 0            \n",
       "3 2016-03-13 20:35:42 0            \n",
       "4 2016-01-10 02:31:19 0            \n",
       "5 2016-06-03 03:36:18 0            \n",
       "6 2016-05-19 14:30:17 0            "
      ]
     },
     "metadata": {},
     "output_type": "display_data"
    }
   ],
   "source": [
    "# Previwing the top of the dataset\n",
    "head(advertising)"
   ]
  },
  {
   "cell_type": "code",
   "execution_count": 4,
   "metadata": {
    "ExecuteTime": {
     "end_time": "2020-03-12T10:08:12.213755Z",
     "start_time": "2020-03-12T10:08:12.152Z"
    }
   },
   "outputs": [
    {
     "data": {
      "text/html": [
       "<table>\n",
       "<thead><tr><th></th><th scope=col>Daily.Time.Spent.on.Site</th><th scope=col>Age</th><th scope=col>Area.Income</th><th scope=col>Daily.Internet.Usage</th><th scope=col>Ad.Topic.Line</th><th scope=col>City</th><th scope=col>Male</th><th scope=col>Country</th><th scope=col>Timestamp</th><th scope=col>Clicked.on.Ad</th></tr></thead>\n",
       "<tbody>\n",
       "\t<tr><th scope=row>995</th><td>43.70                               </td><td>28                                  </td><td>63126.96                            </td><td>173.01                              </td><td>Front-line bifurcated ability       </td><td>Nicholasland                        </td><td>0                                   </td><td>Mayotte                             </td><td>2016-04-04 03:57:48                 </td><td>1                                   </td></tr>\n",
       "\t<tr><th scope=row>996</th><td>72.97                               </td><td>30                                  </td><td>71384.57                            </td><td>208.58                              </td><td>Fundamental modular algorithm       </td><td>Duffystad                           </td><td>1                                   </td><td>Lebanon                             </td><td>2016-02-11 21:49:00                 </td><td>1                                   </td></tr>\n",
       "\t<tr><th scope=row>997</th><td>51.30                               </td><td>45                                  </td><td>67782.17                            </td><td>134.42                              </td><td>Grass-roots cohesive monitoring     </td><td>New Darlene                         </td><td>1                                   </td><td>Bosnia and Herzegovina              </td><td>2016-04-22 02:07:01                 </td><td>1                                   </td></tr>\n",
       "\t<tr><th scope=row>998</th><td>51.63                               </td><td>51                                  </td><td>42415.72                            </td><td>120.37                              </td><td>Expanded intangible solution        </td><td>South Jessica                       </td><td>1                                   </td><td>Mongolia                            </td><td>2016-02-01 17:24:57                 </td><td>1                                   </td></tr>\n",
       "\t<tr><th scope=row>999</th><td>55.55                               </td><td>19                                  </td><td>41920.79                            </td><td>187.95                              </td><td>Proactive bandwidth-monitored policy</td><td>West Steven                         </td><td>0                                   </td><td>Guatemala                           </td><td>2016-03-24 02:35:54                 </td><td>0                                   </td></tr>\n",
       "\t<tr><th scope=row>1000</th><td>45.01                               </td><td>26                                  </td><td>29875.80                            </td><td>178.35                              </td><td>Virtual 5thgeneration emulation     </td><td>Ronniemouth                         </td><td>0                                   </td><td>Brazil                              </td><td>2016-06-03 21:43:21                 </td><td>1                                   </td></tr>\n",
       "</tbody>\n",
       "</table>\n"
      ],
      "text/latex": [
       "\\begin{tabular}{r|llllllllll}\n",
       "  & Daily.Time.Spent.on.Site & Age & Area.Income & Daily.Internet.Usage & Ad.Topic.Line & City & Male & Country & Timestamp & Clicked.on.Ad\\\\\n",
       "\\hline\n",
       "\t995 & 43.70                                & 28                                   & 63126.96                             & 173.01                               & Front-line bifurcated ability        & Nicholasland                         & 0                                    & Mayotte                              & 2016-04-04 03:57:48                  & 1                                   \\\\\n",
       "\t996 & 72.97                                & 30                                   & 71384.57                             & 208.58                               & Fundamental modular algorithm        & Duffystad                            & 1                                    & Lebanon                              & 2016-02-11 21:49:00                  & 1                                   \\\\\n",
       "\t997 & 51.30                                & 45                                   & 67782.17                             & 134.42                               & Grass-roots cohesive monitoring      & New Darlene                          & 1                                    & Bosnia and Herzegovina               & 2016-04-22 02:07:01                  & 1                                   \\\\\n",
       "\t998 & 51.63                                & 51                                   & 42415.72                             & 120.37                               & Expanded intangible solution         & South Jessica                        & 1                                    & Mongolia                             & 2016-02-01 17:24:57                  & 1                                   \\\\\n",
       "\t999 & 55.55                                & 19                                   & 41920.79                             & 187.95                               & Proactive bandwidth-monitored policy & West Steven                          & 0                                    & Guatemala                            & 2016-03-24 02:35:54                  & 0                                   \\\\\n",
       "\t1000 & 45.01                                & 26                                   & 29875.80                             & 178.35                               & Virtual 5thgeneration emulation      & Ronniemouth                          & 0                                    & Brazil                               & 2016-06-03 21:43:21                  & 1                                   \\\\\n",
       "\\end{tabular}\n"
      ],
      "text/markdown": [
       "\n",
       "| <!--/--> | Daily.Time.Spent.on.Site | Age | Area.Income | Daily.Internet.Usage | Ad.Topic.Line | City | Male | Country | Timestamp | Clicked.on.Ad |\n",
       "|---|---|---|---|---|---|---|---|---|---|---|\n",
       "| 995 | 43.70                                | 28                                   | 63126.96                             | 173.01                               | Front-line bifurcated ability        | Nicholasland                         | 0                                    | Mayotte                              | 2016-04-04 03:57:48                  | 1                                    |\n",
       "| 996 | 72.97                                | 30                                   | 71384.57                             | 208.58                               | Fundamental modular algorithm        | Duffystad                            | 1                                    | Lebanon                              | 2016-02-11 21:49:00                  | 1                                    |\n",
       "| 997 | 51.30                                | 45                                   | 67782.17                             | 134.42                               | Grass-roots cohesive monitoring      | New Darlene                          | 1                                    | Bosnia and Herzegovina               | 2016-04-22 02:07:01                  | 1                                    |\n",
       "| 998 | 51.63                                | 51                                   | 42415.72                             | 120.37                               | Expanded intangible solution         | South Jessica                        | 1                                    | Mongolia                             | 2016-02-01 17:24:57                  | 1                                    |\n",
       "| 999 | 55.55                                | 19                                   | 41920.79                             | 187.95                               | Proactive bandwidth-monitored policy | West Steven                          | 0                                    | Guatemala                            | 2016-03-24 02:35:54                  | 0                                    |\n",
       "| 1000 | 45.01                                | 26                                   | 29875.80                             | 178.35                               | Virtual 5thgeneration emulation      | Ronniemouth                          | 0                                    | Brazil                               | 2016-06-03 21:43:21                  | 1                                    |\n",
       "\n"
      ],
      "text/plain": [
       "     Daily.Time.Spent.on.Site Age Area.Income Daily.Internet.Usage\n",
       "995  43.70                    28  63126.96    173.01              \n",
       "996  72.97                    30  71384.57    208.58              \n",
       "997  51.30                    45  67782.17    134.42              \n",
       "998  51.63                    51  42415.72    120.37              \n",
       "999  55.55                    19  41920.79    187.95              \n",
       "1000 45.01                    26  29875.80    178.35              \n",
       "     Ad.Topic.Line                        City          Male\n",
       "995  Front-line bifurcated ability        Nicholasland  0   \n",
       "996  Fundamental modular algorithm        Duffystad     1   \n",
       "997  Grass-roots cohesive monitoring      New Darlene   1   \n",
       "998  Expanded intangible solution         South Jessica 1   \n",
       "999  Proactive bandwidth-monitored policy West Steven   0   \n",
       "1000 Virtual 5thgeneration emulation      Ronniemouth   0   \n",
       "     Country                Timestamp           Clicked.on.Ad\n",
       "995  Mayotte                2016-04-04 03:57:48 1            \n",
       "996  Lebanon                2016-02-11 21:49:00 1            \n",
       "997  Bosnia and Herzegovina 2016-04-22 02:07:01 1            \n",
       "998  Mongolia               2016-02-01 17:24:57 1            \n",
       "999  Guatemala              2016-03-24 02:35:54 0            \n",
       "1000 Brazil                 2016-06-03 21:43:21 1            "
      ]
     },
     "metadata": {},
     "output_type": "display_data"
    }
   ],
   "source": [
    "# Previewing the bottom of the dataset\n",
    "tail(advertising)"
   ]
  },
  {
   "cell_type": "code",
   "execution_count": 5,
   "metadata": {
    "ExecuteTime": {
     "end_time": "2020-03-12T10:08:22.493412Z",
     "start_time": "2020-03-12T10:08:22.449Z"
    }
   },
   "outputs": [
    {
     "data": {
      "text/html": [
       "<ol class=list-inline>\n",
       "\t<li>'Daily.Time.Spent.on.Site'</li>\n",
       "\t<li>'Age'</li>\n",
       "\t<li>'Area.Income'</li>\n",
       "\t<li>'Daily.Internet.Usage'</li>\n",
       "\t<li>'Ad.Topic.Line'</li>\n",
       "\t<li>'City'</li>\n",
       "\t<li>'Male'</li>\n",
       "\t<li>'Country'</li>\n",
       "\t<li>'Timestamp'</li>\n",
       "\t<li>'Clicked.on.Ad'</li>\n",
       "</ol>\n"
      ],
      "text/latex": [
       "\\begin{enumerate*}\n",
       "\\item 'Daily.Time.Spent.on.Site'\n",
       "\\item 'Age'\n",
       "\\item 'Area.Income'\n",
       "\\item 'Daily.Internet.Usage'\n",
       "\\item 'Ad.Topic.Line'\n",
       "\\item 'City'\n",
       "\\item 'Male'\n",
       "\\item 'Country'\n",
       "\\item 'Timestamp'\n",
       "\\item 'Clicked.on.Ad'\n",
       "\\end{enumerate*}\n"
      ],
      "text/markdown": [
       "1. 'Daily.Time.Spent.on.Site'\n",
       "2. 'Age'\n",
       "3. 'Area.Income'\n",
       "4. 'Daily.Internet.Usage'\n",
       "5. 'Ad.Topic.Line'\n",
       "6. 'City'\n",
       "7. 'Male'\n",
       "8. 'Country'\n",
       "9. 'Timestamp'\n",
       "10. 'Clicked.on.Ad'\n",
       "\n",
       "\n"
      ],
      "text/plain": [
       " [1] \"Daily.Time.Spent.on.Site\" \"Age\"                     \n",
       " [3] \"Area.Income\"              \"Daily.Internet.Usage\"    \n",
       " [5] \"Ad.Topic.Line\"            \"City\"                    \n",
       " [7] \"Male\"                     \"Country\"                 \n",
       " [9] \"Timestamp\"                \"Clicked.on.Ad\"           "
      ]
     },
     "metadata": {},
     "output_type": "display_data"
    }
   ],
   "source": [
    "# Checking the columns of the dataset\n",
    "colnames(advertising)"
   ]
  },
  {
   "cell_type": "code",
   "execution_count": 6,
   "metadata": {
    "ExecuteTime": {
     "end_time": "2020-03-12T10:08:31.205881Z",
     "start_time": "2020-03-12T10:08:31.159Z"
    }
   },
   "outputs": [
    {
     "data": {
      "text/html": [
       "<ol class=list-inline>\n",
       "\t<li>1000</li>\n",
       "\t<li>10</li>\n",
       "</ol>\n"
      ],
      "text/latex": [
       "\\begin{enumerate*}\n",
       "\\item 1000\n",
       "\\item 10\n",
       "\\end{enumerate*}\n"
      ],
      "text/markdown": [
       "1. 1000\n",
       "2. 10\n",
       "\n",
       "\n"
      ],
      "text/plain": [
       "[1] 1000   10"
      ]
     },
     "metadata": {},
     "output_type": "display_data"
    }
   ],
   "source": [
    "# Checking for the data types in the dataset\n",
    "dim(advertising)"
   ]
  },
  {
   "cell_type": "markdown",
   "metadata": {},
   "source": [
    "there are 1000 rows and 10 columns"
   ]
  },
  {
   "cell_type": "markdown",
   "metadata": {},
   "source": [
    "# Tidying the dataset"
   ]
  },
  {
   "cell_type": "code",
   "execution_count": 7,
   "metadata": {
    "ExecuteTime": {
     "end_time": "2020-03-12T10:09:09.734164Z",
     "start_time": "2020-03-12T10:09:08.561Z"
    }
   },
   "outputs": [
    {
     "data": {
      "text/html": [
       "<dl class=dl-horizontal>\n",
       "\t<dt>Daily.Time.Spent.on.Site</dt>\n",
       "\t\t<dd>0</dd>\n",
       "\t<dt>Age</dt>\n",
       "\t\t<dd>0</dd>\n",
       "\t<dt>Area.Income</dt>\n",
       "\t\t<dd>0</dd>\n",
       "\t<dt>Daily.Internet.Usage</dt>\n",
       "\t\t<dd>0</dd>\n",
       "\t<dt>Ad.Topic.Line</dt>\n",
       "\t\t<dd>0</dd>\n",
       "\t<dt>City</dt>\n",
       "\t\t<dd>0</dd>\n",
       "\t<dt>Male</dt>\n",
       "\t\t<dd>0</dd>\n",
       "\t<dt>Country</dt>\n",
       "\t\t<dd>0</dd>\n",
       "\t<dt>Timestamp</dt>\n",
       "\t\t<dd>0</dd>\n",
       "\t<dt>Clicked.on.Ad</dt>\n",
       "\t\t<dd>0</dd>\n",
       "</dl>\n"
      ],
      "text/latex": [
       "\\begin{description*}\n",
       "\\item[Daily.Time.Spent.on.Site] 0\n",
       "\\item[Age] 0\n",
       "\\item[Area.Income] 0\n",
       "\\item[Daily.Internet.Usage] 0\n",
       "\\item[Ad.Topic.Line] 0\n",
       "\\item[City] 0\n",
       "\\item[Male] 0\n",
       "\\item[Country] 0\n",
       "\\item[Timestamp] 0\n",
       "\\item[Clicked.on.Ad] 0\n",
       "\\end{description*}\n"
      ],
      "text/markdown": [
       "Daily.Time.Spent.on.Site\n",
       ":   0Age\n",
       ":   0Area.Income\n",
       ":   0Daily.Internet.Usage\n",
       ":   0Ad.Topic.Line\n",
       ":   0City\n",
       ":   0Male\n",
       ":   0Country\n",
       ":   0Timestamp\n",
       ":   0Clicked.on.Ad\n",
       ":   0\n",
       "\n"
      ],
      "text/plain": [
       "Daily.Time.Spent.on.Site                      Age              Area.Income \n",
       "                       0                        0                        0 \n",
       "    Daily.Internet.Usage            Ad.Topic.Line                     City \n",
       "                       0                        0                        0 \n",
       "                    Male                  Country                Timestamp \n",
       "                       0                        0                        0 \n",
       "           Clicked.on.Ad \n",
       "                       0 "
      ]
     },
     "metadata": {},
     "output_type": "display_data"
    }
   ],
   "source": [
    "# Checking for missing data\n",
    "colSums(is.na(advertising))"
   ]
  },
  {
   "cell_type": "markdown",
   "metadata": {},
   "source": [
    "there are no missing data in the dataset"
   ]
  },
  {
   "cell_type": "code",
   "execution_count": 8,
   "metadata": {
    "ExecuteTime": {
     "end_time": "2020-03-12T10:09:36.977356Z",
     "start_time": "2020-03-12T10:09:36.917Z"
    }
   },
   "outputs": [
    {
     "data": {
      "text/html": [
       "<table>\n",
       "<thead><tr><th scope=col>Daily.Time.Spent.on.Site</th><th scope=col>Age</th><th scope=col>Area.Income</th><th scope=col>Daily.Internet.Usage</th><th scope=col>Ad.Topic.Line</th><th scope=col>City</th><th scope=col>Male</th><th scope=col>Country</th><th scope=col>Timestamp</th><th scope=col>Clicked.on.Ad</th></tr></thead>\n",
       "<tbody>\n",
       "</tbody>\n",
       "</table>\n"
      ],
      "text/latex": [
       "\\begin{tabular}{r|llllllllll}\n",
       " Daily.Time.Spent.on.Site & Age & Area.Income & Daily.Internet.Usage & Ad.Topic.Line & City & Male & Country & Timestamp & Clicked.on.Ad\\\\\n",
       "\\hline\n",
       "\\end{tabular}\n"
      ],
      "text/markdown": [
       "\n",
       "| Daily.Time.Spent.on.Site | Age | Area.Income | Daily.Internet.Usage | Ad.Topic.Line | City | Male | Country | Timestamp | Clicked.on.Ad |\n",
       "|---|---|---|---|---|---|---|---|---|---|\n",
       "\n"
      ],
      "text/plain": [
       "     Daily.Time.Spent.on.Site Age Area.Income Daily.Internet.Usage\n",
       "     Ad.Topic.Line City Male Country Timestamp Clicked.on.Ad"
      ]
     },
     "metadata": {},
     "output_type": "display_data"
    }
   ],
   "source": [
    "# Showing whether there are repeat entries\n",
    "advertising[duplicated(advertising), ]"
   ]
  },
  {
   "cell_type": "markdown",
   "metadata": {},
   "source": [
    "there are no duplicated data in the dataset"
   ]
  },
  {
   "cell_type": "markdown",
   "metadata": {},
   "source": [
    "## Checking for outliers"
   ]
  },
  {
   "cell_type": "code",
   "execution_count": 9,
   "metadata": {
    "ExecuteTime": {
     "end_time": "2020-03-12T10:10:20.638962Z",
     "start_time": "2020-03-12T10:10:17.718Z"
    }
   },
   "outputs": [
    {
     "data": {
      "image/png": "[encoded data removed]",
      "text/plain": [
       "plot without title"
      ]
     },
     "metadata": {},
     "output_type": "display_data"
    }
   ],
   "source": [
    "# In Daily.Time.Spent.on.Site\n",
    "boxplot(advertising$Daily.Time.Spent.on.Site)"
   ]
  },
  {
   "cell_type": "markdown",
   "metadata": {},
   "source": [
    "there are no outliers in the time spent on site columns"
   ]
  },
  {
   "cell_type": "code",
   "execution_count": 10,
   "metadata": {
    "ExecuteTime": {
     "end_time": "2020-03-12T10:11:03.287622Z",
     "start_time": "2020-03-12T10:11:03.158Z"
    }
   },
   "outputs": [
    {
     "data": {
      "image/png": "[encoded data removed]",
      "text/plain": [
       "plot without title"
      ]
     },
     "metadata": {},
     "output_type": "display_data"
    }
   ],
   "source": [
    "# In Age  \n",
    "boxplot(advertising$Age)"
   ]
  },
  {
   "cell_type": "markdown",
   "metadata": {},
   "source": [
    "there are no outliers in the Age column"
   ]
  },
  {
   "cell_type": "code",
   "execution_count": 11,
   "metadata": {
    "ExecuteTime": {
     "end_time": "2020-03-12T10:11:27.307871Z",
     "start_time": "2020-03-12T10:11:26.545Z"
    }
   },
   "outputs": [
    {
     "data": {
      "image/png": "[encoded data removed]",
      "text/plain": [
       "plot without title"
      ]
     },
     "metadata": {},
     "output_type": "display_data"
    }
   ],
   "source": [
    "# In Area.Income\n",
    "boxplot(advertising$Area.Income)"
   ]
  },
  {
   "cell_type": "markdown",
   "metadata": {},
   "source": [
    "there are outliers that are less than 20,000. The outliers look valid since they are from a dataset that has been collected by the entrepreneur over a period of time"
   ]
  },
  {
   "cell_type": "code",
   "execution_count": 12,
   "metadata": {
    "ExecuteTime": {
     "end_time": "2020-03-12T10:11:56.604421Z",
     "start_time": "2020-03-12T10:11:56.459Z"
    }
   },
   "outputs": [
    {
     "data": {
      "image/png": "[encoded data removed]",
      "text/plain": [
       "plot without title"
      ]
     },
     "metadata": {},
     "output_type": "display_data"
    }
   ],
   "source": [
    "# Male\n",
    "boxplot(advertising$Male)"
   ]
  },
  {
   "cell_type": "markdown",
   "metadata": {},
   "source": [
    "there are no outliers in the column"
   ]
  },
  {
   "cell_type": "code",
   "execution_count": 13,
   "metadata": {
    "ExecuteTime": {
     "end_time": "2020-03-12T10:12:24.102974Z",
     "start_time": "2020-03-12T10:12:23.895Z"
    }
   },
   "outputs": [
    {
     "data": {
      "image/png": "[encoded data removed]",
      "text/plain": [
       "plot without title"
      ]
     },
     "metadata": {},
     "output_type": "display_data"
    }
   ],
   "source": [
    "# Clicked.on.Ad\n",
    "boxplot(advertising$Clicked.on.Ad)"
   ]
  },
  {
   "cell_type": "markdown",
   "metadata": {},
   "source": [
    "there are no clicks on ad"
   ]
  },
  {
   "cell_type": "markdown",
   "metadata": {},
   "source": [
    "# Feature engineering"
   ]
  },
  {
   "cell_type": "code",
   "execution_count": 14,
   "metadata": {
    "ExecuteTime": {
     "end_time": "2020-03-12T10:13:10.582789Z",
     "start_time": "2020-03-12T10:13:10.511Z"
    }
   },
   "outputs": [],
   "source": [
    "# Making the column names uniform\n",
    "names(advertising)[names(advertising)==\"Daily.Time.Spent.on.Site\"] <- \"daily_time_spent_on_site\"\n",
    "names(advertising)[names(advertising)==\"Age\"] <- \"age\"\n",
    "names(advertising)[names(advertising)==\"Area.Income\"] <- \"area_income\"\n",
    "names(advertising)[names(advertising)==\"Daily.Internet.Usage\"] <- \"daily_internet_usage\"\n",
    "names(advertising)[names(advertising)==\"Ad.Topic.Line\"] <- \"ad_topic_line\"\n",
    "names(advertising)[names(advertising)==\"City\"] <- \"city\"\n",
    "names(advertising)[names(advertising)==\"Male\"] <- \"sex\" #changing the male name to sex because is representing males and female\n",
    "names(advertising)[names(advertising)==\"Country\"] <- \"country\"\n",
    "names(advertising)[names(advertising)==\"Timestamp\"] <- \"timestamp\"\n",
    "names(advertising)[names(advertising)==\"Clicked.on.Ad\"] <- \"clicked_on_ad\""
   ]
  },
  {
   "cell_type": "code",
   "execution_count": 15,
   "metadata": {
    "ExecuteTime": {
     "end_time": "2020-03-12T10:13:33.899407Z",
     "start_time": "2020-03-12T10:13:33.820Z"
    }
   },
   "outputs": [],
   "source": [
    "# Removing the ad_topic_line column because i do not see its relevancy\n",
    "advertising$ad_topic_line <- NULL"
   ]
  },
  {
   "cell_type": "markdown",
   "metadata": {},
   "source": [
    "# Univariate data analysis"
   ]
  },
  {
   "cell_type": "code",
   "execution_count": 16,
   "metadata": {
    "ExecuteTime": {
     "end_time": "2020-03-12T10:14:15.725281Z",
     "start_time": "2020-03-12T10:14:13.528Z"
    }
   },
   "outputs": [
    {
     "data": {
      "image/png": "[encoded data removed]",
      "text/plain": [
       "Plot with title \"Daily time Spent on Site\""
      ]
     },
     "metadata": {},
     "output_type": "display_data"
    }
   ],
   "source": [
    "# Daily time spent on site\n",
    "x = hist(advertising$daily_time_spent_on_site,\n",
    "         main = \"Daily time Spent on Site\",\n",
    "         xlab = \"Daily time Spent on Site\",\n",
    "         col ='green')"
   ]
  },
  {
   "cell_type": "markdown",
   "metadata": {},
   "source": [
    "the data is skewed to the left and most of the data is distributed between 65 and 85 "
   ]
  },
  {
   "cell_type": "code",
   "execution_count": 17,
   "metadata": {
    "ExecuteTime": {
     "end_time": "2020-03-12T10:14:46.364834Z",
     "start_time": "2020-03-12T10:14:46.055Z"
    }
   },
   "outputs": [
    {
     "data": {
      "image/png": "[encoded data removed]",
      "text/plain": [
       "Plot with title \"Age\""
      ]
     },
     "metadata": {},
     "output_type": "display_data"
    }
   ],
   "source": [
    "x = hist(advertising$age,\n",
    "         main = \"Age\",\n",
    "         xlab = \"Age\",\n",
    "         col ='green')"
   ]
  },
  {
   "cell_type": "markdown",
   "metadata": {},
   "source": [
    "data is skewed to the right and most of the data is distributed between 25 and 40"
   ]
  },
  {
   "cell_type": "code",
   "execution_count": 18,
   "metadata": {
    "ExecuteTime": {
     "end_time": "2020-03-12T10:15:17.288063Z",
     "start_time": "2020-03-12T10:15:17.205Z"
    }
   },
   "outputs": [
    {
     "data": {
      "image/png": "[encoded data removed]",
      "text/plain": [
       "Plot with title \"area income\""
      ]
     },
     "metadata": {},
     "output_type": "display_data"
    }
   ],
   "source": [
    "# Area_income\n",
    "x = hist(advertising$area_income,\n",
    "         main = \"area income\",\n",
    "         xlab = \"area income\",\n",
    "         col ='green')"
   ]
  },
  {
   "cell_type": "markdown",
   "metadata": {},
   "source": [
    "data is skewed to the left and most of the data is distributed between 50,000 and 70,000"
   ]
  },
  {
   "cell_type": "code",
   "execution_count": 19,
   "metadata": {
    "ExecuteTime": {
     "end_time": "2020-03-12T10:15:35.169913Z",
     "start_time": "2020-03-12T10:15:35.079Z"
    }
   },
   "outputs": [
    {
     "data": {
      "image/png": "[encoded data removed]",
      "text/plain": [
       "Plot with title \"daily internet usage\""
      ]
     },
     "metadata": {},
     "output_type": "display_data"
    }
   ],
   "source": [
    "x = hist(advertising$daily_internet_usage,\n",
    "         main = \"daily internet usage\",\n",
    "         xlab = \"daily internet usage\",\n",
    "         col ='green')"
   ]
  },
  {
   "cell_type": "markdown",
   "metadata": {},
   "source": [
    "data is used a lot and most of it is distributed between 200 and 225"
   ]
  },
  {
   "cell_type": "code",
   "execution_count": 20,
   "metadata": {
    "ExecuteTime": {
     "end_time": "2020-03-12T10:16:00.754040Z",
     "start_time": "2020-03-12T10:16:00.615Z"
    }
   },
   "outputs": [
    {
     "data": {
      "text/plain": [
       "\n",
       "  0   1 \n",
       "519 481 "
      ]
     },
     "metadata": {},
     "output_type": "display_data"
    },
    {
     "data": {
      "image/png": "[encoded data removed]",
      "text/plain": [
       "Plot with title \"sex\""
      ]
     },
     "metadata": {},
     "output_type": "display_data"
    }
   ],
   "source": [
    "# Sex\n",
    "table(advertising$sex) # there are 519 males and 481 females\n",
    "\n",
    "barplot(table(advertising$sex),\n",
    "    main=\"sex\")"
   ]
  },
  {
   "cell_type": "code",
   "execution_count": 21,
   "metadata": {
    "ExecuteTime": {
     "end_time": "2020-03-12T10:16:14.058600Z",
     "start_time": "2020-03-12T10:16:13.382Z"
    }
   },
   "outputs": [
    {
     "data": {
      "text/plain": [
       "\n",
       "                                        Afghanistan \n",
       "                                                  8 \n",
       "                                            Albania \n",
       "                                                  7 \n",
       "                                            Algeria \n",
       "                                                  6 \n",
       "                                     American Samoa \n",
       "                                                  5 \n",
       "                                            Andorra \n",
       "                                                  2 \n",
       "                                             Angola \n",
       "                                                  4 \n",
       "                                           Anguilla \n",
       "                                                  6 \n",
       "       Antarctica (the territory South of 60 deg S) \n",
       "                                                  3 \n",
       "                                Antigua and Barbuda \n",
       "                                                  5 \n",
       "                                          Argentina \n",
       "                                                  2 \n",
       "                                            Armenia \n",
       "                                                  3 \n",
       "                                              Aruba \n",
       "                                                  1 \n",
       "                                          Australia \n",
       "                                                  8 \n",
       "                                            Austria \n",
       "                                                  5 \n",
       "                                         Azerbaijan \n",
       "                                                  3 \n",
       "                                            Bahamas \n",
       "                                                  7 \n",
       "                                            Bahrain \n",
       "                                                  5 \n",
       "                                         Bangladesh \n",
       "                                                  4 \n",
       "                                           Barbados \n",
       "                                                  5 \n",
       "                                            Belarus \n",
       "                                                  6 \n",
       "                                            Belgium \n",
       "                                                  5 \n",
       "                                             Belize \n",
       "                                                  5 \n",
       "                                              Benin \n",
       "                                                  2 \n",
       "                                            Bermuda \n",
       "                                                  1 \n",
       "                                             Bhutan \n",
       "                                                  2 \n",
       "                                            Bolivia \n",
       "                                                  6 \n",
       "                             Bosnia and Herzegovina \n",
       "                                                  7 \n",
       "                          Bouvet Island (Bouvetoya) \n",
       "                                                  5 \n",
       "                                             Brazil \n",
       "                                                  5 \n",
       "British Indian Ocean Territory (Chagos Archipelago) \n",
       "                                                  1 \n",
       "                             British Virgin Islands \n",
       "                                                  3 \n",
       "                                  Brunei Darussalam \n",
       "                                                  5 \n",
       "                                           Bulgaria \n",
       "                                                  6 \n",
       "                                       Burkina Faso \n",
       "                                                  4 \n",
       "                                            Burundi \n",
       "                                                  7 \n",
       "                                           Cambodia \n",
       "                                                  7 \n",
       "                                           Cameroon \n",
       "                                                  5 \n",
       "                                             Canada \n",
       "                                                  5 \n",
       "                                         Cape Verde \n",
       "                                                  1 \n",
       "                                     Cayman Islands \n",
       "                                                  5 \n",
       "                           Central African Republic \n",
       "                                                  2 \n",
       "                                               Chad \n",
       "                                                  4 \n",
       "                                              Chile \n",
       "                                                  4 \n",
       "                                              China \n",
       "                                                  6 \n",
       "                                   Christmas Island \n",
       "                                                  6 \n",
       "                                           Colombia \n",
       "                                                  2 \n",
       "                                            Comoros \n",
       "                                                  2 \n",
       "                                              Congo \n",
       "                                                  4 \n",
       "                                       Cook Islands \n",
       "                                                  3 \n",
       "                                         Costa Rica \n",
       "                                                  6 \n",
       "                                      Cote d'Ivoire \n",
       "                                                  4 \n",
       "                                            Croatia \n",
       "                                                  6 \n",
       "                                               Cuba \n",
       "                                                  5 \n",
       "                                             Cyprus \n",
       "                                                  8 \n",
       "                                     Czech Republic \n",
       "                                                  9 \n",
       "                                            Denmark \n",
       "                                                  3 \n",
       "                                           Djibouti \n",
       "                                                  2 \n",
       "                                           Dominica \n",
       "                                                  5 \n",
       "                                 Dominican Republic \n",
       "                                                  4 \n",
       "                                            Ecuador \n",
       "                                                  5 \n",
       "                                              Egypt \n",
       "                                                  5 \n",
       "                                        El Salvador \n",
       "                                                  6 \n",
       "                                  Equatorial Guinea \n",
       "                                                  4 \n",
       "                                            Eritrea \n",
       "                                                  7 \n",
       "                                            Estonia \n",
       "                                                  3 \n",
       "                                           Ethiopia \n",
       "                                                  7 \n",
       "                        Falkland Islands (Malvinas) \n",
       "                                                  4 \n",
       "                                      Faroe Islands \n",
       "                                                  3 \n",
       "                                               Fiji \n",
       "                                                  7 \n",
       "                                            Finland \n",
       "                                                  5 \n",
       "                                             France \n",
       "                                                  9 \n",
       "                                      French Guiana \n",
       "                                                  4 \n",
       "                                   French Polynesia \n",
       "                                                  5 \n",
       "                        French Southern Territories \n",
       "                                                  5 \n",
       "                                              Gabon \n",
       "                                                  6 \n",
       "                                             Gambia \n",
       "                                                  2 \n",
       "                                            Georgia \n",
       "                                                  4 \n",
       "                                            Germany \n",
       "                                                  1 \n",
       "                                              Ghana \n",
       "                                                  4 \n",
       "                                          Gibraltar \n",
       "                                                  3 \n",
       "                                             Greece \n",
       "                                                  8 \n",
       "                                          Greenland \n",
       "                                                  5 \n",
       "                                            Grenada \n",
       "                                                  4 \n",
       "                                         Guadeloupe \n",
       "                                                  2 \n",
       "                                               Guam \n",
       "                                                  4 \n",
       "                                          Guatemala \n",
       "                                                  4 \n",
       "                                           Guernsey \n",
       "                                                  3 \n",
       "                                             Guinea \n",
       "                                                  3 \n",
       "                                      Guinea-Bissau \n",
       "                                                  2 \n",
       "                                             Guyana \n",
       "                                                  5 \n",
       "                                              Haiti \n",
       "                                                  2 \n",
       "                  Heard Island and McDonald Islands \n",
       "                                                  3 \n",
       "                      Holy See (Vatican City State) \n",
       "                                                  3 \n",
       "                                           Honduras \n",
       "                                                  5 \n",
       "                                          Hong Kong \n",
       "                                                  6 \n",
       "                                            Hungary \n",
       "                                                  6 \n",
       "                                            Iceland \n",
       "                                                  3 \n",
       "                                              India \n",
       "                                                  2 \n",
       "                                          Indonesia \n",
       "                                                  6 \n",
       "                                               Iran \n",
       "                                                  5 \n",
       "                                            Ireland \n",
       "                                                  3 \n",
       "                                        Isle of Man \n",
       "                                                  3 \n",
       "                                             Israel \n",
       "                                                  4 \n",
       "                                              Italy \n",
       "                                                  5 \n",
       "                                            Jamaica \n",
       "                                                  5 \n",
       "                                              Japan \n",
       "                                                  4 \n",
       "                                             Jersey \n",
       "                                                  6 \n",
       "                                             Jordan \n",
       "                                                  1 \n",
       "                                         Kazakhstan \n",
       "                                                  4 \n",
       "                                              Kenya \n",
       "                                                  4 \n",
       "                                           Kiribati \n",
       "                                                  1 \n",
       "                                              Korea \n",
       "                                                  5 \n",
       "                                             Kuwait \n",
       "                                                  2 \n",
       "                                    Kyrgyz Republic \n",
       "                                                  6 \n",
       "                   Lao People's Democratic Republic \n",
       "                                                  4 \n",
       "                                             Latvia \n",
       "                                                  4 \n",
       "                                            Lebanon \n",
       "                                                  6 \n",
       "                                            Lesotho \n",
       "                                                  1 \n",
       "                                            Liberia \n",
       "                                                  8 \n",
       "                             Libyan Arab Jamahiriya \n",
       "                                                  4 \n",
       "                                      Liechtenstein \n",
       "                                                  6 \n",
       "                                          Lithuania \n",
       "                                                  3 \n",
       "                                         Luxembourg \n",
       "                                                  7 \n",
       "                                              Macao \n",
       "                                                  3 \n",
       "                                          Macedonia \n",
       "                                                  2 \n",
       "                                         Madagascar \n",
       "                                                  6 \n",
       "                                             Malawi \n",
       "                                                  4 \n",
       "                                           Malaysia \n",
       "                                                  3 \n",
       "                                           Maldives \n",
       "                                                  4 \n",
       "                                               Mali \n",
       "                                                  4 \n",
       "                                              Malta \n",
       "                                                  6 \n",
       "                                   Marshall Islands \n",
       "                                                  1 \n",
       "                                         Martinique \n",
       "                                                  4 \n",
       "                                         Mauritania \n",
       "                                                  2 \n",
       "                                          Mauritius \n",
       "                                                  4 \n",
       "                                            Mayotte \n",
       "                                                  6 \n",
       "                                             Mexico \n",
       "                                                  6 \n",
       "                                         Micronesia \n",
       "                                                  8 \n",
       "                                            Moldova \n",
       "                                                  6 \n",
       "                                             Monaco \n",
       "                                                  3 \n",
       "                                           Mongolia \n",
       "                                                  6 \n",
       "                                         Montenegro \n",
       "                                                  2 \n",
       "                                         Montserrat \n",
       "                                                  1 \n",
       "                                            Morocco \n",
       "                                                  3 \n",
       "                                         Mozambique \n",
       "                                                  1 \n",
       "                                            Myanmar \n",
       "                                                  5 \n",
       "                                            Namibia \n",
       "                                                  2 \n",
       "                                              Nauru \n",
       "                                                  3 \n",
       "                                              Nepal \n",
       "                                                  3 \n",
       "                                        Netherlands \n",
       "                                                  4 \n",
       "                               Netherlands Antilles \n",
       "                                                  6 \n",
       "                                      New Caledonia \n",
       "                                                  2 \n",
       "                                        New Zealand \n",
       "                                                  4 \n",
       "                                          Nicaragua \n",
       "                                                  3 \n",
       "                                              Niger \n",
       "                                                  3 \n",
       "                                               Niue \n",
       "                                                  3 \n",
       "                                     Norfolk Island \n",
       "                                                  5 \n",
       "                           Northern Mariana Islands \n",
       "                                                  3 \n",
       "                                             Norway \n",
       "                                                  2 \n",
       "                                           Pakistan \n",
       "                                                  5 \n",
       "                                              Palau \n",
       "                                                  4 \n",
       "                              Palestinian Territory \n",
       "                                                  3 \n",
       "                                             Panama \n",
       "                                                  2 \n",
       "                                   Papua New Guinea \n",
       "                                                  5 \n",
       "                                           Paraguay \n",
       "                                                  3 \n",
       "                                               Peru \n",
       "                                                  8 \n",
       "                                        Philippines \n",
       "                                                  6 \n",
       "                                   Pitcairn Islands \n",
       "                                                  2 \n",
       "                                             Poland \n",
       "                                                  6 \n",
       "                                           Portugal \n",
       "                                                  3 \n",
       "                                        Puerto Rico \n",
       "                                                  6 \n",
       "                                              Qatar \n",
       "                                                  6 \n",
       "                                            Reunion \n",
       "                                                  2 \n",
       "                                            Romania \n",
       "                                                  1 \n",
       "                                 Russian Federation \n",
       "                                                  3 \n",
       "                                             Rwanda \n",
       "                                                  5 \n",
       "                                   Saint Barthelemy \n",
       "                                                  2 \n",
       "                                       Saint Helena \n",
       "                                                  5 \n",
       "                              Saint Kitts and Nevis \n",
       "                                                  1 \n",
       "                                        Saint Lucia \n",
       "                                                  2 \n",
       "                                       Saint Martin \n",
       "                                                  4 \n",
       "                          Saint Pierre and Miquelon \n",
       "                                                  5 \n",
       "                   Saint Vincent and the Grenadines \n",
       "                                                  6 \n",
       "                                              Samoa \n",
       "                                                  6 \n",
       "                                         San Marino \n",
       "                                                  3 \n",
       "                              Sao Tome and Principe \n",
       "                                                  2 \n",
       "                                       Saudi Arabia \n",
       "                                                  4 \n",
       "                                            Senegal \n",
       "                                                  8 \n",
       "                                             Serbia \n",
       "                                                  5 \n",
       "                                         Seychelles \n",
       "                                                  3 \n",
       "                                       Sierra Leone \n",
       "                                                  2 \n",
       "                                          Singapore \n",
       "                                                  6 \n",
       "                         Slovakia (Slovak Republic) \n",
       "                                                  2 \n",
       "                                           Slovenia \n",
       "                                                  1 \n",
       "                                            Somalia \n",
       "                                                  5 \n",
       "                                       South Africa \n",
       "                                                  8 \n",
       "       South Georgia and the South Sandwich Islands \n",
       "                                                  2 \n",
       "                                              Spain \n",
       "                                                  3 \n",
       "                                          Sri Lanka \n",
       "                                                  4 \n",
       "                                              Sudan \n",
       "                                                  2 \n",
       "                                           Suriname \n",
       "                                                  2 \n",
       "                       Svalbard & Jan Mayen Islands \n",
       "                                                  6 \n",
       "                                          Swaziland \n",
       "                                                  2 \n",
       "                                             Sweden \n",
       "                                                  4 \n",
       "                                        Switzerland \n",
       "                                                  4 \n",
       "                               Syrian Arab Republic \n",
       "                                                  3 \n",
       "                                             Taiwan \n",
       "                                                  7 \n",
       "                                         Tajikistan \n",
       "                                                  3 \n",
       "                                           Tanzania \n",
       "                                                  3 \n",
       "                                           Thailand \n",
       "                                                  4 \n",
       "                                        Timor-Leste \n",
       "                                                  5 \n",
       "                                               Togo \n",
       "                                                  3 \n",
       "                                            Tokelau \n",
       "                                                  4 \n",
       "                                              Tonga \n",
       "                                                  5 \n",
       "                                Trinidad and Tobago \n",
       "                                                  3 \n",
       "                                            Tunisia \n",
       "                                                  4 \n",
       "                                             Turkey \n",
       "                                                  8 \n",
       "                                       Turkmenistan \n",
       "                                                  6 \n",
       "                           Turks and Caicos Islands \n",
       "                                                  5 \n",
       "                                             Tuvalu \n",
       "                                                  4 \n",
       "                                             Uganda \n",
       "                                                  4 \n",
       "                                            Ukraine \n",
       "                                                  5 \n",
       "                               United Arab Emirates \n",
       "                                                  6 \n",
       "                                     United Kingdom \n",
       "                                                  3 \n",
       "               United States Minor Outlying Islands \n",
       "                                                  4 \n",
       "                           United States of America \n",
       "                                                  5 \n",
       "                       United States Virgin Islands \n",
       "                                                  4 \n",
       "                                            Uruguay \n",
       "                                                  5 \n",
       "                                         Uzbekistan \n",
       "                                                  2 \n",
       "                                            Vanuatu \n",
       "                                                  6 \n",
       "                                          Venezuela \n",
       "                                                  7 \n",
       "                                            Vietnam \n",
       "                                                  3 \n",
       "                                  Wallis and Futuna \n",
       "                                                  4 \n",
       "                                     Western Sahara \n",
       "                                                  7 \n",
       "                                              Yemen \n",
       "                                                  3 \n",
       "                                             Zambia \n",
       "                                                  4 \n",
       "                                           Zimbabwe \n",
       "                                                  6 "
      ]
     },
     "metadata": {},
     "output_type": "display_data"
    },
    {
     "data": {
      "image/png": "[encoded data removed]",
      "text/plain": [
       "Plot with title \"Country\""
      ]
     },
     "metadata": {},
     "output_type": "display_data"
    }
   ],
   "source": [
    "# Country\n",
    "table(advertising$country)\n",
    "sample <- head(table(advertising$country))\n",
    "barplot(sample, main=\"Country\")"
   ]
  },
  {
   "cell_type": "markdown",
   "metadata": {},
   "source": [
    "we see that afghanistan has the most appearance."
   ]
  },
  {
   "cell_type": "code",
   "execution_count": 22,
   "metadata": {
    "ExecuteTime": {
     "end_time": "2020-03-12T10:17:02.591784Z",
     "start_time": "2020-03-12T10:17:01.466Z"
    }
   },
   "outputs": [
    {
     "data": {
      "image/png": "[encoded data removed]",
      "text/plain": [
       "plot without title"
      ]
     },
     "metadata": {},
     "output_type": "display_data"
    }
   ],
   "source": [
    "# Clicked_on_ad\n",
    "\n",
    "pie(table(advertising$clicked_on_ad))"
   ]
  },
  {
   "cell_type": "markdown",
   "metadata": {},
   "source": [
    "there are 500 no clicks and 500 click on ads"
   ]
  },
  {
   "cell_type": "markdown",
   "metadata": {},
   "source": [
    "# Bivariate Analysis"
   ]
  },
  {
   "cell_type": "code",
   "execution_count": 23,
   "metadata": {
    "ExecuteTime": {
     "end_time": "2020-03-12T10:17:47.051518Z",
     "start_time": "2020-03-12T10:17:46.915Z"
    }
   },
   "outputs": [],
   "source": [
    "# Converting variables into string so as to enable to make good visualisations.\n",
    "a = c('city', 'country')\n",
    "for (i in a) {\n",
    "  advertising[,i] = as.factor(advertising[,i])\n",
    "}"
   ]
  },
  {
   "cell_type": "code",
   "execution_count": 24,
   "metadata": {
    "ExecuteTime": {
     "end_time": "2020-03-12T10:17:54.985385Z",
     "start_time": "2020-03-12T10:17:54.940Z"
    }
   },
   "outputs": [],
   "source": [
    "# Converting variables into factors so as to enable to make good visualisations.\n",
    "b = c('sex', 'clicked_on_ad')\n",
    "for (i in b) {\n",
    "advertising[,i] = as.factor(advertising[,i])\n",
    "}"
   ]
  },
  {
   "cell_type": "code",
   "execution_count": 25,
   "metadata": {
    "ExecuteTime": {
     "end_time": "2020-03-12T10:19:08.757940Z",
     "start_time": "2020-03-12T10:18:03.909Z"
    }
   },
   "outputs": [
    {
     "name": "stderr",
     "output_type": "stream",
     "text": [
      "Registered S3 methods overwritten by 'ggplot2':\n",
      "  method         from \n",
      "  [.quosures     rlang\n",
      "  c.quosures     rlang\n",
      "  print.quosures rlang\n"
     ]
    }
   ],
   "source": [
    "# Importing the ggplot library\n",
    "library(ggplot2)\n"
   ]
  },
  {
   "cell_type": "code",
   "execution_count": 27,
   "metadata": {
    "ExecuteTime": {
     "end_time": "2020-03-12T10:19:12.755350Z",
     "start_time": "2020-03-12T10:18:22.666Z"
    }
   },
   "outputs": [
    {
     "data": {
      "image/png": "[encoded data removed]",
      "text/plain": [
       "plot without title"
      ]
     },
     "metadata": {},
     "output_type": "display_data"
    }
   ],
   "source": [
    "sex_vs_ad = ggplot(data = advertising, aes(x = sex, fill = clicked_on_ad))+\n",
    "geom_bar(width = 0.5)\n",
    "sex_vs_ad\n"
   ]
  },
  {
   "cell_type": "code",
   "execution_count": 28,
   "metadata": {
    "ExecuteTime": {
     "end_time": "2020-03-12T10:19:13.475842Z",
     "start_time": "2020-03-12T10:18:46.430Z"
    }
   },
   "outputs": [
    {
     "data": {
      "image/png": "[encoded data removed]",
      "text/plain": [
       "plot without title"
      ]
     },
     "metadata": {},
     "output_type": "display_data"
    }
   ],
   "source": [
    "# Area_income vs clicked on ad\n",
    "area_vs_ad = ggplot(data = advertising, aes(x = area_income, fill = clicked_on_ad))+ \n",
    "geom_histogram(bins = 25)\n",
    "area_vs_ad"
   ]
  },
  {
   "cell_type": "markdown",
   "metadata": {},
   "source": [
    "many people who had an income between 50,000 and 70,000 did not click on the ad compared to those who did"
   ]
  },
  {
   "cell_type": "code",
   "execution_count": 29,
   "metadata": {
    "ExecuteTime": {
     "end_time": "2020-03-12T10:19:31.921648Z",
     "start_time": "2020-03-12T10:19:31.468Z"
    }
   },
   "outputs": [
    {
     "data": {
      "image/png": "[encoded data removed]",
      "text/plain": [
       "plot without title"
      ]
     },
     "metadata": {},
     "output_type": "display_data"
    }
   ],
   "source": [
    "# Daily_internet_usage vs clicked on ad\n",
    "daily_vs_ad = ggplot(data = advertising, aes(x = daily_internet_usage, fill = clicked_on_ad))+ \n",
    "geom_histogram(bins = 25)\n",
    "daily_vs_ad"
   ]
  },
  {
   "cell_type": "markdown",
   "metadata": {},
   "source": [
    "between 100 and 150 there are more people who clicked the ad than those who did not."
   ]
  },
  {
   "cell_type": "code",
   "execution_count": 30,
   "metadata": {
    "ExecuteTime": {
     "end_time": "2020-03-12T10:19:53.852439Z",
     "start_time": "2020-03-12T10:19:53.367Z"
    }
   },
   "outputs": [
    {
     "data": {
      "image/png": "[encoded data removed]",
      "text/plain": [
       "plot without title"
      ]
     },
     "metadata": {},
     "output_type": "display_data"
    }
   ],
   "source": [
    "# Age vs clicked on ad\n",
    "age_vs_ad = ggplot(data = advertising, aes(x = age, fill = clicked_on_ad))+ \n",
    "geom_histogram(bins = 25)\n",
    "age_vs_ad"
   ]
  },
  {
   "cell_type": "markdown",
   "metadata": {},
   "source": [
    "generally many people do not click ads"
   ]
  },
  {
   "cell_type": "markdown",
   "metadata": {},
   "source": [
    "# Recommendation"
   ]
  },
  {
   "cell_type": "markdown",
   "metadata": {},
   "source": [
    "The entrepreneur should focus on people with an income between 10,000 and 50,000\n",
    "The entrepreneur should focus on people with the age between 45 and 60\n",
    "The entrepreneur should focus on people with a daily internet usage between 100 and 175"
   ]
  },
  {
   "cell_type": "markdown",
   "metadata": {},
   "source": [
    "# Modelling"
   ]
  },
  {
   "cell_type": "markdown",
   "metadata": {},
   "source": [
    "## KNN"
   ]
  },
  {
   "cell_type": "code",
   "execution_count": 31,
   "metadata": {
    "ExecuteTime": {
     "end_time": "2020-03-12T10:22:06.110421Z",
     "start_time": "2020-03-12T10:22:05.766Z"
    }
   },
   "outputs": [],
   "source": [
    "# Creating a random number equal 90% of total number of rows\n",
    "rand <- sample(1:nrow(advertising),0.9 * nrow(advertising))"
   ]
  },
  {
   "cell_type": "code",
   "execution_count": 32,
   "metadata": {
    "ExecuteTime": {
     "end_time": "2020-03-12T10:22:14.760899Z",
     "start_time": "2020-03-12T10:22:14.714Z"
    }
   },
   "outputs": [],
   "source": [
    "# The normalization function is created\n",
    "normal <-function(x) { (x -min(x))/(max(x)-min(x))   }\n",
    " \n",
    "# Normalization function is applied to the dataframe\n",
    "advert <- as.data.frame(lapply(advertising[,c(1,2,3,4)], normal))"
   ]
  },
  {
   "cell_type": "code",
   "execution_count": 33,
   "metadata": {
    "ExecuteTime": {
     "end_time": "2020-03-12T10:22:23.973734Z",
     "start_time": "2020-03-12T10:22:23.932Z"
    }
   },
   "outputs": [],
   "source": [
    "# The training dataset extracted\n",
    "advert_train <- advert[rand,]"
   ]
  },
  {
   "cell_type": "code",
   "execution_count": 34,
   "metadata": {
    "ExecuteTime": {
     "end_time": "2020-03-12T10:22:30.614716Z",
     "start_time": "2020-03-12T10:22:30.582Z"
    }
   },
   "outputs": [],
   "source": [
    "# The test dataset extracted\n",
    "advert_test <- advert[-rand,]"
   ]
  },
  {
   "cell_type": "code",
   "execution_count": 35,
   "metadata": {
    "ExecuteTime": {
     "end_time": "2020-03-12T10:22:38.618760Z",
     "start_time": "2020-03-12T10:22:38.576Z"
    }
   },
   "outputs": [],
   "source": [
    "# getting the training and test data from the target\n",
    "advert_target <- advertising[rand,9]\n",
    "test_advert <- advertising[-rand,9]"
   ]
  },
  {
   "cell_type": "code",
   "execution_count": 36,
   "metadata": {
    "ExecuteTime": {
     "end_time": "2020-03-12T10:23:13.097314Z",
     "start_time": "2020-03-12T10:22:51.502Z"
    }
   },
   "outputs": [],
   "source": [
    "# Running the knn function\n",
    "library(class)\n",
    "pr <- knn(advert_train,advert_test,cl=advert_target,k=20)"
   ]
  },
  {
   "cell_type": "code",
   "execution_count": 37,
   "metadata": {
    "ExecuteTime": {
     "end_time": "2020-03-12T10:23:13.553175Z",
     "start_time": "2020-03-12T10:23:01.168Z"
    }
   },
   "outputs": [
    {
     "data": {
      "text/plain": [
       "   test_advert\n",
       "pr   0  1\n",
       "  0 49  1\n",
       "  1  0 50"
      ]
     },
     "metadata": {},
     "output_type": "display_data"
    }
   ],
   "source": [
    "# Creating the confucion matrix\n",
    "tb <- table(pr,test_advert)\n",
    "tb"
   ]
  },
  {
   "cell_type": "markdown",
   "metadata": {},
   "source": [
    "there are 49 and 50 correctly predicted items"
   ]
  },
  {
   "cell_type": "code",
   "execution_count": 38,
   "metadata": {
    "ExecuteTime": {
     "end_time": "2020-03-12T10:23:35.577614Z",
     "start_time": "2020-03-12T10:23:35.526Z"
    }
   },
   "outputs": [
    {
     "data": {
      "text/html": [
       "99"
      ],
      "text/latex": [
       "99"
      ],
      "text/markdown": [
       "99"
      ],
      "text/plain": [
       "[1] 99"
      ]
     },
     "metadata": {},
     "output_type": "display_data"
    }
   ],
   "source": [
    "# Checking the accuracy\n",
    "accuracy <- function(x){sum(diag(x)/(sum(rowSums(x)))) * 100}\n",
    "accuracy(tb)"
   ]
  },
  {
   "cell_type": "markdown",
   "metadata": {},
   "source": [
    "the accuracy score is 99% which is very good"
   ]
  },
  {
   "cell_type": "markdown",
   "metadata": {},
   "source": [
    "## SVM"
   ]
  },
  {
   "cell_type": "code",
   "execution_count": null,
   "metadata": {
    "ExecuteTime": {
     "start_time": "2020-03-12T10:27:29.752Z"
    }
   },
   "outputs": [
    {
     "name": "stderr",
     "output_type": "stream",
     "text": [
      "also installing the dependencies 'desc', 'pkgbuild', 'rprojroot', 'pkgload', 'praise', 'testthat', 'ellipsis', 'isoband', 'vctrs', 'lifecycle', 'dbplyr', 'dplyr', 'ggplot2', 'haven', 'hms', 'httr', 'modelr', 'pillar', 'purrr', 'reprex', 'rlang', 'rvest', 'tibble', 'tidyr', 'xml2'\n",
      "\n"
     ]
    },
    {
     "name": "stdout",
     "output_type": "stream",
     "text": [
      "\n",
      "  There are binary versions available but the source versions are later:\n",
      "          binary source needs_compilation\n",
      "vctrs      0.2.3  0.2.4              TRUE\n",
      "lifecycle  0.1.0  0.2.0             FALSE\n",
      "dplyr      0.8.4  0.8.5              TRUE\n",
      "ggplot2    3.2.1  3.3.0             FALSE\n",
      "xml2       1.2.2  1.2.5              TRUE\n",
      "\n",
      "  Binaries will be installed\n",
      "package 'desc' successfully unpacked and MD5 sums checked\n",
      "package 'pkgbuild' successfully unpacked and MD5 sums checked\n",
      "package 'rprojroot' successfully unpacked and MD5 sums checked\n",
      "package 'pkgload' successfully unpacked and MD5 sums checked\n",
      "package 'praise' successfully unpacked and MD5 sums checked\n",
      "package 'testthat' successfully unpacked and MD5 sums checked\n",
      "package 'ellipsis' successfully unpacked and MD5 sums checked\n",
      "package 'isoband' successfully unpacked and MD5 sums checked\n",
      "package 'vctrs' successfully unpacked and MD5 sums checked\n",
      "package 'dbplyr' successfully unpacked and MD5 sums checked\n",
      "package 'dplyr' successfully unpacked and MD5 sums checked\n"
     ]
    },
    {
     "name": "stderr",
     "output_type": "stream",
     "text": [
      "Warning message:\n",
      "\"cannot remove prior installation of package 'dplyr'\"Warning message in file.copy(savedcopy, lib, recursive = TRUE):\n",
      "\"problem copying C:\\Users\\I\\Anaconda3\\envs\\r\\Lib\\R\\library\\00LOCK\\dplyr\\libs\\x64\\dplyr.dll to C:\\Users\\I\\Anaconda3\\envs\\r\\Lib\\R\\library\\dplyr\\libs\\x64\\dplyr.dll: Permission denied\"Warning message:\n",
      "\"restored 'dplyr'\""
     ]
    },
    {
     "name": "stdout",
     "output_type": "stream",
     "text": [
      "package 'haven' successfully unpacked and MD5 sums checked\n",
      "package 'hms' successfully unpacked and MD5 sums checked\n",
      "package 'httr' successfully unpacked and MD5 sums checked\n"
     ]
    }
   ],
   "source": [
    "\n",
    "# We will now install and load the required packages\n",
    "# ---\n",
    "#  \n",
    "install.packages('tidyverse')\n",
    "library(tidyverse)\n",
    "\n",
    "install.packages('ggplot2')\n",
    "library(ggplot2)\n",
    "\n",
    "install.packages('caret')\n",
    "library(caret)\n",
    "\n",
    "install.packages('caretEnsemble')\n",
    "library(caretEnsemble)\n",
    "\n",
    "install.packages('psych')\n",
    "library(psych)\n",
    "\n",
    "install.packages('Amelia')\n",
    "library(Amelia)\n",
    "\n",
    "install.packages('mice')\n",
    "library(mice)\n",
    "\n",
    "install.packages('GGally')\n",
    "library(GGally)\n",
    "\n",
    "install.packages('rpart')\n",
    "library(rpart)\n",
    "\n",
    "install.packages('randomForest')\n",
    "library(randomForest)"
   ]
  },
  {
   "cell_type": "code",
   "execution_count": null,
   "metadata": {
    "ExecuteTime": {
     "start_time": "2020-03-12T10:27:35.790Z"
    }
   },
   "outputs": [],
   "source": [
    "# splitting the dataset into train and test\n",
    "intrain <- createDataPartition(y = advertising$clicked_on_ad, p= 0.7, list = FALSE)\n",
    "training <- advertising[intrain,]\n",
    "testing <- advertising[-intrain,]"
   ]
  },
  {
   "cell_type": "code",
   "execution_count": null,
   "metadata": {
    "ExecuteTime": {
     "start_time": "2020-03-12T10:27:52.486Z"
    }
   },
   "outputs": [],
   "source": [
    "# We check the dimensions of out training dataframe and testing dataframe\n",
    "# ---\n",
    "# \n",
    "dim(training); \n",
    "dim(testing);"
   ]
  },
  {
   "cell_type": "code",
   "execution_count": null,
   "metadata": {
    "ExecuteTime": {
     "start_time": "2020-03-12T10:28:10.422Z"
    }
   },
   "outputs": [],
   "source": [
    "trctrl <- trainControl(method = \"repeatedcv\", number = 10, repeats = 3)\n",
    "\n",
    "svm_Linear <- train(clicked_on_ad ~., data = training, method = \"svmLinear\",\n",
    "trControl=trctrl,\n",
    "preProcess = c(\"center\", \"scale\"),\n",
    "tuneLength = 10)"
   ]
  },
  {
   "cell_type": "code",
   "execution_count": null,
   "metadata": {
    "ExecuteTime": {
     "start_time": "2020-03-12T10:28:18.172Z"
    }
   },
   "outputs": [],
   "source": [
    "# We can then check the reult of our train() model as shown below\n",
    "# ---\n",
    "# \n",
    "svm_Linear"
   ]
  },
  {
   "cell_type": "code",
   "execution_count": null,
   "metadata": {
    "ExecuteTime": {
     "start_time": "2020-03-12T10:28:26.771Z"
    }
   },
   "outputs": [],
   "source": [
    "# We can use the predict() method for predicting results as shown below. \n",
    "# We pass 2 arguements, our trained model and our testing data frame.\n",
    "# ---\n",
    "# \n",
    "test_pred <- predict(svm_Linear, newdata = testing)\n",
    "test_pred"
   ]
  },
  {
   "cell_type": "code",
   "execution_count": null,
   "metadata": {
    "ExecuteTime": {
     "start_time": "2020-03-12T10:28:34.294Z"
    }
   },
   "outputs": [],
   "source": [
    "# Now checking for our accuracy of our model by using a confusion matrix \n",
    "# ---\n",
    "# \n",
    "confusionMatrix(table(test_pred, testing$clicked_on_ad))"
   ]
  },
  {
   "cell_type": "markdown",
   "metadata": {},
   "source": [
    "144 and 133 items were correctly predicted\n",
    "the accuracy is 92.33% "
   ]
  },
  {
   "cell_type": "markdown",
   "metadata": {},
   "source": [
    "# Naive Bayes"
   ]
  },
  {
   "cell_type": "code",
   "execution_count": null,
   "metadata": {
    "ExecuteTime": {
     "start_time": "2020-03-12T10:29:13.305Z"
    }
   },
   "outputs": [],
   "source": [
    "# Splitting data into training and test data sets\n",
    "# ---\n",
    "# \n",
    "indxTrain <- createDataPartition(y = advertising$clicked_on_ad,p = 0.75,list = FALSE)\n",
    "training <- advertising[indxTrain,]\n",
    "testing <- advertising[-indxTrain,]"
   ]
  },
  {
   "cell_type": "code",
   "execution_count": null,
   "metadata": {
    "ExecuteTime": {
     "start_time": "2020-03-12T10:29:21.016Z"
    }
   },
   "outputs": [],
   "source": [
    "x = training[,-9]\n",
    "y = training$clicked_on_ad"
   ]
  },
  {
   "cell_type": "code",
   "execution_count": null,
   "metadata": {
    "ExecuteTime": {
     "start_time": "2020-03-12T10:29:27.061Z"
    }
   },
   "outputs": [],
   "source": [
    "# Loading our inbuilt e1071 package that holds the Naive Bayes function.\n",
    "# ---\n",
    "# \n",
    "library(e1071)"
   ]
  },
  {
   "cell_type": "code",
   "execution_count": null,
   "metadata": {
    "ExecuteTime": {
     "start_time": "2020-03-12T10:29:39.573Z"
    }
   },
   "outputs": [],
   "source": [
    "# Now building our model \n",
    "# ---\n",
    "# \n",
    "model = train(x,y,'nb',trControl=trainControl(method='cv',number=10))"
   ]
  },
  {
   "cell_type": "code",
   "execution_count": null,
   "metadata": {
    "ExecuteTime": {
     "start_time": "2020-03-12T10:29:50.058Z"
    }
   },
   "outputs": [],
   "source": [
    "# Model Evalution\n",
    "# ---\n",
    "# Predicting our testing set\n",
    "# \n",
    "Predict <- predict(model,newdata = testing )"
   ]
  },
  {
   "cell_type": "code",
   "execution_count": null,
   "metadata": {
    "ExecuteTime": {
     "start_time": "2020-03-12T10:30:24.091Z"
    }
   },
   "outputs": [],
   "source": [
    "# Getting the confusion matrix to see accuracy value and other parameter values\n",
    "# ---\n",
    "# \n",
    "confusionMatrix(Predict, testing$clicked_on_ad )"
   ]
  },
  {
   "cell_type": "markdown",
   "metadata": {},
   "source": [
    "there are 120 and 121 corectly predicted click on ads\n",
    "\n",
    "the accuracy score is 96.4%"
   ]
  },
  {
   "cell_type": "markdown",
   "metadata": {},
   "source": [
    "# Challenging the model"
   ]
  },
  {
   "cell_type": "markdown",
   "metadata": {},
   "source": [
    "KNN is the best model of the three . it has an accuracy of 99%.\n",
    "\n",
    "there is no point of challenging it for its the best"
   ]
  },
  {
   "cell_type": "markdown",
   "metadata": {},
   "source": [
    "# Recommendation"
   ]
  },
  {
   "cell_type": "markdown",
   "metadata": {},
   "source": [
    "all is well. we can work with the KNN model."
   ]
  }
 ],
 "metadata": {
  "hide_input": false,
  "kernelspec": {
   "display_name": "R",
   "language": "R",
   "name": "ir"
  },
  "language_info": {
   "codemirror_mode": "r",
   "file_extension": ".r",
   "mimetype": "text/x-r-source",
   "name": "R",
   "pygments_lexer": "r",
   "version": "3.6.1"
  },
  "toc": {
   "base_numbering": 1,
   "nav_menu": {},
   "number_sections": true,
   "sideBar": true,
   "skip_h1_title": false,
   "title_cell": "Table of Contents",
   "title_sidebar": "Contents",
   "toc_cell": false,
   "toc_position": {},
   "toc_section_display": true,
   "toc_window_display": false
  },
  "varInspector": {
   "cols": {
    "lenName": 16,
    "lenType": 16,
    "lenVar": 40
   },
   "kernels_config": {
    "python": {
     "delete_cmd_postfix": "",
     "delete_cmd_prefix": "del ",
     "library": "var_list.py",
     "varRefreshCmd": "print(var_dic_list())"
    },
    "r": {
     "delete_cmd_postfix": ") ",
     "delete_cmd_prefix": "rm(",
     "library": "var_list.r",
     "varRefreshCmd": "cat(var_dic_list()) "
    }
   },
   "types_to_exclude": [
    "module",
    "function",
    "builtin_function_or_method",
    "instance",
    "_Feature"
   ],
   "window_display": false
  }
 },
 "nbformat": 4,
 "nbformat_minor": 4
}
