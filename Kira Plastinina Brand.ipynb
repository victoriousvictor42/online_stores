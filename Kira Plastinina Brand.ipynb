{
 "cells": [
  {
   "cell_type": "markdown",
   "metadata": {},
   "source": [
    "# Defining the question"
   ]
  },
  {
   "cell_type": "markdown",
   "metadata": {},
   "source": [
    "### Use unsupervised learning to learn the characteristics of customer groups of Kira Plastinina"
   ]
  },
  {
   "cell_type": "markdown",
   "metadata": {},
   "source": [
    "## Metrics of success"
   ]
  },
  {
   "cell_type": "markdown",
   "metadata": {},
   "source": [
    "### Unsupervised Learning"
   ]
  },
  {
   "cell_type": "markdown",
   "metadata": {},
   "source": [
    "## Understanding the context"
   ]
  },
  {
   "cell_type": "markdown",
   "metadata": {},
   "source": [
    "### Kira Plastinina is a Russian brand thais sold through a defunct chain of retail store in different parts of the world, for example, China and Belarus. The Brand's Sales and Marketing Team would like to understand their customer's behaviour from the data they collected oer the past year."
   ]
  },
  {
   "cell_type": "markdown",
   "metadata": {},
   "source": [
    "## Recording the Experimental Design"
   ]
  },
  {
   "cell_type": "markdown",
   "metadata": {},
   "source": [
    "### Use K-Means Clustering\n",
    "### use Hierachical Clustering"
   ]
  },
  {
   "cell_type": "markdown",
   "metadata": {},
   "source": [
    "## Data Relevance"
   ]
  },
  {
   "cell_type": "markdown",
   "metadata": {},
   "source": [
    "### The data is from Kira Plastinina. Therefore we expect the data to be relevant."
   ]
  },
  {
   "cell_type": "code",
   "execution_count": null,
   "metadata": {
    "ExecuteTime": {
     "start_time": "2020-03-12T09:36:12.393Z"
    }
   },
   "outputs": [],
   "source": [
    "# loading the data\n",
    "russian <- read.csv(\"C:/Users/I/Downloads/online_shoppers_intention.csv\")"
   ]
  },
  {
   "cell_type": "code",
   "execution_count": 2,
   "metadata": {
    "ExecuteTime": {
     "end_time": "2020-03-12T08:49:58.974525Z",
     "start_time": "2020-03-12T08:49:58.911Z"
    }
   },
   "outputs": [
    {
     "name": "stdout",
     "output_type": "stream",
     "text": [
      "'data.frame':\t12330 obs. of  18 variables:\n",
      " $ Administrative         : int  0 0 0 0 0 0 0 1 0 0 ...\n",
      " $ Administrative_Duration: num  0 0 -1 0 0 0 -1 -1 0 0 ...\n",
      " $ Informational          : int  0 0 0 0 0 0 0 0 0 0 ...\n",
      " $ Informational_Duration : num  0 0 -1 0 0 0 -1 -1 0 0 ...\n",
      " $ ProductRelated         : int  1 2 1 2 10 19 1 1 2 3 ...\n",
      " $ ProductRelated_Duration: num  0 64 -1 2.67 627.5 ...\n",
      " $ BounceRates            : num  0.2 0 0.2 0.05 0.02 ...\n",
      " $ ExitRates              : num  0.2 0.1 0.2 0.14 0.05 ...\n",
      " $ PageValues             : num  0 0 0 0 0 0 0 0 0 0 ...\n",
      " $ SpecialDay             : num  0 0 0 0 0 0 0.4 0 0.8 0.4 ...\n",
      " $ Month                  : Factor w/ 10 levels \"Aug\",\"Dec\",\"Feb\",..: 3 3 3 3 3 3 3 3 3 3 ...\n",
      " $ OperatingSystems       : int  1 2 4 3 3 2 2 1 2 2 ...\n",
      " $ Browser                : int  1 2 1 2 3 2 4 2 2 4 ...\n",
      " $ Region                 : int  1 1 9 2 1 1 3 1 2 1 ...\n",
      " $ TrafficType            : int  1 2 3 4 4 3 3 5 3 2 ...\n",
      " $ VisitorType            : Factor w/ 3 levels \"New_Visitor\",..: 3 3 3 3 3 3 3 3 3 3 ...\n",
      " $ Weekend                : logi  FALSE FALSE FALSE FALSE TRUE FALSE ...\n",
      " $ Revenue                : logi  FALSE FALSE FALSE FALSE FALSE FALSE ...\n"
     ]
    }
   ],
   "source": [
    "# Looking at the structure of the dataset\n",
    "str(russian)"
   ]
  },
  {
   "cell_type": "markdown",
   "metadata": {},
   "source": [
    "there are 12 numerical data, 2 factors and 2 logical data"
   ]
  },
  {
   "cell_type": "code",
   "execution_count": 3,
   "metadata": {
    "ExecuteTime": {
     "end_time": "2020-03-12T08:50:37.134450Z",
     "start_time": "2020-03-12T08:50:37.049Z"
    }
   },
   "outputs": [
    {
     "data": {
      "text/html": [
       "<ol class=list-inline>\n",
       "\t<li>12330</li>\n",
       "\t<li>18</li>\n",
       "</ol>\n"
      ],
      "text/latex": [
       "\\begin{enumerate*}\n",
       "\\item 12330\n",
       "\\item 18\n",
       "\\end{enumerate*}\n"
      ],
      "text/markdown": [
       "1. 12330\n",
       "2. 18\n",
       "\n",
       "\n"
      ],
      "text/plain": [
       "[1] 12330    18"
      ]
     },
     "metadata": {},
     "output_type": "display_data"
    }
   ],
   "source": [
    "# Checking for the size of the dataset\n",
    "dim(russian)"
   ]
  },
  {
   "cell_type": "markdown",
   "metadata": {},
   "source": [
    "there are 12,380 rows and 18 columns"
   ]
  },
  {
   "cell_type": "code",
   "execution_count": 4,
   "metadata": {
    "ExecuteTime": {
     "end_time": "2020-03-12T08:50:58.924026Z",
     "start_time": "2020-03-12T08:50:58.875Z"
    }
   },
   "outputs": [
    {
     "data": {
      "text/html": [
       "<ol class=list-inline>\n",
       "\t<li>'Administrative'</li>\n",
       "\t<li>'Administrative_Duration'</li>\n",
       "\t<li>'Informational'</li>\n",
       "\t<li>'Informational_Duration'</li>\n",
       "\t<li>'ProductRelated'</li>\n",
       "\t<li>'ProductRelated_Duration'</li>\n",
       "\t<li>'BounceRates'</li>\n",
       "\t<li>'ExitRates'</li>\n",
       "\t<li>'PageValues'</li>\n",
       "\t<li>'SpecialDay'</li>\n",
       "\t<li>'Month'</li>\n",
       "\t<li>'OperatingSystems'</li>\n",
       "\t<li>'Browser'</li>\n",
       "\t<li>'Region'</li>\n",
       "\t<li>'TrafficType'</li>\n",
       "\t<li>'VisitorType'</li>\n",
       "\t<li>'Weekend'</li>\n",
       "\t<li>'Revenue'</li>\n",
       "</ol>\n"
      ],
      "text/latex": [
       "\\begin{enumerate*}\n",
       "\\item 'Administrative'\n",
       "\\item 'Administrative\\_Duration'\n",
       "\\item 'Informational'\n",
       "\\item 'Informational\\_Duration'\n",
       "\\item 'ProductRelated'\n",
       "\\item 'ProductRelated\\_Duration'\n",
       "\\item 'BounceRates'\n",
       "\\item 'ExitRates'\n",
       "\\item 'PageValues'\n",
       "\\item 'SpecialDay'\n",
       "\\item 'Month'\n",
       "\\item 'OperatingSystems'\n",
       "\\item 'Browser'\n",
       "\\item 'Region'\n",
       "\\item 'TrafficType'\n",
       "\\item 'VisitorType'\n",
       "\\item 'Weekend'\n",
       "\\item 'Revenue'\n",
       "\\end{enumerate*}\n"
      ],
      "text/markdown": [
       "1. 'Administrative'\n",
       "2. 'Administrative_Duration'\n",
       "3. 'Informational'\n",
       "4. 'Informational_Duration'\n",
       "5. 'ProductRelated'\n",
       "6. 'ProductRelated_Duration'\n",
       "7. 'BounceRates'\n",
       "8. 'ExitRates'\n",
       "9. 'PageValues'\n",
       "10. 'SpecialDay'\n",
       "11. 'Month'\n",
       "12. 'OperatingSystems'\n",
       "13. 'Browser'\n",
       "14. 'Region'\n",
       "15. 'TrafficType'\n",
       "16. 'VisitorType'\n",
       "17. 'Weekend'\n",
       "18. 'Revenue'\n",
       "\n",
       "\n"
      ],
      "text/plain": [
       " [1] \"Administrative\"          \"Administrative_Duration\"\n",
       " [3] \"Informational\"           \"Informational_Duration\" \n",
       " [5] \"ProductRelated\"          \"ProductRelated_Duration\"\n",
       " [7] \"BounceRates\"             \"ExitRates\"              \n",
       " [9] \"PageValues\"              \"SpecialDay\"             \n",
       "[11] \"Month\"                   \"OperatingSystems\"       \n",
       "[13] \"Browser\"                 \"Region\"                 \n",
       "[15] \"TrafficType\"             \"VisitorType\"            \n",
       "[17] \"Weekend\"                 \"Revenue\"                "
      ]
     },
     "metadata": {},
     "output_type": "display_data"
    }
   ],
   "source": [
    "# Checking for the column names\n",
    "colnames(russian)"
   ]
  },
  {
   "cell_type": "markdown",
   "metadata": {},
   "source": [
    "the column nams are not uniform. Hence we will need to standardise them during feature engineering"
   ]
  },
  {
   "cell_type": "code",
   "execution_count": 5,
   "metadata": {
    "ExecuteTime": {
     "end_time": "2020-03-12T08:51:18.948462Z",
     "start_time": "2020-03-12T08:51:18.894Z"
    }
   },
   "outputs": [
    {
     "data": {
      "text/html": [
       "<table>\n",
       "<thead><tr><th scope=col>Administrative</th><th scope=col>Administrative_Duration</th><th scope=col>Informational</th><th scope=col>Informational_Duration</th><th scope=col>ProductRelated</th><th scope=col>ProductRelated_Duration</th><th scope=col>BounceRates</th><th scope=col>ExitRates</th><th scope=col>PageValues</th><th scope=col>SpecialDay</th><th scope=col>Month</th><th scope=col>OperatingSystems</th><th scope=col>Browser</th><th scope=col>Region</th><th scope=col>TrafficType</th><th scope=col>VisitorType</th><th scope=col>Weekend</th><th scope=col>Revenue</th></tr></thead>\n",
       "<tbody>\n",
       "\t<tr><td>0                </td><td> 0               </td><td>0                </td><td> 0               </td><td> 1               </td><td>  0.000000       </td><td>0.20000000       </td><td>0.2000000        </td><td>0                </td><td>0                </td><td>Feb              </td><td>1                </td><td>1                </td><td>1                </td><td>1                </td><td>Returning_Visitor</td><td>FALSE            </td><td>FALSE            </td></tr>\n",
       "\t<tr><td>0                </td><td> 0               </td><td>0                </td><td> 0               </td><td> 2               </td><td> 64.000000       </td><td>0.00000000       </td><td>0.1000000        </td><td>0                </td><td>0                </td><td>Feb              </td><td>2                </td><td>2                </td><td>1                </td><td>2                </td><td>Returning_Visitor</td><td>FALSE            </td><td>FALSE            </td></tr>\n",
       "\t<tr><td>0                </td><td>-1               </td><td>0                </td><td>-1               </td><td> 1               </td><td> -1.000000       </td><td>0.20000000       </td><td>0.2000000        </td><td>0                </td><td>0                </td><td>Feb              </td><td>4                </td><td>1                </td><td>9                </td><td>3                </td><td>Returning_Visitor</td><td>FALSE            </td><td>FALSE            </td></tr>\n",
       "\t<tr><td>0                </td><td> 0               </td><td>0                </td><td> 0               </td><td> 2               </td><td>  2.666667       </td><td>0.05000000       </td><td>0.1400000        </td><td>0                </td><td>0                </td><td>Feb              </td><td>3                </td><td>2                </td><td>2                </td><td>4                </td><td>Returning_Visitor</td><td>FALSE            </td><td>FALSE            </td></tr>\n",
       "\t<tr><td>0                </td><td> 0               </td><td>0                </td><td> 0               </td><td>10               </td><td>627.500000       </td><td>0.02000000       </td><td>0.0500000        </td><td>0                </td><td>0                </td><td>Feb              </td><td>3                </td><td>3                </td><td>1                </td><td>4                </td><td>Returning_Visitor</td><td> TRUE            </td><td>FALSE            </td></tr>\n",
       "\t<tr><td>0                </td><td> 0               </td><td>0                </td><td> 0               </td><td>19               </td><td>154.216667       </td><td>0.01578947       </td><td>0.0245614        </td><td>0                </td><td>0                </td><td>Feb              </td><td>2                </td><td>2                </td><td>1                </td><td>3                </td><td>Returning_Visitor</td><td>FALSE            </td><td>FALSE            </td></tr>\n",
       "</tbody>\n",
       "</table>\n"
      ],
      "text/latex": [
       "\\begin{tabular}{r|llllllllllllllllll}\n",
       " Administrative & Administrative\\_Duration & Informational & Informational\\_Duration & ProductRelated & ProductRelated\\_Duration & BounceRates & ExitRates & PageValues & SpecialDay & Month & OperatingSystems & Browser & Region & TrafficType & VisitorType & Weekend & Revenue\\\\\n",
       "\\hline\n",
       "\t 0                   &  0                  & 0                   &  0                  &  1                  &   0.000000          & 0.20000000          & 0.2000000           & 0                   & 0                   & Feb                 & 1                   & 1                   & 1                   & 1                   & Returning\\_Visitor & FALSE               & FALSE              \\\\\n",
       "\t 0                   &  0                  & 0                   &  0                  &  2                  &  64.000000          & 0.00000000          & 0.1000000           & 0                   & 0                   & Feb                 & 2                   & 2                   & 1                   & 2                   & Returning\\_Visitor & FALSE               & FALSE              \\\\\n",
       "\t 0                   & -1                  & 0                   & -1                  &  1                  &  -1.000000          & 0.20000000          & 0.2000000           & 0                   & 0                   & Feb                 & 4                   & 1                   & 9                   & 3                   & Returning\\_Visitor & FALSE               & FALSE              \\\\\n",
       "\t 0                   &  0                  & 0                   &  0                  &  2                  &   2.666667          & 0.05000000          & 0.1400000           & 0                   & 0                   & Feb                 & 3                   & 2                   & 2                   & 4                   & Returning\\_Visitor & FALSE               & FALSE              \\\\\n",
       "\t 0                   &  0                  & 0                   &  0                  & 10                  & 627.500000          & 0.02000000          & 0.0500000           & 0                   & 0                   & Feb                 & 3                   & 3                   & 1                   & 4                   & Returning\\_Visitor &  TRUE               & FALSE              \\\\\n",
       "\t 0                   &  0                  & 0                   &  0                  & 19                  & 154.216667          & 0.01578947          & 0.0245614           & 0                   & 0                   & Feb                 & 2                   & 2                   & 1                   & 3                   & Returning\\_Visitor & FALSE               & FALSE              \\\\\n",
       "\\end{tabular}\n"
      ],
      "text/markdown": [
       "\n",
       "| Administrative | Administrative_Duration | Informational | Informational_Duration | ProductRelated | ProductRelated_Duration | BounceRates | ExitRates | PageValues | SpecialDay | Month | OperatingSystems | Browser | Region | TrafficType | VisitorType | Weekend | Revenue |\n",
       "|---|---|---|---|---|---|---|---|---|---|---|---|---|---|---|---|---|---|\n",
       "| 0                 |  0                | 0                 |  0                |  1                |   0.000000        | 0.20000000        | 0.2000000         | 0                 | 0                 | Feb               | 1                 | 1                 | 1                 | 1                 | Returning_Visitor | FALSE             | FALSE             |\n",
       "| 0                 |  0                | 0                 |  0                |  2                |  64.000000        | 0.00000000        | 0.1000000         | 0                 | 0                 | Feb               | 2                 | 2                 | 1                 | 2                 | Returning_Visitor | FALSE             | FALSE             |\n",
       "| 0                 | -1                | 0                 | -1                |  1                |  -1.000000        | 0.20000000        | 0.2000000         | 0                 | 0                 | Feb               | 4                 | 1                 | 9                 | 3                 | Returning_Visitor | FALSE             | FALSE             |\n",
       "| 0                 |  0                | 0                 |  0                |  2                |   2.666667        | 0.05000000        | 0.1400000         | 0                 | 0                 | Feb               | 3                 | 2                 | 2                 | 4                 | Returning_Visitor | FALSE             | FALSE             |\n",
       "| 0                 |  0                | 0                 |  0                | 10                | 627.500000        | 0.02000000        | 0.0500000         | 0                 | 0                 | Feb               | 3                 | 3                 | 1                 | 4                 | Returning_Visitor |  TRUE             | FALSE             |\n",
       "| 0                 |  0                | 0                 |  0                | 19                | 154.216667        | 0.01578947        | 0.0245614         | 0                 | 0                 | Feb               | 2                 | 2                 | 1                 | 3                 | Returning_Visitor | FALSE             | FALSE             |\n",
       "\n"
      ],
      "text/plain": [
       "  Administrative Administrative_Duration Informational Informational_Duration\n",
       "1 0               0                      0              0                    \n",
       "2 0               0                      0              0                    \n",
       "3 0              -1                      0             -1                    \n",
       "4 0               0                      0              0                    \n",
       "5 0               0                      0              0                    \n",
       "6 0               0                      0              0                    \n",
       "  ProductRelated ProductRelated_Duration BounceRates ExitRates PageValues\n",
       "1  1               0.000000              0.20000000  0.2000000 0         \n",
       "2  2              64.000000              0.00000000  0.1000000 0         \n",
       "3  1              -1.000000              0.20000000  0.2000000 0         \n",
       "4  2               2.666667              0.05000000  0.1400000 0         \n",
       "5 10             627.500000              0.02000000  0.0500000 0         \n",
       "6 19             154.216667              0.01578947  0.0245614 0         \n",
       "  SpecialDay Month OperatingSystems Browser Region TrafficType\n",
       "1 0          Feb   1                1       1      1          \n",
       "2 0          Feb   2                2       1      2          \n",
       "3 0          Feb   4                1       9      3          \n",
       "4 0          Feb   3                2       2      4          \n",
       "5 0          Feb   3                3       1      4          \n",
       "6 0          Feb   2                2       1      3          \n",
       "  VisitorType       Weekend Revenue\n",
       "1 Returning_Visitor FALSE   FALSE  \n",
       "2 Returning_Visitor FALSE   FALSE  \n",
       "3 Returning_Visitor FALSE   FALSE  \n",
       "4 Returning_Visitor FALSE   FALSE  \n",
       "5 Returning_Visitor  TRUE   FALSE  \n",
       "6 Returning_Visitor FALSE   FALSE  "
      ]
     },
     "metadata": {},
     "output_type": "display_data"
    }
   ],
   "source": [
    "# Previewing the top of the dataset\n",
    "head(russian)"
   ]
  },
  {
   "cell_type": "code",
   "execution_count": 6,
   "metadata": {
    "ExecuteTime": {
     "end_time": "2020-03-12T08:51:27.933776Z",
     "start_time": "2020-03-12T08:51:27.876Z"
    }
   },
   "outputs": [
    {
     "data": {
      "text/html": [
       "<table>\n",
       "<thead><tr><th></th><th scope=col>Administrative</th><th scope=col>Administrative_Duration</th><th scope=col>Informational</th><th scope=col>Informational_Duration</th><th scope=col>ProductRelated</th><th scope=col>ProductRelated_Duration</th><th scope=col>BounceRates</th><th scope=col>ExitRates</th><th scope=col>PageValues</th><th scope=col>SpecialDay</th><th scope=col>Month</th><th scope=col>OperatingSystems</th><th scope=col>Browser</th><th scope=col>Region</th><th scope=col>TrafficType</th><th scope=col>VisitorType</th><th scope=col>Weekend</th><th scope=col>Revenue</th></tr></thead>\n",
       "<tbody>\n",
       "\t<tr><th scope=row>12325</th><td>0                </td><td>  0              </td><td>1                </td><td>0                </td><td>16               </td><td> 503.000         </td><td>0.000000000      </td><td>0.03764706       </td><td> 0.00000         </td><td>0                </td><td>Nov              </td><td>2                </td><td>2                </td><td>1                </td><td> 1               </td><td>Returning_Visitor</td><td>FALSE            </td><td>FALSE            </td></tr>\n",
       "\t<tr><th scope=row>12326</th><td>3                </td><td>145              </td><td>0                </td><td>0                </td><td>53               </td><td>1783.792         </td><td>0.007142857      </td><td>0.02903061       </td><td>12.24172         </td><td>0                </td><td>Dec              </td><td>4                </td><td>6                </td><td>1                </td><td> 1               </td><td>Returning_Visitor</td><td> TRUE            </td><td>FALSE            </td></tr>\n",
       "\t<tr><th scope=row>12327</th><td>0                </td><td>  0              </td><td>0                </td><td>0                </td><td> 5               </td><td> 465.750         </td><td>0.000000000      </td><td>0.02133333       </td><td> 0.00000         </td><td>0                </td><td>Nov              </td><td>3                </td><td>2                </td><td>1                </td><td> 8               </td><td>Returning_Visitor</td><td> TRUE            </td><td>FALSE            </td></tr>\n",
       "\t<tr><th scope=row>12328</th><td>0                </td><td>  0              </td><td>0                </td><td>0                </td><td> 6               </td><td> 184.250         </td><td>0.083333333      </td><td>0.08666667       </td><td> 0.00000         </td><td>0                </td><td>Nov              </td><td>3                </td><td>2                </td><td>1                </td><td>13               </td><td>Returning_Visitor</td><td> TRUE            </td><td>FALSE            </td></tr>\n",
       "\t<tr><th scope=row>12329</th><td>4                </td><td> 75              </td><td>0                </td><td>0                </td><td>15               </td><td> 346.000         </td><td>0.000000000      </td><td>0.02105263       </td><td> 0.00000         </td><td>0                </td><td>Nov              </td><td>2                </td><td>2                </td><td>3                </td><td>11               </td><td>Returning_Visitor</td><td>FALSE            </td><td>FALSE            </td></tr>\n",
       "\t<tr><th scope=row>12330</th><td>0                </td><td>  0              </td><td>0                </td><td>0                </td><td> 3               </td><td>  21.250         </td><td>0.000000000      </td><td>0.06666667       </td><td> 0.00000         </td><td>0                </td><td>Nov              </td><td>3                </td><td>2                </td><td>1                </td><td> 2               </td><td>New_Visitor      </td><td> TRUE            </td><td>FALSE            </td></tr>\n",
       "</tbody>\n",
       "</table>\n"
      ],
      "text/latex": [
       "\\begin{tabular}{r|llllllllllllllllll}\n",
       "  & Administrative & Administrative\\_Duration & Informational & Informational\\_Duration & ProductRelated & ProductRelated\\_Duration & BounceRates & ExitRates & PageValues & SpecialDay & Month & OperatingSystems & Browser & Region & TrafficType & VisitorType & Weekend & Revenue\\\\\n",
       "\\hline\n",
       "\t12325 & 0                   &   0                 & 1                   & 0                   & 16                  &  503.000            & 0.000000000         & 0.03764706          &  0.00000            & 0                   & Nov                 & 2                   & 2                   & 1                   &  1                  & Returning\\_Visitor & FALSE               & FALSE              \\\\\n",
       "\t12326 & 3                   & 145                 & 0                   & 0                   & 53                  & 1783.792            & 0.007142857         & 0.02903061          & 12.24172            & 0                   & Dec                 & 4                   & 6                   & 1                   &  1                  & Returning\\_Visitor &  TRUE               & FALSE              \\\\\n",
       "\t12327 & 0                   &   0                 & 0                   & 0                   &  5                  &  465.750            & 0.000000000         & 0.02133333          &  0.00000            & 0                   & Nov                 & 3                   & 2                   & 1                   &  8                  & Returning\\_Visitor &  TRUE               & FALSE              \\\\\n",
       "\t12328 & 0                   &   0                 & 0                   & 0                   &  6                  &  184.250            & 0.083333333         & 0.08666667          &  0.00000            & 0                   & Nov                 & 3                   & 2                   & 1                   & 13                  & Returning\\_Visitor &  TRUE               & FALSE              \\\\\n",
       "\t12329 & 4                   &  75                 & 0                   & 0                   & 15                  &  346.000            & 0.000000000         & 0.02105263          &  0.00000            & 0                   & Nov                 & 2                   & 2                   & 3                   & 11                  & Returning\\_Visitor & FALSE               & FALSE              \\\\\n",
       "\t12330 & 0                   &   0                 & 0                   & 0                   &  3                  &   21.250            & 0.000000000         & 0.06666667          &  0.00000            & 0                   & Nov                 & 3                   & 2                   & 1                   &  2                  & New\\_Visitor       &  TRUE               & FALSE              \\\\\n",
       "\\end{tabular}\n"
      ],
      "text/markdown": [
       "\n",
       "| <!--/--> | Administrative | Administrative_Duration | Informational | Informational_Duration | ProductRelated | ProductRelated_Duration | BounceRates | ExitRates | PageValues | SpecialDay | Month | OperatingSystems | Browser | Region | TrafficType | VisitorType | Weekend | Revenue |\n",
       "|---|---|---|---|---|---|---|---|---|---|---|---|---|---|---|---|---|---|---|\n",
       "| 12325 | 0                 |   0               | 1                 | 0                 | 16                |  503.000          | 0.000000000       | 0.03764706        |  0.00000          | 0                 | Nov               | 2                 | 2                 | 1                 |  1                | Returning_Visitor | FALSE             | FALSE             |\n",
       "| 12326 | 3                 | 145               | 0                 | 0                 | 53                | 1783.792          | 0.007142857       | 0.02903061        | 12.24172          | 0                 | Dec               | 4                 | 6                 | 1                 |  1                | Returning_Visitor |  TRUE             | FALSE             |\n",
       "| 12327 | 0                 |   0               | 0                 | 0                 |  5                |  465.750          | 0.000000000       | 0.02133333        |  0.00000          | 0                 | Nov               | 3                 | 2                 | 1                 |  8                | Returning_Visitor |  TRUE             | FALSE             |\n",
       "| 12328 | 0                 |   0               | 0                 | 0                 |  6                |  184.250          | 0.083333333       | 0.08666667        |  0.00000          | 0                 | Nov               | 3                 | 2                 | 1                 | 13                | Returning_Visitor |  TRUE             | FALSE             |\n",
       "| 12329 | 4                 |  75               | 0                 | 0                 | 15                |  346.000          | 0.000000000       | 0.02105263        |  0.00000          | 0                 | Nov               | 2                 | 2                 | 3                 | 11                | Returning_Visitor | FALSE             | FALSE             |\n",
       "| 12330 | 0                 |   0               | 0                 | 0                 |  3                |   21.250          | 0.000000000       | 0.06666667        |  0.00000          | 0                 | Nov               | 3                 | 2                 | 1                 |  2                | New_Visitor       |  TRUE             | FALSE             |\n",
       "\n"
      ],
      "text/plain": [
       "      Administrative Administrative_Duration Informational\n",
       "12325 0                0                     1            \n",
       "12326 3              145                     0            \n",
       "12327 0                0                     0            \n",
       "12328 0                0                     0            \n",
       "12329 4               75                     0            \n",
       "12330 0                0                     0            \n",
       "      Informational_Duration ProductRelated ProductRelated_Duration BounceRates\n",
       "12325 0                      16              503.000                0.000000000\n",
       "12326 0                      53             1783.792                0.007142857\n",
       "12327 0                       5              465.750                0.000000000\n",
       "12328 0                       6              184.250                0.083333333\n",
       "12329 0                      15              346.000                0.000000000\n",
       "12330 0                       3               21.250                0.000000000\n",
       "      ExitRates  PageValues SpecialDay Month OperatingSystems Browser Region\n",
       "12325 0.03764706  0.00000   0          Nov   2                2       1     \n",
       "12326 0.02903061 12.24172   0          Dec   4                6       1     \n",
       "12327 0.02133333  0.00000   0          Nov   3                2       1     \n",
       "12328 0.08666667  0.00000   0          Nov   3                2       1     \n",
       "12329 0.02105263  0.00000   0          Nov   2                2       3     \n",
       "12330 0.06666667  0.00000   0          Nov   3                2       1     \n",
       "      TrafficType VisitorType       Weekend Revenue\n",
       "12325  1          Returning_Visitor FALSE   FALSE  \n",
       "12326  1          Returning_Visitor  TRUE   FALSE  \n",
       "12327  8          Returning_Visitor  TRUE   FALSE  \n",
       "12328 13          Returning_Visitor  TRUE   FALSE  \n",
       "12329 11          Returning_Visitor FALSE   FALSE  \n",
       "12330  2          New_Visitor        TRUE   FALSE  "
      ]
     },
     "metadata": {},
     "output_type": "display_data"
    }
   ],
   "source": [
    "# Previewing the bottom of the dataset\n",
    "tail(russian)"
   ]
  },
  {
   "cell_type": "markdown",
   "metadata": {},
   "source": [
    "# Data Wrangling"
   ]
  },
  {
   "cell_type": "code",
   "execution_count": 7,
   "metadata": {
    "ExecuteTime": {
     "end_time": "2020-03-12T08:52:04.317169Z",
     "start_time": "2020-03-12T08:52:04.259Z"
    }
   },
   "outputs": [
    {
     "data": {
      "text/html": [
       "<dl class=dl-horizontal>\n",
       "\t<dt>Administrative</dt>\n",
       "\t\t<dd>14</dd>\n",
       "\t<dt>Administrative_Duration</dt>\n",
       "\t\t<dd>14</dd>\n",
       "\t<dt>Informational</dt>\n",
       "\t\t<dd>14</dd>\n",
       "\t<dt>Informational_Duration</dt>\n",
       "\t\t<dd>14</dd>\n",
       "\t<dt>ProductRelated</dt>\n",
       "\t\t<dd>14</dd>\n",
       "\t<dt>ProductRelated_Duration</dt>\n",
       "\t\t<dd>14</dd>\n",
       "\t<dt>BounceRates</dt>\n",
       "\t\t<dd>14</dd>\n",
       "\t<dt>ExitRates</dt>\n",
       "\t\t<dd>14</dd>\n",
       "\t<dt>PageValues</dt>\n",
       "\t\t<dd>0</dd>\n",
       "\t<dt>SpecialDay</dt>\n",
       "\t\t<dd>0</dd>\n",
       "\t<dt>Month</dt>\n",
       "\t\t<dd>0</dd>\n",
       "\t<dt>OperatingSystems</dt>\n",
       "\t\t<dd>0</dd>\n",
       "\t<dt>Browser</dt>\n",
       "\t\t<dd>0</dd>\n",
       "\t<dt>Region</dt>\n",
       "\t\t<dd>0</dd>\n",
       "\t<dt>TrafficType</dt>\n",
       "\t\t<dd>0</dd>\n",
       "\t<dt>VisitorType</dt>\n",
       "\t\t<dd>0</dd>\n",
       "\t<dt>Weekend</dt>\n",
       "\t\t<dd>0</dd>\n",
       "\t<dt>Revenue</dt>\n",
       "\t\t<dd>0</dd>\n",
       "</dl>\n"
      ],
      "text/latex": [
       "\\begin{description*}\n",
       "\\item[Administrative] 14\n",
       "\\item[Administrative\\textbackslash{}\\_Duration] 14\n",
       "\\item[Informational] 14\n",
       "\\item[Informational\\textbackslash{}\\_Duration] 14\n",
       "\\item[ProductRelated] 14\n",
       "\\item[ProductRelated\\textbackslash{}\\_Duration] 14\n",
       "\\item[BounceRates] 14\n",
       "\\item[ExitRates] 14\n",
       "\\item[PageValues] 0\n",
       "\\item[SpecialDay] 0\n",
       "\\item[Month] 0\n",
       "\\item[OperatingSystems] 0\n",
       "\\item[Browser] 0\n",
       "\\item[Region] 0\n",
       "\\item[TrafficType] 0\n",
       "\\item[VisitorType] 0\n",
       "\\item[Weekend] 0\n",
       "\\item[Revenue] 0\n",
       "\\end{description*}\n"
      ],
      "text/markdown": [
       "Administrative\n",
       ":   14Administrative_Duration\n",
       ":   14Informational\n",
       ":   14Informational_Duration\n",
       ":   14ProductRelated\n",
       ":   14ProductRelated_Duration\n",
       ":   14BounceRates\n",
       ":   14ExitRates\n",
       ":   14PageValues\n",
       ":   0SpecialDay\n",
       ":   0Month\n",
       ":   0OperatingSystems\n",
       ":   0Browser\n",
       ":   0Region\n",
       ":   0TrafficType\n",
       ":   0VisitorType\n",
       ":   0Weekend\n",
       ":   0Revenue\n",
       ":   0\n",
       "\n"
      ],
      "text/plain": [
       "         Administrative Administrative_Duration           Informational \n",
       "                     14                      14                      14 \n",
       " Informational_Duration          ProductRelated ProductRelated_Duration \n",
       "                     14                      14                      14 \n",
       "            BounceRates               ExitRates              PageValues \n",
       "                     14                      14                       0 \n",
       "             SpecialDay                   Month        OperatingSystems \n",
       "                      0                       0                       0 \n",
       "                Browser                  Region             TrafficType \n",
       "                      0                       0                       0 \n",
       "            VisitorType                 Weekend                 Revenue \n",
       "                      0                       0                       0 "
      ]
     },
     "metadata": {},
     "output_type": "display_data"
    }
   ],
   "source": [
    "# Checking for missing data in the dataset\n",
    "colSums(is.na(russian))"
   ]
  },
  {
   "cell_type": "markdown",
   "metadata": {},
   "source": [
    "there are 14 missing values in the first 8 features"
   ]
  },
  {
   "cell_type": "code",
   "execution_count": 8,
   "metadata": {
    "ExecuteTime": {
     "end_time": "2020-03-12T08:52:25.051179Z",
     "start_time": "2020-03-12T08:52:24.700Z"
    }
   },
   "outputs": [
    {
     "data": {
      "text/html": [
       "<table>\n",
       "<thead><tr><th></th><th scope=col>Administrative</th><th scope=col>Administrative_Duration</th><th scope=col>Informational</th><th scope=col>Informational_Duration</th><th scope=col>ProductRelated</th><th scope=col>ProductRelated_Duration</th><th scope=col>BounceRates</th><th scope=col>ExitRates</th><th scope=col>PageValues</th><th scope=col>SpecialDay</th><th scope=col>Month</th><th scope=col>OperatingSystems</th><th scope=col>Browser</th><th scope=col>Region</th><th scope=col>TrafficType</th><th scope=col>VisitorType</th><th scope=col>Weekend</th><th scope=col>Revenue</th></tr></thead>\n",
       "<tbody>\n",
       "\t<tr><th scope=row>159</th><td> 0               </td><td> 0               </td><td> 0               </td><td> 0               </td><td> 1               </td><td> 0               </td><td>0.2              </td><td>0.2              </td><td>0                </td><td>0                </td><td>Feb              </td><td>1                </td><td>1                </td><td>1                </td><td>3                </td><td>Returning_Visitor</td><td>FALSE            </td><td>FALSE            </td></tr>\n",
       "\t<tr><th scope=row>179</th><td> 0               </td><td> 0               </td><td> 0               </td><td> 0               </td><td> 1               </td><td> 0               </td><td>0.2              </td><td>0.2              </td><td>0                </td><td>0                </td><td>Feb              </td><td>3                </td><td>2                </td><td>3                </td><td>3                </td><td>Returning_Visitor</td><td>FALSE            </td><td>FALSE            </td></tr>\n",
       "\t<tr><th scope=row>419</th><td> 0               </td><td> 0               </td><td> 0               </td><td> 0               </td><td> 1               </td><td> 0               </td><td>0.2              </td><td>0.2              </td><td>0                </td><td>0                </td><td>Mar              </td><td>1                </td><td>1                </td><td>1                </td><td>1                </td><td>Returning_Visitor</td><td> TRUE            </td><td>FALSE            </td></tr>\n",
       "\t<tr><th scope=row>457</th><td> 0               </td><td> 0               </td><td> 0               </td><td> 0               </td><td> 1               </td><td> 0               </td><td>0.2              </td><td>0.2              </td><td>0                </td><td>0                </td><td>Mar              </td><td>2                </td><td>2                </td><td>4                </td><td>1                </td><td>Returning_Visitor</td><td>FALSE            </td><td>FALSE            </td></tr>\n",
       "\t<tr><th scope=row>484</th><td> 0               </td><td> 0               </td><td> 0               </td><td> 0               </td><td> 1               </td><td> 0               </td><td>0.2              </td><td>0.2              </td><td>0                </td><td>0                </td><td>Mar              </td><td>3                </td><td>2                </td><td>3                </td><td>1                </td><td>Returning_Visitor</td><td>FALSE            </td><td>FALSE            </td></tr>\n",
       "\t<tr><th scope=row>513</th><td> 0               </td><td> 0               </td><td> 0               </td><td> 0               </td><td> 1               </td><td> 0               </td><td>0.2              </td><td>0.2              </td><td>0                </td><td>0                </td><td>Mar              </td><td>2                </td><td>2                </td><td>1                </td><td>1                </td><td>Returning_Visitor</td><td>FALSE            </td><td>FALSE            </td></tr>\n",
       "\t<tr><th scope=row>555</th><td> 0               </td><td> 0               </td><td> 0               </td><td> 0               </td><td> 1               </td><td> 0               </td><td>0.2              </td><td>0.2              </td><td>0                </td><td>0                </td><td>Mar              </td><td>2                </td><td>2                </td><td>1                </td><td>1                </td><td>Returning_Visitor</td><td>FALSE            </td><td>FALSE            </td></tr>\n",
       "\t<tr><th scope=row>590</th><td> 0               </td><td> 0               </td><td> 0               </td><td> 0               </td><td> 1               </td><td> 0               </td><td>0.2              </td><td>0.2              </td><td>0                </td><td>0                </td><td>Mar              </td><td>2                </td><td>2                </td><td>1                </td><td>1                </td><td>Returning_Visitor</td><td>FALSE            </td><td>FALSE            </td></tr>\n",
       "\t<tr><th scope=row>660</th><td> 0               </td><td> 0               </td><td> 0               </td><td> 0               </td><td> 2               </td><td> 0               </td><td>0.2              </td><td>0.2              </td><td>0                </td><td>0                </td><td>Mar              </td><td>2                </td><td>5                </td><td>1                </td><td>1                </td><td>Returning_Visitor</td><td>FALSE            </td><td>FALSE            </td></tr>\n",
       "\t<tr><th scope=row>775</th><td> 0               </td><td> 0               </td><td> 0               </td><td> 0               </td><td> 1               </td><td> 0               </td><td>0.2              </td><td>0.2              </td><td>0                </td><td>0                </td><td>Mar              </td><td>2                </td><td>2                </td><td>4                </td><td>1                </td><td>Returning_Visitor</td><td>FALSE            </td><td>FALSE            </td></tr>\n",
       "\t<tr><th scope=row>873</th><td> 0               </td><td> 0               </td><td> 0               </td><td> 0               </td><td> 1               </td><td> 0               </td><td>0.2              </td><td>0.2              </td><td>0                </td><td>0                </td><td>Mar              </td><td>3                </td><td>2                </td><td>3                </td><td>1                </td><td>Returning_Visitor</td><td>FALSE            </td><td>FALSE            </td></tr>\n",
       "\t<tr><th scope=row>890</th><td> 0               </td><td> 0               </td><td> 0               </td><td> 0               </td><td> 1               </td><td> 0               </td><td>0.2              </td><td>0.2              </td><td>0                </td><td>0                </td><td>Mar              </td><td>1                </td><td>1                </td><td>2                </td><td>1                </td><td>Returning_Visitor</td><td>FALSE            </td><td>FALSE            </td></tr>\n",
       "\t<tr><th scope=row>923</th><td> 0               </td><td> 0               </td><td> 0               </td><td> 0               </td><td> 1               </td><td> 0               </td><td>0.2              </td><td>0.2              </td><td>0                </td><td>0                </td><td>Mar              </td><td>3                </td><td>2                </td><td>2                </td><td>1                </td><td>Returning_Visitor</td><td>FALSE            </td><td>FALSE            </td></tr>\n",
       "\t<tr><th scope=row>948</th><td> 0               </td><td> 0               </td><td> 0               </td><td> 0               </td><td> 1               </td><td> 0               </td><td>0.2              </td><td>0.2              </td><td>0                </td><td>0                </td><td>Mar              </td><td>2                </td><td>2                </td><td>1                </td><td>1                </td><td>Returning_Visitor</td><td>FALSE            </td><td>FALSE            </td></tr>\n",
       "\t<tr><th scope=row>975</th><td> 0               </td><td> 0               </td><td> 0               </td><td> 0               </td><td> 1               </td><td> 0               </td><td>0.2              </td><td>0.2              </td><td>0                </td><td>0                </td><td>Mar              </td><td>2                </td><td>2                </td><td>1                </td><td>1                </td><td>Returning_Visitor</td><td>FALSE            </td><td>FALSE            </td></tr>\n",
       "\t<tr><th scope=row>1035</th><td> 0               </td><td> 0               </td><td> 0               </td><td> 0               </td><td> 1               </td><td> 0               </td><td>0.2              </td><td>0.2              </td><td>0                </td><td>0                </td><td>Mar              </td><td>2                </td><td>2                </td><td>1                </td><td>1                </td><td>Returning_Visitor</td><td>FALSE            </td><td>FALSE            </td></tr>\n",
       "\t<tr><th scope=row>1120</th><td> 0               </td><td> 0               </td><td> 0               </td><td> 0               </td><td> 1               </td><td> 0               </td><td>0.2              </td><td>0.2              </td><td>0                </td><td>0                </td><td>Mar              </td><td>2                </td><td>2                </td><td>1                </td><td>1                </td><td>Returning_Visitor</td><td>FALSE            </td><td>FALSE            </td></tr>\n",
       "\t<tr><th scope=row>1137</th><td>NA               </td><td>NA               </td><td>NA               </td><td>NA               </td><td>NA               </td><td>NA               </td><td> NA              </td><td> NA              </td><td>0                </td><td>0                </td><td>Mar              </td><td>2                </td><td>2                </td><td>1                </td><td>2                </td><td>Returning_Visitor</td><td>FALSE            </td><td>FALSE            </td></tr>\n",
       "\t<tr><th scope=row>1171</th><td> 0               </td><td> 0               </td><td> 0               </td><td> 0               </td><td> 1               </td><td> 0               </td><td>0.2              </td><td>0.2              </td><td>0                </td><td>0                </td><td>Mar              </td><td>3                </td><td>2                </td><td>1                </td><td>1                </td><td>Returning_Visitor</td><td>FALSE            </td><td>FALSE            </td></tr>\n",
       "\t<tr><th scope=row>1177</th><td> 0               </td><td> 0               </td><td> 0               </td><td> 0               </td><td> 1               </td><td> 0               </td><td>0.2              </td><td>0.2              </td><td>0                </td><td>0                </td><td>Mar              </td><td>2                </td><td>4                </td><td>1                </td><td>1                </td><td>Returning_Visitor</td><td>FALSE            </td><td>FALSE            </td></tr>\n",
       "\t<tr><th scope=row>1214</th><td> 0               </td><td> 0               </td><td> 0               </td><td> 0               </td><td> 1               </td><td> 0               </td><td>0.2              </td><td>0.2              </td><td>0                </td><td>0                </td><td>Mar              </td><td>3                </td><td>2                </td><td>3                </td><td>1                </td><td>Returning_Visitor</td><td>FALSE            </td><td>FALSE            </td></tr>\n",
       "\t<tr><th scope=row>1215</th><td> 0               </td><td> 0               </td><td> 0               </td><td> 0               </td><td> 1               </td><td> 0               </td><td>0.2              </td><td>0.2              </td><td>0                </td><td>0                </td><td>Mar              </td><td>1                </td><td>1                </td><td>1                </td><td>3                </td><td>Returning_Visitor</td><td>FALSE            </td><td>FALSE            </td></tr>\n",
       "\t<tr><th scope=row>1292</th><td> 0               </td><td> 0               </td><td> 0               </td><td> 0               </td><td> 2               </td><td> 0               </td><td>0.2              </td><td>0.2              </td><td>0                </td><td>0                </td><td>Mar              </td><td>2                </td><td>2                </td><td>1                </td><td>1                </td><td>Returning_Visitor</td><td>FALSE            </td><td>FALSE            </td></tr>\n",
       "\t<tr><th scope=row>1326</th><td> 0               </td><td> 0               </td><td> 0               </td><td> 0               </td><td> 1               </td><td> 0               </td><td>0.2              </td><td>0.2              </td><td>0                </td><td>0                </td><td>Mar              </td><td>1                </td><td>1                </td><td>3                </td><td>3                </td><td>Returning_Visitor</td><td>FALSE            </td><td>FALSE            </td></tr>\n",
       "\t<tr><th scope=row>1357</th><td> 0               </td><td> 0               </td><td> 0               </td><td> 0               </td><td> 2               </td><td> 0               </td><td>0.2              </td><td>0.2              </td><td>0                </td><td>0                </td><td>Mar              </td><td>1                </td><td>1                </td><td>1                </td><td>1                </td><td>Returning_Visitor</td><td>FALSE            </td><td>FALSE            </td></tr>\n",
       "\t<tr><th scope=row>1367</th><td> 0               </td><td> 0               </td><td> 0               </td><td> 0               </td><td> 1               </td><td> 0               </td><td>0.2              </td><td>0.2              </td><td>0                </td><td>0                </td><td>Mar              </td><td>1                </td><td>1                </td><td>8                </td><td>1                </td><td>Returning_Visitor</td><td>FALSE            </td><td>FALSE            </td></tr>\n",
       "\t<tr><th scope=row>1382</th><td> 0               </td><td> 0               </td><td> 0               </td><td> 0               </td><td> 1               </td><td> 0               </td><td>0.2              </td><td>0.2              </td><td>0                </td><td>0                </td><td>Mar              </td><td>1                </td><td>1                </td><td>4                </td><td>1                </td><td>Returning_Visitor</td><td>FALSE            </td><td>FALSE            </td></tr>\n",
       "\t<tr><th scope=row>1391</th><td> 0               </td><td> 0               </td><td> 0               </td><td> 0               </td><td> 1               </td><td> 0               </td><td>0.2              </td><td>0.2              </td><td>0                </td><td>0                </td><td>Mar              </td><td>2                </td><td>2                </td><td>1                </td><td>1                </td><td>Returning_Visitor</td><td>FALSE            </td><td>FALSE            </td></tr>\n",
       "\t<tr><th scope=row>1395</th><td> 0               </td><td> 0               </td><td> 0               </td><td> 0               </td><td> 1               </td><td> 0               </td><td>0.2              </td><td>0.2              </td><td>0                </td><td>0                </td><td>Mar              </td><td>2                </td><td>2                </td><td>1                </td><td>1                </td><td>Returning_Visitor</td><td>FALSE            </td><td>FALSE            </td></tr>\n",
       "\t<tr><th scope=row>1437</th><td> 0               </td><td> 0               </td><td> 0               </td><td> 0               </td><td> 1               </td><td> 0               </td><td>0.2              </td><td>0.2              </td><td>0                </td><td>0                </td><td>Mar              </td><td>3                </td><td>2                </td><td>3                </td><td>1                </td><td>Returning_Visitor</td><td>FALSE            </td><td>FALSE            </td></tr>\n",
       "\t<tr><th scope=row>...</th><td>...</td><td>...</td><td>...</td><td>...</td><td>...</td><td>...</td><td>...</td><td>...</td><td>...</td><td>...</td><td>...</td><td>...</td><td>...</td><td>...</td><td>...</td><td>...</td><td>...</td><td>...</td></tr>\n",
       "\t<tr><th scope=row>9719</th><td>0                </td><td>0                </td><td>0                </td><td>0                </td><td>1                </td><td>0                </td><td>0.2              </td><td>0.2              </td><td>0                </td><td>0                </td><td>Nov              </td><td>3                </td><td> 2               </td><td>7                </td><td>13               </td><td>Returning_Visitor</td><td>FALSE            </td><td>FALSE            </td></tr>\n",
       "\t<tr><th scope=row>9770</th><td>0                </td><td>0                </td><td>0                </td><td>0                </td><td>1                </td><td>0                </td><td>0.2              </td><td>0.2              </td><td>0                </td><td>0                </td><td>Dec              </td><td>2                </td><td> 2               </td><td>2                </td><td> 1               </td><td>Returning_Visitor</td><td>FALSE            </td><td>FALSE            </td></tr>\n",
       "\t<tr><th scope=row>9879</th><td>0                </td><td>0                </td><td>0                </td><td>0                </td><td>1                </td><td>0                </td><td>0.2              </td><td>0.2              </td><td>0                </td><td>0                </td><td>Dec              </td><td>2                </td><td> 2               </td><td>6                </td><td>13               </td><td>Returning_Visitor</td><td>FALSE            </td><td>FALSE            </td></tr>\n",
       "\t<tr><th scope=row>9908</th><td>0                </td><td>0                </td><td>0                </td><td>0                </td><td>1                </td><td>0                </td><td>0.2              </td><td>0.2              </td><td>0                </td><td>0                </td><td>Dec              </td><td>2                </td><td> 2               </td><td>1                </td><td>13               </td><td>Returning_Visitor</td><td>FALSE            </td><td>FALSE            </td></tr>\n",
       "\t<tr><th scope=row>10147</th><td>0                </td><td>0                </td><td>0                </td><td>0                </td><td>1                </td><td>0                </td><td>0.2              </td><td>0.2              </td><td>0                </td><td>0                </td><td>Dec              </td><td>8                </td><td>13               </td><td>9                </td><td>20               </td><td>Other            </td><td>FALSE            </td><td>FALSE            </td></tr>\n",
       "\t<tr><th scope=row>10223</th><td>0                </td><td>0                </td><td>0                </td><td>0                </td><td>2                </td><td>0                </td><td>0.2              </td><td>0.2              </td><td>0                </td><td>0                </td><td>Nov              </td><td>1                </td><td> 1               </td><td>1                </td><td> 1               </td><td>Returning_Visitor</td><td>FALSE            </td><td>FALSE            </td></tr>\n",
       "\t<tr><th scope=row>10270</th><td>0                </td><td>0                </td><td>0                </td><td>0                </td><td>1                </td><td>0                </td><td>0.2              </td><td>0.2              </td><td>0                </td><td>0                </td><td>Nov              </td><td>1                </td><td> 1               </td><td>3                </td><td> 2               </td><td>Returning_Visitor</td><td>FALSE            </td><td>FALSE            </td></tr>\n",
       "\t<tr><th scope=row>10573</th><td>0                </td><td>0                </td><td>0                </td><td>0                </td><td>1                </td><td>0                </td><td>0.2              </td><td>0.2              </td><td>0                </td><td>0                </td><td>Nov              </td><td>2                </td><td> 2               </td><td>3                </td><td> 1               </td><td>Returning_Visitor</td><td>FALSE            </td><td>FALSE            </td></tr>\n",
       "\t<tr><th scope=row>10632</th><td>0                </td><td>0                </td><td>0                </td><td>0                </td><td>1                </td><td>0                </td><td>0.2              </td><td>0.2              </td><td>0                </td><td>0                </td><td>Nov              </td><td>2                </td><td> 2               </td><td>1                </td><td> 1               </td><td>Returning_Visitor</td><td>FALSE            </td><td>FALSE            </td></tr>\n",
       "\t<tr><th scope=row>10752</th><td>0                </td><td>0                </td><td>0                </td><td>0                </td><td>1                </td><td>0                </td><td>0.2              </td><td>0.2              </td><td>0                </td><td>0                </td><td>Dec              </td><td>1                </td><td> 1               </td><td>1                </td><td> 1               </td><td>Returning_Visitor</td><td> TRUE            </td><td>FALSE            </td></tr>\n",
       "\t<tr><th scope=row>10796</th><td>0                </td><td>0                </td><td>0                </td><td>0                </td><td>1                </td><td>0                </td><td>0.2              </td><td>0.2              </td><td>0                </td><td>0                </td><td>Nov              </td><td>1                </td><td> 1               </td><td>4                </td><td> 1               </td><td>Returning_Visitor</td><td>FALSE            </td><td>FALSE            </td></tr>\n",
       "\t<tr><th scope=row>10842</th><td>0                </td><td>0                </td><td>0                </td><td>0                </td><td>1                </td><td>0                </td><td>0.2              </td><td>0.2              </td><td>0                </td><td>0                </td><td>Nov              </td><td>2                </td><td> 2               </td><td>3                </td><td> 1               </td><td>Returning_Visitor</td><td>FALSE            </td><td>FALSE            </td></tr>\n",
       "\t<tr><th scope=row>10989</th><td>0                </td><td>0                </td><td>0                </td><td>0                </td><td>1                </td><td>0                </td><td>0.2              </td><td>0.2              </td><td>0                </td><td>0                </td><td>Nov              </td><td>2                </td><td> 4               </td><td>3                </td><td> 3               </td><td>Returning_Visitor</td><td>FALSE            </td><td>FALSE            </td></tr>\n",
       "\t<tr><th scope=row>11044</th><td>0                </td><td>0                </td><td>0                </td><td>0                </td><td>1                </td><td>0                </td><td>0.2              </td><td>0.2              </td><td>0                </td><td>0                </td><td>Dec              </td><td>3                </td><td> 2               </td><td>6                </td><td> 1               </td><td>Returning_Visitor</td><td>FALSE            </td><td>FALSE            </td></tr>\n",
       "\t<tr><th scope=row>11206</th><td>0                </td><td>0                </td><td>0                </td><td>0                </td><td>1                </td><td>0                </td><td>0.2              </td><td>0.2              </td><td>0                </td><td>0                </td><td>Dec              </td><td>8                </td><td>13               </td><td>9                </td><td>20               </td><td>Other            </td><td>FALSE            </td><td>FALSE            </td></tr>\n",
       "\t<tr><th scope=row>11405</th><td>0                </td><td>0                </td><td>0                </td><td>0                </td><td>1                </td><td>0                </td><td>0.2              </td><td>0.2              </td><td>0                </td><td>0                </td><td>Nov              </td><td>3                </td><td> 2               </td><td>1                </td><td>13               </td><td>Returning_Visitor</td><td>FALSE            </td><td>FALSE            </td></tr>\n",
       "\t<tr><th scope=row>11524</th><td>0                </td><td>0                </td><td>0                </td><td>0                </td><td>1                </td><td>0                </td><td>0.2              </td><td>0.2              </td><td>0                </td><td>0                </td><td>Dec              </td><td>2                </td><td> 2               </td><td>1                </td><td>13               </td><td>Returning_Visitor</td><td>FALSE            </td><td>FALSE            </td></tr>\n",
       "\t<tr><th scope=row>11582</th><td>0                </td><td>0                </td><td>0                </td><td>0                </td><td>1                </td><td>0                </td><td>0.2              </td><td>0.2              </td><td>0                </td><td>0                </td><td>Dec              </td><td>8                </td><td>13               </td><td>9                </td><td>20               </td><td>Other            </td><td>FALSE            </td><td>FALSE            </td></tr>\n",
       "\t<tr><th scope=row>11625</th><td>0                </td><td>0                </td><td>0                </td><td>0                </td><td>1                </td><td>0                </td><td>0.2              </td><td>0.2              </td><td>0                </td><td>0                </td><td>Nov              </td><td>3                </td><td> 2               </td><td>1                </td><td> 1               </td><td>Returning_Visitor</td><td>FALSE            </td><td>FALSE            </td></tr>\n",
       "\t<tr><th scope=row>11659</th><td>0                </td><td>0                </td><td>0                </td><td>0                </td><td>1                </td><td>0                </td><td>0.2              </td><td>0.2              </td><td>0                </td><td>0                </td><td>Dec              </td><td>1                </td><td> 1               </td><td>1                </td><td> 1               </td><td>Returning_Visitor</td><td> TRUE            </td><td>FALSE            </td></tr>\n",
       "\t<tr><th scope=row>11734</th><td>0                </td><td>0                </td><td>0                </td><td>0                </td><td>1                </td><td>0                </td><td>0.2              </td><td>0.2              </td><td>0                </td><td>0                </td><td>Nov              </td><td>2                </td><td> 2               </td><td>1                </td><td> 1               </td><td>Returning_Visitor</td><td>FALSE            </td><td>FALSE            </td></tr>\n",
       "\t<tr><th scope=row>11748</th><td>0                </td><td>0                </td><td>0                </td><td>0                </td><td>1                </td><td>0                </td><td>0.2              </td><td>0.2              </td><td>0                </td><td>0                </td><td>Nov              </td><td>1                </td><td> 1               </td><td>3                </td><td> 3               </td><td>Returning_Visitor</td><td>FALSE            </td><td>FALSE            </td></tr>\n",
       "\t<tr><th scope=row>11802</th><td>0                </td><td>0                </td><td>0                </td><td>0                </td><td>1                </td><td>0                </td><td>0.2              </td><td>0.2              </td><td>0                </td><td>0                </td><td>Dec              </td><td>1                </td><td> 1               </td><td>4                </td><td> 1               </td><td>Returning_Visitor</td><td> TRUE            </td><td>FALSE            </td></tr>\n",
       "\t<tr><th scope=row>11814</th><td>0                </td><td>0                </td><td>0                </td><td>0                </td><td>1                </td><td>0                </td><td>0.2              </td><td>0.2              </td><td>0                </td><td>0                </td><td>Dec              </td><td>2                </td><td> 2               </td><td>1                </td><td> 1               </td><td>Returning_Visitor</td><td>FALSE            </td><td>FALSE            </td></tr>\n",
       "\t<tr><th scope=row>11828</th><td>0                </td><td>0                </td><td>0                </td><td>0                </td><td>1                </td><td>0                </td><td>0.2              </td><td>0.2              </td><td>0                </td><td>0                </td><td>Dec              </td><td>2                </td><td> 2               </td><td>1                </td><td> 1               </td><td>Returning_Visitor</td><td>FALSE            </td><td>FALSE            </td></tr>\n",
       "\t<tr><th scope=row>11935</th><td>0                </td><td>0                </td><td>0                </td><td>0                </td><td>1                </td><td>0                </td><td>0.2              </td><td>0.2              </td><td>0                </td><td>0                </td><td>Dec              </td><td>1                </td><td> 1               </td><td>1                </td><td> 2               </td><td>New_Visitor      </td><td>FALSE            </td><td>FALSE            </td></tr>\n",
       "\t<tr><th scope=row>11939</th><td>0                </td><td>0                </td><td>0                </td><td>0                </td><td>1                </td><td>0                </td><td>0.2              </td><td>0.2              </td><td>0                </td><td>0                </td><td>Dec              </td><td>1                </td><td> 1               </td><td>4                </td><td> 1               </td><td>Returning_Visitor</td><td> TRUE            </td><td>FALSE            </td></tr>\n",
       "\t<tr><th scope=row>12160</th><td>0                </td><td>0                </td><td>0                </td><td>0                </td><td>1                </td><td>0                </td><td>0.2              </td><td>0.2              </td><td>0                </td><td>0                </td><td>Dec              </td><td>1                </td><td> 1               </td><td>1                </td><td> 3               </td><td>Returning_Visitor</td><td>FALSE            </td><td>FALSE            </td></tr>\n",
       "\t<tr><th scope=row>12181</th><td>0                </td><td>0                </td><td>0                </td><td>0                </td><td>1                </td><td>0                </td><td>0.2              </td><td>0.2              </td><td>0                </td><td>0                </td><td>Dec              </td><td>1                </td><td>13               </td><td>9                </td><td>20               </td><td>Returning_Visitor</td><td>FALSE            </td><td>FALSE            </td></tr>\n",
       "\t<tr><th scope=row>12186</th><td>0                </td><td>0                </td><td>0                </td><td>0                </td><td>1                </td><td>0                </td><td>0.2              </td><td>0.2              </td><td>0                </td><td>0                </td><td>Dec              </td><td>8                </td><td>13               </td><td>9                </td><td>20               </td><td>Other            </td><td>FALSE            </td><td>FALSE            </td></tr>\n",
       "</tbody>\n",
       "</table>\n"
      ],
      "text/latex": [
       "\\begin{tabular}{r|llllllllllllllllll}\n",
       "  & Administrative & Administrative\\_Duration & Informational & Informational\\_Duration & ProductRelated & ProductRelated\\_Duration & BounceRates & ExitRates & PageValues & SpecialDay & Month & OperatingSystems & Browser & Region & TrafficType & VisitorType & Weekend & Revenue\\\\\n",
       "\\hline\n",
       "\t159 &  0                  &  0                  &  0                  &  0                  &  1                  &  0                  & 0.2                 & 0.2                 & 0                   & 0                   & Feb                 & 1                   & 1                   & 1                   & 3                   & Returning\\_Visitor & FALSE               & FALSE              \\\\\n",
       "\t179 &  0                  &  0                  &  0                  &  0                  &  1                  &  0                  & 0.2                 & 0.2                 & 0                   & 0                   & Feb                 & 3                   & 2                   & 3                   & 3                   & Returning\\_Visitor & FALSE               & FALSE              \\\\\n",
       "\t419 &  0                  &  0                  &  0                  &  0                  &  1                  &  0                  & 0.2                 & 0.2                 & 0                   & 0                   & Mar                 & 1                   & 1                   & 1                   & 1                   & Returning\\_Visitor &  TRUE               & FALSE              \\\\\n",
       "\t457 &  0                  &  0                  &  0                  &  0                  &  1                  &  0                  & 0.2                 & 0.2                 & 0                   & 0                   & Mar                 & 2                   & 2                   & 4                   & 1                   & Returning\\_Visitor & FALSE               & FALSE              \\\\\n",
       "\t484 &  0                  &  0                  &  0                  &  0                  &  1                  &  0                  & 0.2                 & 0.2                 & 0                   & 0                   & Mar                 & 3                   & 2                   & 3                   & 1                   & Returning\\_Visitor & FALSE               & FALSE              \\\\\n",
       "\t513 &  0                  &  0                  &  0                  &  0                  &  1                  &  0                  & 0.2                 & 0.2                 & 0                   & 0                   & Mar                 & 2                   & 2                   & 1                   & 1                   & Returning\\_Visitor & FALSE               & FALSE              \\\\\n",
       "\t555 &  0                  &  0                  &  0                  &  0                  &  1                  &  0                  & 0.2                 & 0.2                 & 0                   & 0                   & Mar                 & 2                   & 2                   & 1                   & 1                   & Returning\\_Visitor & FALSE               & FALSE              \\\\\n",
       "\t590 &  0                  &  0                  &  0                  &  0                  &  1                  &  0                  & 0.2                 & 0.2                 & 0                   & 0                   & Mar                 & 2                   & 2                   & 1                   & 1                   & Returning\\_Visitor & FALSE               & FALSE              \\\\\n",
       "\t660 &  0                  &  0                  &  0                  &  0                  &  2                  &  0                  & 0.2                 & 0.2                 & 0                   & 0                   & Mar                 & 2                   & 5                   & 1                   & 1                   & Returning\\_Visitor & FALSE               & FALSE              \\\\\n",
       "\t775 &  0                  &  0                  &  0                  &  0                  &  1                  &  0                  & 0.2                 & 0.2                 & 0                   & 0                   & Mar                 & 2                   & 2                   & 4                   & 1                   & Returning\\_Visitor & FALSE               & FALSE              \\\\\n",
       "\t873 &  0                  &  0                  &  0                  &  0                  &  1                  &  0                  & 0.2                 & 0.2                 & 0                   & 0                   & Mar                 & 3                   & 2                   & 3                   & 1                   & Returning\\_Visitor & FALSE               & FALSE              \\\\\n",
       "\t890 &  0                  &  0                  &  0                  &  0                  &  1                  &  0                  & 0.2                 & 0.2                 & 0                   & 0                   & Mar                 & 1                   & 1                   & 2                   & 1                   & Returning\\_Visitor & FALSE               & FALSE              \\\\\n",
       "\t923 &  0                  &  0                  &  0                  &  0                  &  1                  &  0                  & 0.2                 & 0.2                 & 0                   & 0                   & Mar                 & 3                   & 2                   & 2                   & 1                   & Returning\\_Visitor & FALSE               & FALSE              \\\\\n",
       "\t948 &  0                  &  0                  &  0                  &  0                  &  1                  &  0                  & 0.2                 & 0.2                 & 0                   & 0                   & Mar                 & 2                   & 2                   & 1                   & 1                   & Returning\\_Visitor & FALSE               & FALSE              \\\\\n",
       "\t975 &  0                  &  0                  &  0                  &  0                  &  1                  &  0                  & 0.2                 & 0.2                 & 0                   & 0                   & Mar                 & 2                   & 2                   & 1                   & 1                   & Returning\\_Visitor & FALSE               & FALSE              \\\\\n",
       "\t1035 &  0                  &  0                  &  0                  &  0                  &  1                  &  0                  & 0.2                 & 0.2                 & 0                   & 0                   & Mar                 & 2                   & 2                   & 1                   & 1                   & Returning\\_Visitor & FALSE               & FALSE              \\\\\n",
       "\t1120 &  0                  &  0                  &  0                  &  0                  &  1                  &  0                  & 0.2                 & 0.2                 & 0                   & 0                   & Mar                 & 2                   & 2                   & 1                   & 1                   & Returning\\_Visitor & FALSE               & FALSE              \\\\\n",
       "\t1137 & NA                  & NA                  & NA                  & NA                  & NA                  & NA                  &  NA                 &  NA                 & 0                   & 0                   & Mar                 & 2                   & 2                   & 1                   & 2                   & Returning\\_Visitor & FALSE               & FALSE              \\\\\n",
       "\t1171 &  0                  &  0                  &  0                  &  0                  &  1                  &  0                  & 0.2                 & 0.2                 & 0                   & 0                   & Mar                 & 3                   & 2                   & 1                   & 1                   & Returning\\_Visitor & FALSE               & FALSE              \\\\\n",
       "\t1177 &  0                  &  0                  &  0                  &  0                  &  1                  &  0                  & 0.2                 & 0.2                 & 0                   & 0                   & Mar                 & 2                   & 4                   & 1                   & 1                   & Returning\\_Visitor & FALSE               & FALSE              \\\\\n",
       "\t1214 &  0                  &  0                  &  0                  &  0                  &  1                  &  0                  & 0.2                 & 0.2                 & 0                   & 0                   & Mar                 & 3                   & 2                   & 3                   & 1                   & Returning\\_Visitor & FALSE               & FALSE              \\\\\n",
       "\t1215 &  0                  &  0                  &  0                  &  0                  &  1                  &  0                  & 0.2                 & 0.2                 & 0                   & 0                   & Mar                 & 1                   & 1                   & 1                   & 3                   & Returning\\_Visitor & FALSE               & FALSE              \\\\\n",
       "\t1292 &  0                  &  0                  &  0                  &  0                  &  2                  &  0                  & 0.2                 & 0.2                 & 0                   & 0                   & Mar                 & 2                   & 2                   & 1                   & 1                   & Returning\\_Visitor & FALSE               & FALSE              \\\\\n",
       "\t1326 &  0                  &  0                  &  0                  &  0                  &  1                  &  0                  & 0.2                 & 0.2                 & 0                   & 0                   & Mar                 & 1                   & 1                   & 3                   & 3                   & Returning\\_Visitor & FALSE               & FALSE              \\\\\n",
       "\t1357 &  0                  &  0                  &  0                  &  0                  &  2                  &  0                  & 0.2                 & 0.2                 & 0                   & 0                   & Mar                 & 1                   & 1                   & 1                   & 1                   & Returning\\_Visitor & FALSE               & FALSE              \\\\\n",
       "\t1367 &  0                  &  0                  &  0                  &  0                  &  1                  &  0                  & 0.2                 & 0.2                 & 0                   & 0                   & Mar                 & 1                   & 1                   & 8                   & 1                   & Returning\\_Visitor & FALSE               & FALSE              \\\\\n",
       "\t1382 &  0                  &  0                  &  0                  &  0                  &  1                  &  0                  & 0.2                 & 0.2                 & 0                   & 0                   & Mar                 & 1                   & 1                   & 4                   & 1                   & Returning\\_Visitor & FALSE               & FALSE              \\\\\n",
       "\t1391 &  0                  &  0                  &  0                  &  0                  &  1                  &  0                  & 0.2                 & 0.2                 & 0                   & 0                   & Mar                 & 2                   & 2                   & 1                   & 1                   & Returning\\_Visitor & FALSE               & FALSE              \\\\\n",
       "\t1395 &  0                  &  0                  &  0                  &  0                  &  1                  &  0                  & 0.2                 & 0.2                 & 0                   & 0                   & Mar                 & 2                   & 2                   & 1                   & 1                   & Returning\\_Visitor & FALSE               & FALSE              \\\\\n",
       "\t1437 &  0                  &  0                  &  0                  &  0                  &  1                  &  0                  & 0.2                 & 0.2                 & 0                   & 0                   & Mar                 & 3                   & 2                   & 3                   & 1                   & Returning\\_Visitor & FALSE               & FALSE              \\\\\n",
       "\t... & ... & ... & ... & ... & ... & ... & ... & ... & ... & ... & ... & ... & ... & ... & ... & ... & ... & ...\\\\\n",
       "\t9719 & 0                   & 0                   & 0                   & 0                   & 1                   & 0                   & 0.2                 & 0.2                 & 0                   & 0                   & Nov                 & 3                   &  2                  & 7                   & 13                  & Returning\\_Visitor & FALSE               & FALSE              \\\\\n",
       "\t9770 & 0                   & 0                   & 0                   & 0                   & 1                   & 0                   & 0.2                 & 0.2                 & 0                   & 0                   & Dec                 & 2                   &  2                  & 2                   &  1                  & Returning\\_Visitor & FALSE               & FALSE              \\\\\n",
       "\t9879 & 0                   & 0                   & 0                   & 0                   & 1                   & 0                   & 0.2                 & 0.2                 & 0                   & 0                   & Dec                 & 2                   &  2                  & 6                   & 13                  & Returning\\_Visitor & FALSE               & FALSE              \\\\\n",
       "\t9908 & 0                   & 0                   & 0                   & 0                   & 1                   & 0                   & 0.2                 & 0.2                 & 0                   & 0                   & Dec                 & 2                   &  2                  & 1                   & 13                  & Returning\\_Visitor & FALSE               & FALSE              \\\\\n",
       "\t10147 & 0                 & 0                 & 0                 & 0                 & 1                 & 0                 & 0.2               & 0.2               & 0                 & 0                 & Dec               & 8                 & 13                & 9                 & 20                & Other             & FALSE             & FALSE            \\\\\n",
       "\t10223 & 0                   & 0                   & 0                   & 0                   & 2                   & 0                   & 0.2                 & 0.2                 & 0                   & 0                   & Nov                 & 1                   &  1                  & 1                   &  1                  & Returning\\_Visitor & FALSE               & FALSE              \\\\\n",
       "\t10270 & 0                   & 0                   & 0                   & 0                   & 1                   & 0                   & 0.2                 & 0.2                 & 0                   & 0                   & Nov                 & 1                   &  1                  & 3                   &  2                  & Returning\\_Visitor & FALSE               & FALSE              \\\\\n",
       "\t10573 & 0                   & 0                   & 0                   & 0                   & 1                   & 0                   & 0.2                 & 0.2                 & 0                   & 0                   & Nov                 & 2                   &  2                  & 3                   &  1                  & Returning\\_Visitor & FALSE               & FALSE              \\\\\n",
       "\t10632 & 0                   & 0                   & 0                   & 0                   & 1                   & 0                   & 0.2                 & 0.2                 & 0                   & 0                   & Nov                 & 2                   &  2                  & 1                   &  1                  & Returning\\_Visitor & FALSE               & FALSE              \\\\\n",
       "\t10752 & 0                   & 0                   & 0                   & 0                   & 1                   & 0                   & 0.2                 & 0.2                 & 0                   & 0                   & Dec                 & 1                   &  1                  & 1                   &  1                  & Returning\\_Visitor &  TRUE               & FALSE              \\\\\n",
       "\t10796 & 0                   & 0                   & 0                   & 0                   & 1                   & 0                   & 0.2                 & 0.2                 & 0                   & 0                   & Nov                 & 1                   &  1                  & 4                   &  1                  & Returning\\_Visitor & FALSE               & FALSE              \\\\\n",
       "\t10842 & 0                   & 0                   & 0                   & 0                   & 1                   & 0                   & 0.2                 & 0.2                 & 0                   & 0                   & Nov                 & 2                   &  2                  & 3                   &  1                  & Returning\\_Visitor & FALSE               & FALSE              \\\\\n",
       "\t10989 & 0                   & 0                   & 0                   & 0                   & 1                   & 0                   & 0.2                 & 0.2                 & 0                   & 0                   & Nov                 & 2                   &  4                  & 3                   &  3                  & Returning\\_Visitor & FALSE               & FALSE              \\\\\n",
       "\t11044 & 0                   & 0                   & 0                   & 0                   & 1                   & 0                   & 0.2                 & 0.2                 & 0                   & 0                   & Dec                 & 3                   &  2                  & 6                   &  1                  & Returning\\_Visitor & FALSE               & FALSE              \\\\\n",
       "\t11206 & 0                 & 0                 & 0                 & 0                 & 1                 & 0                 & 0.2               & 0.2               & 0                 & 0                 & Dec               & 8                 & 13                & 9                 & 20                & Other             & FALSE             & FALSE            \\\\\n",
       "\t11405 & 0                   & 0                   & 0                   & 0                   & 1                   & 0                   & 0.2                 & 0.2                 & 0                   & 0                   & Nov                 & 3                   &  2                  & 1                   & 13                  & Returning\\_Visitor & FALSE               & FALSE              \\\\\n",
       "\t11524 & 0                   & 0                   & 0                   & 0                   & 1                   & 0                   & 0.2                 & 0.2                 & 0                   & 0                   & Dec                 & 2                   &  2                  & 1                   & 13                  & Returning\\_Visitor & FALSE               & FALSE              \\\\\n",
       "\t11582 & 0                 & 0                 & 0                 & 0                 & 1                 & 0                 & 0.2               & 0.2               & 0                 & 0                 & Dec               & 8                 & 13                & 9                 & 20                & Other             & FALSE             & FALSE            \\\\\n",
       "\t11625 & 0                   & 0                   & 0                   & 0                   & 1                   & 0                   & 0.2                 & 0.2                 & 0                   & 0                   & Nov                 & 3                   &  2                  & 1                   &  1                  & Returning\\_Visitor & FALSE               & FALSE              \\\\\n",
       "\t11659 & 0                   & 0                   & 0                   & 0                   & 1                   & 0                   & 0.2                 & 0.2                 & 0                   & 0                   & Dec                 & 1                   &  1                  & 1                   &  1                  & Returning\\_Visitor &  TRUE               & FALSE              \\\\\n",
       "\t11734 & 0                   & 0                   & 0                   & 0                   & 1                   & 0                   & 0.2                 & 0.2                 & 0                   & 0                   & Nov                 & 2                   &  2                  & 1                   &  1                  & Returning\\_Visitor & FALSE               & FALSE              \\\\\n",
       "\t11748 & 0                   & 0                   & 0                   & 0                   & 1                   & 0                   & 0.2                 & 0.2                 & 0                   & 0                   & Nov                 & 1                   &  1                  & 3                   &  3                  & Returning\\_Visitor & FALSE               & FALSE              \\\\\n",
       "\t11802 & 0                   & 0                   & 0                   & 0                   & 1                   & 0                   & 0.2                 & 0.2                 & 0                   & 0                   & Dec                 & 1                   &  1                  & 4                   &  1                  & Returning\\_Visitor &  TRUE               & FALSE              \\\\\n",
       "\t11814 & 0                   & 0                   & 0                   & 0                   & 1                   & 0                   & 0.2                 & 0.2                 & 0                   & 0                   & Dec                 & 2                   &  2                  & 1                   &  1                  & Returning\\_Visitor & FALSE               & FALSE              \\\\\n",
       "\t11828 & 0                   & 0                   & 0                   & 0                   & 1                   & 0                   & 0.2                 & 0.2                 & 0                   & 0                   & Dec                 & 2                   &  2                  & 1                   &  1                  & Returning\\_Visitor & FALSE               & FALSE              \\\\\n",
       "\t11935 & 0                   & 0                   & 0                   & 0                   & 1                   & 0                   & 0.2                 & 0.2                 & 0                   & 0                   & Dec                 & 1                   &  1                  & 1                   &  2                  & New\\_Visitor       & FALSE               & FALSE              \\\\\n",
       "\t11939 & 0                   & 0                   & 0                   & 0                   & 1                   & 0                   & 0.2                 & 0.2                 & 0                   & 0                   & Dec                 & 1                   &  1                  & 4                   &  1                  & Returning\\_Visitor &  TRUE               & FALSE              \\\\\n",
       "\t12160 & 0                   & 0                   & 0                   & 0                   & 1                   & 0                   & 0.2                 & 0.2                 & 0                   & 0                   & Dec                 & 1                   &  1                  & 1                   &  3                  & Returning\\_Visitor & FALSE               & FALSE              \\\\\n",
       "\t12181 & 0                   & 0                   & 0                   & 0                   & 1                   & 0                   & 0.2                 & 0.2                 & 0                   & 0                   & Dec                 & 1                   & 13                  & 9                   & 20                  & Returning\\_Visitor & FALSE               & FALSE              \\\\\n",
       "\t12186 & 0                 & 0                 & 0                 & 0                 & 1                 & 0                 & 0.2               & 0.2               & 0                 & 0                 & Dec               & 8                 & 13                & 9                 & 20                & Other             & FALSE             & FALSE            \\\\\n",
       "\\end{tabular}\n"
      ],
      "text/markdown": [
       "\n",
       "| <!--/--> | Administrative | Administrative_Duration | Informational | Informational_Duration | ProductRelated | ProductRelated_Duration | BounceRates | ExitRates | PageValues | SpecialDay | Month | OperatingSystems | Browser | Region | TrafficType | VisitorType | Weekend | Revenue |\n",
       "|---|---|---|---|---|---|---|---|---|---|---|---|---|---|---|---|---|---|---|\n",
       "| 159 |  0                |  0                |  0                |  0                |  1                |  0                | 0.2               | 0.2               | 0                 | 0                 | Feb               | 1                 | 1                 | 1                 | 3                 | Returning_Visitor | FALSE             | FALSE             |\n",
       "| 179 |  0                |  0                |  0                |  0                |  1                |  0                | 0.2               | 0.2               | 0                 | 0                 | Feb               | 3                 | 2                 | 3                 | 3                 | Returning_Visitor | FALSE             | FALSE             |\n",
       "| 419 |  0                |  0                |  0                |  0                |  1                |  0                | 0.2               | 0.2               | 0                 | 0                 | Mar               | 1                 | 1                 | 1                 | 1                 | Returning_Visitor |  TRUE             | FALSE             |\n",
       "| 457 |  0                |  0                |  0                |  0                |  1                |  0                | 0.2               | 0.2               | 0                 | 0                 | Mar               | 2                 | 2                 | 4                 | 1                 | Returning_Visitor | FALSE             | FALSE             |\n",
       "| 484 |  0                |  0                |  0                |  0                |  1                |  0                | 0.2               | 0.2               | 0                 | 0                 | Mar               | 3                 | 2                 | 3                 | 1                 | Returning_Visitor | FALSE             | FALSE             |\n",
       "| 513 |  0                |  0                |  0                |  0                |  1                |  0                | 0.2               | 0.2               | 0                 | 0                 | Mar               | 2                 | 2                 | 1                 | 1                 | Returning_Visitor | FALSE             | FALSE             |\n",
       "| 555 |  0                |  0                |  0                |  0                |  1                |  0                | 0.2               | 0.2               | 0                 | 0                 | Mar               | 2                 | 2                 | 1                 | 1                 | Returning_Visitor | FALSE             | FALSE             |\n",
       "| 590 |  0                |  0                |  0                |  0                |  1                |  0                | 0.2               | 0.2               | 0                 | 0                 | Mar               | 2                 | 2                 | 1                 | 1                 | Returning_Visitor | FALSE             | FALSE             |\n",
       "| 660 |  0                |  0                |  0                |  0                |  2                |  0                | 0.2               | 0.2               | 0                 | 0                 | Mar               | 2                 | 5                 | 1                 | 1                 | Returning_Visitor | FALSE             | FALSE             |\n",
       "| 775 |  0                |  0                |  0                |  0                |  1                |  0                | 0.2               | 0.2               | 0                 | 0                 | Mar               | 2                 | 2                 | 4                 | 1                 | Returning_Visitor | FALSE             | FALSE             |\n",
       "| 873 |  0                |  0                |  0                |  0                |  1                |  0                | 0.2               | 0.2               | 0                 | 0                 | Mar               | 3                 | 2                 | 3                 | 1                 | Returning_Visitor | FALSE             | FALSE             |\n",
       "| 890 |  0                |  0                |  0                |  0                |  1                |  0                | 0.2               | 0.2               | 0                 | 0                 | Mar               | 1                 | 1                 | 2                 | 1                 | Returning_Visitor | FALSE             | FALSE             |\n",
       "| 923 |  0                |  0                |  0                |  0                |  1                |  0                | 0.2               | 0.2               | 0                 | 0                 | Mar               | 3                 | 2                 | 2                 | 1                 | Returning_Visitor | FALSE             | FALSE             |\n",
       "| 948 |  0                |  0                |  0                |  0                |  1                |  0                | 0.2               | 0.2               | 0                 | 0                 | Mar               | 2                 | 2                 | 1                 | 1                 | Returning_Visitor | FALSE             | FALSE             |\n",
       "| 975 |  0                |  0                |  0                |  0                |  1                |  0                | 0.2               | 0.2               | 0                 | 0                 | Mar               | 2                 | 2                 | 1                 | 1                 | Returning_Visitor | FALSE             | FALSE             |\n",
       "| 1035 |  0                |  0                |  0                |  0                |  1                |  0                | 0.2               | 0.2               | 0                 | 0                 | Mar               | 2                 | 2                 | 1                 | 1                 | Returning_Visitor | FALSE             | FALSE             |\n",
       "| 1120 |  0                |  0                |  0                |  0                |  1                |  0                | 0.2               | 0.2               | 0                 | 0                 | Mar               | 2                 | 2                 | 1                 | 1                 | Returning_Visitor | FALSE             | FALSE             |\n",
       "| 1137 | NA                | NA                | NA                | NA                | NA                | NA                |  NA               |  NA               | 0                 | 0                 | Mar               | 2                 | 2                 | 1                 | 2                 | Returning_Visitor | FALSE             | FALSE             |\n",
       "| 1171 |  0                |  0                |  0                |  0                |  1                |  0                | 0.2               | 0.2               | 0                 | 0                 | Mar               | 3                 | 2                 | 1                 | 1                 | Returning_Visitor | FALSE             | FALSE             |\n",
       "| 1177 |  0                |  0                |  0                |  0                |  1                |  0                | 0.2               | 0.2               | 0                 | 0                 | Mar               | 2                 | 4                 | 1                 | 1                 | Returning_Visitor | FALSE             | FALSE             |\n",
       "| 1214 |  0                |  0                |  0                |  0                |  1                |  0                | 0.2               | 0.2               | 0                 | 0                 | Mar               | 3                 | 2                 | 3                 | 1                 | Returning_Visitor | FALSE             | FALSE             |\n",
       "| 1215 |  0                |  0                |  0                |  0                |  1                |  0                | 0.2               | 0.2               | 0                 | 0                 | Mar               | 1                 | 1                 | 1                 | 3                 | Returning_Visitor | FALSE             | FALSE             |\n",
       "| 1292 |  0                |  0                |  0                |  0                |  2                |  0                | 0.2               | 0.2               | 0                 | 0                 | Mar               | 2                 | 2                 | 1                 | 1                 | Returning_Visitor | FALSE             | FALSE             |\n",
       "| 1326 |  0                |  0                |  0                |  0                |  1                |  0                | 0.2               | 0.2               | 0                 | 0                 | Mar               | 1                 | 1                 | 3                 | 3                 | Returning_Visitor | FALSE             | FALSE             |\n",
       "| 1357 |  0                |  0                |  0                |  0                |  2                |  0                | 0.2               | 0.2               | 0                 | 0                 | Mar               | 1                 | 1                 | 1                 | 1                 | Returning_Visitor | FALSE             | FALSE             |\n",
       "| 1367 |  0                |  0                |  0                |  0                |  1                |  0                | 0.2               | 0.2               | 0                 | 0                 | Mar               | 1                 | 1                 | 8                 | 1                 | Returning_Visitor | FALSE             | FALSE             |\n",
       "| 1382 |  0                |  0                |  0                |  0                |  1                |  0                | 0.2               | 0.2               | 0                 | 0                 | Mar               | 1                 | 1                 | 4                 | 1                 | Returning_Visitor | FALSE             | FALSE             |\n",
       "| 1391 |  0                |  0                |  0                |  0                |  1                |  0                | 0.2               | 0.2               | 0                 | 0                 | Mar               | 2                 | 2                 | 1                 | 1                 | Returning_Visitor | FALSE             | FALSE             |\n",
       "| 1395 |  0                |  0                |  0                |  0                |  1                |  0                | 0.2               | 0.2               | 0                 | 0                 | Mar               | 2                 | 2                 | 1                 | 1                 | Returning_Visitor | FALSE             | FALSE             |\n",
       "| 1437 |  0                |  0                |  0                |  0                |  1                |  0                | 0.2               | 0.2               | 0                 | 0                 | Mar               | 3                 | 2                 | 3                 | 1                 | Returning_Visitor | FALSE             | FALSE             |\n",
       "| ... | ... | ... | ... | ... | ... | ... | ... | ... | ... | ... | ... | ... | ... | ... | ... | ... | ... | ... |\n",
       "| 9719 | 0                 | 0                 | 0                 | 0                 | 1                 | 0                 | 0.2               | 0.2               | 0                 | 0                 | Nov               | 3                 |  2                | 7                 | 13                | Returning_Visitor | FALSE             | FALSE             |\n",
       "| 9770 | 0                 | 0                 | 0                 | 0                 | 1                 | 0                 | 0.2               | 0.2               | 0                 | 0                 | Dec               | 2                 |  2                | 2                 |  1                | Returning_Visitor | FALSE             | FALSE             |\n",
       "| 9879 | 0                 | 0                 | 0                 | 0                 | 1                 | 0                 | 0.2               | 0.2               | 0                 | 0                 | Dec               | 2                 |  2                | 6                 | 13                | Returning_Visitor | FALSE             | FALSE             |\n",
       "| 9908 | 0                 | 0                 | 0                 | 0                 | 1                 | 0                 | 0.2               | 0.2               | 0                 | 0                 | Dec               | 2                 |  2                | 1                 | 13                | Returning_Visitor | FALSE             | FALSE             |\n",
       "| 10147 | 0                 | 0                 | 0                 | 0                 | 1                 | 0                 | 0.2               | 0.2               | 0                 | 0                 | Dec               | 8                 | 13                | 9                 | 20                | Other             | FALSE             | FALSE             |\n",
       "| 10223 | 0                 | 0                 | 0                 | 0                 | 2                 | 0                 | 0.2               | 0.2               | 0                 | 0                 | Nov               | 1                 |  1                | 1                 |  1                | Returning_Visitor | FALSE             | FALSE             |\n",
       "| 10270 | 0                 | 0                 | 0                 | 0                 | 1                 | 0                 | 0.2               | 0.2               | 0                 | 0                 | Nov               | 1                 |  1                | 3                 |  2                | Returning_Visitor | FALSE             | FALSE             |\n",
       "| 10573 | 0                 | 0                 | 0                 | 0                 | 1                 | 0                 | 0.2               | 0.2               | 0                 | 0                 | Nov               | 2                 |  2                | 3                 |  1                | Returning_Visitor | FALSE             | FALSE             |\n",
       "| 10632 | 0                 | 0                 | 0                 | 0                 | 1                 | 0                 | 0.2               | 0.2               | 0                 | 0                 | Nov               | 2                 |  2                | 1                 |  1                | Returning_Visitor | FALSE             | FALSE             |\n",
       "| 10752 | 0                 | 0                 | 0                 | 0                 | 1                 | 0                 | 0.2               | 0.2               | 0                 | 0                 | Dec               | 1                 |  1                | 1                 |  1                | Returning_Visitor |  TRUE             | FALSE             |\n",
       "| 10796 | 0                 | 0                 | 0                 | 0                 | 1                 | 0                 | 0.2               | 0.2               | 0                 | 0                 | Nov               | 1                 |  1                | 4                 |  1                | Returning_Visitor | FALSE             | FALSE             |\n",
       "| 10842 | 0                 | 0                 | 0                 | 0                 | 1                 | 0                 | 0.2               | 0.2               | 0                 | 0                 | Nov               | 2                 |  2                | 3                 |  1                | Returning_Visitor | FALSE             | FALSE             |\n",
       "| 10989 | 0                 | 0                 | 0                 | 0                 | 1                 | 0                 | 0.2               | 0.2               | 0                 | 0                 | Nov               | 2                 |  4                | 3                 |  3                | Returning_Visitor | FALSE             | FALSE             |\n",
       "| 11044 | 0                 | 0                 | 0                 | 0                 | 1                 | 0                 | 0.2               | 0.2               | 0                 | 0                 | Dec               | 3                 |  2                | 6                 |  1                | Returning_Visitor | FALSE             | FALSE             |\n",
       "| 11206 | 0                 | 0                 | 0                 | 0                 | 1                 | 0                 | 0.2               | 0.2               | 0                 | 0                 | Dec               | 8                 | 13                | 9                 | 20                | Other             | FALSE             | FALSE             |\n",
       "| 11405 | 0                 | 0                 | 0                 | 0                 | 1                 | 0                 | 0.2               | 0.2               | 0                 | 0                 | Nov               | 3                 |  2                | 1                 | 13                | Returning_Visitor | FALSE             | FALSE             |\n",
       "| 11524 | 0                 | 0                 | 0                 | 0                 | 1                 | 0                 | 0.2               | 0.2               | 0                 | 0                 | Dec               | 2                 |  2                | 1                 | 13                | Returning_Visitor | FALSE             | FALSE             |\n",
       "| 11582 | 0                 | 0                 | 0                 | 0                 | 1                 | 0                 | 0.2               | 0.2               | 0                 | 0                 | Dec               | 8                 | 13                | 9                 | 20                | Other             | FALSE             | FALSE             |\n",
       "| 11625 | 0                 | 0                 | 0                 | 0                 | 1                 | 0                 | 0.2               | 0.2               | 0                 | 0                 | Nov               | 3                 |  2                | 1                 |  1                | Returning_Visitor | FALSE             | FALSE             |\n",
       "| 11659 | 0                 | 0                 | 0                 | 0                 | 1                 | 0                 | 0.2               | 0.2               | 0                 | 0                 | Dec               | 1                 |  1                | 1                 |  1                | Returning_Visitor |  TRUE             | FALSE             |\n",
       "| 11734 | 0                 | 0                 | 0                 | 0                 | 1                 | 0                 | 0.2               | 0.2               | 0                 | 0                 | Nov               | 2                 |  2                | 1                 |  1                | Returning_Visitor | FALSE             | FALSE             |\n",
       "| 11748 | 0                 | 0                 | 0                 | 0                 | 1                 | 0                 | 0.2               | 0.2               | 0                 | 0                 | Nov               | 1                 |  1                | 3                 |  3                | Returning_Visitor | FALSE             | FALSE             |\n",
       "| 11802 | 0                 | 0                 | 0                 | 0                 | 1                 | 0                 | 0.2               | 0.2               | 0                 | 0                 | Dec               | 1                 |  1                | 4                 |  1                | Returning_Visitor |  TRUE             | FALSE             |\n",
       "| 11814 | 0                 | 0                 | 0                 | 0                 | 1                 | 0                 | 0.2               | 0.2               | 0                 | 0                 | Dec               | 2                 |  2                | 1                 |  1                | Returning_Visitor | FALSE             | FALSE             |\n",
       "| 11828 | 0                 | 0                 | 0                 | 0                 | 1                 | 0                 | 0.2               | 0.2               | 0                 | 0                 | Dec               | 2                 |  2                | 1                 |  1                | Returning_Visitor | FALSE             | FALSE             |\n",
       "| 11935 | 0                 | 0                 | 0                 | 0                 | 1                 | 0                 | 0.2               | 0.2               | 0                 | 0                 | Dec               | 1                 |  1                | 1                 |  2                | New_Visitor       | FALSE             | FALSE             |\n",
       "| 11939 | 0                 | 0                 | 0                 | 0                 | 1                 | 0                 | 0.2               | 0.2               | 0                 | 0                 | Dec               | 1                 |  1                | 4                 |  1                | Returning_Visitor |  TRUE             | FALSE             |\n",
       "| 12160 | 0                 | 0                 | 0                 | 0                 | 1                 | 0                 | 0.2               | 0.2               | 0                 | 0                 | Dec               | 1                 |  1                | 1                 |  3                | Returning_Visitor | FALSE             | FALSE             |\n",
       "| 12181 | 0                 | 0                 | 0                 | 0                 | 1                 | 0                 | 0.2               | 0.2               | 0                 | 0                 | Dec               | 1                 | 13                | 9                 | 20                | Returning_Visitor | FALSE             | FALSE             |\n",
       "| 12186 | 0                 | 0                 | 0                 | 0                 | 1                 | 0                 | 0.2               | 0.2               | 0                 | 0                 | Dec               | 8                 | 13                | 9                 | 20                | Other             | FALSE             | FALSE             |\n",
       "\n"
      ],
      "text/plain": [
       "      Administrative Administrative_Duration Informational\n",
       "159    0              0                       0           \n",
       "179    0              0                       0           \n",
       "419    0              0                       0           \n",
       "457    0              0                       0           \n",
       "484    0              0                       0           \n",
       "513    0              0                       0           \n",
       "555    0              0                       0           \n",
       "590    0              0                       0           \n",
       "660    0              0                       0           \n",
       "775    0              0                       0           \n",
       "873    0              0                       0           \n",
       "890    0              0                       0           \n",
       "923    0              0                       0           \n",
       "948    0              0                       0           \n",
       "975    0              0                       0           \n",
       "1035   0              0                       0           \n",
       "1120   0              0                       0           \n",
       "1137  NA             NA                      NA           \n",
       "1171   0              0                       0           \n",
       "1177   0              0                       0           \n",
       "1214   0              0                       0           \n",
       "1215   0              0                       0           \n",
       "1292   0              0                       0           \n",
       "1326   0              0                       0           \n",
       "1357   0              0                       0           \n",
       "1367   0              0                       0           \n",
       "1382   0              0                       0           \n",
       "1391   0              0                       0           \n",
       "1395   0              0                       0           \n",
       "1437   0              0                       0           \n",
       "...   ...            ...                     ...          \n",
       "9719  0              0                       0            \n",
       "9770  0              0                       0            \n",
       "9879  0              0                       0            \n",
       "9908  0              0                       0            \n",
       "10147 0              0                       0            \n",
       "10223 0              0                       0            \n",
       "10270 0              0                       0            \n",
       "10573 0              0                       0            \n",
       "10632 0              0                       0            \n",
       "10752 0              0                       0            \n",
       "10796 0              0                       0            \n",
       "10842 0              0                       0            \n",
       "10989 0              0                       0            \n",
       "11044 0              0                       0            \n",
       "11206 0              0                       0            \n",
       "11405 0              0                       0            \n",
       "11524 0              0                       0            \n",
       "11582 0              0                       0            \n",
       "11625 0              0                       0            \n",
       "11659 0              0                       0            \n",
       "11734 0              0                       0            \n",
       "11748 0              0                       0            \n",
       "11802 0              0                       0            \n",
       "11814 0              0                       0            \n",
       "11828 0              0                       0            \n",
       "11935 0              0                       0            \n",
       "11939 0              0                       0            \n",
       "12160 0              0                       0            \n",
       "12181 0              0                       0            \n",
       "12186 0              0                       0            \n",
       "      Informational_Duration ProductRelated ProductRelated_Duration BounceRates\n",
       "159    0                      1              0                      0.2        \n",
       "179    0                      1              0                      0.2        \n",
       "419    0                      1              0                      0.2        \n",
       "457    0                      1              0                      0.2        \n",
       "484    0                      1              0                      0.2        \n",
       "513    0                      1              0                      0.2        \n",
       "555    0                      1              0                      0.2        \n",
       "590    0                      1              0                      0.2        \n",
       "660    0                      2              0                      0.2        \n",
       "775    0                      1              0                      0.2        \n",
       "873    0                      1              0                      0.2        \n",
       "890    0                      1              0                      0.2        \n",
       "923    0                      1              0                      0.2        \n",
       "948    0                      1              0                      0.2        \n",
       "975    0                      1              0                      0.2        \n",
       "1035   0                      1              0                      0.2        \n",
       "1120   0                      1              0                      0.2        \n",
       "1137  NA                     NA             NA                       NA        \n",
       "1171   0                      1              0                      0.2        \n",
       "1177   0                      1              0                      0.2        \n",
       "1214   0                      1              0                      0.2        \n",
       "1215   0                      1              0                      0.2        \n",
       "1292   0                      2              0                      0.2        \n",
       "1326   0                      1              0                      0.2        \n",
       "1357   0                      2              0                      0.2        \n",
       "1367   0                      1              0                      0.2        \n",
       "1382   0                      1              0                      0.2        \n",
       "1391   0                      1              0                      0.2        \n",
       "1395   0                      1              0                      0.2        \n",
       "1437   0                      1              0                      0.2        \n",
       "...   ...                    ...            ...                     ...        \n",
       "9719  0                      1              0                       0.2        \n",
       "9770  0                      1              0                       0.2        \n",
       "9879  0                      1              0                       0.2        \n",
       "9908  0                      1              0                       0.2        \n",
       "10147 0                      1              0                       0.2        \n",
       "10223 0                      2              0                       0.2        \n",
       "10270 0                      1              0                       0.2        \n",
       "10573 0                      1              0                       0.2        \n",
       "10632 0                      1              0                       0.2        \n",
       "10752 0                      1              0                       0.2        \n",
       "10796 0                      1              0                       0.2        \n",
       "10842 0                      1              0                       0.2        \n",
       "10989 0                      1              0                       0.2        \n",
       "11044 0                      1              0                       0.2        \n",
       "11206 0                      1              0                       0.2        \n",
       "11405 0                      1              0                       0.2        \n",
       "11524 0                      1              0                       0.2        \n",
       "11582 0                      1              0                       0.2        \n",
       "11625 0                      1              0                       0.2        \n",
       "11659 0                      1              0                       0.2        \n",
       "11734 0                      1              0                       0.2        \n",
       "11748 0                      1              0                       0.2        \n",
       "11802 0                      1              0                       0.2        \n",
       "11814 0                      1              0                       0.2        \n",
       "11828 0                      1              0                       0.2        \n",
       "11935 0                      1              0                       0.2        \n",
       "11939 0                      1              0                       0.2        \n",
       "12160 0                      1              0                       0.2        \n",
       "12181 0                      1              0                       0.2        \n",
       "12186 0                      1              0                       0.2        \n",
       "      ExitRates PageValues SpecialDay Month OperatingSystems Browser Region\n",
       "159   0.2       0          0          Feb   1                1       1     \n",
       "179   0.2       0          0          Feb   3                2       3     \n",
       "419   0.2       0          0          Mar   1                1       1     \n",
       "457   0.2       0          0          Mar   2                2       4     \n",
       "484   0.2       0          0          Mar   3                2       3     \n",
       "513   0.2       0          0          Mar   2                2       1     \n",
       "555   0.2       0          0          Mar   2                2       1     \n",
       "590   0.2       0          0          Mar   2                2       1     \n",
       "660   0.2       0          0          Mar   2                5       1     \n",
       "775   0.2       0          0          Mar   2                2       4     \n",
       "873   0.2       0          0          Mar   3                2       3     \n",
       "890   0.2       0          0          Mar   1                1       2     \n",
       "923   0.2       0          0          Mar   3                2       2     \n",
       "948   0.2       0          0          Mar   2                2       1     \n",
       "975   0.2       0          0          Mar   2                2       1     \n",
       "1035  0.2       0          0          Mar   2                2       1     \n",
       "1120  0.2       0          0          Mar   2                2       1     \n",
       "1137   NA       0          0          Mar   2                2       1     \n",
       "1171  0.2       0          0          Mar   3                2       1     \n",
       "1177  0.2       0          0          Mar   2                4       1     \n",
       "1214  0.2       0          0          Mar   3                2       3     \n",
       "1215  0.2       0          0          Mar   1                1       1     \n",
       "1292  0.2       0          0          Mar   2                2       1     \n",
       "1326  0.2       0          0          Mar   1                1       3     \n",
       "1357  0.2       0          0          Mar   1                1       1     \n",
       "1367  0.2       0          0          Mar   1                1       8     \n",
       "1382  0.2       0          0          Mar   1                1       4     \n",
       "1391  0.2       0          0          Mar   2                2       1     \n",
       "1395  0.2       0          0          Mar   2                2       1     \n",
       "1437  0.2       0          0          Mar   3                2       3     \n",
       "...   ...       ...        ...        ...   ...              ...     ...   \n",
       "9719  0.2       0          0          Nov   3                 2      7     \n",
       "9770  0.2       0          0          Dec   2                 2      2     \n",
       "9879  0.2       0          0          Dec   2                 2      6     \n",
       "9908  0.2       0          0          Dec   2                 2      1     \n",
       "10147 0.2       0          0          Dec   8                13      9     \n",
       "10223 0.2       0          0          Nov   1                 1      1     \n",
       "10270 0.2       0          0          Nov   1                 1      3     \n",
       "10573 0.2       0          0          Nov   2                 2      3     \n",
       "10632 0.2       0          0          Nov   2                 2      1     \n",
       "10752 0.2       0          0          Dec   1                 1      1     \n",
       "10796 0.2       0          0          Nov   1                 1      4     \n",
       "10842 0.2       0          0          Nov   2                 2      3     \n",
       "10989 0.2       0          0          Nov   2                 4      3     \n",
       "11044 0.2       0          0          Dec   3                 2      6     \n",
       "11206 0.2       0          0          Dec   8                13      9     \n",
       "11405 0.2       0          0          Nov   3                 2      1     \n",
       "11524 0.2       0          0          Dec   2                 2      1     \n",
       "11582 0.2       0          0          Dec   8                13      9     \n",
       "11625 0.2       0          0          Nov   3                 2      1     \n",
       "11659 0.2       0          0          Dec   1                 1      1     \n",
       "11734 0.2       0          0          Nov   2                 2      1     \n",
       "11748 0.2       0          0          Nov   1                 1      3     \n",
       "11802 0.2       0          0          Dec   1                 1      4     \n",
       "11814 0.2       0          0          Dec   2                 2      1     \n",
       "11828 0.2       0          0          Dec   2                 2      1     \n",
       "11935 0.2       0          0          Dec   1                 1      1     \n",
       "11939 0.2       0          0          Dec   1                 1      4     \n",
       "12160 0.2       0          0          Dec   1                 1      1     \n",
       "12181 0.2       0          0          Dec   1                13      9     \n",
       "12186 0.2       0          0          Dec   8                13      9     \n",
       "      TrafficType VisitorType       Weekend Revenue\n",
       "159   3           Returning_Visitor FALSE   FALSE  \n",
       "179   3           Returning_Visitor FALSE   FALSE  \n",
       "419   1           Returning_Visitor  TRUE   FALSE  \n",
       "457   1           Returning_Visitor FALSE   FALSE  \n",
       "484   1           Returning_Visitor FALSE   FALSE  \n",
       "513   1           Returning_Visitor FALSE   FALSE  \n",
       "555   1           Returning_Visitor FALSE   FALSE  \n",
       "590   1           Returning_Visitor FALSE   FALSE  \n",
       "660   1           Returning_Visitor FALSE   FALSE  \n",
       "775   1           Returning_Visitor FALSE   FALSE  \n",
       "873   1           Returning_Visitor FALSE   FALSE  \n",
       "890   1           Returning_Visitor FALSE   FALSE  \n",
       "923   1           Returning_Visitor FALSE   FALSE  \n",
       "948   1           Returning_Visitor FALSE   FALSE  \n",
       "975   1           Returning_Visitor FALSE   FALSE  \n",
       "1035  1           Returning_Visitor FALSE   FALSE  \n",
       "1120  1           Returning_Visitor FALSE   FALSE  \n",
       "1137  2           Returning_Visitor FALSE   FALSE  \n",
       "1171  1           Returning_Visitor FALSE   FALSE  \n",
       "1177  1           Returning_Visitor FALSE   FALSE  \n",
       "1214  1           Returning_Visitor FALSE   FALSE  \n",
       "1215  3           Returning_Visitor FALSE   FALSE  \n",
       "1292  1           Returning_Visitor FALSE   FALSE  \n",
       "1326  3           Returning_Visitor FALSE   FALSE  \n",
       "1357  1           Returning_Visitor FALSE   FALSE  \n",
       "1367  1           Returning_Visitor FALSE   FALSE  \n",
       "1382  1           Returning_Visitor FALSE   FALSE  \n",
       "1391  1           Returning_Visitor FALSE   FALSE  \n",
       "1395  1           Returning_Visitor FALSE   FALSE  \n",
       "1437  1           Returning_Visitor FALSE   FALSE  \n",
       "...   ...         ...               ...     ...    \n",
       "9719  13          Returning_Visitor FALSE   FALSE  \n",
       "9770   1          Returning_Visitor FALSE   FALSE  \n",
       "9879  13          Returning_Visitor FALSE   FALSE  \n",
       "9908  13          Returning_Visitor FALSE   FALSE  \n",
       "10147 20          Other             FALSE   FALSE  \n",
       "10223  1          Returning_Visitor FALSE   FALSE  \n",
       "10270  2          Returning_Visitor FALSE   FALSE  \n",
       "10573  1          Returning_Visitor FALSE   FALSE  \n",
       "10632  1          Returning_Visitor FALSE   FALSE  \n",
       "10752  1          Returning_Visitor  TRUE   FALSE  \n",
       "10796  1          Returning_Visitor FALSE   FALSE  \n",
       "10842  1          Returning_Visitor FALSE   FALSE  \n",
       "10989  3          Returning_Visitor FALSE   FALSE  \n",
       "11044  1          Returning_Visitor FALSE   FALSE  \n",
       "11206 20          Other             FALSE   FALSE  \n",
       "11405 13          Returning_Visitor FALSE   FALSE  \n",
       "11524 13          Returning_Visitor FALSE   FALSE  \n",
       "11582 20          Other             FALSE   FALSE  \n",
       "11625  1          Returning_Visitor FALSE   FALSE  \n",
       "11659  1          Returning_Visitor  TRUE   FALSE  \n",
       "11734  1          Returning_Visitor FALSE   FALSE  \n",
       "11748  3          Returning_Visitor FALSE   FALSE  \n",
       "11802  1          Returning_Visitor  TRUE   FALSE  \n",
       "11814  1          Returning_Visitor FALSE   FALSE  \n",
       "11828  1          Returning_Visitor FALSE   FALSE  \n",
       "11935  2          New_Visitor       FALSE   FALSE  \n",
       "11939  1          Returning_Visitor  TRUE   FALSE  \n",
       "12160  3          Returning_Visitor FALSE   FALSE  \n",
       "12181 20          Returning_Visitor FALSE   FALSE  \n",
       "12186 20          Other             FALSE   FALSE  "
      ]
     },
     "metadata": {},
     "output_type": "display_data"
    }
   ],
   "source": [
    "# Checking for duplicates\n",
    "dup_rows <- russian[duplicated(russian), ]\n",
    "dup_rows"
   ]
  },
  {
   "cell_type": "markdown",
   "metadata": {
    "ExecuteTime": {
     "end_time": "2020-03-12T08:52:51.389528Z",
     "start_time": "2020-03-12T08:52:51.303Z"
    }
   },
   "source": [
    "there is presence of duplicated data"
   ]
  },
  {
   "cell_type": "code",
   "execution_count": 10,
   "metadata": {
    "ExecuteTime": {
     "end_time": "2020-03-12T08:53:12.522689Z",
     "start_time": "2020-03-12T08:53:12.171Z"
    }
   },
   "outputs": [
    {
     "data": {
      "image/png": "[encoded data removed]",
      "text/plain": [
       "plot without title"
      ]
     },
     "metadata": {},
     "output_type": "display_data"
    }
   ],
   "source": [
    "# Checking for outliers\n",
    "boxplot(russian$Administrative)"
   ]
  },
  {
   "cell_type": "markdown",
   "metadata": {},
   "source": [
    "there is presence of missing data in the administrative feature. "
   ]
  },
  {
   "cell_type": "code",
   "execution_count": 11,
   "metadata": {
    "ExecuteTime": {
     "end_time": "2020-03-12T08:54:00.245925Z",
     "start_time": "2020-03-12T08:54:00.064Z"
    }
   },
   "outputs": [
    {
     "data": {
      "image/png": "[encoded data removed]",
      "text/plain": [
       "plot without title"
      ]
     },
     "metadata": {},
     "output_type": "display_data"
    }
   ],
   "source": [
    "boxplot(russian$Administrative_Duration)"
   ]
  },
  {
   "cell_type": "markdown",
   "metadata": {},
   "source": [
    "there is presence of missing data in the administrative duration feature. "
   ]
  },
  {
   "cell_type": "code",
   "execution_count": 12,
   "metadata": {
    "ExecuteTime": {
     "end_time": "2020-03-12T08:54:27.149349Z",
     "start_time": "2020-03-12T08:54:26.914Z"
    }
   },
   "outputs": [
    {
     "data": {
      "image/png": "[encoded data removed]",
      "text/plain": [
       "plot without title"
      ]
     },
     "metadata": {},
     "output_type": "display_data"
    }
   ],
   "source": [
    "boxplot(russian$Informational)\n"
   ]
  },
  {
   "cell_type": "markdown",
   "metadata": {},
   "source": [
    "there is presence of missing data in the informational feature."
   ]
  },
  {
   "cell_type": "code",
   "execution_count": 13,
   "metadata": {
    "ExecuteTime": {
     "end_time": "2020-03-12T08:54:56.170032Z",
     "start_time": "2020-03-12T08:54:55.953Z"
    }
   },
   "outputs": [
    {
     "data": {
      "image/png": "[encoded data removed]",
      "text/plain": [
       "plot without title"
      ]
     },
     "metadata": {},
     "output_type": "display_data"
    }
   ],
   "source": [
    "boxplot(russian$Informational_Duration)"
   ]
  },
  {
   "cell_type": "markdown",
   "metadata": {},
   "source": [
    "there is presence of missing data in the informational duraton feature."
   ]
  },
  {
   "cell_type": "code",
   "execution_count": 14,
   "metadata": {
    "ExecuteTime": {
     "end_time": "2020-03-12T08:55:19.836946Z",
     "start_time": "2020-03-12T08:55:19.662Z"
    }
   },
   "outputs": [
    {
     "data": {
      "image/png": "[encoded data removed]",
      "text/plain": [
       "plot without title"
      ]
     },
     "metadata": {},
     "output_type": "display_data"
    }
   ],
   "source": [
    "boxplot(russian$ProductRelated)"
   ]
  },
  {
   "cell_type": "markdown",
   "metadata": {},
   "source": [
    "there is presence of missing data in the product related feature. "
   ]
  },
  {
   "cell_type": "code",
   "execution_count": 15,
   "metadata": {
    "ExecuteTime": {
     "end_time": "2020-03-12T08:55:44.410731Z",
     "start_time": "2020-03-12T08:55:44.216Z"
    }
   },
   "outputs": [
    {
     "data": {
      "image/png": "[encoded data removed]",
      "text/plain": [
       "plot without title"
      ]
     },
     "metadata": {},
     "output_type": "display_data"
    }
   ],
   "source": [
    "boxplot(russian$ProductRelated_Duration)"
   ]
  },
  {
   "cell_type": "markdown",
   "metadata": {},
   "source": [
    "there is presence of missing data in the product related duration feature. "
   ]
  },
  {
   "cell_type": "code",
   "execution_count": 16,
   "metadata": {
    "ExecuteTime": {
     "end_time": "2020-03-12T08:56:09.390538Z",
     "start_time": "2020-03-12T08:56:09.174Z"
    }
   },
   "outputs": [
    {
     "data": {
      "image/png": "[encoded data removed]",
      "text/plain": [
       "plot without title"
      ]
     },
     "metadata": {},
     "output_type": "display_data"
    }
   ],
   "source": [
    "boxplot(russian$BounceRates)"
   ]
  },
  {
   "cell_type": "markdown",
   "metadata": {},
   "source": [
    "there is presence of missing data in the bounce rates feature."
   ]
  },
  {
   "cell_type": "code",
   "execution_count": 17,
   "metadata": {
    "ExecuteTime": {
     "end_time": "2020-03-12T08:56:47.587748Z",
     "start_time": "2020-03-12T08:56:47.430Z"
    }
   },
   "outputs": [
    {
     "data": {
      "image/png": "[encoded data removed]",
      "text/plain": [
       "plot without title"
      ]
     },
     "metadata": {},
     "output_type": "display_data"
    }
   ],
   "source": [
    "boxplot(russian$ExitRates)"
   ]
  },
  {
   "cell_type": "markdown",
   "metadata": {},
   "source": [
    "there is presence of missing data in the exit rates feature. "
   ]
  },
  {
   "cell_type": "code",
   "execution_count": 18,
   "metadata": {
    "ExecuteTime": {
     "end_time": "2020-03-12T08:57:07.543333Z",
     "start_time": "2020-03-12T08:57:07.277Z"
    }
   },
   "outputs": [
    {
     "data": {
      "image/png": "[encoded data removed]",
      "text/plain": [
       "plot without title"
      ]
     },
     "metadata": {},
     "output_type": "display_data"
    }
   ],
   "source": [
    "boxplot(russian$PageValues)"
   ]
  },
  {
   "cell_type": "markdown",
   "metadata": {},
   "source": [
    "there is presence of missing data in the page values feature. "
   ]
  },
  {
   "cell_type": "code",
   "execution_count": 19,
   "metadata": {
    "ExecuteTime": {
     "end_time": "2020-03-12T08:57:31.870515Z",
     "start_time": "2020-03-12T08:57:31.691Z"
    }
   },
   "outputs": [
    {
     "data": {
      "image/png": "[encoded data removed]",
      "text/plain": [
       "plot without title"
      ]
     },
     "metadata": {},
     "output_type": "display_data"
    }
   ],
   "source": [
    "boxplot(russian$SpecialDay)"
   ]
  },
  {
   "cell_type": "markdown",
   "metadata": {},
   "source": [
    "there is presence of missing data in the special day feature."
   ]
  },
  {
   "cell_type": "code",
   "execution_count": 20,
   "metadata": {
    "ExecuteTime": {
     "end_time": "2020-03-12T08:57:56.275149Z",
     "start_time": "2020-03-12T08:57:56.171Z"
    }
   },
   "outputs": [
    {
     "data": {
      "image/png": "[encoded data removed]",
      "text/plain": [
       "plot without title"
      ]
     },
     "metadata": {},
     "output_type": "display_data"
    }
   ],
   "source": [
    "boxplot(russian$OperatingSystems)"
   ]
  },
  {
   "cell_type": "markdown",
   "metadata": {},
   "source": [
    "there is presence of missing data in the operating systems feature. "
   ]
  },
  {
   "cell_type": "code",
   "execution_count": 21,
   "metadata": {
    "ExecuteTime": {
     "end_time": "2020-03-12T08:58:20.663603Z",
     "start_time": "2020-03-12T08:58:20.237Z"
    }
   },
   "outputs": [
    {
     "data": {
      "image/png": "[encoded data removed]",
      "text/plain": [
       "plot without title"
      ]
     },
     "metadata": {},
     "output_type": "display_data"
    }
   ],
   "source": [
    "boxplot(russian$Browser)"
   ]
  },
  {
   "cell_type": "markdown",
   "metadata": {},
   "source": [
    "there is presence of missing data in the browser feature. "
   ]
  },
  {
   "cell_type": "code",
   "execution_count": 22,
   "metadata": {
    "ExecuteTime": {
     "end_time": "2020-03-12T08:58:42.811926Z",
     "start_time": "2020-03-12T08:58:42.673Z"
    }
   },
   "outputs": [
    {
     "data": {
      "image/png": "[encoded data removed]",
      "text/plain": [
       "plot without title"
      ]
     },
     "metadata": {},
     "output_type": "display_data"
    }
   ],
   "source": [
    "boxplot(russian$Region)"
   ]
  },
  {
   "cell_type": "markdown",
   "metadata": {
    "ExecuteTime": {
     "end_time": "2020-03-12T08:58:51.021813Z",
     "start_time": "2020-03-12T08:58:50.973Z"
    }
   },
   "source": [
    "there is presence of missing data in the region feature. "
   ]
  },
  {
   "cell_type": "code",
   "execution_count": 24,
   "metadata": {
    "ExecuteTime": {
     "end_time": "2020-03-12T08:59:09.344141Z",
     "start_time": "2020-03-12T08:59:09.092Z"
    }
   },
   "outputs": [
    {
     "data": {
      "image/png": "[encoded data removed]",
      "text/plain": [
       "plot without title"
      ]
     },
     "metadata": {},
     "output_type": "display_data"
    }
   ],
   "source": [
    "boxplot(russian$TrafficType)"
   ]
  },
  {
   "cell_type": "markdown",
   "metadata": {},
   "source": [
    "there is presence of missing data in the traffic type feature."
   ]
  },
  {
   "cell_type": "code",
   "execution_count": 25,
   "metadata": {
    "ExecuteTime": {
     "end_time": "2020-03-12T08:59:33.302344Z",
     "start_time": "2020-03-12T08:59:33.013Z"
    }
   },
   "outputs": [
    {
     "data": {
      "image/png": "[encoded data removed]",
      "text/plain": [
       "plot without title"
      ]
     },
     "metadata": {},
     "output_type": "display_data"
    }
   ],
   "source": [
    "boxplot(russian$Weekend)"
   ]
  },
  {
   "cell_type": "markdown",
   "metadata": {
    "ExecuteTime": {
     "end_time": "2020-03-12T08:59:41.622638Z",
     "start_time": "2020-03-12T08:59:41.591Z"
    }
   },
   "source": [
    "there is presence of missing data in the weekend feature. "
   ]
  },
  {
   "cell_type": "code",
   "execution_count": 27,
   "metadata": {
    "ExecuteTime": {
     "end_time": "2020-03-12T08:59:55.306159Z",
     "start_time": "2020-03-12T08:59:55.101Z"
    }
   },
   "outputs": [
    {
     "data": {
      "image/png": "[encoded data removed]",
      "text/plain": [
       "plot without title"
      ]
     },
     "metadata": {},
     "output_type": "display_data"
    }
   ],
   "source": [
    "boxplot(russian$Revenue)"
   ]
  },
  {
   "cell_type": "markdown",
   "metadata": {},
   "source": [
    "there is presence of missing data in the revenue feature. "
   ]
  },
  {
   "cell_type": "markdown",
   "metadata": {},
   "source": [
    "#  Dealing with Annomalies"
   ]
  },
  {
   "cell_type": "code",
   "execution_count": 28,
   "metadata": {
    "ExecuteTime": {
     "end_time": "2020-03-12T09:04:31.081070Z",
     "start_time": "2020-03-12T09:00:42.366Z"
    },
    "scrolled": true
   },
   "outputs": [
    {
     "name": "stdout",
     "output_type": "stream",
     "text": [
      "package 'mice' successfully unpacked and MD5 sums checked\n",
      "\n",
      "The downloaded binary packages are in\n",
      "\tC:\\Users\\I\\AppData\\Local\\Temp\\RtmpiM7p37\\downloaded_packages\n"
     ]
    },
    {
     "name": "stderr",
     "output_type": "stream",
     "text": [
      "Warning message:\n",
      "\"package 'mice' was built under R version 3.6.3\"\n",
      "Attaching package: 'mice'\n",
      "\n",
      "The following objects are masked from 'package:base':\n",
      "\n",
      "    cbind, rbind\n",
      "\n"
     ]
    },
    {
     "name": "stdout",
     "output_type": "stream",
     "text": [
      "\n",
      " iter imp variable\n",
      "  1   1  Administrative  Administrative_Duration  Informational  Informational_Duration  ProductRelated  ProductRelated_Duration  BounceRates  ExitRates\n",
      "  1   2  Administrative  Administrative_Duration  Informational  Informational_Duration  ProductRelated  ProductRelated_Duration  BounceRates  ExitRates\n",
      "  1   3  Administrative  Administrative_Duration  Informational  Informational_Duration  ProductRelated  ProductRelated_Duration  BounceRates  ExitRates\n",
      "  1   4  Administrative  Administrative_Duration  Informational  Informational_Duration  ProductRelated  ProductRelated_Duration  BounceRates  ExitRates\n",
      "  1   5  Administrative  Administrative_Duration  Informational  Informational_Duration  ProductRelated  ProductRelated_Duration  BounceRates  ExitRates\n",
      "  2   1  Administrative  Administrative_Duration  Informational  Informational_Duration  ProductRelated  ProductRelated_Duration  BounceRates  ExitRates\n",
      "  2   2  Administrative  Administrative_Duration  Informational  Informational_Duration  ProductRelated  ProductRelated_Duration  BounceRates  ExitRates\n",
      "  2   3  Administrative  Administrative_Duration  Informational  Informational_Duration  ProductRelated  ProductRelated_Duration  BounceRates  ExitRates\n",
      "  2   4  Administrative  Administrative_Duration  Informational  Informational_Duration  ProductRelated  ProductRelated_Duration  BounceRates  ExitRates\n",
      "  2   5  Administrative  Administrative_Duration  Informational  Informational_Duration  ProductRelated  ProductRelated_Duration  BounceRates  ExitRates\n",
      "  3   1  Administrative  Administrative_Duration  Informational  Informational_Duration  ProductRelated  ProductRelated_Duration  BounceRates  ExitRates\n",
      "  3   2  Administrative  Administrative_Duration  Informational  Informational_Duration  ProductRelated  ProductRelated_Duration  BounceRates  ExitRates\n",
      "  3   3  Administrative  Administrative_Duration  Informational  Informational_Duration  ProductRelated  ProductRelated_Duration  BounceRates  ExitRates\n",
      "  3   4  Administrative  Administrative_Duration  Informational  Informational_Duration  ProductRelated  ProductRelated_Duration  BounceRates  ExitRates\n",
      "  3   5  Administrative  Administrative_Duration  Informational  Informational_Duration  ProductRelated  ProductRelated_Duration  BounceRates  ExitRates\n",
      "  4   1  Administrative  Administrative_Duration  Informational  Informational_Duration  ProductRelated  ProductRelated_Duration  BounceRates  ExitRates\n",
      "  4   2  Administrative  Administrative_Duration  Informational  Informational_Duration  ProductRelated  ProductRelated_Duration  BounceRates  ExitRates\n",
      "  4   3  Administrative  Administrative_Duration  Informational  Informational_Duration  ProductRelated  ProductRelated_Duration  BounceRates  ExitRates\n",
      "  4   4  Administrative  Administrative_Duration  Informational  Informational_Duration  ProductRelated  ProductRelated_Duration  BounceRates  ExitRates\n",
      "  4   5  Administrative  Administrative_Duration  Informational  Informational_Duration  ProductRelated  ProductRelated_Duration  BounceRates  ExitRates\n",
      "  5   1  Administrative  Administrative_Duration  Informational  Informational_Duration  ProductRelated  ProductRelated_Duration  BounceRates  ExitRates\n",
      "  5   2  Administrative  Administrative_Duration  Informational  Informational_Duration  ProductRelated  ProductRelated_Duration  BounceRates  ExitRates\n",
      "  5   3  Administrative  Administrative_Duration  Informational  Informational_Duration  ProductRelated  ProductRelated_Duration  BounceRates  ExitRates\n",
      "  5   4  Administrative  Administrative_Duration  Informational  Informational_Duration  ProductRelated  ProductRelated_Duration  BounceRates  ExitRates\n",
      "  5   5  Administrative  Administrative_Duration  Informational  Informational_Duration  ProductRelated  ProductRelated_Duration  BounceRates  ExitRates\n"
     ]
    },
    {
     "name": "stderr",
     "output_type": "stream",
     "text": [
      "Warning message:\n",
      "\"package 'mice' is in use and will not be installed\""
     ]
    }
   ],
   "source": [
    "# removing missing data\n",
    "# we are going to use the mice package to make predictions on the missing values\n",
    "install.packages(\"mice\")\n",
    "library(mice)\n",
    "mice_mod <- mice(russian[, c(\"Administrative\",\"Administrative_Duration\",\"Informational\",\"Informational_Duration\",\"ProductRelated\",\"ProductRelated_Duration\",\"BounceRates\",\"ExitRates\" )], method='rf')\n",
    "install.packages(\"mice\")\n",
    "mice_complete <- complete(mice_mod)"
   ]
  },
  {
   "cell_type": "code",
   "execution_count": 29,
   "metadata": {
    "ExecuteTime": {
     "end_time": "2020-03-12T09:04:32.787009Z",
     "start_time": "2020-03-12T09:00:53.610Z"
    }
   },
   "outputs": [],
   "source": [
    "# we now transfer the missing data values in the dataset\n",
    "russian$Administrative <- mice_complete$Administrative\n",
    "russian$Administrative_Duration <- mice_complete$Administrative_Duration\n",
    "russian$Informational <- mice_complete$Informational\n",
    "russian$Informational_Duration <- mice_complete$Informational_Duration\n",
    "russian$ProductRelated <- mice_complete$ProductRelated\n",
    "russian$ProductRelated_Duration <- mice_complete$ProductRelated_Duration\n",
    "russian$BounceRates <- mice_complete$BounceRates\n",
    "russian$ExitRates <- mice_complete$ExitRates"
   ]
  },
  {
   "cell_type": "code",
   "execution_count": 30,
   "metadata": {
    "ExecuteTime": {
     "end_time": "2020-03-12T09:04:34.824745Z",
     "start_time": "2020-03-12T09:01:30.309Z"
    }
   },
   "outputs": [
    {
     "name": "stderr",
     "output_type": "stream",
     "text": [
      "\n",
      "Attaching package: 'dplyr'\n",
      "\n",
      "The following objects are masked from 'package:stats':\n",
      "\n",
      "    filter, lag\n",
      "\n",
      "The following objects are masked from 'package:base':\n",
      "\n",
      "    intersect, setdiff, setequal, union\n",
      "\n"
     ]
    },
    {
     "data": {
      "text/html": [
       "<table>\n",
       "<thead><tr><th scope=col>Administrative</th><th scope=col>Administrative_Duration</th><th scope=col>Informational</th><th scope=col>Informational_Duration</th><th scope=col>ProductRelated</th><th scope=col>ProductRelated_Duration</th><th scope=col>BounceRates</th><th scope=col>ExitRates</th><th scope=col>PageValues</th><th scope=col>SpecialDay</th><th scope=col>Month</th><th scope=col>OperatingSystems</th><th scope=col>Browser</th><th scope=col>Region</th><th scope=col>TrafficType</th><th scope=col>VisitorType</th><th scope=col>Weekend</th><th scope=col>Revenue</th></tr></thead>\n",
       "<tbody>\n",
       "\t<tr><td>0                </td><td> 0.0             </td><td>0                </td><td> 0               </td><td> 1               </td><td>   0.000000      </td><td>0.200000000      </td><td>0.200000000      </td><td> 0.00000         </td><td>0.0              </td><td>Feb              </td><td>1                </td><td>1                </td><td>1                </td><td>1                </td><td>Returning_Visitor</td><td>FALSE            </td><td>FALSE            </td></tr>\n",
       "\t<tr><td>0                </td><td> 0.0             </td><td>0                </td><td> 0               </td><td> 2               </td><td>  64.000000      </td><td>0.000000000      </td><td>0.100000000      </td><td> 0.00000         </td><td>0.0              </td><td>Feb              </td><td>2                </td><td>2                </td><td>1                </td><td>2                </td><td>Returning_Visitor</td><td>FALSE            </td><td>FALSE            </td></tr>\n",
       "\t<tr><td>0                </td><td>-1.0             </td><td>0                </td><td>-1               </td><td> 1               </td><td>  -1.000000      </td><td>0.200000000      </td><td>0.200000000      </td><td> 0.00000         </td><td>0.0              </td><td>Feb              </td><td>4                </td><td>1                </td><td>9                </td><td>3                </td><td>Returning_Visitor</td><td>FALSE            </td><td>FALSE            </td></tr>\n",
       "\t<tr><td>0                </td><td> 0.0             </td><td>0                </td><td> 0               </td><td> 2               </td><td>   2.666667      </td><td>0.050000000      </td><td>0.140000000      </td><td> 0.00000         </td><td>0.0              </td><td>Feb              </td><td>3                </td><td>2                </td><td>2                </td><td>4                </td><td>Returning_Visitor</td><td>FALSE            </td><td>FALSE            </td></tr>\n",
       "\t<tr><td>0                </td><td> 0.0             </td><td>0                </td><td> 0               </td><td>10               </td><td> 627.500000      </td><td>0.020000000      </td><td>0.050000000      </td><td> 0.00000         </td><td>0.0              </td><td>Feb              </td><td>3                </td><td>3                </td><td>1                </td><td>4                </td><td>Returning_Visitor</td><td> TRUE            </td><td>FALSE            </td></tr>\n",
       "\t<tr><td>0                </td><td> 0.0             </td><td>0                </td><td> 0               </td><td>19               </td><td> 154.216667      </td><td>0.015789474      </td><td>0.024561404      </td><td> 0.00000         </td><td>0.0              </td><td>Feb              </td><td>2                </td><td>2                </td><td>1                </td><td>3                </td><td>Returning_Visitor</td><td>FALSE            </td><td>FALSE            </td></tr>\n",
       "\t<tr><td>0                </td><td>-1.0             </td><td>0                </td><td>-1               </td><td> 1               </td><td>  -1.000000      </td><td>0.200000000      </td><td>0.200000000      </td><td> 0.00000         </td><td>0.4              </td><td>Feb              </td><td>2                </td><td>4                </td><td>3                </td><td>3                </td><td>Returning_Visitor</td><td>FALSE            </td><td>FALSE            </td></tr>\n",
       "\t<tr><td>1                </td><td>-1.0             </td><td>0                </td><td>-1               </td><td> 1               </td><td>  -1.000000      </td><td>0.200000000      </td><td>0.200000000      </td><td> 0.00000         </td><td>0.0              </td><td>Feb              </td><td>1                </td><td>2                </td><td>1                </td><td>5                </td><td>Returning_Visitor</td><td> TRUE            </td><td>FALSE            </td></tr>\n",
       "\t<tr><td>0                </td><td> 0.0             </td><td>0                </td><td> 0               </td><td> 2               </td><td>  37.000000      </td><td>0.000000000      </td><td>0.100000000      </td><td> 0.00000         </td><td>0.8              </td><td>Feb              </td><td>2                </td><td>2                </td><td>2                </td><td>3                </td><td>Returning_Visitor</td><td>FALSE            </td><td>FALSE            </td></tr>\n",
       "\t<tr><td>0                </td><td> 0.0             </td><td>0                </td><td> 0               </td><td> 3               </td><td> 738.000000      </td><td>0.000000000      </td><td>0.022222222      </td><td> 0.00000         </td><td>0.4              </td><td>Feb              </td><td>2                </td><td>4                </td><td>1                </td><td>2                </td><td>Returning_Visitor</td><td>FALSE            </td><td>FALSE            </td></tr>\n",
       "\t<tr><td>0                </td><td> 0.0             </td><td>0                </td><td> 0               </td><td> 3               </td><td> 395.000000      </td><td>0.000000000      </td><td>0.066666667      </td><td> 0.00000         </td><td>0.0              </td><td>Feb              </td><td>1                </td><td>1                </td><td>3                </td><td>3                </td><td>Returning_Visitor</td><td>FALSE            </td><td>FALSE            </td></tr>\n",
       "\t<tr><td>0                </td><td> 0.0             </td><td>0                </td><td> 0               </td><td>16               </td><td> 407.750000      </td><td>0.018750000      </td><td>0.025833333      </td><td> 0.00000         </td><td>0.4              </td><td>Feb              </td><td>1                </td><td>1                </td><td>4                </td><td>3                </td><td>Returning_Visitor</td><td>FALSE            </td><td>FALSE            </td></tr>\n",
       "\t<tr><td>0                </td><td> 0.0             </td><td>0                </td><td> 0               </td><td> 7               </td><td> 280.500000      </td><td>0.000000000      </td><td>0.028571429      </td><td> 0.00000         </td><td>0.0              </td><td>Feb              </td><td>1                </td><td>1                </td><td>1                </td><td>3                </td><td>Returning_Visitor</td><td>FALSE            </td><td>FALSE            </td></tr>\n",
       "\t<tr><td>0                </td><td> 0.0             </td><td>0                </td><td> 0               </td><td> 6               </td><td>  98.000000      </td><td>0.000000000      </td><td>0.066666667      </td><td> 0.00000         </td><td>0.0              </td><td>Feb              </td><td>2                </td><td>5                </td><td>1                </td><td>3                </td><td>Returning_Visitor</td><td>FALSE            </td><td>FALSE            </td></tr>\n",
       "\t<tr><td>0                </td><td> 0.0             </td><td>0                </td><td> 0               </td><td> 2               </td><td>  68.000000      </td><td>0.000000000      </td><td>0.100000000      </td><td> 0.00000         </td><td>0.0              </td><td>Feb              </td><td>3                </td><td>2                </td><td>3                </td><td>3                </td><td>Returning_Visitor</td><td>FALSE            </td><td>FALSE            </td></tr>\n",
       "\t<tr><td>2                </td><td>53.0             </td><td>0                </td><td> 0               </td><td>23               </td><td>1668.285119      </td><td>0.008333333      </td><td>0.016312636      </td><td> 0.00000         </td><td>0.0              </td><td>Feb              </td><td>1                </td><td>1                </td><td>9                </td><td>3                </td><td>Returning_Visitor</td><td>FALSE            </td><td>FALSE            </td></tr>\n",
       "\t<tr><td>0                </td><td>-1.0             </td><td>0                </td><td>-1               </td><td> 1               </td><td>  -1.000000      </td><td>0.200000000      </td><td>0.200000000      </td><td> 0.00000         </td><td>0.0              </td><td>Feb              </td><td>1                </td><td>1                </td><td>4                </td><td>3                </td><td>Returning_Visitor</td><td>FALSE            </td><td>FALSE            </td></tr>\n",
       "\t<tr><td>0                </td><td> 0.0             </td><td>0                </td><td> 0               </td><td>13               </td><td> 334.966667      </td><td>0.000000000      </td><td>0.007692308      </td><td> 0.00000         </td><td>0.0              </td><td>Feb              </td><td>1                </td><td>1                </td><td>1                </td><td>4                </td><td>Returning_Visitor</td><td> TRUE            </td><td>FALSE            </td></tr>\n",
       "\t<tr><td>0                </td><td> 0.0             </td><td>0                </td><td> 0               </td><td> 2               </td><td>  32.000000      </td><td>0.000000000      </td><td>0.100000000      </td><td> 0.00000         </td><td>0.0              </td><td>Feb              </td><td>2                </td><td>2                </td><td>1                </td><td>3                </td><td>Returning_Visitor</td><td>FALSE            </td><td>FALSE            </td></tr>\n",
       "\t<tr><td>0                </td><td> 0.0             </td><td>0                </td><td> 0               </td><td>20               </td><td>2981.166667      </td><td>0.000000000      </td><td>0.010000000      </td><td> 0.00000         </td><td>0.0              </td><td>Feb              </td><td>2                </td><td>4                </td><td>4                </td><td>4                </td><td>Returning_Visitor</td><td>FALSE            </td><td>FALSE            </td></tr>\n",
       "\t<tr><td>0                </td><td> 0.0             </td><td>0                </td><td> 0               </td><td> 8               </td><td> 136.166667      </td><td>0.000000000      </td><td>0.008333333      </td><td> 0.00000         </td><td>1.0              </td><td>Feb              </td><td>2                </td><td>2                </td><td>5                </td><td>1                </td><td>Returning_Visitor</td><td> TRUE            </td><td>FALSE            </td></tr>\n",
       "\t<tr><td>0                </td><td>-1.0             </td><td>0                </td><td>-1               </td><td> 1               </td><td>  -1.000000      </td><td>0.200000000      </td><td>0.200000000      </td><td> 0.00000         </td><td>0.0              </td><td>Feb              </td><td>3                </td><td>3                </td><td>1                </td><td>3                </td><td>Returning_Visitor</td><td>FALSE            </td><td>FALSE            </td></tr>\n",
       "\t<tr><td>0                </td><td> 0.0             </td><td>0                </td><td> 0               </td><td> 3               </td><td> 105.000000      </td><td>0.000000000      </td><td>0.033333333      </td><td> 0.00000         </td><td>0.0              </td><td>Feb              </td><td>3                </td><td>2                </td><td>1                </td><td>5                </td><td>Returning_Visitor</td><td>FALSE            </td><td>FALSE            </td></tr>\n",
       "\t<tr><td>0                </td><td> 0.0             </td><td>0                </td><td> 0               </td><td> 2               </td><td>  15.000000      </td><td>0.000000000      </td><td>0.100000000      </td><td> 0.00000         </td><td>0.8              </td><td>Feb              </td><td>2                </td><td>4                </td><td>1                </td><td>3                </td><td>Returning_Visitor</td><td>FALSE            </td><td>FALSE            </td></tr>\n",
       "\t<tr><td>0                </td><td>-1.0             </td><td>0                </td><td>-1               </td><td> 1               </td><td>  -1.000000      </td><td>0.200000000      </td><td>0.200000000      </td><td> 0.00000         </td><td>0.0              </td><td>Feb              </td><td>2                </td><td>2                </td><td>4                </td><td>1                </td><td>Returning_Visitor</td><td> TRUE            </td><td>FALSE            </td></tr>\n",
       "\t<tr><td>0                </td><td> 0.0             </td><td>0                </td><td> 0               </td><td> 5               </td><td> 156.000000      </td><td>0.000000000      </td><td>0.040000000      </td><td> 0.00000         </td><td>0.0              </td><td>Feb              </td><td>1                </td><td>1                </td><td>9                </td><td>3                </td><td>Returning_Visitor</td><td>FALSE            </td><td>FALSE            </td></tr>\n",
       "\t<tr><td>4                </td><td>64.6             </td><td>0                </td><td> 0               </td><td>32               </td><td>1135.444444      </td><td>0.002857143      </td><td>0.009523810      </td><td> 0.00000         </td><td>0.0              </td><td>Feb              </td><td>2                </td><td>2                </td><td>1                </td><td>3                </td><td>Returning_Visitor</td><td>FALSE            </td><td>FALSE            </td></tr>\n",
       "\t<tr><td>0                </td><td> 0.0             </td><td>0                </td><td> 0               </td><td> 4               </td><td>  76.000000      </td><td>0.050000000      </td><td>0.100000000      </td><td> 0.00000         </td><td>0.0              </td><td>Feb              </td><td>1                </td><td>1                </td><td>1                </td><td>3                </td><td>Returning_Visitor</td><td>FALSE            </td><td>FALSE            </td></tr>\n",
       "\t<tr><td>0                </td><td> 0.0             </td><td>0                </td><td> 0               </td><td> 4               </td><td>  63.000000      </td><td>0.000000000      </td><td>0.050000000      </td><td> 0.00000         </td><td>0.2              </td><td>Feb              </td><td>2                </td><td>6                </td><td>1                </td><td>3                </td><td>Returning_Visitor</td><td>FALSE            </td><td>FALSE            </td></tr>\n",
       "\t<tr><td>1                </td><td> 6.0             </td><td>1                </td><td> 0               </td><td>45               </td><td>1582.750000      </td><td>0.043478261      </td><td>0.050821256      </td><td>54.17976         </td><td>0.4              </td><td>Feb              </td><td>3                </td><td>2                </td><td>1                </td><td>1                </td><td>Returning_Visitor</td><td>FALSE            </td><td>FALSE            </td></tr>\n",
       "\t<tr><td>...</td><td>...</td><td>...</td><td>...</td><td>...</td><td>...</td><td>...</td><td>...</td><td>...</td><td>...</td><td>...</td><td>...</td><td>...</td><td>...</td><td>...</td><td>...</td><td>...</td><td>...</td></tr>\n",
       "\t<tr><td>0                </td><td>  0.0000         </td><td>0                </td><td>  0.00           </td><td>  9              </td><td>  719.5833       </td><td>0.022222222      </td><td>0.055555556      </td><td> 0.000000        </td><td>0                </td><td>Nov              </td><td>2                </td><td> 4               </td><td>4                </td><td> 2               </td><td>Returning_Visitor</td><td>FALSE            </td><td>FALSE            </td></tr>\n",
       "\t<tr><td>0                </td><td>  0.0000         </td><td>0                </td><td>  0.00           </td><td>  2              </td><td>    0.0000       </td><td>0.200000000      </td><td>0.200000000      </td><td> 0.000000        </td><td>0                </td><td>Nov              </td><td>1                </td><td> 1               </td><td>4                </td><td> 1               </td><td>Returning_Visitor</td><td>FALSE            </td><td>FALSE            </td></tr>\n",
       "\t<tr><td>0                </td><td>  0.0000         </td><td>0                </td><td>  0.00           </td><td> 22              </td><td>  185.2500       </td><td>0.021212121      </td><td>0.075757576      </td><td> 0.000000        </td><td>0                </td><td>Nov              </td><td>2                </td><td> 7               </td><td>1                </td><td> 1               </td><td>Returning_Visitor</td><td> TRUE            </td><td>FALSE            </td></tr>\n",
       "\t<tr><td>0                </td><td>  0.0000         </td><td>0                </td><td>  0.00           </td><td>  3              </td><td>  172.0000       </td><td>0.000000000      </td><td>0.066666667      </td><td> 0.000000        </td><td>0                </td><td>Dec              </td><td>2                </td><td>13               </td><td>9                </td><td>20               </td><td>Returning_Visitor</td><td>FALSE            </td><td>FALSE            </td></tr>\n",
       "\t<tr><td>0                </td><td>  0.0000         </td><td>0                </td><td>  0.00           </td><td> 30              </td><td>  655.5429       </td><td>0.006666667      </td><td>0.019666667      </td><td> 0.000000        </td><td>0                </td><td>Dec              </td><td>3                </td><td> 2               </td><td>1                </td><td> 2               </td><td>Returning_Visitor</td><td> TRUE            </td><td>FALSE            </td></tr>\n",
       "\t<tr><td>0                </td><td>  0.0000         </td><td>0                </td><td>  0.00           </td><td> 39              </td><td> 1168.6198       </td><td>0.000000000      </td><td>0.009064449      </td><td> 0.000000        </td><td>0                </td><td>Nov              </td><td>1                </td><td> 1               </td><td>4                </td><td> 3               </td><td>Returning_Visitor</td><td>FALSE            </td><td>FALSE            </td></tr>\n",
       "\t<tr><td>0                </td><td>  0.0000         </td><td>0                </td><td>  0.00           </td><td> 13              </td><td> 1041.7500       </td><td>0.018181818      </td><td>0.027272727      </td><td> 0.000000        </td><td>0                </td><td>Dec              </td><td>2                </td><td> 2               </td><td>5                </td><td> 2               </td><td>Returning_Visitor</td><td>FALSE            </td><td>FALSE            </td></tr>\n",
       "\t<tr><td>2                </td><td>305.1250         </td><td>3                </td><td>368.25           </td><td> 27              </td><td> 1121.2500       </td><td>0.020000000      </td><td>0.042857143      </td><td>39.519807        </td><td>0                </td><td>Dec              </td><td>3                </td><td> 2               </td><td>1                </td><td> 2               </td><td>Returning_Visitor</td><td>FALSE            </td><td>FALSE            </td></tr>\n",
       "\t<tr><td>1                </td><td> 19.0000         </td><td>0                </td><td>  0.00           </td><td> 45              </td><td> 4018.4500       </td><td>0.009090909      </td><td>0.021969697      </td><td> 0.000000        </td><td>0                </td><td>Nov              </td><td>2                </td><td> 2               </td><td>3                </td><td> 1               </td><td>Returning_Visitor</td><td> TRUE            </td><td>FALSE            </td></tr>\n",
       "\t<tr><td>3                </td><td> 54.0000         </td><td>0                </td><td>  0.00           </td><td> 20              </td><td>  262.9000       </td><td>0.008333333      </td><td>0.055555556      </td><td> 0.000000        </td><td>0                </td><td>Dec              </td><td>2                </td><td> 2               </td><td>1                </td><td> 2               </td><td>Returning_Visitor</td><td>FALSE            </td><td>FALSE            </td></tr>\n",
       "\t<tr><td>1                </td><td>  5.0000         </td><td>0                </td><td>  0.00           </td><td> 21              </td><td>  411.0833       </td><td>0.015789474      </td><td>0.016140351      </td><td> 0.000000        </td><td>0                </td><td>Nov              </td><td>3                </td><td> 2               </td><td>7                </td><td> 3               </td><td>Returning_Visitor</td><td>FALSE            </td><td>FALSE            </td></tr>\n",
       "\t<tr><td>1                </td><td>  0.0000         </td><td>2                </td><td>211.25           </td><td>144              </td><td> 4627.4896       </td><td>0.001360544      </td><td>0.020664031      </td><td> 0.000000        </td><td>0                </td><td>Nov              </td><td>2                </td><td> 2               </td><td>1                </td><td> 2               </td><td>Returning_Visitor</td><td>FALSE            </td><td> TRUE            </td></tr>\n",
       "\t<tr><td>7                </td><td>150.3571         </td><td>1                </td><td>  9.00           </td><td>221              </td><td>11431.0012       </td><td>0.011148992      </td><td>0.021904109      </td><td> 1.582473        </td><td>0                </td><td>Nov              </td><td>2                </td><td> 5               </td><td>1                </td><td> 2               </td><td>Returning_Visitor</td><td> TRUE            </td><td> TRUE            </td></tr>\n",
       "\t<tr><td>3                </td><td> 16.0000         </td><td>3                </td><td> 86.00           </td><td> 15              </td><td> 2773.5000       </td><td>0.000000000      </td><td>0.030000000      </td><td>78.811725        </td><td>0                </td><td>Dec              </td><td>2                </td><td> 2               </td><td>1                </td><td> 2               </td><td>Returning_Visitor</td><td>FALSE            </td><td> TRUE            </td></tr>\n",
       "\t<tr><td>0                </td><td>  0.0000         </td><td>0                </td><td>  0.00           </td><td>  7              </td><td>  705.8333       </td><td>0.028571429      </td><td>0.085714286      </td><td> 0.000000        </td><td>0                </td><td>Dec              </td><td>5                </td><td>11               </td><td>4                </td><td> 1               </td><td>Returning_Visitor</td><td> TRUE            </td><td>FALSE            </td></tr>\n",
       "\t<tr><td>0                </td><td>  0.0000         </td><td>0                </td><td>  0.00           </td><td>  7              </td><td>  212.5000       </td><td>0.000000000      </td><td>0.033333333      </td><td> 0.000000        </td><td>0                </td><td>Nov              </td><td>3                </td><td> 2               </td><td>1                </td><td>11               </td><td>Returning_Visitor</td><td> TRUE            </td><td>FALSE            </td></tr>\n",
       "\t<tr><td>0                </td><td>  0.0000         </td><td>0                </td><td>  0.00           </td><td> 44              </td><td>  615.0000       </td><td>0.013636364      </td><td>0.036363636      </td><td> 0.000000        </td><td>0                </td><td>Dec              </td><td>4                </td><td> 1               </td><td>3                </td><td> 1               </td><td>Returning_Visitor</td><td>FALSE            </td><td>FALSE            </td></tr>\n",
       "\t<tr><td>3                </td><td>100.5000         </td><td>0                </td><td>  0.00           </td><td> 95              </td><td> 1453.6409       </td><td>0.002105263      </td><td>0.012761333      </td><td> 0.000000        </td><td>0                </td><td>Dec              </td><td>2                </td><td> 2               </td><td>3                </td><td> 2               </td><td>New_Visitor      </td><td>FALSE            </td><td>FALSE            </td></tr>\n",
       "\t<tr><td>0                </td><td>  0.0000         </td><td>0                </td><td>  0.00           </td><td>  6              </td><td>  279.0000       </td><td>0.000000000      </td><td>0.033333333      </td><td> 0.000000        </td><td>0                </td><td>Dec              </td><td>1                </td><td> 2               </td><td>3                </td><td>10               </td><td>Returning_Visitor</td><td> TRUE            </td><td>FALSE            </td></tr>\n",
       "\t<tr><td>0                </td><td>  0.0000         </td><td>0                </td><td>  0.00           </td><td> 21              </td><td> 1128.5833       </td><td>0.000000000      </td><td>0.013043478      </td><td> 3.685401        </td><td>0                </td><td>Dec              </td><td>2                </td><td> 2               </td><td>1                </td><td> 2               </td><td>Returning_Visitor</td><td>FALSE            </td><td>FALSE            </td></tr>\n",
       "\t<tr><td>0                </td><td>  0.0000         </td><td>0                </td><td>  0.00           </td><td>  8              </td><td>  143.5833       </td><td>0.014285714      </td><td>0.050000000      </td><td> 0.000000        </td><td>0                </td><td>Nov              </td><td>2                </td><td> 2               </td><td>3                </td><td> 1               </td><td>Returning_Visitor</td><td>FALSE            </td><td>FALSE            </td></tr>\n",
       "\t<tr><td>0                </td><td>  0.0000         </td><td>0                </td><td>  0.00           </td><td>  6              </td><td>    0.0000       </td><td>0.200000000      </td><td>0.200000000      </td><td> 0.000000        </td><td>0                </td><td>Nov              </td><td>1                </td><td> 8               </td><td>4                </td><td> 1               </td><td>Returning_Visitor</td><td>FALSE            </td><td>FALSE            </td></tr>\n",
       "\t<tr><td>6                </td><td> 76.2500         </td><td>0                </td><td>  0.00           </td><td> 22              </td><td> 1075.2500       </td><td>0.000000000      </td><td>0.004166667      </td><td> 0.000000        </td><td>0                </td><td>Dec              </td><td>2                </td><td> 2               </td><td>4                </td><td> 2               </td><td>Returning_Visitor</td><td>FALSE            </td><td>FALSE            </td></tr>\n",
       "\t<tr><td>2                </td><td> 64.7500         </td><td>0                </td><td>  0.00           </td><td> 44              </td><td> 1157.9762       </td><td>0.000000000      </td><td>0.013953488      </td><td> 0.000000        </td><td>0                </td><td>Nov              </td><td>2                </td><td> 2               </td><td>1                </td><td>10               </td><td>Returning_Visitor</td><td>FALSE            </td><td>FALSE            </td></tr>\n",
       "\t<tr><td>0                </td><td>  0.0000         </td><td>1                </td><td>  0.00           </td><td> 16              </td><td>  503.0000       </td><td>0.000000000      </td><td>0.037647059      </td><td> 0.000000        </td><td>0                </td><td>Nov              </td><td>2                </td><td> 2               </td><td>1                </td><td> 1               </td><td>Returning_Visitor</td><td>FALSE            </td><td>FALSE            </td></tr>\n",
       "\t<tr><td>3                </td><td>145.0000         </td><td>0                </td><td>  0.00           </td><td> 53              </td><td> 1783.7917       </td><td>0.007142857      </td><td>0.029030612      </td><td>12.241717        </td><td>0                </td><td>Dec              </td><td>4                </td><td> 6               </td><td>1                </td><td> 1               </td><td>Returning_Visitor</td><td> TRUE            </td><td>FALSE            </td></tr>\n",
       "\t<tr><td>0                </td><td>  0.0000         </td><td>0                </td><td>  0.00           </td><td>  5              </td><td>  465.7500       </td><td>0.000000000      </td><td>0.021333333      </td><td> 0.000000        </td><td>0                </td><td>Nov              </td><td>3                </td><td> 2               </td><td>1                </td><td> 8               </td><td>Returning_Visitor</td><td> TRUE            </td><td>FALSE            </td></tr>\n",
       "\t<tr><td>0                </td><td>  0.0000         </td><td>0                </td><td>  0.00           </td><td>  6              </td><td>  184.2500       </td><td>0.083333333      </td><td>0.086666667      </td><td> 0.000000        </td><td>0                </td><td>Nov              </td><td>3                </td><td> 2               </td><td>1                </td><td>13               </td><td>Returning_Visitor</td><td> TRUE            </td><td>FALSE            </td></tr>\n",
       "\t<tr><td>4                </td><td> 75.0000         </td><td>0                </td><td>  0.00           </td><td> 15              </td><td>  346.0000       </td><td>0.000000000      </td><td>0.021052632      </td><td> 0.000000        </td><td>0                </td><td>Nov              </td><td>2                </td><td> 2               </td><td>3                </td><td>11               </td><td>Returning_Visitor</td><td>FALSE            </td><td>FALSE            </td></tr>\n",
       "\t<tr><td>0                </td><td>  0.0000         </td><td>0                </td><td>  0.00           </td><td>  3              </td><td>   21.2500       </td><td>0.000000000      </td><td>0.066666667      </td><td> 0.000000        </td><td>0                </td><td>Nov              </td><td>3                </td><td> 2               </td><td>1                </td><td> 2               </td><td>New_Visitor      </td><td> TRUE            </td><td>FALSE            </td></tr>\n",
       "</tbody>\n",
       "</table>\n"
      ],
      "text/latex": [
       "\\begin{tabular}{r|llllllllllllllllll}\n",
       " Administrative & Administrative\\_Duration & Informational & Informational\\_Duration & ProductRelated & ProductRelated\\_Duration & BounceRates & ExitRates & PageValues & SpecialDay & Month & OperatingSystems & Browser & Region & TrafficType & VisitorType & Weekend & Revenue\\\\\n",
       "\\hline\n",
       "\t 0                   &  0.0                & 0                   &  0                  &  1                  &    0.000000         & 0.200000000         & 0.200000000         &  0.00000            & 0.0                 & Feb                 & 1                   & 1                   & 1                   & 1                   & Returning\\_Visitor & FALSE               & FALSE              \\\\\n",
       "\t 0                   &  0.0                & 0                   &  0                  &  2                  &   64.000000         & 0.000000000         & 0.100000000         &  0.00000            & 0.0                 & Feb                 & 2                   & 2                   & 1                   & 2                   & Returning\\_Visitor & FALSE               & FALSE              \\\\\n",
       "\t 0                   & -1.0                & 0                   & -1                  &  1                  &   -1.000000         & 0.200000000         & 0.200000000         &  0.00000            & 0.0                 & Feb                 & 4                   & 1                   & 9                   & 3                   & Returning\\_Visitor & FALSE               & FALSE              \\\\\n",
       "\t 0                   &  0.0                & 0                   &  0                  &  2                  &    2.666667         & 0.050000000         & 0.140000000         &  0.00000            & 0.0                 & Feb                 & 3                   & 2                   & 2                   & 4                   & Returning\\_Visitor & FALSE               & FALSE              \\\\\n",
       "\t 0                   &  0.0                & 0                   &  0                  & 10                  &  627.500000         & 0.020000000         & 0.050000000         &  0.00000            & 0.0                 & Feb                 & 3                   & 3                   & 1                   & 4                   & Returning\\_Visitor &  TRUE               & FALSE              \\\\\n",
       "\t 0                   &  0.0                & 0                   &  0                  & 19                  &  154.216667         & 0.015789474         & 0.024561404         &  0.00000            & 0.0                 & Feb                 & 2                   & 2                   & 1                   & 3                   & Returning\\_Visitor & FALSE               & FALSE              \\\\\n",
       "\t 0                   & -1.0                & 0                   & -1                  &  1                  &   -1.000000         & 0.200000000         & 0.200000000         &  0.00000            & 0.4                 & Feb                 & 2                   & 4                   & 3                   & 3                   & Returning\\_Visitor & FALSE               & FALSE              \\\\\n",
       "\t 1                   & -1.0                & 0                   & -1                  &  1                  &   -1.000000         & 0.200000000         & 0.200000000         &  0.00000            & 0.0                 & Feb                 & 1                   & 2                   & 1                   & 5                   & Returning\\_Visitor &  TRUE               & FALSE              \\\\\n",
       "\t 0                   &  0.0                & 0                   &  0                  &  2                  &   37.000000         & 0.000000000         & 0.100000000         &  0.00000            & 0.8                 & Feb                 & 2                   & 2                   & 2                   & 3                   & Returning\\_Visitor & FALSE               & FALSE              \\\\\n",
       "\t 0                   &  0.0                & 0                   &  0                  &  3                  &  738.000000         & 0.000000000         & 0.022222222         &  0.00000            & 0.4                 & Feb                 & 2                   & 4                   & 1                   & 2                   & Returning\\_Visitor & FALSE               & FALSE              \\\\\n",
       "\t 0                   &  0.0                & 0                   &  0                  &  3                  &  395.000000         & 0.000000000         & 0.066666667         &  0.00000            & 0.0                 & Feb                 & 1                   & 1                   & 3                   & 3                   & Returning\\_Visitor & FALSE               & FALSE              \\\\\n",
       "\t 0                   &  0.0                & 0                   &  0                  & 16                  &  407.750000         & 0.018750000         & 0.025833333         &  0.00000            & 0.4                 & Feb                 & 1                   & 1                   & 4                   & 3                   & Returning\\_Visitor & FALSE               & FALSE              \\\\\n",
       "\t 0                   &  0.0                & 0                   &  0                  &  7                  &  280.500000         & 0.000000000         & 0.028571429         &  0.00000            & 0.0                 & Feb                 & 1                   & 1                   & 1                   & 3                   & Returning\\_Visitor & FALSE               & FALSE              \\\\\n",
       "\t 0                   &  0.0                & 0                   &  0                  &  6                  &   98.000000         & 0.000000000         & 0.066666667         &  0.00000            & 0.0                 & Feb                 & 2                   & 5                   & 1                   & 3                   & Returning\\_Visitor & FALSE               & FALSE              \\\\\n",
       "\t 0                   &  0.0                & 0                   &  0                  &  2                  &   68.000000         & 0.000000000         & 0.100000000         &  0.00000            & 0.0                 & Feb                 & 3                   & 2                   & 3                   & 3                   & Returning\\_Visitor & FALSE               & FALSE              \\\\\n",
       "\t 2                   & 53.0                & 0                   &  0                  & 23                  & 1668.285119         & 0.008333333         & 0.016312636         &  0.00000            & 0.0                 & Feb                 & 1                   & 1                   & 9                   & 3                   & Returning\\_Visitor & FALSE               & FALSE              \\\\\n",
       "\t 0                   & -1.0                & 0                   & -1                  &  1                  &   -1.000000         & 0.200000000         & 0.200000000         &  0.00000            & 0.0                 & Feb                 & 1                   & 1                   & 4                   & 3                   & Returning\\_Visitor & FALSE               & FALSE              \\\\\n",
       "\t 0                   &  0.0                & 0                   &  0                  & 13                  &  334.966667         & 0.000000000         & 0.007692308         &  0.00000            & 0.0                 & Feb                 & 1                   & 1                   & 1                   & 4                   & Returning\\_Visitor &  TRUE               & FALSE              \\\\\n",
       "\t 0                   &  0.0                & 0                   &  0                  &  2                  &   32.000000         & 0.000000000         & 0.100000000         &  0.00000            & 0.0                 & Feb                 & 2                   & 2                   & 1                   & 3                   & Returning\\_Visitor & FALSE               & FALSE              \\\\\n",
       "\t 0                   &  0.0                & 0                   &  0                  & 20                  & 2981.166667         & 0.000000000         & 0.010000000         &  0.00000            & 0.0                 & Feb                 & 2                   & 4                   & 4                   & 4                   & Returning\\_Visitor & FALSE               & FALSE              \\\\\n",
       "\t 0                   &  0.0                & 0                   &  0                  &  8                  &  136.166667         & 0.000000000         & 0.008333333         &  0.00000            & 1.0                 & Feb                 & 2                   & 2                   & 5                   & 1                   & Returning\\_Visitor &  TRUE               & FALSE              \\\\\n",
       "\t 0                   & -1.0                & 0                   & -1                  &  1                  &   -1.000000         & 0.200000000         & 0.200000000         &  0.00000            & 0.0                 & Feb                 & 3                   & 3                   & 1                   & 3                   & Returning\\_Visitor & FALSE               & FALSE              \\\\\n",
       "\t 0                   &  0.0                & 0                   &  0                  &  3                  &  105.000000         & 0.000000000         & 0.033333333         &  0.00000            & 0.0                 & Feb                 & 3                   & 2                   & 1                   & 5                   & Returning\\_Visitor & FALSE               & FALSE              \\\\\n",
       "\t 0                   &  0.0                & 0                   &  0                  &  2                  &   15.000000         & 0.000000000         & 0.100000000         &  0.00000            & 0.8                 & Feb                 & 2                   & 4                   & 1                   & 3                   & Returning\\_Visitor & FALSE               & FALSE              \\\\\n",
       "\t 0                   & -1.0                & 0                   & -1                  &  1                  &   -1.000000         & 0.200000000         & 0.200000000         &  0.00000            & 0.0                 & Feb                 & 2                   & 2                   & 4                   & 1                   & Returning\\_Visitor &  TRUE               & FALSE              \\\\\n",
       "\t 0                   &  0.0                & 0                   &  0                  &  5                  &  156.000000         & 0.000000000         & 0.040000000         &  0.00000            & 0.0                 & Feb                 & 1                   & 1                   & 9                   & 3                   & Returning\\_Visitor & FALSE               & FALSE              \\\\\n",
       "\t 4                   & 64.6                & 0                   &  0                  & 32                  & 1135.444444         & 0.002857143         & 0.009523810         &  0.00000            & 0.0                 & Feb                 & 2                   & 2                   & 1                   & 3                   & Returning\\_Visitor & FALSE               & FALSE              \\\\\n",
       "\t 0                   &  0.0                & 0                   &  0                  &  4                  &   76.000000         & 0.050000000         & 0.100000000         &  0.00000            & 0.0                 & Feb                 & 1                   & 1                   & 1                   & 3                   & Returning\\_Visitor & FALSE               & FALSE              \\\\\n",
       "\t 0                   &  0.0                & 0                   &  0                  &  4                  &   63.000000         & 0.000000000         & 0.050000000         &  0.00000            & 0.2                 & Feb                 & 2                   & 6                   & 1                   & 3                   & Returning\\_Visitor & FALSE               & FALSE              \\\\\n",
       "\t 1                   &  6.0                & 1                   &  0                  & 45                  & 1582.750000         & 0.043478261         & 0.050821256         & 54.17976            & 0.4                 & Feb                 & 3                   & 2                   & 1                   & 1                   & Returning\\_Visitor & FALSE               & FALSE              \\\\\n",
       "\t ... & ... & ... & ... & ... & ... & ... & ... & ... & ... & ... & ... & ... & ... & ... & ... & ... & ...\\\\\n",
       "\t 0                   &   0.0000            & 0                   &   0.00              &   9                 &   719.5833          & 0.022222222         & 0.055555556         &  0.000000           & 0                   & Nov                 & 2                   &  4                  & 4                   &  2                  & Returning\\_Visitor & FALSE               & FALSE              \\\\\n",
       "\t 0                   &   0.0000            & 0                   &   0.00              &   2                 &     0.0000          & 0.200000000         & 0.200000000         &  0.000000           & 0                   & Nov                 & 1                   &  1                  & 4                   &  1                  & Returning\\_Visitor & FALSE               & FALSE              \\\\\n",
       "\t 0                   &   0.0000            & 0                   &   0.00              &  22                 &   185.2500          & 0.021212121         & 0.075757576         &  0.000000           & 0                   & Nov                 & 2                   &  7                  & 1                   &  1                  & Returning\\_Visitor &  TRUE               & FALSE              \\\\\n",
       "\t 0                   &   0.0000            & 0                   &   0.00              &   3                 &   172.0000          & 0.000000000         & 0.066666667         &  0.000000           & 0                   & Dec                 & 2                   & 13                  & 9                   & 20                  & Returning\\_Visitor & FALSE               & FALSE              \\\\\n",
       "\t 0                   &   0.0000            & 0                   &   0.00              &  30                 &   655.5429          & 0.006666667         & 0.019666667         &  0.000000           & 0                   & Dec                 & 3                   &  2                  & 1                   &  2                  & Returning\\_Visitor &  TRUE               & FALSE              \\\\\n",
       "\t 0                   &   0.0000            & 0                   &   0.00              &  39                 &  1168.6198          & 0.000000000         & 0.009064449         &  0.000000           & 0                   & Nov                 & 1                   &  1                  & 4                   &  3                  & Returning\\_Visitor & FALSE               & FALSE              \\\\\n",
       "\t 0                   &   0.0000            & 0                   &   0.00              &  13                 &  1041.7500          & 0.018181818         & 0.027272727         &  0.000000           & 0                   & Dec                 & 2                   &  2                  & 5                   &  2                  & Returning\\_Visitor & FALSE               & FALSE              \\\\\n",
       "\t 2                   & 305.1250            & 3                   & 368.25              &  27                 &  1121.2500          & 0.020000000         & 0.042857143         & 39.519807           & 0                   & Dec                 & 3                   &  2                  & 1                   &  2                  & Returning\\_Visitor & FALSE               & FALSE              \\\\\n",
       "\t 1                   &  19.0000            & 0                   &   0.00              &  45                 &  4018.4500          & 0.009090909         & 0.021969697         &  0.000000           & 0                   & Nov                 & 2                   &  2                  & 3                   &  1                  & Returning\\_Visitor &  TRUE               & FALSE              \\\\\n",
       "\t 3                   &  54.0000            & 0                   &   0.00              &  20                 &   262.9000          & 0.008333333         & 0.055555556         &  0.000000           & 0                   & Dec                 & 2                   &  2                  & 1                   &  2                  & Returning\\_Visitor & FALSE               & FALSE              \\\\\n",
       "\t 1                   &   5.0000            & 0                   &   0.00              &  21                 &   411.0833          & 0.015789474         & 0.016140351         &  0.000000           & 0                   & Nov                 & 3                   &  2                  & 7                   &  3                  & Returning\\_Visitor & FALSE               & FALSE              \\\\\n",
       "\t 1                   &   0.0000            & 2                   & 211.25              & 144                 &  4627.4896          & 0.001360544         & 0.020664031         &  0.000000           & 0                   & Nov                 & 2                   &  2                  & 1                   &  2                  & Returning\\_Visitor & FALSE               &  TRUE              \\\\\n",
       "\t 7                   & 150.3571            & 1                   &   9.00              & 221                 & 11431.0012          & 0.011148992         & 0.021904109         &  1.582473           & 0                   & Nov                 & 2                   &  5                  & 1                   &  2                  & Returning\\_Visitor &  TRUE               &  TRUE              \\\\\n",
       "\t 3                   &  16.0000            & 3                   &  86.00              &  15                 &  2773.5000          & 0.000000000         & 0.030000000         & 78.811725           & 0                   & Dec                 & 2                   &  2                  & 1                   &  2                  & Returning\\_Visitor & FALSE               &  TRUE              \\\\\n",
       "\t 0                   &   0.0000            & 0                   &   0.00              &   7                 &   705.8333          & 0.028571429         & 0.085714286         &  0.000000           & 0                   & Dec                 & 5                   & 11                  & 4                   &  1                  & Returning\\_Visitor &  TRUE               & FALSE              \\\\\n",
       "\t 0                   &   0.0000            & 0                   &   0.00              &   7                 &   212.5000          & 0.000000000         & 0.033333333         &  0.000000           & 0                   & Nov                 & 3                   &  2                  & 1                   & 11                  & Returning\\_Visitor &  TRUE               & FALSE              \\\\\n",
       "\t 0                   &   0.0000            & 0                   &   0.00              &  44                 &   615.0000          & 0.013636364         & 0.036363636         &  0.000000           & 0                   & Dec                 & 4                   &  1                  & 3                   &  1                  & Returning\\_Visitor & FALSE               & FALSE              \\\\\n",
       "\t 3                   & 100.5000            & 0                   &   0.00              &  95                 &  1453.6409          & 0.002105263         & 0.012761333         &  0.000000           & 0                   & Dec                 & 2                   &  2                  & 3                   &  2                  & New\\_Visitor       & FALSE               & FALSE              \\\\\n",
       "\t 0                   &   0.0000            & 0                   &   0.00              &   6                 &   279.0000          & 0.000000000         & 0.033333333         &  0.000000           & 0                   & Dec                 & 1                   &  2                  & 3                   & 10                  & Returning\\_Visitor &  TRUE               & FALSE              \\\\\n",
       "\t 0                   &   0.0000            & 0                   &   0.00              &  21                 &  1128.5833          & 0.000000000         & 0.013043478         &  3.685401           & 0                   & Dec                 & 2                   &  2                  & 1                   &  2                  & Returning\\_Visitor & FALSE               & FALSE              \\\\\n",
       "\t 0                   &   0.0000            & 0                   &   0.00              &   8                 &   143.5833          & 0.014285714         & 0.050000000         &  0.000000           & 0                   & Nov                 & 2                   &  2                  & 3                   &  1                  & Returning\\_Visitor & FALSE               & FALSE              \\\\\n",
       "\t 0                   &   0.0000            & 0                   &   0.00              &   6                 &     0.0000          & 0.200000000         & 0.200000000         &  0.000000           & 0                   & Nov                 & 1                   &  8                  & 4                   &  1                  & Returning\\_Visitor & FALSE               & FALSE              \\\\\n",
       "\t 6                   &  76.2500            & 0                   &   0.00              &  22                 &  1075.2500          & 0.000000000         & 0.004166667         &  0.000000           & 0                   & Dec                 & 2                   &  2                  & 4                   &  2                  & Returning\\_Visitor & FALSE               & FALSE              \\\\\n",
       "\t 2                   &  64.7500            & 0                   &   0.00              &  44                 &  1157.9762          & 0.000000000         & 0.013953488         &  0.000000           & 0                   & Nov                 & 2                   &  2                  & 1                   & 10                  & Returning\\_Visitor & FALSE               & FALSE              \\\\\n",
       "\t 0                   &   0.0000            & 1                   &   0.00              &  16                 &   503.0000          & 0.000000000         & 0.037647059         &  0.000000           & 0                   & Nov                 & 2                   &  2                  & 1                   &  1                  & Returning\\_Visitor & FALSE               & FALSE              \\\\\n",
       "\t 3                   & 145.0000            & 0                   &   0.00              &  53                 &  1783.7917          & 0.007142857         & 0.029030612         & 12.241717           & 0                   & Dec                 & 4                   &  6                  & 1                   &  1                  & Returning\\_Visitor &  TRUE               & FALSE              \\\\\n",
       "\t 0                   &   0.0000            & 0                   &   0.00              &   5                 &   465.7500          & 0.000000000         & 0.021333333         &  0.000000           & 0                   & Nov                 & 3                   &  2                  & 1                   &  8                  & Returning\\_Visitor &  TRUE               & FALSE              \\\\\n",
       "\t 0                   &   0.0000            & 0                   &   0.00              &   6                 &   184.2500          & 0.083333333         & 0.086666667         &  0.000000           & 0                   & Nov                 & 3                   &  2                  & 1                   & 13                  & Returning\\_Visitor &  TRUE               & FALSE              \\\\\n",
       "\t 4                   &  75.0000            & 0                   &   0.00              &  15                 &   346.0000          & 0.000000000         & 0.021052632         &  0.000000           & 0                   & Nov                 & 2                   &  2                  & 3                   & 11                  & Returning\\_Visitor & FALSE               & FALSE              \\\\\n",
       "\t 0                   &   0.0000            & 0                   &   0.00              &   3                 &    21.2500          & 0.000000000         & 0.066666667         &  0.000000           & 0                   & Nov                 & 3                   &  2                  & 1                   &  2                  & New\\_Visitor       &  TRUE               & FALSE              \\\\\n",
       "\\end{tabular}\n"
      ],
      "text/markdown": [
       "\n",
       "| Administrative | Administrative_Duration | Informational | Informational_Duration | ProductRelated | ProductRelated_Duration | BounceRates | ExitRates | PageValues | SpecialDay | Month | OperatingSystems | Browser | Region | TrafficType | VisitorType | Weekend | Revenue |\n",
       "|---|---|---|---|---|---|---|---|---|---|---|---|---|---|---|---|---|---|\n",
       "| 0                 |  0.0              | 0                 |  0                |  1                |    0.000000       | 0.200000000       | 0.200000000       |  0.00000          | 0.0               | Feb               | 1                 | 1                 | 1                 | 1                 | Returning_Visitor | FALSE             | FALSE             |\n",
       "| 0                 |  0.0              | 0                 |  0                |  2                |   64.000000       | 0.000000000       | 0.100000000       |  0.00000          | 0.0               | Feb               | 2                 | 2                 | 1                 | 2                 | Returning_Visitor | FALSE             | FALSE             |\n",
       "| 0                 | -1.0              | 0                 | -1                |  1                |   -1.000000       | 0.200000000       | 0.200000000       |  0.00000          | 0.0               | Feb               | 4                 | 1                 | 9                 | 3                 | Returning_Visitor | FALSE             | FALSE             |\n",
       "| 0                 |  0.0              | 0                 |  0                |  2                |    2.666667       | 0.050000000       | 0.140000000       |  0.00000          | 0.0               | Feb               | 3                 | 2                 | 2                 | 4                 | Returning_Visitor | FALSE             | FALSE             |\n",
       "| 0                 |  0.0              | 0                 |  0                | 10                |  627.500000       | 0.020000000       | 0.050000000       |  0.00000          | 0.0               | Feb               | 3                 | 3                 | 1                 | 4                 | Returning_Visitor |  TRUE             | FALSE             |\n",
       "| 0                 |  0.0              | 0                 |  0                | 19                |  154.216667       | 0.015789474       | 0.024561404       |  0.00000          | 0.0               | Feb               | 2                 | 2                 | 1                 | 3                 | Returning_Visitor | FALSE             | FALSE             |\n",
       "| 0                 | -1.0              | 0                 | -1                |  1                |   -1.000000       | 0.200000000       | 0.200000000       |  0.00000          | 0.4               | Feb               | 2                 | 4                 | 3                 | 3                 | Returning_Visitor | FALSE             | FALSE             |\n",
       "| 1                 | -1.0              | 0                 | -1                |  1                |   -1.000000       | 0.200000000       | 0.200000000       |  0.00000          | 0.0               | Feb               | 1                 | 2                 | 1                 | 5                 | Returning_Visitor |  TRUE             | FALSE             |\n",
       "| 0                 |  0.0              | 0                 |  0                |  2                |   37.000000       | 0.000000000       | 0.100000000       |  0.00000          | 0.8               | Feb               | 2                 | 2                 | 2                 | 3                 | Returning_Visitor | FALSE             | FALSE             |\n",
       "| 0                 |  0.0              | 0                 |  0                |  3                |  738.000000       | 0.000000000       | 0.022222222       |  0.00000          | 0.4               | Feb               | 2                 | 4                 | 1                 | 2                 | Returning_Visitor | FALSE             | FALSE             |\n",
       "| 0                 |  0.0              | 0                 |  0                |  3                |  395.000000       | 0.000000000       | 0.066666667       |  0.00000          | 0.0               | Feb               | 1                 | 1                 | 3                 | 3                 | Returning_Visitor | FALSE             | FALSE             |\n",
       "| 0                 |  0.0              | 0                 |  0                | 16                |  407.750000       | 0.018750000       | 0.025833333       |  0.00000          | 0.4               | Feb               | 1                 | 1                 | 4                 | 3                 | Returning_Visitor | FALSE             | FALSE             |\n",
       "| 0                 |  0.0              | 0                 |  0                |  7                |  280.500000       | 0.000000000       | 0.028571429       |  0.00000          | 0.0               | Feb               | 1                 | 1                 | 1                 | 3                 | Returning_Visitor | FALSE             | FALSE             |\n",
       "| 0                 |  0.0              | 0                 |  0                |  6                |   98.000000       | 0.000000000       | 0.066666667       |  0.00000          | 0.0               | Feb               | 2                 | 5                 | 1                 | 3                 | Returning_Visitor | FALSE             | FALSE             |\n",
       "| 0                 |  0.0              | 0                 |  0                |  2                |   68.000000       | 0.000000000       | 0.100000000       |  0.00000          | 0.0               | Feb               | 3                 | 2                 | 3                 | 3                 | Returning_Visitor | FALSE             | FALSE             |\n",
       "| 2                 | 53.0              | 0                 |  0                | 23                | 1668.285119       | 0.008333333       | 0.016312636       |  0.00000          | 0.0               | Feb               | 1                 | 1                 | 9                 | 3                 | Returning_Visitor | FALSE             | FALSE             |\n",
       "| 0                 | -1.0              | 0                 | -1                |  1                |   -1.000000       | 0.200000000       | 0.200000000       |  0.00000          | 0.0               | Feb               | 1                 | 1                 | 4                 | 3                 | Returning_Visitor | FALSE             | FALSE             |\n",
       "| 0                 |  0.0              | 0                 |  0                | 13                |  334.966667       | 0.000000000       | 0.007692308       |  0.00000          | 0.0               | Feb               | 1                 | 1                 | 1                 | 4                 | Returning_Visitor |  TRUE             | FALSE             |\n",
       "| 0                 |  0.0              | 0                 |  0                |  2                |   32.000000       | 0.000000000       | 0.100000000       |  0.00000          | 0.0               | Feb               | 2                 | 2                 | 1                 | 3                 | Returning_Visitor | FALSE             | FALSE             |\n",
       "| 0                 |  0.0              | 0                 |  0                | 20                | 2981.166667       | 0.000000000       | 0.010000000       |  0.00000          | 0.0               | Feb               | 2                 | 4                 | 4                 | 4                 | Returning_Visitor | FALSE             | FALSE             |\n",
       "| 0                 |  0.0              | 0                 |  0                |  8                |  136.166667       | 0.000000000       | 0.008333333       |  0.00000          | 1.0               | Feb               | 2                 | 2                 | 5                 | 1                 | Returning_Visitor |  TRUE             | FALSE             |\n",
       "| 0                 | -1.0              | 0                 | -1                |  1                |   -1.000000       | 0.200000000       | 0.200000000       |  0.00000          | 0.0               | Feb               | 3                 | 3                 | 1                 | 3                 | Returning_Visitor | FALSE             | FALSE             |\n",
       "| 0                 |  0.0              | 0                 |  0                |  3                |  105.000000       | 0.000000000       | 0.033333333       |  0.00000          | 0.0               | Feb               | 3                 | 2                 | 1                 | 5                 | Returning_Visitor | FALSE             | FALSE             |\n",
       "| 0                 |  0.0              | 0                 |  0                |  2                |   15.000000       | 0.000000000       | 0.100000000       |  0.00000          | 0.8               | Feb               | 2                 | 4                 | 1                 | 3                 | Returning_Visitor | FALSE             | FALSE             |\n",
       "| 0                 | -1.0              | 0                 | -1                |  1                |   -1.000000       | 0.200000000       | 0.200000000       |  0.00000          | 0.0               | Feb               | 2                 | 2                 | 4                 | 1                 | Returning_Visitor |  TRUE             | FALSE             |\n",
       "| 0                 |  0.0              | 0                 |  0                |  5                |  156.000000       | 0.000000000       | 0.040000000       |  0.00000          | 0.0               | Feb               | 1                 | 1                 | 9                 | 3                 | Returning_Visitor | FALSE             | FALSE             |\n",
       "| 4                 | 64.6              | 0                 |  0                | 32                | 1135.444444       | 0.002857143       | 0.009523810       |  0.00000          | 0.0               | Feb               | 2                 | 2                 | 1                 | 3                 | Returning_Visitor | FALSE             | FALSE             |\n",
       "| 0                 |  0.0              | 0                 |  0                |  4                |   76.000000       | 0.050000000       | 0.100000000       |  0.00000          | 0.0               | Feb               | 1                 | 1                 | 1                 | 3                 | Returning_Visitor | FALSE             | FALSE             |\n",
       "| 0                 |  0.0              | 0                 |  0                |  4                |   63.000000       | 0.000000000       | 0.050000000       |  0.00000          | 0.2               | Feb               | 2                 | 6                 | 1                 | 3                 | Returning_Visitor | FALSE             | FALSE             |\n",
       "| 1                 |  6.0              | 1                 |  0                | 45                | 1582.750000       | 0.043478261       | 0.050821256       | 54.17976          | 0.4               | Feb               | 3                 | 2                 | 1                 | 1                 | Returning_Visitor | FALSE             | FALSE             |\n",
       "| ... | ... | ... | ... | ... | ... | ... | ... | ... | ... | ... | ... | ... | ... | ... | ... | ... | ... |\n",
       "| 0                 |   0.0000          | 0                 |   0.00            |   9               |   719.5833        | 0.022222222       | 0.055555556       |  0.000000         | 0                 | Nov               | 2                 |  4                | 4                 |  2                | Returning_Visitor | FALSE             | FALSE             |\n",
       "| 0                 |   0.0000          | 0                 |   0.00            |   2               |     0.0000        | 0.200000000       | 0.200000000       |  0.000000         | 0                 | Nov               | 1                 |  1                | 4                 |  1                | Returning_Visitor | FALSE             | FALSE             |\n",
       "| 0                 |   0.0000          | 0                 |   0.00            |  22               |   185.2500        | 0.021212121       | 0.075757576       |  0.000000         | 0                 | Nov               | 2                 |  7                | 1                 |  1                | Returning_Visitor |  TRUE             | FALSE             |\n",
       "| 0                 |   0.0000          | 0                 |   0.00            |   3               |   172.0000        | 0.000000000       | 0.066666667       |  0.000000         | 0                 | Dec               | 2                 | 13                | 9                 | 20                | Returning_Visitor | FALSE             | FALSE             |\n",
       "| 0                 |   0.0000          | 0                 |   0.00            |  30               |   655.5429        | 0.006666667       | 0.019666667       |  0.000000         | 0                 | Dec               | 3                 |  2                | 1                 |  2                | Returning_Visitor |  TRUE             | FALSE             |\n",
       "| 0                 |   0.0000          | 0                 |   0.00            |  39               |  1168.6198        | 0.000000000       | 0.009064449       |  0.000000         | 0                 | Nov               | 1                 |  1                | 4                 |  3                | Returning_Visitor | FALSE             | FALSE             |\n",
       "| 0                 |   0.0000          | 0                 |   0.00            |  13               |  1041.7500        | 0.018181818       | 0.027272727       |  0.000000         | 0                 | Dec               | 2                 |  2                | 5                 |  2                | Returning_Visitor | FALSE             | FALSE             |\n",
       "| 2                 | 305.1250          | 3                 | 368.25            |  27               |  1121.2500        | 0.020000000       | 0.042857143       | 39.519807         | 0                 | Dec               | 3                 |  2                | 1                 |  2                | Returning_Visitor | FALSE             | FALSE             |\n",
       "| 1                 |  19.0000          | 0                 |   0.00            |  45               |  4018.4500        | 0.009090909       | 0.021969697       |  0.000000         | 0                 | Nov               | 2                 |  2                | 3                 |  1                | Returning_Visitor |  TRUE             | FALSE             |\n",
       "| 3                 |  54.0000          | 0                 |   0.00            |  20               |   262.9000        | 0.008333333       | 0.055555556       |  0.000000         | 0                 | Dec               | 2                 |  2                | 1                 |  2                | Returning_Visitor | FALSE             | FALSE             |\n",
       "| 1                 |   5.0000          | 0                 |   0.00            |  21               |   411.0833        | 0.015789474       | 0.016140351       |  0.000000         | 0                 | Nov               | 3                 |  2                | 7                 |  3                | Returning_Visitor | FALSE             | FALSE             |\n",
       "| 1                 |   0.0000          | 2                 | 211.25            | 144               |  4627.4896        | 0.001360544       | 0.020664031       |  0.000000         | 0                 | Nov               | 2                 |  2                | 1                 |  2                | Returning_Visitor | FALSE             |  TRUE             |\n",
       "| 7                 | 150.3571          | 1                 |   9.00            | 221               | 11431.0012        | 0.011148992       | 0.021904109       |  1.582473         | 0                 | Nov               | 2                 |  5                | 1                 |  2                | Returning_Visitor |  TRUE             |  TRUE             |\n",
       "| 3                 |  16.0000          | 3                 |  86.00            |  15               |  2773.5000        | 0.000000000       | 0.030000000       | 78.811725         | 0                 | Dec               | 2                 |  2                | 1                 |  2                | Returning_Visitor | FALSE             |  TRUE             |\n",
       "| 0                 |   0.0000          | 0                 |   0.00            |   7               |   705.8333        | 0.028571429       | 0.085714286       |  0.000000         | 0                 | Dec               | 5                 | 11                | 4                 |  1                | Returning_Visitor |  TRUE             | FALSE             |\n",
       "| 0                 |   0.0000          | 0                 |   0.00            |   7               |   212.5000        | 0.000000000       | 0.033333333       |  0.000000         | 0                 | Nov               | 3                 |  2                | 1                 | 11                | Returning_Visitor |  TRUE             | FALSE             |\n",
       "| 0                 |   0.0000          | 0                 |   0.00            |  44               |   615.0000        | 0.013636364       | 0.036363636       |  0.000000         | 0                 | Dec               | 4                 |  1                | 3                 |  1                | Returning_Visitor | FALSE             | FALSE             |\n",
       "| 3                 | 100.5000          | 0                 |   0.00            |  95               |  1453.6409        | 0.002105263       | 0.012761333       |  0.000000         | 0                 | Dec               | 2                 |  2                | 3                 |  2                | New_Visitor       | FALSE             | FALSE             |\n",
       "| 0                 |   0.0000          | 0                 |   0.00            |   6               |   279.0000        | 0.000000000       | 0.033333333       |  0.000000         | 0                 | Dec               | 1                 |  2                | 3                 | 10                | Returning_Visitor |  TRUE             | FALSE             |\n",
       "| 0                 |   0.0000          | 0                 |   0.00            |  21               |  1128.5833        | 0.000000000       | 0.013043478       |  3.685401         | 0                 | Dec               | 2                 |  2                | 1                 |  2                | Returning_Visitor | FALSE             | FALSE             |\n",
       "| 0                 |   0.0000          | 0                 |   0.00            |   8               |   143.5833        | 0.014285714       | 0.050000000       |  0.000000         | 0                 | Nov               | 2                 |  2                | 3                 |  1                | Returning_Visitor | FALSE             | FALSE             |\n",
       "| 0                 |   0.0000          | 0                 |   0.00            |   6               |     0.0000        | 0.200000000       | 0.200000000       |  0.000000         | 0                 | Nov               | 1                 |  8                | 4                 |  1                | Returning_Visitor | FALSE             | FALSE             |\n",
       "| 6                 |  76.2500          | 0                 |   0.00            |  22               |  1075.2500        | 0.000000000       | 0.004166667       |  0.000000         | 0                 | Dec               | 2                 |  2                | 4                 |  2                | Returning_Visitor | FALSE             | FALSE             |\n",
       "| 2                 |  64.7500          | 0                 |   0.00            |  44               |  1157.9762        | 0.000000000       | 0.013953488       |  0.000000         | 0                 | Nov               | 2                 |  2                | 1                 | 10                | Returning_Visitor | FALSE             | FALSE             |\n",
       "| 0                 |   0.0000          | 1                 |   0.00            |  16               |   503.0000        | 0.000000000       | 0.037647059       |  0.000000         | 0                 | Nov               | 2                 |  2                | 1                 |  1                | Returning_Visitor | FALSE             | FALSE             |\n",
       "| 3                 | 145.0000          | 0                 |   0.00            |  53               |  1783.7917        | 0.007142857       | 0.029030612       | 12.241717         | 0                 | Dec               | 4                 |  6                | 1                 |  1                | Returning_Visitor |  TRUE             | FALSE             |\n",
       "| 0                 |   0.0000          | 0                 |   0.00            |   5               |   465.7500        | 0.000000000       | 0.021333333       |  0.000000         | 0                 | Nov               | 3                 |  2                | 1                 |  8                | Returning_Visitor |  TRUE             | FALSE             |\n",
       "| 0                 |   0.0000          | 0                 |   0.00            |   6               |   184.2500        | 0.083333333       | 0.086666667       |  0.000000         | 0                 | Nov               | 3                 |  2                | 1                 | 13                | Returning_Visitor |  TRUE             | FALSE             |\n",
       "| 4                 |  75.0000          | 0                 |   0.00            |  15               |   346.0000        | 0.000000000       | 0.021052632       |  0.000000         | 0                 | Nov               | 2                 |  2                | 3                 | 11                | Returning_Visitor | FALSE             | FALSE             |\n",
       "| 0                 |   0.0000          | 0                 |   0.00            |   3               |    21.2500        | 0.000000000       | 0.066666667       |  0.000000         | 0                 | Nov               | 3                 |  2                | 1                 |  2                | New_Visitor       |  TRUE             | FALSE             |\n",
       "\n"
      ],
      "text/plain": [
       "      Administrative Administrative_Duration Informational\n",
       "1     0               0.0                    0            \n",
       "2     0               0.0                    0            \n",
       "3     0              -1.0                    0            \n",
       "4     0               0.0                    0            \n",
       "5     0               0.0                    0            \n",
       "6     0               0.0                    0            \n",
       "7     0              -1.0                    0            \n",
       "8     1              -1.0                    0            \n",
       "9     0               0.0                    0            \n",
       "10    0               0.0                    0            \n",
       "11    0               0.0                    0            \n",
       "12    0               0.0                    0            \n",
       "13    0               0.0                    0            \n",
       "14    0               0.0                    0            \n",
       "15    0               0.0                    0            \n",
       "16    2              53.0                    0            \n",
       "17    0              -1.0                    0            \n",
       "18    0               0.0                    0            \n",
       "19    0               0.0                    0            \n",
       "20    0               0.0                    0            \n",
       "21    0               0.0                    0            \n",
       "22    0              -1.0                    0            \n",
       "23    0               0.0                    0            \n",
       "24    0               0.0                    0            \n",
       "25    0              -1.0                    0            \n",
       "26    0               0.0                    0            \n",
       "27    4              64.6                    0            \n",
       "28    0               0.0                    0            \n",
       "29    0               0.0                    0            \n",
       "30    1               6.0                    1            \n",
       "...   ...            ...                     ...          \n",
       "12184 0                0.0000                0            \n",
       "12185 0                0.0000                0            \n",
       "12186 0                0.0000                0            \n",
       "12187 0                0.0000                0            \n",
       "12188 0                0.0000                0            \n",
       "12189 0                0.0000                0            \n",
       "12190 0                0.0000                0            \n",
       "12191 2              305.1250                3            \n",
       "12192 1               19.0000                0            \n",
       "12193 3               54.0000                0            \n",
       "12194 1                5.0000                0            \n",
       "12195 1                0.0000                2            \n",
       "12196 7              150.3571                1            \n",
       "12197 3               16.0000                3            \n",
       "12198 0                0.0000                0            \n",
       "12199 0                0.0000                0            \n",
       "12200 0                0.0000                0            \n",
       "12201 3              100.5000                0            \n",
       "12202 0                0.0000                0            \n",
       "12203 0                0.0000                0            \n",
       "12204 0                0.0000                0            \n",
       "12205 0                0.0000                0            \n",
       "12206 6               76.2500                0            \n",
       "12207 2               64.7500                0            \n",
       "12208 0                0.0000                1            \n",
       "12209 3              145.0000                0            \n",
       "12210 0                0.0000                0            \n",
       "12211 0                0.0000                0            \n",
       "12212 4               75.0000                0            \n",
       "12213 0                0.0000                0            \n",
       "      Informational_Duration ProductRelated ProductRelated_Duration BounceRates\n",
       "1      0                      1                0.000000             0.200000000\n",
       "2      0                      2               64.000000             0.000000000\n",
       "3     -1                      1               -1.000000             0.200000000\n",
       "4      0                      2                2.666667             0.050000000\n",
       "5      0                     10              627.500000             0.020000000\n",
       "6      0                     19              154.216667             0.015789474\n",
       "7     -1                      1               -1.000000             0.200000000\n",
       "8     -1                      1               -1.000000             0.200000000\n",
       "9      0                      2               37.000000             0.000000000\n",
       "10     0                      3              738.000000             0.000000000\n",
       "11     0                      3              395.000000             0.000000000\n",
       "12     0                     16              407.750000             0.018750000\n",
       "13     0                      7              280.500000             0.000000000\n",
       "14     0                      6               98.000000             0.000000000\n",
       "15     0                      2               68.000000             0.000000000\n",
       "16     0                     23             1668.285119             0.008333333\n",
       "17    -1                      1               -1.000000             0.200000000\n",
       "18     0                     13              334.966667             0.000000000\n",
       "19     0                      2               32.000000             0.000000000\n",
       "20     0                     20             2981.166667             0.000000000\n",
       "21     0                      8              136.166667             0.000000000\n",
       "22    -1                      1               -1.000000             0.200000000\n",
       "23     0                      3              105.000000             0.000000000\n",
       "24     0                      2               15.000000             0.000000000\n",
       "25    -1                      1               -1.000000             0.200000000\n",
       "26     0                      5              156.000000             0.000000000\n",
       "27     0                     32             1135.444444             0.002857143\n",
       "28     0                      4               76.000000             0.050000000\n",
       "29     0                      4               63.000000             0.000000000\n",
       "30     0                     45             1582.750000             0.043478261\n",
       "...   ...                    ...            ...                     ...        \n",
       "12184   0.00                   9              719.5833              0.022222222\n",
       "12185   0.00                   2                0.0000              0.200000000\n",
       "12186   0.00                  22              185.2500              0.021212121\n",
       "12187   0.00                   3              172.0000              0.000000000\n",
       "12188   0.00                  30              655.5429              0.006666667\n",
       "12189   0.00                  39             1168.6198              0.000000000\n",
       "12190   0.00                  13             1041.7500              0.018181818\n",
       "12191 368.25                  27             1121.2500              0.020000000\n",
       "12192   0.00                  45             4018.4500              0.009090909\n",
       "12193   0.00                  20              262.9000              0.008333333\n",
       "12194   0.00                  21              411.0833              0.015789474\n",
       "12195 211.25                 144             4627.4896              0.001360544\n",
       "12196   9.00                 221            11431.0012              0.011148992\n",
       "12197  86.00                  15             2773.5000              0.000000000\n",
       "12198   0.00                   7              705.8333              0.028571429\n",
       "12199   0.00                   7              212.5000              0.000000000\n",
       "12200   0.00                  44              615.0000              0.013636364\n",
       "12201   0.00                  95             1453.6409              0.002105263\n",
       "12202   0.00                   6              279.0000              0.000000000\n",
       "12203   0.00                  21             1128.5833              0.000000000\n",
       "12204   0.00                   8              143.5833              0.014285714\n",
       "12205   0.00                   6                0.0000              0.200000000\n",
       "12206   0.00                  22             1075.2500              0.000000000\n",
       "12207   0.00                  44             1157.9762              0.000000000\n",
       "12208   0.00                  16              503.0000              0.000000000\n",
       "12209   0.00                  53             1783.7917              0.007142857\n",
       "12210   0.00                   5              465.7500              0.000000000\n",
       "12211   0.00                   6              184.2500              0.083333333\n",
       "12212   0.00                  15              346.0000              0.000000000\n",
       "12213   0.00                   3               21.2500              0.000000000\n",
       "      ExitRates   PageValues SpecialDay Month OperatingSystems Browser Region\n",
       "1     0.200000000  0.00000   0.0        Feb   1                1       1     \n",
       "2     0.100000000  0.00000   0.0        Feb   2                2       1     \n",
       "3     0.200000000  0.00000   0.0        Feb   4                1       9     \n",
       "4     0.140000000  0.00000   0.0        Feb   3                2       2     \n",
       "5     0.050000000  0.00000   0.0        Feb   3                3       1     \n",
       "6     0.024561404  0.00000   0.0        Feb   2                2       1     \n",
       "7     0.200000000  0.00000   0.4        Feb   2                4       3     \n",
       "8     0.200000000  0.00000   0.0        Feb   1                2       1     \n",
       "9     0.100000000  0.00000   0.8        Feb   2                2       2     \n",
       "10    0.022222222  0.00000   0.4        Feb   2                4       1     \n",
       "11    0.066666667  0.00000   0.0        Feb   1                1       3     \n",
       "12    0.025833333  0.00000   0.4        Feb   1                1       4     \n",
       "13    0.028571429  0.00000   0.0        Feb   1                1       1     \n",
       "14    0.066666667  0.00000   0.0        Feb   2                5       1     \n",
       "15    0.100000000  0.00000   0.0        Feb   3                2       3     \n",
       "16    0.016312636  0.00000   0.0        Feb   1                1       9     \n",
       "17    0.200000000  0.00000   0.0        Feb   1                1       4     \n",
       "18    0.007692308  0.00000   0.0        Feb   1                1       1     \n",
       "19    0.100000000  0.00000   0.0        Feb   2                2       1     \n",
       "20    0.010000000  0.00000   0.0        Feb   2                4       4     \n",
       "21    0.008333333  0.00000   1.0        Feb   2                2       5     \n",
       "22    0.200000000  0.00000   0.0        Feb   3                3       1     \n",
       "23    0.033333333  0.00000   0.0        Feb   3                2       1     \n",
       "24    0.100000000  0.00000   0.8        Feb   2                4       1     \n",
       "25    0.200000000  0.00000   0.0        Feb   2                2       4     \n",
       "26    0.040000000  0.00000   0.0        Feb   1                1       9     \n",
       "27    0.009523810  0.00000   0.0        Feb   2                2       1     \n",
       "28    0.100000000  0.00000   0.0        Feb   1                1       1     \n",
       "29    0.050000000  0.00000   0.2        Feb   2                6       1     \n",
       "30    0.050821256 54.17976   0.4        Feb   3                2       1     \n",
       "...   ...         ...        ...        ...   ...              ...     ...   \n",
       "12184 0.055555556  0.000000  0          Nov   2                 4      4     \n",
       "12185 0.200000000  0.000000  0          Nov   1                 1      4     \n",
       "12186 0.075757576  0.000000  0          Nov   2                 7      1     \n",
       "12187 0.066666667  0.000000  0          Dec   2                13      9     \n",
       "12188 0.019666667  0.000000  0          Dec   3                 2      1     \n",
       "12189 0.009064449  0.000000  0          Nov   1                 1      4     \n",
       "12190 0.027272727  0.000000  0          Dec   2                 2      5     \n",
       "12191 0.042857143 39.519807  0          Dec   3                 2      1     \n",
       "12192 0.021969697  0.000000  0          Nov   2                 2      3     \n",
       "12193 0.055555556  0.000000  0          Dec   2                 2      1     \n",
       "12194 0.016140351  0.000000  0          Nov   3                 2      7     \n",
       "12195 0.020664031  0.000000  0          Nov   2                 2      1     \n",
       "12196 0.021904109  1.582473  0          Nov   2                 5      1     \n",
       "12197 0.030000000 78.811725  0          Dec   2                 2      1     \n",
       "12198 0.085714286  0.000000  0          Dec   5                11      4     \n",
       "12199 0.033333333  0.000000  0          Nov   3                 2      1     \n",
       "12200 0.036363636  0.000000  0          Dec   4                 1      3     \n",
       "12201 0.012761333  0.000000  0          Dec   2                 2      3     \n",
       "12202 0.033333333  0.000000  0          Dec   1                 2      3     \n",
       "12203 0.013043478  3.685401  0          Dec   2                 2      1     \n",
       "12204 0.050000000  0.000000  0          Nov   2                 2      3     \n",
       "12205 0.200000000  0.000000  0          Nov   1                 8      4     \n",
       "12206 0.004166667  0.000000  0          Dec   2                 2      4     \n",
       "12207 0.013953488  0.000000  0          Nov   2                 2      1     \n",
       "12208 0.037647059  0.000000  0          Nov   2                 2      1     \n",
       "12209 0.029030612 12.241717  0          Dec   4                 6      1     \n",
       "12210 0.021333333  0.000000  0          Nov   3                 2      1     \n",
       "12211 0.086666667  0.000000  0          Nov   3                 2      1     \n",
       "12212 0.021052632  0.000000  0          Nov   2                 2      3     \n",
       "12213 0.066666667  0.000000  0          Nov   3                 2      1     \n",
       "      TrafficType VisitorType       Weekend Revenue\n",
       "1     1           Returning_Visitor FALSE   FALSE  \n",
       "2     2           Returning_Visitor FALSE   FALSE  \n",
       "3     3           Returning_Visitor FALSE   FALSE  \n",
       "4     4           Returning_Visitor FALSE   FALSE  \n",
       "5     4           Returning_Visitor  TRUE   FALSE  \n",
       "6     3           Returning_Visitor FALSE   FALSE  \n",
       "7     3           Returning_Visitor FALSE   FALSE  \n",
       "8     5           Returning_Visitor  TRUE   FALSE  \n",
       "9     3           Returning_Visitor FALSE   FALSE  \n",
       "10    2           Returning_Visitor FALSE   FALSE  \n",
       "11    3           Returning_Visitor FALSE   FALSE  \n",
       "12    3           Returning_Visitor FALSE   FALSE  \n",
       "13    3           Returning_Visitor FALSE   FALSE  \n",
       "14    3           Returning_Visitor FALSE   FALSE  \n",
       "15    3           Returning_Visitor FALSE   FALSE  \n",
       "16    3           Returning_Visitor FALSE   FALSE  \n",
       "17    3           Returning_Visitor FALSE   FALSE  \n",
       "18    4           Returning_Visitor  TRUE   FALSE  \n",
       "19    3           Returning_Visitor FALSE   FALSE  \n",
       "20    4           Returning_Visitor FALSE   FALSE  \n",
       "21    1           Returning_Visitor  TRUE   FALSE  \n",
       "22    3           Returning_Visitor FALSE   FALSE  \n",
       "23    5           Returning_Visitor FALSE   FALSE  \n",
       "24    3           Returning_Visitor FALSE   FALSE  \n",
       "25    1           Returning_Visitor  TRUE   FALSE  \n",
       "26    3           Returning_Visitor FALSE   FALSE  \n",
       "27    3           Returning_Visitor FALSE   FALSE  \n",
       "28    3           Returning_Visitor FALSE   FALSE  \n",
       "29    3           Returning_Visitor FALSE   FALSE  \n",
       "30    1           Returning_Visitor FALSE   FALSE  \n",
       "...   ...         ...               ...     ...    \n",
       "12184  2          Returning_Visitor FALSE   FALSE  \n",
       "12185  1          Returning_Visitor FALSE   FALSE  \n",
       "12186  1          Returning_Visitor  TRUE   FALSE  \n",
       "12187 20          Returning_Visitor FALSE   FALSE  \n",
       "12188  2          Returning_Visitor  TRUE   FALSE  \n",
       "12189  3          Returning_Visitor FALSE   FALSE  \n",
       "12190  2          Returning_Visitor FALSE   FALSE  \n",
       "12191  2          Returning_Visitor FALSE   FALSE  \n",
       "12192  1          Returning_Visitor  TRUE   FALSE  \n",
       "12193  2          Returning_Visitor FALSE   FALSE  \n",
       "12194  3          Returning_Visitor FALSE   FALSE  \n",
       "12195  2          Returning_Visitor FALSE    TRUE  \n",
       "12196  2          Returning_Visitor  TRUE    TRUE  \n",
       "12197  2          Returning_Visitor FALSE    TRUE  \n",
       "12198  1          Returning_Visitor  TRUE   FALSE  \n",
       "12199 11          Returning_Visitor  TRUE   FALSE  \n",
       "12200  1          Returning_Visitor FALSE   FALSE  \n",
       "12201  2          New_Visitor       FALSE   FALSE  \n",
       "12202 10          Returning_Visitor  TRUE   FALSE  \n",
       "12203  2          Returning_Visitor FALSE   FALSE  \n",
       "12204  1          Returning_Visitor FALSE   FALSE  \n",
       "12205  1          Returning_Visitor FALSE   FALSE  \n",
       "12206  2          Returning_Visitor FALSE   FALSE  \n",
       "12207 10          Returning_Visitor FALSE   FALSE  \n",
       "12208  1          Returning_Visitor FALSE   FALSE  \n",
       "12209  1          Returning_Visitor  TRUE   FALSE  \n",
       "12210  8          Returning_Visitor  TRUE   FALSE  \n",
       "12211 13          Returning_Visitor  TRUE   FALSE  \n",
       "12212 11          Returning_Visitor FALSE   FALSE  \n",
       "12213  2          New_Visitor        TRUE   FALSE  "
      ]
     },
     "metadata": {},
     "output_type": "display_data"
    }
   ],
   "source": [
    "# we are now going to remove the duplicates that are in the datasets\n",
    "library(dplyr)\n",
    "russia <- russian\n",
    "distinct(russian, .keep_all= TRUE)\n"
   ]
  },
  {
   "cell_type": "code",
   "execution_count": 34,
   "metadata": {
    "ExecuteTime": {
     "end_time": "2020-03-12T09:04:46.966205Z",
     "start_time": "2020-03-12T09:02:41.347Z"
    }
   },
   "outputs": [
    {
     "data": {
      "text/html": [
       "<table>\n",
       "<thead><tr><th></th><th scope=col>Administrative</th><th scope=col>Administrative_Duration</th><th scope=col>Informational</th><th scope=col>Informational_Duration</th><th scope=col>ProductRelated</th><th scope=col>ProductRelated_Duration</th><th scope=col>BounceRates</th><th scope=col>ExitRates</th><th scope=col>PageValues</th><th scope=col>SpecialDay</th><th scope=col>Month</th><th scope=col>OperatingSystems</th><th scope=col>Browser</th><th scope=col>Region</th><th scope=col>TrafficType</th><th scope=col>VisitorType</th><th scope=col>Weekend</th><th scope=col>Revenue</th></tr></thead>\n",
       "<tbody>\n",
       "\t<tr><th scope=row>159</th><td>0                </td><td>0                </td><td>0                </td><td>0                </td><td>1                </td><td>0                </td><td>0.2              </td><td>0.2              </td><td>0                </td><td>0                </td><td>Feb              </td><td>1                </td><td>1                </td><td>1                </td><td>3                </td><td>Returning_Visitor</td><td>FALSE            </td><td>FALSE            </td></tr>\n",
       "\t<tr><th scope=row>179</th><td>0                </td><td>0                </td><td>0                </td><td>0                </td><td>1                </td><td>0                </td><td>0.2              </td><td>0.2              </td><td>0                </td><td>0                </td><td>Feb              </td><td>3                </td><td>2                </td><td>3                </td><td>3                </td><td>Returning_Visitor</td><td>FALSE            </td><td>FALSE            </td></tr>\n",
       "\t<tr><th scope=row>419</th><td>0                </td><td>0                </td><td>0                </td><td>0                </td><td>1                </td><td>0                </td><td>0.2              </td><td>0.2              </td><td>0                </td><td>0                </td><td>Mar              </td><td>1                </td><td>1                </td><td>1                </td><td>1                </td><td>Returning_Visitor</td><td> TRUE            </td><td>FALSE            </td></tr>\n",
       "\t<tr><th scope=row>457</th><td>0                </td><td>0                </td><td>0                </td><td>0                </td><td>1                </td><td>0                </td><td>0.2              </td><td>0.2              </td><td>0                </td><td>0                </td><td>Mar              </td><td>2                </td><td>2                </td><td>4                </td><td>1                </td><td>Returning_Visitor</td><td>FALSE            </td><td>FALSE            </td></tr>\n",
       "\t<tr><th scope=row>484</th><td>0                </td><td>0                </td><td>0                </td><td>0                </td><td>1                </td><td>0                </td><td>0.2              </td><td>0.2              </td><td>0                </td><td>0                </td><td>Mar              </td><td>3                </td><td>2                </td><td>3                </td><td>1                </td><td>Returning_Visitor</td><td>FALSE            </td><td>FALSE            </td></tr>\n",
       "\t<tr><th scope=row>513</th><td>0                </td><td>0                </td><td>0                </td><td>0                </td><td>1                </td><td>0                </td><td>0.2              </td><td>0.2              </td><td>0                </td><td>0                </td><td>Mar              </td><td>2                </td><td>2                </td><td>1                </td><td>1                </td><td>Returning_Visitor</td><td>FALSE            </td><td>FALSE            </td></tr>\n",
       "\t<tr><th scope=row>555</th><td>0                </td><td>0                </td><td>0                </td><td>0                </td><td>1                </td><td>0                </td><td>0.2              </td><td>0.2              </td><td>0                </td><td>0                </td><td>Mar              </td><td>2                </td><td>2                </td><td>1                </td><td>1                </td><td>Returning_Visitor</td><td>FALSE            </td><td>FALSE            </td></tr>\n",
       "\t<tr><th scope=row>590</th><td>0                </td><td>0                </td><td>0                </td><td>0                </td><td>1                </td><td>0                </td><td>0.2              </td><td>0.2              </td><td>0                </td><td>0                </td><td>Mar              </td><td>2                </td><td>2                </td><td>1                </td><td>1                </td><td>Returning_Visitor</td><td>FALSE            </td><td>FALSE            </td></tr>\n",
       "\t<tr><th scope=row>660</th><td>0                </td><td>0                </td><td>0                </td><td>0                </td><td>2                </td><td>0                </td><td>0.2              </td><td>0.2              </td><td>0                </td><td>0                </td><td>Mar              </td><td>2                </td><td>5                </td><td>1                </td><td>1                </td><td>Returning_Visitor</td><td>FALSE            </td><td>FALSE            </td></tr>\n",
       "\t<tr><th scope=row>775</th><td>0                </td><td>0                </td><td>0                </td><td>0                </td><td>1                </td><td>0                </td><td>0.2              </td><td>0.2              </td><td>0                </td><td>0                </td><td>Mar              </td><td>2                </td><td>2                </td><td>4                </td><td>1                </td><td>Returning_Visitor</td><td>FALSE            </td><td>FALSE            </td></tr>\n",
       "\t<tr><th scope=row>873</th><td>0                </td><td>0                </td><td>0                </td><td>0                </td><td>1                </td><td>0                </td><td>0.2              </td><td>0.2              </td><td>0                </td><td>0                </td><td>Mar              </td><td>3                </td><td>2                </td><td>3                </td><td>1                </td><td>Returning_Visitor</td><td>FALSE            </td><td>FALSE            </td></tr>\n",
       "\t<tr><th scope=row>890</th><td>0                </td><td>0                </td><td>0                </td><td>0                </td><td>1                </td><td>0                </td><td>0.2              </td><td>0.2              </td><td>0                </td><td>0                </td><td>Mar              </td><td>1                </td><td>1                </td><td>2                </td><td>1                </td><td>Returning_Visitor</td><td>FALSE            </td><td>FALSE            </td></tr>\n",
       "\t<tr><th scope=row>923</th><td>0                </td><td>0                </td><td>0                </td><td>0                </td><td>1                </td><td>0                </td><td>0.2              </td><td>0.2              </td><td>0                </td><td>0                </td><td>Mar              </td><td>3                </td><td>2                </td><td>2                </td><td>1                </td><td>Returning_Visitor</td><td>FALSE            </td><td>FALSE            </td></tr>\n",
       "\t<tr><th scope=row>948</th><td>0                </td><td>0                </td><td>0                </td><td>0                </td><td>1                </td><td>0                </td><td>0.2              </td><td>0.2              </td><td>0                </td><td>0                </td><td>Mar              </td><td>2                </td><td>2                </td><td>1                </td><td>1                </td><td>Returning_Visitor</td><td>FALSE            </td><td>FALSE            </td></tr>\n",
       "\t<tr><th scope=row>975</th><td>0                </td><td>0                </td><td>0                </td><td>0                </td><td>1                </td><td>0                </td><td>0.2              </td><td>0.2              </td><td>0                </td><td>0                </td><td>Mar              </td><td>2                </td><td>2                </td><td>1                </td><td>1                </td><td>Returning_Visitor</td><td>FALSE            </td><td>FALSE            </td></tr>\n",
       "\t<tr><th scope=row>1035</th><td>0                </td><td>0                </td><td>0                </td><td>0                </td><td>1                </td><td>0                </td><td>0.2              </td><td>0.2              </td><td>0                </td><td>0                </td><td>Mar              </td><td>2                </td><td>2                </td><td>1                </td><td>1                </td><td>Returning_Visitor</td><td>FALSE            </td><td>FALSE            </td></tr>\n",
       "\t<tr><th scope=row>1120</th><td>0                </td><td>0                </td><td>0                </td><td>0                </td><td>1                </td><td>0                </td><td>0.2              </td><td>0.2              </td><td>0                </td><td>0                </td><td>Mar              </td><td>2                </td><td>2                </td><td>1                </td><td>1                </td><td>Returning_Visitor</td><td>FALSE            </td><td>FALSE            </td></tr>\n",
       "\t<tr><th scope=row>1171</th><td>0                </td><td>0                </td><td>0                </td><td>0                </td><td>1                </td><td>0                </td><td>0.2              </td><td>0.2              </td><td>0                </td><td>0                </td><td>Mar              </td><td>3                </td><td>2                </td><td>1                </td><td>1                </td><td>Returning_Visitor</td><td>FALSE            </td><td>FALSE            </td></tr>\n",
       "\t<tr><th scope=row>1177</th><td>0                </td><td>0                </td><td>0                </td><td>0                </td><td>1                </td><td>0                </td><td>0.2              </td><td>0.2              </td><td>0                </td><td>0                </td><td>Mar              </td><td>2                </td><td>4                </td><td>1                </td><td>1                </td><td>Returning_Visitor</td><td>FALSE            </td><td>FALSE            </td></tr>\n",
       "\t<tr><th scope=row>1214</th><td>0                </td><td>0                </td><td>0                </td><td>0                </td><td>1                </td><td>0                </td><td>0.2              </td><td>0.2              </td><td>0                </td><td>0                </td><td>Mar              </td><td>3                </td><td>2                </td><td>3                </td><td>1                </td><td>Returning_Visitor</td><td>FALSE            </td><td>FALSE            </td></tr>\n",
       "\t<tr><th scope=row>1215</th><td>0                </td><td>0                </td><td>0                </td><td>0                </td><td>1                </td><td>0                </td><td>0.2              </td><td>0.2              </td><td>0                </td><td>0                </td><td>Mar              </td><td>1                </td><td>1                </td><td>1                </td><td>3                </td><td>Returning_Visitor</td><td>FALSE            </td><td>FALSE            </td></tr>\n",
       "\t<tr><th scope=row>1292</th><td>0                </td><td>0                </td><td>0                </td><td>0                </td><td>2                </td><td>0                </td><td>0.2              </td><td>0.2              </td><td>0                </td><td>0                </td><td>Mar              </td><td>2                </td><td>2                </td><td>1                </td><td>1                </td><td>Returning_Visitor</td><td>FALSE            </td><td>FALSE            </td></tr>\n",
       "\t<tr><th scope=row>1326</th><td>0                </td><td>0                </td><td>0                </td><td>0                </td><td>1                </td><td>0                </td><td>0.2              </td><td>0.2              </td><td>0                </td><td>0                </td><td>Mar              </td><td>1                </td><td>1                </td><td>3                </td><td>3                </td><td>Returning_Visitor</td><td>FALSE            </td><td>FALSE            </td></tr>\n",
       "\t<tr><th scope=row>1357</th><td>0                </td><td>0                </td><td>0                </td><td>0                </td><td>2                </td><td>0                </td><td>0.2              </td><td>0.2              </td><td>0                </td><td>0                </td><td>Mar              </td><td>1                </td><td>1                </td><td>1                </td><td>1                </td><td>Returning_Visitor</td><td>FALSE            </td><td>FALSE            </td></tr>\n",
       "\t<tr><th scope=row>1367</th><td>0                </td><td>0                </td><td>0                </td><td>0                </td><td>1                </td><td>0                </td><td>0.2              </td><td>0.2              </td><td>0                </td><td>0                </td><td>Mar              </td><td>1                </td><td>1                </td><td>8                </td><td>1                </td><td>Returning_Visitor</td><td>FALSE            </td><td>FALSE            </td></tr>\n",
       "\t<tr><th scope=row>1382</th><td>0                </td><td>0                </td><td>0                </td><td>0                </td><td>1                </td><td>0                </td><td>0.2              </td><td>0.2              </td><td>0                </td><td>0                </td><td>Mar              </td><td>1                </td><td>1                </td><td>4                </td><td>1                </td><td>Returning_Visitor</td><td>FALSE            </td><td>FALSE            </td></tr>\n",
       "\t<tr><th scope=row>1391</th><td>0                </td><td>0                </td><td>0                </td><td>0                </td><td>1                </td><td>0                </td><td>0.2              </td><td>0.2              </td><td>0                </td><td>0                </td><td>Mar              </td><td>2                </td><td>2                </td><td>1                </td><td>1                </td><td>Returning_Visitor</td><td>FALSE            </td><td>FALSE            </td></tr>\n",
       "\t<tr><th scope=row>1395</th><td>0                </td><td>0                </td><td>0                </td><td>0                </td><td>1                </td><td>0                </td><td>0.2              </td><td>0.2              </td><td>0                </td><td>0                </td><td>Mar              </td><td>2                </td><td>2                </td><td>1                </td><td>1                </td><td>Returning_Visitor</td><td>FALSE            </td><td>FALSE            </td></tr>\n",
       "\t<tr><th scope=row>1437</th><td>0                </td><td>0                </td><td>0                </td><td>0                </td><td>1                </td><td>0                </td><td>0.2              </td><td>0.2              </td><td>0                </td><td>0                </td><td>Mar              </td><td>3                </td><td>2                </td><td>3                </td><td>1                </td><td>Returning_Visitor</td><td>FALSE            </td><td>FALSE            </td></tr>\n",
       "\t<tr><th scope=row>1454</th><td>0                </td><td>0                </td><td>0                </td><td>0                </td><td>1                </td><td>0                </td><td>0.2              </td><td>0.2              </td><td>0                </td><td>0                </td><td>Mar              </td><td>2                </td><td>2                </td><td>1                </td><td>1                </td><td>Returning_Visitor</td><td>FALSE            </td><td>FALSE            </td></tr>\n",
       "\t<tr><th scope=row>...</th><td>...</td><td>...</td><td>...</td><td>...</td><td>...</td><td>...</td><td>...</td><td>...</td><td>...</td><td>...</td><td>...</td><td>...</td><td>...</td><td>...</td><td>...</td><td>...</td><td>...</td><td>...</td></tr>\n",
       "\t<tr><th scope=row>9719</th><td>0                </td><td>0                </td><td>0                </td><td>0                </td><td>1                </td><td>0                </td><td>0.2              </td><td>0.2              </td><td>0                </td><td>0                </td><td>Nov              </td><td>3                </td><td> 2               </td><td>7                </td><td>13               </td><td>Returning_Visitor</td><td>FALSE            </td><td>FALSE            </td></tr>\n",
       "\t<tr><th scope=row>9770</th><td>0                </td><td>0                </td><td>0                </td><td>0                </td><td>1                </td><td>0                </td><td>0.2              </td><td>0.2              </td><td>0                </td><td>0                </td><td>Dec              </td><td>2                </td><td> 2               </td><td>2                </td><td> 1               </td><td>Returning_Visitor</td><td>FALSE            </td><td>FALSE            </td></tr>\n",
       "\t<tr><th scope=row>9879</th><td>0                </td><td>0                </td><td>0                </td><td>0                </td><td>1                </td><td>0                </td><td>0.2              </td><td>0.2              </td><td>0                </td><td>0                </td><td>Dec              </td><td>2                </td><td> 2               </td><td>6                </td><td>13               </td><td>Returning_Visitor</td><td>FALSE            </td><td>FALSE            </td></tr>\n",
       "\t<tr><th scope=row>9908</th><td>0                </td><td>0                </td><td>0                </td><td>0                </td><td>1                </td><td>0                </td><td>0.2              </td><td>0.2              </td><td>0                </td><td>0                </td><td>Dec              </td><td>2                </td><td> 2               </td><td>1                </td><td>13               </td><td>Returning_Visitor</td><td>FALSE            </td><td>FALSE            </td></tr>\n",
       "\t<tr><th scope=row>10147</th><td>0                </td><td>0                </td><td>0                </td><td>0                </td><td>1                </td><td>0                </td><td>0.2              </td><td>0.2              </td><td>0                </td><td>0                </td><td>Dec              </td><td>8                </td><td>13               </td><td>9                </td><td>20               </td><td>Other            </td><td>FALSE            </td><td>FALSE            </td></tr>\n",
       "\t<tr><th scope=row>10223</th><td>0                </td><td>0                </td><td>0                </td><td>0                </td><td>2                </td><td>0                </td><td>0.2              </td><td>0.2              </td><td>0                </td><td>0                </td><td>Nov              </td><td>1                </td><td> 1               </td><td>1                </td><td> 1               </td><td>Returning_Visitor</td><td>FALSE            </td><td>FALSE            </td></tr>\n",
       "\t<tr><th scope=row>10270</th><td>0                </td><td>0                </td><td>0                </td><td>0                </td><td>1                </td><td>0                </td><td>0.2              </td><td>0.2              </td><td>0                </td><td>0                </td><td>Nov              </td><td>1                </td><td> 1               </td><td>3                </td><td> 2               </td><td>Returning_Visitor</td><td>FALSE            </td><td>FALSE            </td></tr>\n",
       "\t<tr><th scope=row>10573</th><td>0                </td><td>0                </td><td>0                </td><td>0                </td><td>1                </td><td>0                </td><td>0.2              </td><td>0.2              </td><td>0                </td><td>0                </td><td>Nov              </td><td>2                </td><td> 2               </td><td>3                </td><td> 1               </td><td>Returning_Visitor</td><td>FALSE            </td><td>FALSE            </td></tr>\n",
       "\t<tr><th scope=row>10632</th><td>0                </td><td>0                </td><td>0                </td><td>0                </td><td>1                </td><td>0                </td><td>0.2              </td><td>0.2              </td><td>0                </td><td>0                </td><td>Nov              </td><td>2                </td><td> 2               </td><td>1                </td><td> 1               </td><td>Returning_Visitor</td><td>FALSE            </td><td>FALSE            </td></tr>\n",
       "\t<tr><th scope=row>10752</th><td>0                </td><td>0                </td><td>0                </td><td>0                </td><td>1                </td><td>0                </td><td>0.2              </td><td>0.2              </td><td>0                </td><td>0                </td><td>Dec              </td><td>1                </td><td> 1               </td><td>1                </td><td> 1               </td><td>Returning_Visitor</td><td> TRUE            </td><td>FALSE            </td></tr>\n",
       "\t<tr><th scope=row>10796</th><td>0                </td><td>0                </td><td>0                </td><td>0                </td><td>1                </td><td>0                </td><td>0.2              </td><td>0.2              </td><td>0                </td><td>0                </td><td>Nov              </td><td>1                </td><td> 1               </td><td>4                </td><td> 1               </td><td>Returning_Visitor</td><td>FALSE            </td><td>FALSE            </td></tr>\n",
       "\t<tr><th scope=row>10842</th><td>0                </td><td>0                </td><td>0                </td><td>0                </td><td>1                </td><td>0                </td><td>0.2              </td><td>0.2              </td><td>0                </td><td>0                </td><td>Nov              </td><td>2                </td><td> 2               </td><td>3                </td><td> 1               </td><td>Returning_Visitor</td><td>FALSE            </td><td>FALSE            </td></tr>\n",
       "\t<tr><th scope=row>10989</th><td>0                </td><td>0                </td><td>0                </td><td>0                </td><td>1                </td><td>0                </td><td>0.2              </td><td>0.2              </td><td>0                </td><td>0                </td><td>Nov              </td><td>2                </td><td> 4               </td><td>3                </td><td> 3               </td><td>Returning_Visitor</td><td>FALSE            </td><td>FALSE            </td></tr>\n",
       "\t<tr><th scope=row>11044</th><td>0                </td><td>0                </td><td>0                </td><td>0                </td><td>1                </td><td>0                </td><td>0.2              </td><td>0.2              </td><td>0                </td><td>0                </td><td>Dec              </td><td>3                </td><td> 2               </td><td>6                </td><td> 1               </td><td>Returning_Visitor</td><td>FALSE            </td><td>FALSE            </td></tr>\n",
       "\t<tr><th scope=row>11206</th><td>0                </td><td>0                </td><td>0                </td><td>0                </td><td>1                </td><td>0                </td><td>0.2              </td><td>0.2              </td><td>0                </td><td>0                </td><td>Dec              </td><td>8                </td><td>13               </td><td>9                </td><td>20               </td><td>Other            </td><td>FALSE            </td><td>FALSE            </td></tr>\n",
       "\t<tr><th scope=row>11405</th><td>0                </td><td>0                </td><td>0                </td><td>0                </td><td>1                </td><td>0                </td><td>0.2              </td><td>0.2              </td><td>0                </td><td>0                </td><td>Nov              </td><td>3                </td><td> 2               </td><td>1                </td><td>13               </td><td>Returning_Visitor</td><td>FALSE            </td><td>FALSE            </td></tr>\n",
       "\t<tr><th scope=row>11524</th><td>0                </td><td>0                </td><td>0                </td><td>0                </td><td>1                </td><td>0                </td><td>0.2              </td><td>0.2              </td><td>0                </td><td>0                </td><td>Dec              </td><td>2                </td><td> 2               </td><td>1                </td><td>13               </td><td>Returning_Visitor</td><td>FALSE            </td><td>FALSE            </td></tr>\n",
       "\t<tr><th scope=row>11582</th><td>0                </td><td>0                </td><td>0                </td><td>0                </td><td>1                </td><td>0                </td><td>0.2              </td><td>0.2              </td><td>0                </td><td>0                </td><td>Dec              </td><td>8                </td><td>13               </td><td>9                </td><td>20               </td><td>Other            </td><td>FALSE            </td><td>FALSE            </td></tr>\n",
       "\t<tr><th scope=row>11625</th><td>0                </td><td>0                </td><td>0                </td><td>0                </td><td>1                </td><td>0                </td><td>0.2              </td><td>0.2              </td><td>0                </td><td>0                </td><td>Nov              </td><td>3                </td><td> 2               </td><td>1                </td><td> 1               </td><td>Returning_Visitor</td><td>FALSE            </td><td>FALSE            </td></tr>\n",
       "\t<tr><th scope=row>11659</th><td>0                </td><td>0                </td><td>0                </td><td>0                </td><td>1                </td><td>0                </td><td>0.2              </td><td>0.2              </td><td>0                </td><td>0                </td><td>Dec              </td><td>1                </td><td> 1               </td><td>1                </td><td> 1               </td><td>Returning_Visitor</td><td> TRUE            </td><td>FALSE            </td></tr>\n",
       "\t<tr><th scope=row>11734</th><td>0                </td><td>0                </td><td>0                </td><td>0                </td><td>1                </td><td>0                </td><td>0.2              </td><td>0.2              </td><td>0                </td><td>0                </td><td>Nov              </td><td>2                </td><td> 2               </td><td>1                </td><td> 1               </td><td>Returning_Visitor</td><td>FALSE            </td><td>FALSE            </td></tr>\n",
       "\t<tr><th scope=row>11748</th><td>0                </td><td>0                </td><td>0                </td><td>0                </td><td>1                </td><td>0                </td><td>0.2              </td><td>0.2              </td><td>0                </td><td>0                </td><td>Nov              </td><td>1                </td><td> 1               </td><td>3                </td><td> 3               </td><td>Returning_Visitor</td><td>FALSE            </td><td>FALSE            </td></tr>\n",
       "\t<tr><th scope=row>11802</th><td>0                </td><td>0                </td><td>0                </td><td>0                </td><td>1                </td><td>0                </td><td>0.2              </td><td>0.2              </td><td>0                </td><td>0                </td><td>Dec              </td><td>1                </td><td> 1               </td><td>4                </td><td> 1               </td><td>Returning_Visitor</td><td> TRUE            </td><td>FALSE            </td></tr>\n",
       "\t<tr><th scope=row>11814</th><td>0                </td><td>0                </td><td>0                </td><td>0                </td><td>1                </td><td>0                </td><td>0.2              </td><td>0.2              </td><td>0                </td><td>0                </td><td>Dec              </td><td>2                </td><td> 2               </td><td>1                </td><td> 1               </td><td>Returning_Visitor</td><td>FALSE            </td><td>FALSE            </td></tr>\n",
       "\t<tr><th scope=row>11828</th><td>0                </td><td>0                </td><td>0                </td><td>0                </td><td>1                </td><td>0                </td><td>0.2              </td><td>0.2              </td><td>0                </td><td>0                </td><td>Dec              </td><td>2                </td><td> 2               </td><td>1                </td><td> 1               </td><td>Returning_Visitor</td><td>FALSE            </td><td>FALSE            </td></tr>\n",
       "\t<tr><th scope=row>11935</th><td>0                </td><td>0                </td><td>0                </td><td>0                </td><td>1                </td><td>0                </td><td>0.2              </td><td>0.2              </td><td>0                </td><td>0                </td><td>Dec              </td><td>1                </td><td> 1               </td><td>1                </td><td> 2               </td><td>New_Visitor      </td><td>FALSE            </td><td>FALSE            </td></tr>\n",
       "\t<tr><th scope=row>11939</th><td>0                </td><td>0                </td><td>0                </td><td>0                </td><td>1                </td><td>0                </td><td>0.2              </td><td>0.2              </td><td>0                </td><td>0                </td><td>Dec              </td><td>1                </td><td> 1               </td><td>4                </td><td> 1               </td><td>Returning_Visitor</td><td> TRUE            </td><td>FALSE            </td></tr>\n",
       "\t<tr><th scope=row>12160</th><td>0                </td><td>0                </td><td>0                </td><td>0                </td><td>1                </td><td>0                </td><td>0.2              </td><td>0.2              </td><td>0                </td><td>0                </td><td>Dec              </td><td>1                </td><td> 1               </td><td>1                </td><td> 3               </td><td>Returning_Visitor</td><td>FALSE            </td><td>FALSE            </td></tr>\n",
       "\t<tr><th scope=row>12181</th><td>0                </td><td>0                </td><td>0                </td><td>0                </td><td>1                </td><td>0                </td><td>0.2              </td><td>0.2              </td><td>0                </td><td>0                </td><td>Dec              </td><td>1                </td><td>13               </td><td>9                </td><td>20               </td><td>Returning_Visitor</td><td>FALSE            </td><td>FALSE            </td></tr>\n",
       "\t<tr><th scope=row>12186</th><td>0                </td><td>0                </td><td>0                </td><td>0                </td><td>1                </td><td>0                </td><td>0.2              </td><td>0.2              </td><td>0                </td><td>0                </td><td>Dec              </td><td>8                </td><td>13               </td><td>9                </td><td>20               </td><td>Other            </td><td>FALSE            </td><td>FALSE            </td></tr>\n",
       "</tbody>\n",
       "</table>\n"
      ],
      "text/latex": [
       "\\begin{tabular}{r|llllllllllllllllll}\n",
       "  & Administrative & Administrative\\_Duration & Informational & Informational\\_Duration & ProductRelated & ProductRelated\\_Duration & BounceRates & ExitRates & PageValues & SpecialDay & Month & OperatingSystems & Browser & Region & TrafficType & VisitorType & Weekend & Revenue\\\\\n",
       "\\hline\n",
       "\t159 & 0                   & 0                   & 0                   & 0                   & 1                   & 0                   & 0.2                 & 0.2                 & 0                   & 0                   & Feb                 & 1                   & 1                   & 1                   & 3                   & Returning\\_Visitor & FALSE               & FALSE              \\\\\n",
       "\t179 & 0                   & 0                   & 0                   & 0                   & 1                   & 0                   & 0.2                 & 0.2                 & 0                   & 0                   & Feb                 & 3                   & 2                   & 3                   & 3                   & Returning\\_Visitor & FALSE               & FALSE              \\\\\n",
       "\t419 & 0                   & 0                   & 0                   & 0                   & 1                   & 0                   & 0.2                 & 0.2                 & 0                   & 0                   & Mar                 & 1                   & 1                   & 1                   & 1                   & Returning\\_Visitor &  TRUE               & FALSE              \\\\\n",
       "\t457 & 0                   & 0                   & 0                   & 0                   & 1                   & 0                   & 0.2                 & 0.2                 & 0                   & 0                   & Mar                 & 2                   & 2                   & 4                   & 1                   & Returning\\_Visitor & FALSE               & FALSE              \\\\\n",
       "\t484 & 0                   & 0                   & 0                   & 0                   & 1                   & 0                   & 0.2                 & 0.2                 & 0                   & 0                   & Mar                 & 3                   & 2                   & 3                   & 1                   & Returning\\_Visitor & FALSE               & FALSE              \\\\\n",
       "\t513 & 0                   & 0                   & 0                   & 0                   & 1                   & 0                   & 0.2                 & 0.2                 & 0                   & 0                   & Mar                 & 2                   & 2                   & 1                   & 1                   & Returning\\_Visitor & FALSE               & FALSE              \\\\\n",
       "\t555 & 0                   & 0                   & 0                   & 0                   & 1                   & 0                   & 0.2                 & 0.2                 & 0                   & 0                   & Mar                 & 2                   & 2                   & 1                   & 1                   & Returning\\_Visitor & FALSE               & FALSE              \\\\\n",
       "\t590 & 0                   & 0                   & 0                   & 0                   & 1                   & 0                   & 0.2                 & 0.2                 & 0                   & 0                   & Mar                 & 2                   & 2                   & 1                   & 1                   & Returning\\_Visitor & FALSE               & FALSE              \\\\\n",
       "\t660 & 0                   & 0                   & 0                   & 0                   & 2                   & 0                   & 0.2                 & 0.2                 & 0                   & 0                   & Mar                 & 2                   & 5                   & 1                   & 1                   & Returning\\_Visitor & FALSE               & FALSE              \\\\\n",
       "\t775 & 0                   & 0                   & 0                   & 0                   & 1                   & 0                   & 0.2                 & 0.2                 & 0                   & 0                   & Mar                 & 2                   & 2                   & 4                   & 1                   & Returning\\_Visitor & FALSE               & FALSE              \\\\\n",
       "\t873 & 0                   & 0                   & 0                   & 0                   & 1                   & 0                   & 0.2                 & 0.2                 & 0                   & 0                   & Mar                 & 3                   & 2                   & 3                   & 1                   & Returning\\_Visitor & FALSE               & FALSE              \\\\\n",
       "\t890 & 0                   & 0                   & 0                   & 0                   & 1                   & 0                   & 0.2                 & 0.2                 & 0                   & 0                   & Mar                 & 1                   & 1                   & 2                   & 1                   & Returning\\_Visitor & FALSE               & FALSE              \\\\\n",
       "\t923 & 0                   & 0                   & 0                   & 0                   & 1                   & 0                   & 0.2                 & 0.2                 & 0                   & 0                   & Mar                 & 3                   & 2                   & 2                   & 1                   & Returning\\_Visitor & FALSE               & FALSE              \\\\\n",
       "\t948 & 0                   & 0                   & 0                   & 0                   & 1                   & 0                   & 0.2                 & 0.2                 & 0                   & 0                   & Mar                 & 2                   & 2                   & 1                   & 1                   & Returning\\_Visitor & FALSE               & FALSE              \\\\\n",
       "\t975 & 0                   & 0                   & 0                   & 0                   & 1                   & 0                   & 0.2                 & 0.2                 & 0                   & 0                   & Mar                 & 2                   & 2                   & 1                   & 1                   & Returning\\_Visitor & FALSE               & FALSE              \\\\\n",
       "\t1035 & 0                   & 0                   & 0                   & 0                   & 1                   & 0                   & 0.2                 & 0.2                 & 0                   & 0                   & Mar                 & 2                   & 2                   & 1                   & 1                   & Returning\\_Visitor & FALSE               & FALSE              \\\\\n",
       "\t1120 & 0                   & 0                   & 0                   & 0                   & 1                   & 0                   & 0.2                 & 0.2                 & 0                   & 0                   & Mar                 & 2                   & 2                   & 1                   & 1                   & Returning\\_Visitor & FALSE               & FALSE              \\\\\n",
       "\t1171 & 0                   & 0                   & 0                   & 0                   & 1                   & 0                   & 0.2                 & 0.2                 & 0                   & 0                   & Mar                 & 3                   & 2                   & 1                   & 1                   & Returning\\_Visitor & FALSE               & FALSE              \\\\\n",
       "\t1177 & 0                   & 0                   & 0                   & 0                   & 1                   & 0                   & 0.2                 & 0.2                 & 0                   & 0                   & Mar                 & 2                   & 4                   & 1                   & 1                   & Returning\\_Visitor & FALSE               & FALSE              \\\\\n",
       "\t1214 & 0                   & 0                   & 0                   & 0                   & 1                   & 0                   & 0.2                 & 0.2                 & 0                   & 0                   & Mar                 & 3                   & 2                   & 3                   & 1                   & Returning\\_Visitor & FALSE               & FALSE              \\\\\n",
       "\t1215 & 0                   & 0                   & 0                   & 0                   & 1                   & 0                   & 0.2                 & 0.2                 & 0                   & 0                   & Mar                 & 1                   & 1                   & 1                   & 3                   & Returning\\_Visitor & FALSE               & FALSE              \\\\\n",
       "\t1292 & 0                   & 0                   & 0                   & 0                   & 2                   & 0                   & 0.2                 & 0.2                 & 0                   & 0                   & Mar                 & 2                   & 2                   & 1                   & 1                   & Returning\\_Visitor & FALSE               & FALSE              \\\\\n",
       "\t1326 & 0                   & 0                   & 0                   & 0                   & 1                   & 0                   & 0.2                 & 0.2                 & 0                   & 0                   & Mar                 & 1                   & 1                   & 3                   & 3                   & Returning\\_Visitor & FALSE               & FALSE              \\\\\n",
       "\t1357 & 0                   & 0                   & 0                   & 0                   & 2                   & 0                   & 0.2                 & 0.2                 & 0                   & 0                   & Mar                 & 1                   & 1                   & 1                   & 1                   & Returning\\_Visitor & FALSE               & FALSE              \\\\\n",
       "\t1367 & 0                   & 0                   & 0                   & 0                   & 1                   & 0                   & 0.2                 & 0.2                 & 0                   & 0                   & Mar                 & 1                   & 1                   & 8                   & 1                   & Returning\\_Visitor & FALSE               & FALSE              \\\\\n",
       "\t1382 & 0                   & 0                   & 0                   & 0                   & 1                   & 0                   & 0.2                 & 0.2                 & 0                   & 0                   & Mar                 & 1                   & 1                   & 4                   & 1                   & Returning\\_Visitor & FALSE               & FALSE              \\\\\n",
       "\t1391 & 0                   & 0                   & 0                   & 0                   & 1                   & 0                   & 0.2                 & 0.2                 & 0                   & 0                   & Mar                 & 2                   & 2                   & 1                   & 1                   & Returning\\_Visitor & FALSE               & FALSE              \\\\\n",
       "\t1395 & 0                   & 0                   & 0                   & 0                   & 1                   & 0                   & 0.2                 & 0.2                 & 0                   & 0                   & Mar                 & 2                   & 2                   & 1                   & 1                   & Returning\\_Visitor & FALSE               & FALSE              \\\\\n",
       "\t1437 & 0                   & 0                   & 0                   & 0                   & 1                   & 0                   & 0.2                 & 0.2                 & 0                   & 0                   & Mar                 & 3                   & 2                   & 3                   & 1                   & Returning\\_Visitor & FALSE               & FALSE              \\\\\n",
       "\t1454 & 0                   & 0                   & 0                   & 0                   & 1                   & 0                   & 0.2                 & 0.2                 & 0                   & 0                   & Mar                 & 2                   & 2                   & 1                   & 1                   & Returning\\_Visitor & FALSE               & FALSE              \\\\\n",
       "\t... & ... & ... & ... & ... & ... & ... & ... & ... & ... & ... & ... & ... & ... & ... & ... & ... & ... & ...\\\\\n",
       "\t9719 & 0                   & 0                   & 0                   & 0                   & 1                   & 0                   & 0.2                 & 0.2                 & 0                   & 0                   & Nov                 & 3                   &  2                  & 7                   & 13                  & Returning\\_Visitor & FALSE               & FALSE              \\\\\n",
       "\t9770 & 0                   & 0                   & 0                   & 0                   & 1                   & 0                   & 0.2                 & 0.2                 & 0                   & 0                   & Dec                 & 2                   &  2                  & 2                   &  1                  & Returning\\_Visitor & FALSE               & FALSE              \\\\\n",
       "\t9879 & 0                   & 0                   & 0                   & 0                   & 1                   & 0                   & 0.2                 & 0.2                 & 0                   & 0                   & Dec                 & 2                   &  2                  & 6                   & 13                  & Returning\\_Visitor & FALSE               & FALSE              \\\\\n",
       "\t9908 & 0                   & 0                   & 0                   & 0                   & 1                   & 0                   & 0.2                 & 0.2                 & 0                   & 0                   & Dec                 & 2                   &  2                  & 1                   & 13                  & Returning\\_Visitor & FALSE               & FALSE              \\\\\n",
       "\t10147 & 0                 & 0                 & 0                 & 0                 & 1                 & 0                 & 0.2               & 0.2               & 0                 & 0                 & Dec               & 8                 & 13                & 9                 & 20                & Other             & FALSE             & FALSE            \\\\\n",
       "\t10223 & 0                   & 0                   & 0                   & 0                   & 2                   & 0                   & 0.2                 & 0.2                 & 0                   & 0                   & Nov                 & 1                   &  1                  & 1                   &  1                  & Returning\\_Visitor & FALSE               & FALSE              \\\\\n",
       "\t10270 & 0                   & 0                   & 0                   & 0                   & 1                   & 0                   & 0.2                 & 0.2                 & 0                   & 0                   & Nov                 & 1                   &  1                  & 3                   &  2                  & Returning\\_Visitor & FALSE               & FALSE              \\\\\n",
       "\t10573 & 0                   & 0                   & 0                   & 0                   & 1                   & 0                   & 0.2                 & 0.2                 & 0                   & 0                   & Nov                 & 2                   &  2                  & 3                   &  1                  & Returning\\_Visitor & FALSE               & FALSE              \\\\\n",
       "\t10632 & 0                   & 0                   & 0                   & 0                   & 1                   & 0                   & 0.2                 & 0.2                 & 0                   & 0                   & Nov                 & 2                   &  2                  & 1                   &  1                  & Returning\\_Visitor & FALSE               & FALSE              \\\\\n",
       "\t10752 & 0                   & 0                   & 0                   & 0                   & 1                   & 0                   & 0.2                 & 0.2                 & 0                   & 0                   & Dec                 & 1                   &  1                  & 1                   &  1                  & Returning\\_Visitor &  TRUE               & FALSE              \\\\\n",
       "\t10796 & 0                   & 0                   & 0                   & 0                   & 1                   & 0                   & 0.2                 & 0.2                 & 0                   & 0                   & Nov                 & 1                   &  1                  & 4                   &  1                  & Returning\\_Visitor & FALSE               & FALSE              \\\\\n",
       "\t10842 & 0                   & 0                   & 0                   & 0                   & 1                   & 0                   & 0.2                 & 0.2                 & 0                   & 0                   & Nov                 & 2                   &  2                  & 3                   &  1                  & Returning\\_Visitor & FALSE               & FALSE              \\\\\n",
       "\t10989 & 0                   & 0                   & 0                   & 0                   & 1                   & 0                   & 0.2                 & 0.2                 & 0                   & 0                   & Nov                 & 2                   &  4                  & 3                   &  3                  & Returning\\_Visitor & FALSE               & FALSE              \\\\\n",
       "\t11044 & 0                   & 0                   & 0                   & 0                   & 1                   & 0                   & 0.2                 & 0.2                 & 0                   & 0                   & Dec                 & 3                   &  2                  & 6                   &  1                  & Returning\\_Visitor & FALSE               & FALSE              \\\\\n",
       "\t11206 & 0                 & 0                 & 0                 & 0                 & 1                 & 0                 & 0.2               & 0.2               & 0                 & 0                 & Dec               & 8                 & 13                & 9                 & 20                & Other             & FALSE             & FALSE            \\\\\n",
       "\t11405 & 0                   & 0                   & 0                   & 0                   & 1                   & 0                   & 0.2                 & 0.2                 & 0                   & 0                   & Nov                 & 3                   &  2                  & 1                   & 13                  & Returning\\_Visitor & FALSE               & FALSE              \\\\\n",
       "\t11524 & 0                   & 0                   & 0                   & 0                   & 1                   & 0                   & 0.2                 & 0.2                 & 0                   & 0                   & Dec                 & 2                   &  2                  & 1                   & 13                  & Returning\\_Visitor & FALSE               & FALSE              \\\\\n",
       "\t11582 & 0                 & 0                 & 0                 & 0                 & 1                 & 0                 & 0.2               & 0.2               & 0                 & 0                 & Dec               & 8                 & 13                & 9                 & 20                & Other             & FALSE             & FALSE            \\\\\n",
       "\t11625 & 0                   & 0                   & 0                   & 0                   & 1                   & 0                   & 0.2                 & 0.2                 & 0                   & 0                   & Nov                 & 3                   &  2                  & 1                   &  1                  & Returning\\_Visitor & FALSE               & FALSE              \\\\\n",
       "\t11659 & 0                   & 0                   & 0                   & 0                   & 1                   & 0                   & 0.2                 & 0.2                 & 0                   & 0                   & Dec                 & 1                   &  1                  & 1                   &  1                  & Returning\\_Visitor &  TRUE               & FALSE              \\\\\n",
       "\t11734 & 0                   & 0                   & 0                   & 0                   & 1                   & 0                   & 0.2                 & 0.2                 & 0                   & 0                   & Nov                 & 2                   &  2                  & 1                   &  1                  & Returning\\_Visitor & FALSE               & FALSE              \\\\\n",
       "\t11748 & 0                   & 0                   & 0                   & 0                   & 1                   & 0                   & 0.2                 & 0.2                 & 0                   & 0                   & Nov                 & 1                   &  1                  & 3                   &  3                  & Returning\\_Visitor & FALSE               & FALSE              \\\\\n",
       "\t11802 & 0                   & 0                   & 0                   & 0                   & 1                   & 0                   & 0.2                 & 0.2                 & 0                   & 0                   & Dec                 & 1                   &  1                  & 4                   &  1                  & Returning\\_Visitor &  TRUE               & FALSE              \\\\\n",
       "\t11814 & 0                   & 0                   & 0                   & 0                   & 1                   & 0                   & 0.2                 & 0.2                 & 0                   & 0                   & Dec                 & 2                   &  2                  & 1                   &  1                  & Returning\\_Visitor & FALSE               & FALSE              \\\\\n",
       "\t11828 & 0                   & 0                   & 0                   & 0                   & 1                   & 0                   & 0.2                 & 0.2                 & 0                   & 0                   & Dec                 & 2                   &  2                  & 1                   &  1                  & Returning\\_Visitor & FALSE               & FALSE              \\\\\n",
       "\t11935 & 0                   & 0                   & 0                   & 0                   & 1                   & 0                   & 0.2                 & 0.2                 & 0                   & 0                   & Dec                 & 1                   &  1                  & 1                   &  2                  & New\\_Visitor       & FALSE               & FALSE              \\\\\n",
       "\t11939 & 0                   & 0                   & 0                   & 0                   & 1                   & 0                   & 0.2                 & 0.2                 & 0                   & 0                   & Dec                 & 1                   &  1                  & 4                   &  1                  & Returning\\_Visitor &  TRUE               & FALSE              \\\\\n",
       "\t12160 & 0                   & 0                   & 0                   & 0                   & 1                   & 0                   & 0.2                 & 0.2                 & 0                   & 0                   & Dec                 & 1                   &  1                  & 1                   &  3                  & Returning\\_Visitor & FALSE               & FALSE              \\\\\n",
       "\t12181 & 0                   & 0                   & 0                   & 0                   & 1                   & 0                   & 0.2                 & 0.2                 & 0                   & 0                   & Dec                 & 1                   & 13                  & 9                   & 20                  & Returning\\_Visitor & FALSE               & FALSE              \\\\\n",
       "\t12186 & 0                 & 0                 & 0                 & 0                 & 1                 & 0                 & 0.2               & 0.2               & 0                 & 0                 & Dec               & 8                 & 13                & 9                 & 20                & Other             & FALSE             & FALSE            \\\\\n",
       "\\end{tabular}\n"
      ],
      "text/markdown": [
       "\n",
       "| <!--/--> | Administrative | Administrative_Duration | Informational | Informational_Duration | ProductRelated | ProductRelated_Duration | BounceRates | ExitRates | PageValues | SpecialDay | Month | OperatingSystems | Browser | Region | TrafficType | VisitorType | Weekend | Revenue |\n",
       "|---|---|---|---|---|---|---|---|---|---|---|---|---|---|---|---|---|---|---|\n",
       "| 159 | 0                 | 0                 | 0                 | 0                 | 1                 | 0                 | 0.2               | 0.2               | 0                 | 0                 | Feb               | 1                 | 1                 | 1                 | 3                 | Returning_Visitor | FALSE             | FALSE             |\n",
       "| 179 | 0                 | 0                 | 0                 | 0                 | 1                 | 0                 | 0.2               | 0.2               | 0                 | 0                 | Feb               | 3                 | 2                 | 3                 | 3                 | Returning_Visitor | FALSE             | FALSE             |\n",
       "| 419 | 0                 | 0                 | 0                 | 0                 | 1                 | 0                 | 0.2               | 0.2               | 0                 | 0                 | Mar               | 1                 | 1                 | 1                 | 1                 | Returning_Visitor |  TRUE             | FALSE             |\n",
       "| 457 | 0                 | 0                 | 0                 | 0                 | 1                 | 0                 | 0.2               | 0.2               | 0                 | 0                 | Mar               | 2                 | 2                 | 4                 | 1                 | Returning_Visitor | FALSE             | FALSE             |\n",
       "| 484 | 0                 | 0                 | 0                 | 0                 | 1                 | 0                 | 0.2               | 0.2               | 0                 | 0                 | Mar               | 3                 | 2                 | 3                 | 1                 | Returning_Visitor | FALSE             | FALSE             |\n",
       "| 513 | 0                 | 0                 | 0                 | 0                 | 1                 | 0                 | 0.2               | 0.2               | 0                 | 0                 | Mar               | 2                 | 2                 | 1                 | 1                 | Returning_Visitor | FALSE             | FALSE             |\n",
       "| 555 | 0                 | 0                 | 0                 | 0                 | 1                 | 0                 | 0.2               | 0.2               | 0                 | 0                 | Mar               | 2                 | 2                 | 1                 | 1                 | Returning_Visitor | FALSE             | FALSE             |\n",
       "| 590 | 0                 | 0                 | 0                 | 0                 | 1                 | 0                 | 0.2               | 0.2               | 0                 | 0                 | Mar               | 2                 | 2                 | 1                 | 1                 | Returning_Visitor | FALSE             | FALSE             |\n",
       "| 660 | 0                 | 0                 | 0                 | 0                 | 2                 | 0                 | 0.2               | 0.2               | 0                 | 0                 | Mar               | 2                 | 5                 | 1                 | 1                 | Returning_Visitor | FALSE             | FALSE             |\n",
       "| 775 | 0                 | 0                 | 0                 | 0                 | 1                 | 0                 | 0.2               | 0.2               | 0                 | 0                 | Mar               | 2                 | 2                 | 4                 | 1                 | Returning_Visitor | FALSE             | FALSE             |\n",
       "| 873 | 0                 | 0                 | 0                 | 0                 | 1                 | 0                 | 0.2               | 0.2               | 0                 | 0                 | Mar               | 3                 | 2                 | 3                 | 1                 | Returning_Visitor | FALSE             | FALSE             |\n",
       "| 890 | 0                 | 0                 | 0                 | 0                 | 1                 | 0                 | 0.2               | 0.2               | 0                 | 0                 | Mar               | 1                 | 1                 | 2                 | 1                 | Returning_Visitor | FALSE             | FALSE             |\n",
       "| 923 | 0                 | 0                 | 0                 | 0                 | 1                 | 0                 | 0.2               | 0.2               | 0                 | 0                 | Mar               | 3                 | 2                 | 2                 | 1                 | Returning_Visitor | FALSE             | FALSE             |\n",
       "| 948 | 0                 | 0                 | 0                 | 0                 | 1                 | 0                 | 0.2               | 0.2               | 0                 | 0                 | Mar               | 2                 | 2                 | 1                 | 1                 | Returning_Visitor | FALSE             | FALSE             |\n",
       "| 975 | 0                 | 0                 | 0                 | 0                 | 1                 | 0                 | 0.2               | 0.2               | 0                 | 0                 | Mar               | 2                 | 2                 | 1                 | 1                 | Returning_Visitor | FALSE             | FALSE             |\n",
       "| 1035 | 0                 | 0                 | 0                 | 0                 | 1                 | 0                 | 0.2               | 0.2               | 0                 | 0                 | Mar               | 2                 | 2                 | 1                 | 1                 | Returning_Visitor | FALSE             | FALSE             |\n",
       "| 1120 | 0                 | 0                 | 0                 | 0                 | 1                 | 0                 | 0.2               | 0.2               | 0                 | 0                 | Mar               | 2                 | 2                 | 1                 | 1                 | Returning_Visitor | FALSE             | FALSE             |\n",
       "| 1171 | 0                 | 0                 | 0                 | 0                 | 1                 | 0                 | 0.2               | 0.2               | 0                 | 0                 | Mar               | 3                 | 2                 | 1                 | 1                 | Returning_Visitor | FALSE             | FALSE             |\n",
       "| 1177 | 0                 | 0                 | 0                 | 0                 | 1                 | 0                 | 0.2               | 0.2               | 0                 | 0                 | Mar               | 2                 | 4                 | 1                 | 1                 | Returning_Visitor | FALSE             | FALSE             |\n",
       "| 1214 | 0                 | 0                 | 0                 | 0                 | 1                 | 0                 | 0.2               | 0.2               | 0                 | 0                 | Mar               | 3                 | 2                 | 3                 | 1                 | Returning_Visitor | FALSE             | FALSE             |\n",
       "| 1215 | 0                 | 0                 | 0                 | 0                 | 1                 | 0                 | 0.2               | 0.2               | 0                 | 0                 | Mar               | 1                 | 1                 | 1                 | 3                 | Returning_Visitor | FALSE             | FALSE             |\n",
       "| 1292 | 0                 | 0                 | 0                 | 0                 | 2                 | 0                 | 0.2               | 0.2               | 0                 | 0                 | Mar               | 2                 | 2                 | 1                 | 1                 | Returning_Visitor | FALSE             | FALSE             |\n",
       "| 1326 | 0                 | 0                 | 0                 | 0                 | 1                 | 0                 | 0.2               | 0.2               | 0                 | 0                 | Mar               | 1                 | 1                 | 3                 | 3                 | Returning_Visitor | FALSE             | FALSE             |\n",
       "| 1357 | 0                 | 0                 | 0                 | 0                 | 2                 | 0                 | 0.2               | 0.2               | 0                 | 0                 | Mar               | 1                 | 1                 | 1                 | 1                 | Returning_Visitor | FALSE             | FALSE             |\n",
       "| 1367 | 0                 | 0                 | 0                 | 0                 | 1                 | 0                 | 0.2               | 0.2               | 0                 | 0                 | Mar               | 1                 | 1                 | 8                 | 1                 | Returning_Visitor | FALSE             | FALSE             |\n",
       "| 1382 | 0                 | 0                 | 0                 | 0                 | 1                 | 0                 | 0.2               | 0.2               | 0                 | 0                 | Mar               | 1                 | 1                 | 4                 | 1                 | Returning_Visitor | FALSE             | FALSE             |\n",
       "| 1391 | 0                 | 0                 | 0                 | 0                 | 1                 | 0                 | 0.2               | 0.2               | 0                 | 0                 | Mar               | 2                 | 2                 | 1                 | 1                 | Returning_Visitor | FALSE             | FALSE             |\n",
       "| 1395 | 0                 | 0                 | 0                 | 0                 | 1                 | 0                 | 0.2               | 0.2               | 0                 | 0                 | Mar               | 2                 | 2                 | 1                 | 1                 | Returning_Visitor | FALSE             | FALSE             |\n",
       "| 1437 | 0                 | 0                 | 0                 | 0                 | 1                 | 0                 | 0.2               | 0.2               | 0                 | 0                 | Mar               | 3                 | 2                 | 3                 | 1                 | Returning_Visitor | FALSE             | FALSE             |\n",
       "| 1454 | 0                 | 0                 | 0                 | 0                 | 1                 | 0                 | 0.2               | 0.2               | 0                 | 0                 | Mar               | 2                 | 2                 | 1                 | 1                 | Returning_Visitor | FALSE             | FALSE             |\n",
       "| ... | ... | ... | ... | ... | ... | ... | ... | ... | ... | ... | ... | ... | ... | ... | ... | ... | ... | ... |\n",
       "| 9719 | 0                 | 0                 | 0                 | 0                 | 1                 | 0                 | 0.2               | 0.2               | 0                 | 0                 | Nov               | 3                 |  2                | 7                 | 13                | Returning_Visitor | FALSE             | FALSE             |\n",
       "| 9770 | 0                 | 0                 | 0                 | 0                 | 1                 | 0                 | 0.2               | 0.2               | 0                 | 0                 | Dec               | 2                 |  2                | 2                 |  1                | Returning_Visitor | FALSE             | FALSE             |\n",
       "| 9879 | 0                 | 0                 | 0                 | 0                 | 1                 | 0                 | 0.2               | 0.2               | 0                 | 0                 | Dec               | 2                 |  2                | 6                 | 13                | Returning_Visitor | FALSE             | FALSE             |\n",
       "| 9908 | 0                 | 0                 | 0                 | 0                 | 1                 | 0                 | 0.2               | 0.2               | 0                 | 0                 | Dec               | 2                 |  2                | 1                 | 13                | Returning_Visitor | FALSE             | FALSE             |\n",
       "| 10147 | 0                 | 0                 | 0                 | 0                 | 1                 | 0                 | 0.2               | 0.2               | 0                 | 0                 | Dec               | 8                 | 13                | 9                 | 20                | Other             | FALSE             | FALSE             |\n",
       "| 10223 | 0                 | 0                 | 0                 | 0                 | 2                 | 0                 | 0.2               | 0.2               | 0                 | 0                 | Nov               | 1                 |  1                | 1                 |  1                | Returning_Visitor | FALSE             | FALSE             |\n",
       "| 10270 | 0                 | 0                 | 0                 | 0                 | 1                 | 0                 | 0.2               | 0.2               | 0                 | 0                 | Nov               | 1                 |  1                | 3                 |  2                | Returning_Visitor | FALSE             | FALSE             |\n",
       "| 10573 | 0                 | 0                 | 0                 | 0                 | 1                 | 0                 | 0.2               | 0.2               | 0                 | 0                 | Nov               | 2                 |  2                | 3                 |  1                | Returning_Visitor | FALSE             | FALSE             |\n",
       "| 10632 | 0                 | 0                 | 0                 | 0                 | 1                 | 0                 | 0.2               | 0.2               | 0                 | 0                 | Nov               | 2                 |  2                | 1                 |  1                | Returning_Visitor | FALSE             | FALSE             |\n",
       "| 10752 | 0                 | 0                 | 0                 | 0                 | 1                 | 0                 | 0.2               | 0.2               | 0                 | 0                 | Dec               | 1                 |  1                | 1                 |  1                | Returning_Visitor |  TRUE             | FALSE             |\n",
       "| 10796 | 0                 | 0                 | 0                 | 0                 | 1                 | 0                 | 0.2               | 0.2               | 0                 | 0                 | Nov               | 1                 |  1                | 4                 |  1                | Returning_Visitor | FALSE             | FALSE             |\n",
       "| 10842 | 0                 | 0                 | 0                 | 0                 | 1                 | 0                 | 0.2               | 0.2               | 0                 | 0                 | Nov               | 2                 |  2                | 3                 |  1                | Returning_Visitor | FALSE             | FALSE             |\n",
       "| 10989 | 0                 | 0                 | 0                 | 0                 | 1                 | 0                 | 0.2               | 0.2               | 0                 | 0                 | Nov               | 2                 |  4                | 3                 |  3                | Returning_Visitor | FALSE             | FALSE             |\n",
       "| 11044 | 0                 | 0                 | 0                 | 0                 | 1                 | 0                 | 0.2               | 0.2               | 0                 | 0                 | Dec               | 3                 |  2                | 6                 |  1                | Returning_Visitor | FALSE             | FALSE             |\n",
       "| 11206 | 0                 | 0                 | 0                 | 0                 | 1                 | 0                 | 0.2               | 0.2               | 0                 | 0                 | Dec               | 8                 | 13                | 9                 | 20                | Other             | FALSE             | FALSE             |\n",
       "| 11405 | 0                 | 0                 | 0                 | 0                 | 1                 | 0                 | 0.2               | 0.2               | 0                 | 0                 | Nov               | 3                 |  2                | 1                 | 13                | Returning_Visitor | FALSE             | FALSE             |\n",
       "| 11524 | 0                 | 0                 | 0                 | 0                 | 1                 | 0                 | 0.2               | 0.2               | 0                 | 0                 | Dec               | 2                 |  2                | 1                 | 13                | Returning_Visitor | FALSE             | FALSE             |\n",
       "| 11582 | 0                 | 0                 | 0                 | 0                 | 1                 | 0                 | 0.2               | 0.2               | 0                 | 0                 | Dec               | 8                 | 13                | 9                 | 20                | Other             | FALSE             | FALSE             |\n",
       "| 11625 | 0                 | 0                 | 0                 | 0                 | 1                 | 0                 | 0.2               | 0.2               | 0                 | 0                 | Nov               | 3                 |  2                | 1                 |  1                | Returning_Visitor | FALSE             | FALSE             |\n",
       "| 11659 | 0                 | 0                 | 0                 | 0                 | 1                 | 0                 | 0.2               | 0.2               | 0                 | 0                 | Dec               | 1                 |  1                | 1                 |  1                | Returning_Visitor |  TRUE             | FALSE             |\n",
       "| 11734 | 0                 | 0                 | 0                 | 0                 | 1                 | 0                 | 0.2               | 0.2               | 0                 | 0                 | Nov               | 2                 |  2                | 1                 |  1                | Returning_Visitor | FALSE             | FALSE             |\n",
       "| 11748 | 0                 | 0                 | 0                 | 0                 | 1                 | 0                 | 0.2               | 0.2               | 0                 | 0                 | Nov               | 1                 |  1                | 3                 |  3                | Returning_Visitor | FALSE             | FALSE             |\n",
       "| 11802 | 0                 | 0                 | 0                 | 0                 | 1                 | 0                 | 0.2               | 0.2               | 0                 | 0                 | Dec               | 1                 |  1                | 4                 |  1                | Returning_Visitor |  TRUE             | FALSE             |\n",
       "| 11814 | 0                 | 0                 | 0                 | 0                 | 1                 | 0                 | 0.2               | 0.2               | 0                 | 0                 | Dec               | 2                 |  2                | 1                 |  1                | Returning_Visitor | FALSE             | FALSE             |\n",
       "| 11828 | 0                 | 0                 | 0                 | 0                 | 1                 | 0                 | 0.2               | 0.2               | 0                 | 0                 | Dec               | 2                 |  2                | 1                 |  1                | Returning_Visitor | FALSE             | FALSE             |\n",
       "| 11935 | 0                 | 0                 | 0                 | 0                 | 1                 | 0                 | 0.2               | 0.2               | 0                 | 0                 | Dec               | 1                 |  1                | 1                 |  2                | New_Visitor       | FALSE             | FALSE             |\n",
       "| 11939 | 0                 | 0                 | 0                 | 0                 | 1                 | 0                 | 0.2               | 0.2               | 0                 | 0                 | Dec               | 1                 |  1                | 4                 |  1                | Returning_Visitor |  TRUE             | FALSE             |\n",
       "| 12160 | 0                 | 0                 | 0                 | 0                 | 1                 | 0                 | 0.2               | 0.2               | 0                 | 0                 | Dec               | 1                 |  1                | 1                 |  3                | Returning_Visitor | FALSE             | FALSE             |\n",
       "| 12181 | 0                 | 0                 | 0                 | 0                 | 1                 | 0                 | 0.2               | 0.2               | 0                 | 0                 | Dec               | 1                 | 13                | 9                 | 20                | Returning_Visitor | FALSE             | FALSE             |\n",
       "| 12186 | 0                 | 0                 | 0                 | 0                 | 1                 | 0                 | 0.2               | 0.2               | 0                 | 0                 | Dec               | 8                 | 13                | 9                 | 20                | Other             | FALSE             | FALSE             |\n",
       "\n"
      ],
      "text/plain": [
       "      Administrative Administrative_Duration Informational\n",
       "159   0              0                       0            \n",
       "179   0              0                       0            \n",
       "419   0              0                       0            \n",
       "457   0              0                       0            \n",
       "484   0              0                       0            \n",
       "513   0              0                       0            \n",
       "555   0              0                       0            \n",
       "590   0              0                       0            \n",
       "660   0              0                       0            \n",
       "775   0              0                       0            \n",
       "873   0              0                       0            \n",
       "890   0              0                       0            \n",
       "923   0              0                       0            \n",
       "948   0              0                       0            \n",
       "975   0              0                       0            \n",
       "1035  0              0                       0            \n",
       "1120  0              0                       0            \n",
       "1171  0              0                       0            \n",
       "1177  0              0                       0            \n",
       "1214  0              0                       0            \n",
       "1215  0              0                       0            \n",
       "1292  0              0                       0            \n",
       "1326  0              0                       0            \n",
       "1357  0              0                       0            \n",
       "1367  0              0                       0            \n",
       "1382  0              0                       0            \n",
       "1391  0              0                       0            \n",
       "1395  0              0                       0            \n",
       "1437  0              0                       0            \n",
       "1454  0              0                       0            \n",
       "...   ...            ...                     ...          \n",
       "9719  0              0                       0            \n",
       "9770  0              0                       0            \n",
       "9879  0              0                       0            \n",
       "9908  0              0                       0            \n",
       "10147 0              0                       0            \n",
       "10223 0              0                       0            \n",
       "10270 0              0                       0            \n",
       "10573 0              0                       0            \n",
       "10632 0              0                       0            \n",
       "10752 0              0                       0            \n",
       "10796 0              0                       0            \n",
       "10842 0              0                       0            \n",
       "10989 0              0                       0            \n",
       "11044 0              0                       0            \n",
       "11206 0              0                       0            \n",
       "11405 0              0                       0            \n",
       "11524 0              0                       0            \n",
       "11582 0              0                       0            \n",
       "11625 0              0                       0            \n",
       "11659 0              0                       0            \n",
       "11734 0              0                       0            \n",
       "11748 0              0                       0            \n",
       "11802 0              0                       0            \n",
       "11814 0              0                       0            \n",
       "11828 0              0                       0            \n",
       "11935 0              0                       0            \n",
       "11939 0              0                       0            \n",
       "12160 0              0                       0            \n",
       "12181 0              0                       0            \n",
       "12186 0              0                       0            \n",
       "      Informational_Duration ProductRelated ProductRelated_Duration BounceRates\n",
       "159   0                      1              0                       0.2        \n",
       "179   0                      1              0                       0.2        \n",
       "419   0                      1              0                       0.2        \n",
       "457   0                      1              0                       0.2        \n",
       "484   0                      1              0                       0.2        \n",
       "513   0                      1              0                       0.2        \n",
       "555   0                      1              0                       0.2        \n",
       "590   0                      1              0                       0.2        \n",
       "660   0                      2              0                       0.2        \n",
       "775   0                      1              0                       0.2        \n",
       "873   0                      1              0                       0.2        \n",
       "890   0                      1              0                       0.2        \n",
       "923   0                      1              0                       0.2        \n",
       "948   0                      1              0                       0.2        \n",
       "975   0                      1              0                       0.2        \n",
       "1035  0                      1              0                       0.2        \n",
       "1120  0                      1              0                       0.2        \n",
       "1171  0                      1              0                       0.2        \n",
       "1177  0                      1              0                       0.2        \n",
       "1214  0                      1              0                       0.2        \n",
       "1215  0                      1              0                       0.2        \n",
       "1292  0                      2              0                       0.2        \n",
       "1326  0                      1              0                       0.2        \n",
       "1357  0                      2              0                       0.2        \n",
       "1367  0                      1              0                       0.2        \n",
       "1382  0                      1              0                       0.2        \n",
       "1391  0                      1              0                       0.2        \n",
       "1395  0                      1              0                       0.2        \n",
       "1437  0                      1              0                       0.2        \n",
       "1454  0                      1              0                       0.2        \n",
       "...   ...                    ...            ...                     ...        \n",
       "9719  0                      1              0                       0.2        \n",
       "9770  0                      1              0                       0.2        \n",
       "9879  0                      1              0                       0.2        \n",
       "9908  0                      1              0                       0.2        \n",
       "10147 0                      1              0                       0.2        \n",
       "10223 0                      2              0                       0.2        \n",
       "10270 0                      1              0                       0.2        \n",
       "10573 0                      1              0                       0.2        \n",
       "10632 0                      1              0                       0.2        \n",
       "10752 0                      1              0                       0.2        \n",
       "10796 0                      1              0                       0.2        \n",
       "10842 0                      1              0                       0.2        \n",
       "10989 0                      1              0                       0.2        \n",
       "11044 0                      1              0                       0.2        \n",
       "11206 0                      1              0                       0.2        \n",
       "11405 0                      1              0                       0.2        \n",
       "11524 0                      1              0                       0.2        \n",
       "11582 0                      1              0                       0.2        \n",
       "11625 0                      1              0                       0.2        \n",
       "11659 0                      1              0                       0.2        \n",
       "11734 0                      1              0                       0.2        \n",
       "11748 0                      1              0                       0.2        \n",
       "11802 0                      1              0                       0.2        \n",
       "11814 0                      1              0                       0.2        \n",
       "11828 0                      1              0                       0.2        \n",
       "11935 0                      1              0                       0.2        \n",
       "11939 0                      1              0                       0.2        \n",
       "12160 0                      1              0                       0.2        \n",
       "12181 0                      1              0                       0.2        \n",
       "12186 0                      1              0                       0.2        \n",
       "      ExitRates PageValues SpecialDay Month OperatingSystems Browser Region\n",
       "159   0.2       0          0          Feb   1                1       1     \n",
       "179   0.2       0          0          Feb   3                2       3     \n",
       "419   0.2       0          0          Mar   1                1       1     \n",
       "457   0.2       0          0          Mar   2                2       4     \n",
       "484   0.2       0          0          Mar   3                2       3     \n",
       "513   0.2       0          0          Mar   2                2       1     \n",
       "555   0.2       0          0          Mar   2                2       1     \n",
       "590   0.2       0          0          Mar   2                2       1     \n",
       "660   0.2       0          0          Mar   2                5       1     \n",
       "775   0.2       0          0          Mar   2                2       4     \n",
       "873   0.2       0          0          Mar   3                2       3     \n",
       "890   0.2       0          0          Mar   1                1       2     \n",
       "923   0.2       0          0          Mar   3                2       2     \n",
       "948   0.2       0          0          Mar   2                2       1     \n",
       "975   0.2       0          0          Mar   2                2       1     \n",
       "1035  0.2       0          0          Mar   2                2       1     \n",
       "1120  0.2       0          0          Mar   2                2       1     \n",
       "1171  0.2       0          0          Mar   3                2       1     \n",
       "1177  0.2       0          0          Mar   2                4       1     \n",
       "1214  0.2       0          0          Mar   3                2       3     \n",
       "1215  0.2       0          0          Mar   1                1       1     \n",
       "1292  0.2       0          0          Mar   2                2       1     \n",
       "1326  0.2       0          0          Mar   1                1       3     \n",
       "1357  0.2       0          0          Mar   1                1       1     \n",
       "1367  0.2       0          0          Mar   1                1       8     \n",
       "1382  0.2       0          0          Mar   1                1       4     \n",
       "1391  0.2       0          0          Mar   2                2       1     \n",
       "1395  0.2       0          0          Mar   2                2       1     \n",
       "1437  0.2       0          0          Mar   3                2       3     \n",
       "1454  0.2       0          0          Mar   2                2       1     \n",
       "...   ...       ...        ...        ...   ...              ...     ...   \n",
       "9719  0.2       0          0          Nov   3                 2      7     \n",
       "9770  0.2       0          0          Dec   2                 2      2     \n",
       "9879  0.2       0          0          Dec   2                 2      6     \n",
       "9908  0.2       0          0          Dec   2                 2      1     \n",
       "10147 0.2       0          0          Dec   8                13      9     \n",
       "10223 0.2       0          0          Nov   1                 1      1     \n",
       "10270 0.2       0          0          Nov   1                 1      3     \n",
       "10573 0.2       0          0          Nov   2                 2      3     \n",
       "10632 0.2       0          0          Nov   2                 2      1     \n",
       "10752 0.2       0          0          Dec   1                 1      1     \n",
       "10796 0.2       0          0          Nov   1                 1      4     \n",
       "10842 0.2       0          0          Nov   2                 2      3     \n",
       "10989 0.2       0          0          Nov   2                 4      3     \n",
       "11044 0.2       0          0          Dec   3                 2      6     \n",
       "11206 0.2       0          0          Dec   8                13      9     \n",
       "11405 0.2       0          0          Nov   3                 2      1     \n",
       "11524 0.2       0          0          Dec   2                 2      1     \n",
       "11582 0.2       0          0          Dec   8                13      9     \n",
       "11625 0.2       0          0          Nov   3                 2      1     \n",
       "11659 0.2       0          0          Dec   1                 1      1     \n",
       "11734 0.2       0          0          Nov   2                 2      1     \n",
       "11748 0.2       0          0          Nov   1                 1      3     \n",
       "11802 0.2       0          0          Dec   1                 1      4     \n",
       "11814 0.2       0          0          Dec   2                 2      1     \n",
       "11828 0.2       0          0          Dec   2                 2      1     \n",
       "11935 0.2       0          0          Dec   1                 1      1     \n",
       "11939 0.2       0          0          Dec   1                 1      4     \n",
       "12160 0.2       0          0          Dec   1                 1      1     \n",
       "12181 0.2       0          0          Dec   1                13      9     \n",
       "12186 0.2       0          0          Dec   8                13      9     \n",
       "      TrafficType VisitorType       Weekend Revenue\n",
       "159   3           Returning_Visitor FALSE   FALSE  \n",
       "179   3           Returning_Visitor FALSE   FALSE  \n",
       "419   1           Returning_Visitor  TRUE   FALSE  \n",
       "457   1           Returning_Visitor FALSE   FALSE  \n",
       "484   1           Returning_Visitor FALSE   FALSE  \n",
       "513   1           Returning_Visitor FALSE   FALSE  \n",
       "555   1           Returning_Visitor FALSE   FALSE  \n",
       "590   1           Returning_Visitor FALSE   FALSE  \n",
       "660   1           Returning_Visitor FALSE   FALSE  \n",
       "775   1           Returning_Visitor FALSE   FALSE  \n",
       "873   1           Returning_Visitor FALSE   FALSE  \n",
       "890   1           Returning_Visitor FALSE   FALSE  \n",
       "923   1           Returning_Visitor FALSE   FALSE  \n",
       "948   1           Returning_Visitor FALSE   FALSE  \n",
       "975   1           Returning_Visitor FALSE   FALSE  \n",
       "1035  1           Returning_Visitor FALSE   FALSE  \n",
       "1120  1           Returning_Visitor FALSE   FALSE  \n",
       "1171  1           Returning_Visitor FALSE   FALSE  \n",
       "1177  1           Returning_Visitor FALSE   FALSE  \n",
       "1214  1           Returning_Visitor FALSE   FALSE  \n",
       "1215  3           Returning_Visitor FALSE   FALSE  \n",
       "1292  1           Returning_Visitor FALSE   FALSE  \n",
       "1326  3           Returning_Visitor FALSE   FALSE  \n",
       "1357  1           Returning_Visitor FALSE   FALSE  \n",
       "1367  1           Returning_Visitor FALSE   FALSE  \n",
       "1382  1           Returning_Visitor FALSE   FALSE  \n",
       "1391  1           Returning_Visitor FALSE   FALSE  \n",
       "1395  1           Returning_Visitor FALSE   FALSE  \n",
       "1437  1           Returning_Visitor FALSE   FALSE  \n",
       "1454  1           Returning_Visitor FALSE   FALSE  \n",
       "...   ...         ...               ...     ...    \n",
       "9719  13          Returning_Visitor FALSE   FALSE  \n",
       "9770   1          Returning_Visitor FALSE   FALSE  \n",
       "9879  13          Returning_Visitor FALSE   FALSE  \n",
       "9908  13          Returning_Visitor FALSE   FALSE  \n",
       "10147 20          Other             FALSE   FALSE  \n",
       "10223  1          Returning_Visitor FALSE   FALSE  \n",
       "10270  2          Returning_Visitor FALSE   FALSE  \n",
       "10573  1          Returning_Visitor FALSE   FALSE  \n",
       "10632  1          Returning_Visitor FALSE   FALSE  \n",
       "10752  1          Returning_Visitor  TRUE   FALSE  \n",
       "10796  1          Returning_Visitor FALSE   FALSE  \n",
       "10842  1          Returning_Visitor FALSE   FALSE  \n",
       "10989  3          Returning_Visitor FALSE   FALSE  \n",
       "11044  1          Returning_Visitor FALSE   FALSE  \n",
       "11206 20          Other             FALSE   FALSE  \n",
       "11405 13          Returning_Visitor FALSE   FALSE  \n",
       "11524 13          Returning_Visitor FALSE   FALSE  \n",
       "11582 20          Other             FALSE   FALSE  \n",
       "11625  1          Returning_Visitor FALSE   FALSE  \n",
       "11659  1          Returning_Visitor  TRUE   FALSE  \n",
       "11734  1          Returning_Visitor FALSE   FALSE  \n",
       "11748  3          Returning_Visitor FALSE   FALSE  \n",
       "11802  1          Returning_Visitor  TRUE   FALSE  \n",
       "11814  1          Returning_Visitor FALSE   FALSE  \n",
       "11828  1          Returning_Visitor FALSE   FALSE  \n",
       "11935  2          New_Visitor       FALSE   FALSE  \n",
       "11939  1          Returning_Visitor  TRUE   FALSE  \n",
       "12160  3          Returning_Visitor FALSE   FALSE  \n",
       "12181 20          Returning_Visitor FALSE   FALSE  \n",
       "12186 20          Other             FALSE   FALSE  "
      ]
     },
     "metadata": {},
     "output_type": "display_data"
    }
   ],
   "source": [
    "a <- russian[duplicated(russian),]\n",
    "a"
   ]
  },
  {
   "cell_type": "markdown",
   "metadata": {},
   "source": [
    "the are no absolute reason that we should remove the outliers because they seem valid"
   ]
  },
  {
   "cell_type": "code",
   "execution_count": 35,
   "metadata": {
    "ExecuteTime": {
     "end_time": "2020-03-12T09:04:49.280769Z",
     "start_time": "2020-03-12T09:03:30.295Z"
    }
   },
   "outputs": [],
   "source": [
    "# Standardising the column names\n",
    "names(russian)[names(russian) == \"Administrative\"] <- \"administrative\"\n",
    "names(russian)[names(russian) == \"Administrative_Duration\"] <- \"administrative_duration\"\n",
    "names(russian)[names(russian) == \"Informational\"] <- \"informational\"\n",
    "names(russian)[names(russian) == \"Informational_Duration\"] <- \"informational_duration\"\n",
    "names(russian)[names(russian) == \"ProductRelated\"] <- \"product_related\"\n",
    "names(russian)[names(russian) == \"ProductRelated_Duration\"] <- \"product_related_duration\"\n",
    "names(russian)[names(russian) == \"BounceRates\"] <- \"bounce_rates\"\n",
    "names(russian)[names(russian) == \"ExitRates\"] <- \"exit_rates\"\n",
    "names(russian)[names(russian) == \"PageValues\"] <- \"page_values\"\n",
    "names(russian)[names(russian) == \"SpecialDay\"] <- \"special_day\"\n",
    "names(russian)[names(russian) == \"Month\"] <- \"month\"\n",
    "names(russian)[names(russian) == \"Operatingsystems\"] <- \"operating_systems\"\n",
    "names(russian)[names(russian) == \"Browser\"] <- \"browser\"\n",
    "names(russian)[names(russian) == \"Region\"] <- \"region\"\n",
    "names(russian)[names(russian) == \"TrafficType\"] <- \"traffic_type\"\n",
    "names(russian)[names(russian) == \"VisitorType\"] <- \"visitor_type\"\n",
    "names(russian)[names(russian) == \"Weekend\"] <- \"weekend\"\n",
    "names(russian)[names(russian) == \"Revenue\"] <- \"revenue\""
   ]
  },
  {
   "cell_type": "code",
   "execution_count": 36,
   "metadata": {
    "ExecuteTime": {
     "end_time": "2020-03-12T09:04:51.503081Z",
     "start_time": "2020-03-12T09:03:49.321Z"
    }
   },
   "outputs": [],
   "source": [
    "# converting the revenue column to a factor since it our label\n",
    "b = c('revenue')\n",
    "for (i in b) {\n",
    "russian[,i] = as.factor(russian[,i])\n",
    "}"
   ]
  },
  {
   "cell_type": "markdown",
   "metadata": {},
   "source": [
    "# Univariate Analysis"
   ]
  },
  {
   "cell_type": "code",
   "execution_count": 37,
   "metadata": {
    "ExecuteTime": {
     "end_time": "2020-03-12T09:04:53.774672Z",
     "start_time": "2020-03-12T09:04:11.430Z"
    }
   },
   "outputs": [
    {
     "data": {
      "image/png": "[encoded data removed]",
      "text/plain": [
       "Plot with title \"Administrative\""
      ]
     },
     "metadata": {},
     "output_type": "display_data"
    }
   ],
   "source": [
    "hist(russian$administrative,\n",
    "main=\"Administrative\",\n",
    "xlab = \"Administrative\",\n",
    "col='green')"
   ]
  },
  {
   "cell_type": "markdown",
   "metadata": {},
   "source": [
    "data is skewed to the right and most of the data is skewed between 0 and 5 "
   ]
  },
  {
   "cell_type": "code",
   "execution_count": 38,
   "metadata": {
    "ExecuteTime": {
     "end_time": "2020-03-12T09:04:56.032278Z",
     "start_time": "2020-03-12T09:04:35.500Z"
    }
   },
   "outputs": [
    {
     "data": {
      "image/png": "[encoded data removed]",
      "text/plain": [
       "Plot with title \"Administrative Duration\""
      ]
     },
     "metadata": {},
     "output_type": "display_data"
    }
   ],
   "source": [
    "hist(russian$administrative_duration,\n",
    "main= \"Administrative Duration\",\n",
    "xlab= \"Administrative Duration\",\n",
    "col= \"green\")"
   ]
  },
  {
   "cell_type": "markdown",
   "metadata": {},
   "source": [
    "data is skewed to the right and most of the data is skewed between 0 and 250 "
   ]
  },
  {
   "cell_type": "code",
   "execution_count": 39,
   "metadata": {
    "ExecuteTime": {
     "end_time": "2020-03-12T09:05:01.617350Z",
     "start_time": "2020-03-12T09:05:01.530Z"
    }
   },
   "outputs": [
    {
     "data": {
      "image/png": "[encoded data removed]",
      "text/plain": [
       "Plot with title \"Informational\""
      ]
     },
     "metadata": {},
     "output_type": "display_data"
    }
   ],
   "source": [
    "hist(russian$informational,\n",
    "main =  \"Informational\",\n",
    "xlab = \"Informational\",\n",
    "col = \"red\")"
   ]
  },
  {
   "cell_type": "markdown",
   "metadata": {},
   "source": [
    "data is skewed to the right and most of the data is skewed between 0 and 3"
   ]
  },
  {
   "cell_type": "code",
   "execution_count": 40,
   "metadata": {
    "ExecuteTime": {
     "end_time": "2020-03-12T09:05:29.514088Z",
     "start_time": "2020-03-12T09:05:29.423Z"
    }
   },
   "outputs": [
    {
     "data": {
      "image/png": "[encoded data removed]",
      "text/plain": [
       "Plot with title \"Informational Duration\""
      ]
     },
     "metadata": {},
     "output_type": "display_data"
    }
   ],
   "source": [
    "hist(russian$informational_duration,\n",
    "main = \"Informational Duration\",\n",
    "xlab= \"Informational Duration\",\n",
    "col = \"blue\")"
   ]
  },
  {
   "cell_type": "markdown",
   "metadata": {},
   "source": [
    "data is skewed to the right and most of the data is skewed between 0 and 250"
   ]
  },
  {
   "cell_type": "code",
   "execution_count": 41,
   "metadata": {
    "ExecuteTime": {
     "end_time": "2020-03-12T09:06:02.779927Z",
     "start_time": "2020-03-12T09:06:02.695Z"
    }
   },
   "outputs": [
    {
     "data": {
      "image/png": "[encoded data removed]",
      "text/plain": [
       "Plot with title \"Product Related\""
      ]
     },
     "metadata": {},
     "output_type": "display_data"
    }
   ],
   "source": [
    "hist(russian$product_related,\n",
    "main = \"Product Related\",\n",
    "xlab = \"Product Related\",\n",
    "col = \"blue\")"
   ]
  },
  {
   "cell_type": "markdown",
   "metadata": {},
   "source": [
    "data is skewed to the right and most of the data is skewed between 0 and 100"
   ]
  },
  {
   "cell_type": "code",
   "execution_count": 42,
   "metadata": {
    "ExecuteTime": {
     "end_time": "2020-03-12T09:06:25.292101Z",
     "start_time": "2020-03-12T09:06:25.157Z"
    }
   },
   "outputs": [
    {
     "data": {
      "image/png": "[encoded data removed]",
      "text/plain": [
       "Plot with title \"Product Related Duration\""
      ]
     },
     "metadata": {},
     "output_type": "display_data"
    }
   ],
   "source": [
    "hist(russian$product_related_duration,\n",
    "main = \"Product Related Duration\",\n",
    "xlab = \"Product Related Duration\",\n",
    "col = \"red\")"
   ]
  },
  {
   "cell_type": "markdown",
   "metadata": {},
   "source": [
    "data is skewed to the right and most of the data is skewed between 0 and 10,000"
   ]
  },
  {
   "cell_type": "code",
   "execution_count": 43,
   "metadata": {
    "ExecuteTime": {
     "end_time": "2020-03-12T09:08:10.052904Z",
     "start_time": "2020-03-12T09:08:09.973Z"
    }
   },
   "outputs": [
    {
     "data": {
      "image/png": "[encoded data removed]",
      "text/plain": [
       "Plot with title \"Bounce Rates\""
      ]
     },
     "metadata": {},
     "output_type": "display_data"
    }
   ],
   "source": [
    "hist(russian$bounce_rates,\n",
    "main = \"Bounce Rates\",\n",
    "xlab = \"Bounce Rates\",\n",
    "col = \"purple\")"
   ]
  },
  {
   "cell_type": "markdown",
   "metadata": {},
   "source": [
    "data is skewed to the right and most of the data is skewed between 0 and 0.02"
   ]
  },
  {
   "cell_type": "code",
   "execution_count": 44,
   "metadata": {
    "ExecuteTime": {
     "end_time": "2020-03-12T09:08:36.184709Z",
     "start_time": "2020-03-12T09:08:36.062Z"
    }
   },
   "outputs": [
    {
     "data": {
      "image/png": "[encoded data removed]",
      "text/plain": [
       "Plot with title \"Exit Rates\""
      ]
     },
     "metadata": {},
     "output_type": "display_data"
    }
   ],
   "source": [
    "hist(russian$exit_rates,\n",
    "main = \"Exit Rates\",\n",
    "xlab = \"Exit Rates\",\n",
    "col = \"blue\")"
   ]
  },
  {
   "cell_type": "markdown",
   "metadata": {},
   "source": [
    "data is skewed to the right and most of the data is skewed between 0 and 0.05"
   ]
  },
  {
   "cell_type": "code",
   "execution_count": 45,
   "metadata": {
    "ExecuteTime": {
     "end_time": "2020-03-12T09:09:03.278215Z",
     "start_time": "2020-03-12T09:09:03.182Z"
    }
   },
   "outputs": [
    {
     "data": {
      "image/png": "[encoded data removed]",
      "text/plain": [
       "Plot with title \"Page Values\""
      ]
     },
     "metadata": {},
     "output_type": "display_data"
    }
   ],
   "source": [
    "hist(russian$page_values,\n",
    "main = \"Page Values\",\n",
    "xlab = \"Page Values\",\n",
    "col = \"blue\")"
   ]
  },
  {
   "cell_type": "markdown",
   "metadata": {},
   "source": [
    "data is skewed to the right and most of the data is skewed between 0 and 25"
   ]
  },
  {
   "cell_type": "code",
   "execution_count": 46,
   "metadata": {
    "ExecuteTime": {
     "end_time": "2020-03-12T09:09:25.203226Z",
     "start_time": "2020-03-12T09:09:25.068Z"
    }
   },
   "outputs": [
    {
     "data": {
      "image/png": "[encoded data removed]",
      "text/plain": [
       "Plot with title \"Special Day\""
      ]
     },
     "metadata": {},
     "output_type": "display_data"
    }
   ],
   "source": [
    "barplot(table(russian$special_day),\n",
    "main = \"Special Day\",\n",
    "xlab = \"Special Day\",\n",
    "col = \"blue\")"
   ]
  },
  {
   "cell_type": "markdown",
   "metadata": {
    "ExecuteTime": {
     "end_time": "2020-03-12T09:09:34.670036Z",
     "start_time": "2020-03-12T09:09:34.642Z"
    }
   },
   "source": [
    "the special day of 0 has the most visits"
   ]
  },
  {
   "cell_type": "code",
   "execution_count": 48,
   "metadata": {
    "ExecuteTime": {
     "end_time": "2020-03-12T09:09:52.367194Z",
     "start_time": "2020-03-12T09:09:52.274Z"
    }
   },
   "outputs": [
    {
     "data": {
      "image/png": "[encoded data removed]",
      "text/plain": [
       "Plot with title \"Month\""
      ]
     },
     "metadata": {},
     "output_type": "display_data"
    }
   ],
   "source": [
    "barplot(table(russian$month),\n",
    "main = \"Month\",\n",
    "xlab = \"Month\",\n",
    "col = \"blue\")"
   ]
  },
  {
   "cell_type": "markdown",
   "metadata": {},
   "source": [
    "the month of May had most visits"
   ]
  },
  {
   "cell_type": "code",
   "execution_count": 49,
   "metadata": {
    "ExecuteTime": {
     "end_time": "2020-03-12T09:10:20.463732Z",
     "start_time": "2020-03-12T09:10:20.333Z"
    }
   },
   "outputs": [
    {
     "data": {
      "image/png": "[encoded data removed]",
      "text/plain": [
       "Plot with title \"Operating Systems\""
      ]
     },
     "metadata": {},
     "output_type": "display_data"
    }
   ],
   "source": [
    "barplot(table(russian$OperatingSystems),\n",
    "main = \"Operating Systems\",\n",
    "xlab = \"Operating Systems\",\n",
    "col = \"green\")"
   ]
  },
  {
   "cell_type": "markdown",
   "metadata": {},
   "source": [
    "operating systems 2 is the most used to access the website"
   ]
  },
  {
   "cell_type": "code",
   "execution_count": 50,
   "metadata": {
    "ExecuteTime": {
     "end_time": "2020-03-12T09:10:43.721290Z",
     "start_time": "2020-03-12T09:10:43.636Z"
    }
   },
   "outputs": [
    {
     "data": {
      "image/png": "[encoded data removed]",
      "text/plain": [
       "Plot with title \"browser\""
      ]
     },
     "metadata": {},
     "output_type": "display_data"
    }
   ],
   "source": [
    "barplot(table(russian$browser),\n",
    "main = \"browser\",\n",
    "xlab = \"browser\",\n",
    "col = \"green\")"
   ]
  },
  {
   "cell_type": "markdown",
   "metadata": {
    "ExecuteTime": {
     "end_time": "2020-03-12T09:10:55.292173Z",
     "start_time": "2020-03-12T09:10:55.260Z"
    }
   },
   "source": [
    "browser 2 is the most used to access the website"
   ]
  },
  {
   "cell_type": "code",
   "execution_count": 52,
   "metadata": {
    "ExecuteTime": {
     "end_time": "2020-03-12T09:11:20.324300Z",
     "start_time": "2020-03-12T09:11:20.236Z"
    }
   },
   "outputs": [
    {
     "data": {
      "image/png": "[encoded data removed]",
      "text/plain": [
       "Plot with title \"region\""
      ]
     },
     "metadata": {},
     "output_type": "display_data"
    }
   ],
   "source": [
    "barplot(table(russian$region),\n",
    "main = \"region\",\n",
    "xlab = \"region\",\n",
    "col = \"green\")"
   ]
  },
  {
   "cell_type": "markdown",
   "metadata": {},
   "source": [
    "region 1 has the most number of people visiting the system"
   ]
  },
  {
   "cell_type": "code",
   "execution_count": 53,
   "metadata": {
    "ExecuteTime": {
     "end_time": "2020-03-12T09:11:43.881316Z",
     "start_time": "2020-03-12T09:11:43.798Z"
    }
   },
   "outputs": [
    {
     "data": {
      "image/png": "[encoded data removed]",
      "text/plain": [
       "Plot with title \"Traffic Type\""
      ]
     },
     "metadata": {},
     "output_type": "display_data"
    }
   ],
   "source": [
    "barplot(table(russian$traffic_type),\n",
    "main = \"Traffic Type\",\n",
    "xlab = \"Traffic Type\",\n",
    "col = \"green\")"
   ]
  },
  {
   "cell_type": "markdown",
   "metadata": {},
   "source": [
    "traffic type 2 is has the most visits"
   ]
  },
  {
   "cell_type": "code",
   "execution_count": 54,
   "metadata": {
    "ExecuteTime": {
     "end_time": "2020-03-12T09:12:08.539269Z",
     "start_time": "2020-03-12T09:12:08.451Z"
    }
   },
   "outputs": [
    {
     "data": {
      "image/png": "[encoded data removed]",
      "text/plain": [
       "Plot with title \"Visitor Type\""
      ]
     },
     "metadata": {},
     "output_type": "display_data"
    }
   ],
   "source": [
    "barplot(table(russian$visitor_type),\n",
    "main = \"Visitor Type\",\n",
    "xlab = \"Visitor Type\",\n",
    "col = \"blue\")"
   ]
  },
  {
   "cell_type": "markdown",
   "metadata": {},
   "source": [
    "returning visitorsare the most frequent visitors of the website"
   ]
  },
  {
   "cell_type": "code",
   "execution_count": 55,
   "metadata": {
    "ExecuteTime": {
     "end_time": "2020-03-12T09:12:35.018225Z",
     "start_time": "2020-03-12T09:12:34.912Z"
    }
   },
   "outputs": [
    {
     "data": {
      "image/png": "[encoded data removed]",
      "text/plain": [
       "Plot with title \"Weekend\""
      ]
     },
     "metadata": {},
     "output_type": "display_data"
    }
   ],
   "source": [
    "barplot(table(russian$weekend),\n",
    "main = \"Weekend\",\n",
    "xlab = \"Weekend\",\n",
    "col = \"green\")"
   ]
  },
  {
   "cell_type": "markdown",
   "metadata": {},
   "source": [
    "most visit are done during the weekdays"
   ]
  },
  {
   "cell_type": "code",
   "execution_count": 56,
   "metadata": {
    "ExecuteTime": {
     "end_time": "2020-03-12T09:13:10.944189Z",
     "start_time": "2020-03-12T09:13:10.857Z"
    }
   },
   "outputs": [
    {
     "data": {
      "image/png": "[encoded data removed]",
      "text/plain": [
       "Plot with title \"Revenue\""
      ]
     },
     "metadata": {},
     "output_type": "display_data"
    }
   ],
   "source": [
    "barplot(table(russian$revenue),\n",
    "main = \"Revenue\",\n",
    "xlab = \"Revenue\",\n",
    "col = \"black\")"
   ]
  },
  {
   "cell_type": "markdown",
   "metadata": {},
   "source": [
    "revenue collected by the company is less compared to the one that is not collected"
   ]
  },
  {
   "cell_type": "markdown",
   "metadata": {},
   "source": [
    "# Bivariate Analysis"
   ]
  },
  {
   "cell_type": "code",
   "execution_count": 57,
   "metadata": {
    "ExecuteTime": {
     "end_time": "2020-03-12T09:14:02.547836Z",
     "start_time": "2020-03-12T09:14:01.032Z"
    }
   },
   "outputs": [
    {
     "name": "stderr",
     "output_type": "stream",
     "text": [
      "Registered S3 methods overwritten by 'ggplot2':\n",
      "  method         from \n",
      "  [.quosures     rlang\n",
      "  c.quosures     rlang\n",
      "  print.quosures rlang\n"
     ]
    }
   ],
   "source": [
    "# we are going to import the library that is responsible for visualisations\n",
    "library(ggplot2)"
   ]
  },
  {
   "cell_type": "code",
   "execution_count": 59,
   "metadata": {
    "ExecuteTime": {
     "end_time": "2020-03-12T09:15:15.747830Z",
     "start_time": "2020-03-12T09:15:15.073Z"
    }
   },
   "outputs": [
    {
     "data": {
      "image/png": "[encoded data removed]",
      "text/plain": [
       "plot without title"
      ]
     },
     "metadata": {},
     "output_type": "display_data"
    }
   ],
   "source": [
    "# administrative ve revenue\n",
    "admin =ggplot(data=russian, aes(x=administrative, fill= revenue)) + geom_bar()\n",
    "admin"
   ]
  },
  {
   "cell_type": "markdown",
   "metadata": {},
   "source": [
    "generally, there is less revenue collected from the administrative page"
   ]
  },
  {
   "cell_type": "code",
   "execution_count": 60,
   "metadata": {
    "ExecuteTime": {
     "end_time": "2020-03-12T09:15:45.574950Z",
     "start_time": "2020-03-12T09:15:45.072Z"
    }
   },
   "outputs": [
    {
     "data": {
      "image/png": "[encoded data removed]",
      "text/plain": [
       "plot without title"
      ]
     },
     "metadata": {},
     "output_type": "display_data"
    }
   ],
   "source": [
    "# informational vs revenue\n",
    "info = ggplot(data = russian, aes(x = informational, fill= revenue)) + geom_bar()\n",
    "info"
   ]
  },
  {
   "cell_type": "markdown",
   "metadata": {
    "ExecuteTime": {
     "end_time": "2020-03-12T09:15:53.776755Z",
     "start_time": "2020-03-12T09:15:53.746Z"
    }
   },
   "source": [
    "generally, there is less revenue collected from the informational page"
   ]
  },
  {
   "cell_type": "code",
   "execution_count": 62,
   "metadata": {
    "ExecuteTime": {
     "end_time": "2020-03-12T09:16:19.921373Z",
     "start_time": "2020-03-12T09:16:19.261Z"
    }
   },
   "outputs": [
    {
     "data": {
      "image/png": "[encoded data removed]",
      "text/plain": [
       "plot without title"
      ]
     },
     "metadata": {},
     "output_type": "display_data"
    }
   ],
   "source": [
    "# Product related vs revenue\n",
    "product = ggplot(data = russian, aes(x = product_related, fill= revenue)) + geom_bar()\n",
    "product"
   ]
  },
  {
   "cell_type": "markdown",
   "metadata": {},
   "source": [
    "generally, there is less revenue collected from the product related page"
   ]
  },
  {
   "cell_type": "code",
   "execution_count": 63,
   "metadata": {
    "ExecuteTime": {
     "end_time": "2020-03-12T09:18:18.268611Z",
     "start_time": "2020-03-12T09:18:17.645Z"
    }
   },
   "outputs": [
    {
     "data": {
      "image/png": "[encoded data removed]",
      "text/plain": [
       "plot without title"
      ]
     },
     "metadata": {},
     "output_type": "display_data"
    }
   ],
   "source": [
    "# Special day vs revenue\n",
    "special = ggplot(data = russian, aes(x = special_day, fill= revenue)) + geom_bar()\n",
    "special"
   ]
  },
  {
   "cell_type": "markdown",
   "metadata": {},
   "source": [
    "Generally, there is less revenue collected in the special days\n",
    "\n",
    "Most of the revenue is collected during the special day of 0"
   ]
  },
  {
   "cell_type": "code",
   "execution_count": 64,
   "metadata": {
    "ExecuteTime": {
     "end_time": "2020-03-12T09:19:30.774730Z",
     "start_time": "2020-03-12T09:19:30.197Z"
    }
   },
   "outputs": [
    {
     "data": {
      "image/png": "[encoded data removed]",
      "text/plain": [
       "plot without title"
      ]
     },
     "metadata": {},
     "output_type": "display_data"
    }
   ],
   "source": [
    "# Month vs revenue\n",
    "product = ggplot(data = russian, aes(x = month, fill= revenue)) + geom_bar()\n",
    "product"
   ]
  },
  {
   "cell_type": "markdown",
   "metadata": {},
   "source": [
    "generally, there is less revenue collected through out the year\n",
    "November made a lot revenue"
   ]
  },
  {
   "cell_type": "code",
   "execution_count": 65,
   "metadata": {
    "ExecuteTime": {
     "end_time": "2020-03-12T09:20:19.402542Z",
     "start_time": "2020-03-12T09:20:18.944Z"
    }
   },
   "outputs": [
    {
     "data": {
      "image/png": "[encoded data removed]",
      "text/plain": [
       "plot without title"
      ]
     },
     "metadata": {},
     "output_type": "display_data"
    }
   ],
   "source": [
    "# Operating system vs revenue\n",
    "product = ggplot(data = russian, aes(x = OperatingSystems, fill= revenue)) + geom_bar()\n",
    "product"
   ]
  },
  {
   "cell_type": "markdown",
   "metadata": {},
   "source": [
    "operating system 2 helps the brand to generate revenue  "
   ]
  },
  {
   "cell_type": "code",
   "execution_count": 66,
   "metadata": {
    "ExecuteTime": {
     "end_time": "2020-03-12T09:20:55.058563Z",
     "start_time": "2020-03-12T09:20:54.575Z"
    }
   },
   "outputs": [
    {
     "data": {
      "image/png": "[encoded data removed]",
      "text/plain": [
       "plot without title"
      ]
     },
     "metadata": {},
     "output_type": "display_data"
    }
   ],
   "source": [
    "# Browser vs revenue\n",
    "product = ggplot(data = russian, aes(x = browser, fill= revenue)) + geom_bar()\n",
    "product"
   ]
  },
  {
   "cell_type": "markdown",
   "metadata": {},
   "source": [
    "browser 2 helps the brand to generate a lot of revenue"
   ]
  },
  {
   "cell_type": "code",
   "execution_count": 67,
   "metadata": {
    "ExecuteTime": {
     "end_time": "2020-03-12T09:21:31.987075Z",
     "start_time": "2020-03-12T09:21:31.490Z"
    }
   },
   "outputs": [
    {
     "data": {
      "image/png": "[encoded data removed]",
      "text/plain": [
       "plot without title"
      ]
     },
     "metadata": {},
     "output_type": "display_data"
    }
   ],
   "source": [
    "# Region vs revenue\n",
    "product = ggplot(data = russian, aes(x = region, fill= revenue)) + geom_bar()\n",
    "product"
   ]
  },
  {
   "cell_type": "markdown",
   "metadata": {},
   "source": [
    "A lot of revenue is collected from region 1"
   ]
  },
  {
   "cell_type": "code",
   "execution_count": 68,
   "metadata": {
    "ExecuteTime": {
     "end_time": "2020-03-12T09:22:28.974696Z",
     "start_time": "2020-03-12T09:22:28.465Z"
    }
   },
   "outputs": [
    {
     "data": {
      "image/png": "[encoded data removed]",
      "text/plain": [
       "plot without title"
      ]
     },
     "metadata": {},
     "output_type": "display_data"
    }
   ],
   "source": [
    "# Traffic type vs revenue\n",
    "product = ggplot(data = russian, aes(x = traffic_type, fill= revenue)) + geom_bar()\n",
    "product"
   ]
  },
  {
   "cell_type": "markdown",
   "metadata": {},
   "source": [
    "the second type of traffic helps the brand generate a lot of revenue"
   ]
  },
  {
   "cell_type": "code",
   "execution_count": 69,
   "metadata": {
    "ExecuteTime": {
     "end_time": "2020-03-12T09:23:09.322141Z",
     "start_time": "2020-03-12T09:23:08.650Z"
    }
   },
   "outputs": [
    {
     "data": {
      "image/png": "[encoded data removed]",
      "text/plain": [
       "plot without title"
      ]
     },
     "metadata": {},
     "output_type": "display_data"
    }
   ],
   "source": [
    "# Visitor type vs revenue\n",
    "product = ggplot(data = russian, aes(x = visitor_type, fill= revenue)) + geom_bar()\n",
    "product"
   ]
  },
  {
   "cell_type": "markdown",
   "metadata": {},
   "source": [
    "returning visitors are the ones who are making the brand generate a lot of revenue compared to other types of visitors"
   ]
  },
  {
   "cell_type": "code",
   "execution_count": 70,
   "metadata": {
    "ExecuteTime": {
     "end_time": "2020-03-12T09:23:45.657093Z",
     "start_time": "2020-03-12T09:23:45.130Z"
    }
   },
   "outputs": [
    {
     "data": {
      "image/png": "[encoded data removed]",
      "text/plain": [
       "plot without title"
      ]
     },
     "metadata": {},
     "output_type": "display_data"
    }
   ],
   "source": [
    "# Weekend vs revenue\n",
    "product = ggplot(data = russian, aes(x = weekend, fill= revenue)) + geom_bar()\n",
    "product"
   ]
  },
  {
   "cell_type": "markdown",
   "metadata": {},
   "source": [
    "Most of the revenue is generated during the weekdays"
   ]
  },
  {
   "cell_type": "markdown",
   "metadata": {},
   "source": [
    "# Modelling"
   ]
  },
  {
   "cell_type": "markdown",
   "metadata": {},
   "source": [
    "## K-Means"
   ]
  },
  {
   "cell_type": "code",
   "execution_count": 71,
   "metadata": {
    "ExecuteTime": {
     "end_time": "2020-03-12T09:25:03.632283Z",
     "start_time": "2020-03-12T09:25:03.572Z"
    }
   },
   "outputs": [
    {
     "data": {
      "text/html": [
       "<table>\n",
       "<thead><tr><th scope=col>administrative</th><th scope=col>administrative_duration</th><th scope=col>informational</th><th scope=col>informational_duration</th><th scope=col>product_related</th><th scope=col>product_related_duration</th><th scope=col>bounce_rates</th><th scope=col>exit_rates</th><th scope=col>page_values</th><th scope=col>special_day</th><th scope=col>OperatingSystems</th><th scope=col>browser</th><th scope=col>region</th><th scope=col>traffic_type</th><th scope=col>weekend</th></tr></thead>\n",
       "<tbody>\n",
       "\t<tr><td>0         </td><td> 0        </td><td>0         </td><td> 0        </td><td> 1        </td><td>  0.000000</td><td>0.20000000</td><td>0.2000000 </td><td>0         </td><td>0         </td><td>1         </td><td>1         </td><td>1         </td><td>1         </td><td>FALSE     </td></tr>\n",
       "\t<tr><td>0         </td><td> 0        </td><td>0         </td><td> 0        </td><td> 2        </td><td> 64.000000</td><td>0.00000000</td><td>0.1000000 </td><td>0         </td><td>0         </td><td>2         </td><td>2         </td><td>1         </td><td>2         </td><td>FALSE     </td></tr>\n",
       "\t<tr><td>0         </td><td>-1        </td><td>0         </td><td>-1        </td><td> 1        </td><td> -1.000000</td><td>0.20000000</td><td>0.2000000 </td><td>0         </td><td>0         </td><td>4         </td><td>1         </td><td>9         </td><td>3         </td><td>FALSE     </td></tr>\n",
       "\t<tr><td>0         </td><td> 0        </td><td>0         </td><td> 0        </td><td> 2        </td><td>  2.666667</td><td>0.05000000</td><td>0.1400000 </td><td>0         </td><td>0         </td><td>3         </td><td>2         </td><td>2         </td><td>4         </td><td>FALSE     </td></tr>\n",
       "\t<tr><td>0         </td><td> 0        </td><td>0         </td><td> 0        </td><td>10        </td><td>627.500000</td><td>0.02000000</td><td>0.0500000 </td><td>0         </td><td>0         </td><td>3         </td><td>3         </td><td>1         </td><td>4         </td><td> TRUE     </td></tr>\n",
       "\t<tr><td>0         </td><td> 0        </td><td>0         </td><td> 0        </td><td>19        </td><td>154.216667</td><td>0.01578947</td><td>0.0245614 </td><td>0         </td><td>0         </td><td>2         </td><td>2         </td><td>1         </td><td>3         </td><td>FALSE     </td></tr>\n",
       "</tbody>\n",
       "</table>\n"
      ],
      "text/latex": [
       "\\begin{tabular}{r|lllllllllllllll}\n",
       " administrative & administrative\\_duration & informational & informational\\_duration & product\\_related & product\\_related\\_duration & bounce\\_rates & exit\\_rates & page\\_values & special\\_day & OperatingSystems & browser & region & traffic\\_type & weekend\\\\\n",
       "\\hline\n",
       "\t 0          &  0         & 0          &  0         &  1         &   0.000000 & 0.20000000 & 0.2000000  & 0          & 0          & 1          & 1          & 1          & 1          & FALSE     \\\\\n",
       "\t 0          &  0         & 0          &  0         &  2         &  64.000000 & 0.00000000 & 0.1000000  & 0          & 0          & 2          & 2          & 1          & 2          & FALSE     \\\\\n",
       "\t 0          & -1         & 0          & -1         &  1         &  -1.000000 & 0.20000000 & 0.2000000  & 0          & 0          & 4          & 1          & 9          & 3          & FALSE     \\\\\n",
       "\t 0          &  0         & 0          &  0         &  2         &   2.666667 & 0.05000000 & 0.1400000  & 0          & 0          & 3          & 2          & 2          & 4          & FALSE     \\\\\n",
       "\t 0          &  0         & 0          &  0         & 10         & 627.500000 & 0.02000000 & 0.0500000  & 0          & 0          & 3          & 3          & 1          & 4          &  TRUE     \\\\\n",
       "\t 0          &  0         & 0          &  0         & 19         & 154.216667 & 0.01578947 & 0.0245614  & 0          & 0          & 2          & 2          & 1          & 3          & FALSE     \\\\\n",
       "\\end{tabular}\n"
      ],
      "text/markdown": [
       "\n",
       "| administrative | administrative_duration | informational | informational_duration | product_related | product_related_duration | bounce_rates | exit_rates | page_values | special_day | OperatingSystems | browser | region | traffic_type | weekend |\n",
       "|---|---|---|---|---|---|---|---|---|---|---|---|---|---|---|\n",
       "| 0          |  0         | 0          |  0         |  1         |   0.000000 | 0.20000000 | 0.2000000  | 0          | 0          | 1          | 1          | 1          | 1          | FALSE      |\n",
       "| 0          |  0         | 0          |  0         |  2         |  64.000000 | 0.00000000 | 0.1000000  | 0          | 0          | 2          | 2          | 1          | 2          | FALSE      |\n",
       "| 0          | -1         | 0          | -1         |  1         |  -1.000000 | 0.20000000 | 0.2000000  | 0          | 0          | 4          | 1          | 9          | 3          | FALSE      |\n",
       "| 0          |  0         | 0          |  0         |  2         |   2.666667 | 0.05000000 | 0.1400000  | 0          | 0          | 3          | 2          | 2          | 4          | FALSE      |\n",
       "| 0          |  0         | 0          |  0         | 10         | 627.500000 | 0.02000000 | 0.0500000  | 0          | 0          | 3          | 3          | 1          | 4          |  TRUE      |\n",
       "| 0          |  0         | 0          |  0         | 19         | 154.216667 | 0.01578947 | 0.0245614  | 0          | 0          | 2          | 2          | 1          | 3          | FALSE      |\n",
       "\n"
      ],
      "text/plain": [
       "  administrative administrative_duration informational informational_duration\n",
       "1 0               0                      0              0                    \n",
       "2 0               0                      0              0                    \n",
       "3 0              -1                      0             -1                    \n",
       "4 0               0                      0              0                    \n",
       "5 0               0                      0              0                    \n",
       "6 0               0                      0              0                    \n",
       "  product_related product_related_duration bounce_rates exit_rates page_values\n",
       "1  1                0.000000               0.20000000   0.2000000  0          \n",
       "2  2               64.000000               0.00000000   0.1000000  0          \n",
       "3  1               -1.000000               0.20000000   0.2000000  0          \n",
       "4  2                2.666667               0.05000000   0.1400000  0          \n",
       "5 10              627.500000               0.02000000   0.0500000  0          \n",
       "6 19              154.216667               0.01578947   0.0245614  0          \n",
       "  special_day OperatingSystems browser region traffic_type weekend\n",
       "1 0           1                1       1      1            FALSE  \n",
       "2 0           2                2       1      2            FALSE  \n",
       "3 0           4                1       9      3            FALSE  \n",
       "4 0           3                2       2      4            FALSE  \n",
       "5 0           3                3       1      4             TRUE  \n",
       "6 0           2                2       1      3            FALSE  "
      ]
     },
     "metadata": {},
     "output_type": "display_data"
    }
   ],
   "source": [
    "# Preprocessing the data\n",
    "# for clustering is a form of unsupervised learning,\n",
    "# we are going to remove the dependent variable and assign it a separate variable from the independent variables.\n",
    "# then, we shall normalise the independent variable.\n",
    "russian.new <- russian[, c(1,2,3,4,5,6,7,8,9,10,12,13,14,15,17)]\n",
    "russian.class <- russian[, \"revenue\"]\n",
    "head(russian.new)"
   ]
  },
  {
   "cell_type": "code",
   "execution_count": 72,
   "metadata": {
    "ExecuteTime": {
     "end_time": "2020-03-12T09:25:12.485340Z",
     "start_time": "2020-03-12T09:25:12.427Z"
    }
   },
   "outputs": [
    {
     "data": {
      "text/html": [
       "<ol class=list-inline>\n",
       "\t<li>FALSE</li>\n",
       "\t<li>FALSE</li>\n",
       "\t<li>FALSE</li>\n",
       "\t<li>FALSE</li>\n",
       "\t<li>FALSE</li>\n",
       "\t<li>FALSE</li>\n",
       "</ol>\n",
       "\n",
       "<details>\n",
       "\t<summary style=display:list-item;cursor:pointer>\n",
       "\t\t<strong>Levels</strong>:\n",
       "\t</summary>\n",
       "\t<ol class=list-inline>\n",
       "\t\t<li>'FALSE'</li>\n",
       "\t\t<li>'TRUE'</li>\n",
       "\t</ol>\n",
       "</details>"
      ],
      "text/latex": [
       "\\begin{enumerate*}\n",
       "\\item FALSE\n",
       "\\item FALSE\n",
       "\\item FALSE\n",
       "\\item FALSE\n",
       "\\item FALSE\n",
       "\\item FALSE\n",
       "\\end{enumerate*}\n",
       "\n",
       "\\emph{Levels}: \\begin{enumerate*}\n",
       "\\item 'FALSE'\n",
       "\\item 'TRUE'\n",
       "\\end{enumerate*}\n"
      ],
      "text/markdown": [
       "1. FALSE\n",
       "2. FALSE\n",
       "3. FALSE\n",
       "4. FALSE\n",
       "5. FALSE\n",
       "6. FALSE\n",
       "\n",
       "\n",
       "\n",
       "**Levels**: 1. 'FALSE'\n",
       "2. 'TRUE'\n",
       "\n",
       "\n"
      ],
      "text/plain": [
       "[1] FALSE FALSE FALSE FALSE FALSE FALSE\n",
       "Levels: FALSE TRUE"
      ]
     },
     "metadata": {},
     "output_type": "display_data"
    }
   ],
   "source": [
    "# previewing the dependent variable\n",
    "head(russian.class)"
   ]
  },
  {
   "cell_type": "code",
   "execution_count": 73,
   "metadata": {
    "ExecuteTime": {
     "end_time": "2020-03-12T09:25:41.153242Z",
     "start_time": "2020-03-12T09:25:41.109Z"
    }
   },
   "outputs": [],
   "source": [
    "# converting categorical data to numerical data\n",
    "a = c('month', 'visitor_type', \"weekend\")\n",
    "for (i in a) {\n",
    "russian[,i] = as.factor(russian[,i])\n",
    "}"
   ]
  },
  {
   "cell_type": "code",
   "execution_count": 74,
   "metadata": {
    "ExecuteTime": {
     "end_time": "2020-03-12T09:26:06.198146Z",
     "start_time": "2020-03-12T09:26:06.090Z"
    }
   },
   "outputs": [],
   "source": [
    "# normalizing the dataset so as no particular attribute has more impact than another\n",
    "normalize <- function(x){\n",
    "return ((x-min(x)) / (max(x)-min(x)))\n",
    "}\n",
    "russian.new$administrative <- normalize(russian.new$administrative)\n",
    "russian.new$administrative_duration <- normalize(russian.new$administrative_duration)\n",
    "russian.new$informational <- normalize(russian.new$informational)\n",
    "russian.new$informational_duration <- normalize(russian.new$informational_duration)\n",
    "russian.new$product_related <- normalize(russian.new$product_related)\n",
    "russian.new$product_related_duration <- normalize(russian.new$product_related_duration)\n",
    "russian.new$bounce_rates <- normalize(russian.new$bounce_rates)\n",
    "russian.new$exit_rates <- normalize(russian.new$exit_rates)\n",
    "russian.new$page_values <- normalize(russian.new$page_values)\n",
    "russian.new$special_day <- normalize(russian.new$special_day)\n",
    "#russian.new$month <- normalize(russian.new$month)\n",
    "russian.new$OperatingSystems <- normalize(russian.new$OperatingSystems)\n",
    "russian.new$browser <- normalize(russian.new$browser)\n",
    "russian.new$region <- normalize(russian.new$browser)\n",
    "russian.new$traffic_type <- normalize(russian.new$traffic_type)\n",
    "#russian.new$visitor_type <- normalize(russian.new$visitor_type)\n",
    "russian.new$weekend <- normalize(russian.new$weekend)"
   ]
  },
  {
   "cell_type": "code",
   "execution_count": 75,
   "metadata": {
    "ExecuteTime": {
     "end_time": "2020-03-12T09:26:14.733380Z",
     "start_time": "2020-03-12T09:26:14.645Z"
    }
   },
   "outputs": [],
   "source": [
    "# Applying the K-means clustering algorithm with no. of centroids(k)=2\n",
    "result <- kmeans(na.omit(russian.new),2)"
   ]
  },
  {
   "cell_type": "code",
   "execution_count": 76,
   "metadata": {
    "ExecuteTime": {
     "end_time": "2020-03-12T09:26:35.585175Z",
     "start_time": "2020-03-12T09:26:35.546Z"
    }
   },
   "outputs": [
    {
     "data": {
      "text/html": [
       "<ol class=list-inline>\n",
       "\t<li>1022</li>\n",
       "\t<li>11308</li>\n",
       "</ol>\n"
      ],
      "text/latex": [
       "\\begin{enumerate*}\n",
       "\\item 1022\n",
       "\\item 11308\n",
       "\\end{enumerate*}\n"
      ],
      "text/markdown": [
       "1. 1022\n",
       "2. 11308\n",
       "\n",
       "\n"
      ],
      "text/plain": [
       "[1]  1022 11308"
      ]
     },
     "metadata": {},
     "output_type": "display_data"
    }
   ],
   "source": [
    "# Previewing the no. of records in each cluster\n",
    "result$size"
   ]
  },
  {
   "cell_type": "code",
   "execution_count": 77,
   "metadata": {
    "ExecuteTime": {
     "end_time": "2020-03-12T09:26:48.850929Z",
     "start_time": "2020-03-12T09:26:48.798Z"
    }
   },
   "outputs": [
    {
     "data": {
      "text/html": [
       "<table>\n",
       "<thead><tr><th scope=col>administrative</th><th scope=col>administrative_duration</th><th scope=col>informational</th><th scope=col>informational_duration</th><th scope=col>product_related</th><th scope=col>product_related_duration</th><th scope=col>bounce_rates</th><th scope=col>exit_rates</th><th scope=col>page_values</th><th scope=col>special_day</th><th scope=col>OperatingSystems</th><th scope=col>browser</th><th scope=col>region</th><th scope=col>traffic_type</th><th scope=col>weekend</th></tr></thead>\n",
       "<tbody>\n",
       "\t<tr><td>0.001775748 </td><td>0.00073861  </td><td>0.0006523157</td><td>0.0004155791</td><td>0.004283077 </td><td>0.0009058543</td><td>0.84365533  </td><td>0.9081912   </td><td>0.00000000  </td><td>0.10782779  </td><td>0.1682975   </td><td>0.1099967   </td><td>0.1099967   </td><td>0.2123803   </td><td>0.1497065   </td></tr>\n",
       "\t<tr><td>0.093362287 </td><td>0.02617450  </td><td>0.0228120210</td><td>0.0151259676</td><td>0.048748391 </td><td>0.0203148122</td><td>0.04441772  </td><td>0.1522498   </td><td>0.01775059  </td><td>0.05723382  </td><td>0.1598742   </td><td>0.1133711   </td><td>0.1133711   </td><td>0.1569639   </td><td>0.2400955   </td></tr>\n",
       "</tbody>\n",
       "</table>\n"
      ],
      "text/latex": [
       "\\begin{tabular}{r|lllllllllllllll}\n",
       " administrative & administrative\\_duration & informational & informational\\_duration & product\\_related & product\\_related\\_duration & bounce\\_rates & exit\\_rates & page\\_values & special\\_day & OperatingSystems & browser & region & traffic\\_type & weekend\\\\\n",
       "\\hline\n",
       "\t 0.001775748  & 0.00073861   & 0.0006523157 & 0.0004155791 & 0.004283077  & 0.0009058543 & 0.84365533   & 0.9081912    & 0.00000000   & 0.10782779   & 0.1682975    & 0.1099967    & 0.1099967    & 0.2123803    & 0.1497065   \\\\\n",
       "\t 0.093362287  & 0.02617450   & 0.0228120210 & 0.0151259676 & 0.048748391  & 0.0203148122 & 0.04441772   & 0.1522498    & 0.01775059   & 0.05723382   & 0.1598742    & 0.1133711    & 0.1133711    & 0.1569639    & 0.2400955   \\\\\n",
       "\\end{tabular}\n"
      ],
      "text/markdown": [
       "\n",
       "| administrative | administrative_duration | informational | informational_duration | product_related | product_related_duration | bounce_rates | exit_rates | page_values | special_day | OperatingSystems | browser | region | traffic_type | weekend |\n",
       "|---|---|---|---|---|---|---|---|---|---|---|---|---|---|---|\n",
       "| 0.001775748  | 0.00073861   | 0.0006523157 | 0.0004155791 | 0.004283077  | 0.0009058543 | 0.84365533   | 0.9081912    | 0.00000000   | 0.10782779   | 0.1682975    | 0.1099967    | 0.1099967    | 0.2123803    | 0.1497065    |\n",
       "| 0.093362287  | 0.02617450   | 0.0228120210 | 0.0151259676 | 0.048748391  | 0.0203148122 | 0.04441772   | 0.1522498    | 0.01775059   | 0.05723382   | 0.1598742    | 0.1133711    | 0.1133711    | 0.1569639    | 0.2400955    |\n",
       "\n"
      ],
      "text/plain": [
       "  administrative administrative_duration informational informational_duration\n",
       "1 0.001775748    0.00073861              0.0006523157  0.0004155791          \n",
       "2 0.093362287    0.02617450              0.0228120210  0.0151259676          \n",
       "  product_related product_related_duration bounce_rates exit_rates page_values\n",
       "1 0.004283077     0.0009058543             0.84365533   0.9081912  0.00000000 \n",
       "2 0.048748391     0.0203148122             0.04441772   0.1522498  0.01775059 \n",
       "  special_day OperatingSystems browser   region    traffic_type weekend  \n",
       "1 0.10782779  0.1682975        0.1099967 0.1099967 0.2123803    0.1497065\n",
       "2 0.05723382  0.1598742        0.1133711 0.1133711 0.1569639    0.2400955"
      ]
     },
     "metadata": {},
     "output_type": "display_data"
    }
   ],
   "source": [
    "# Getting the value of the cluster center\n",
    "result$centers"
   ]
  },
  {
   "cell_type": "code",
   "execution_count": 78,
   "metadata": {
    "ExecuteTime": {
     "end_time": "2020-03-12T09:26:59.064362Z",
     "start_time": "2020-03-12T09:26:59.021Z"
    }
   },
   "outputs": [
    {
     "data": {
      "text/plain": [
       "NULL"
      ]
     },
     "metadata": {},
     "output_type": "display_data"
    }
   ],
   "source": [
    "# Getting the cluster vector that shows the cluster where each record falls\n",
    "dim(result$cluster)"
   ]
  },
  {
   "cell_type": "code",
   "execution_count": 79,
   "metadata": {
    "ExecuteTime": {
     "end_time": "2020-03-12T09:27:14.401781Z",
     "start_time": "2020-03-12T09:27:11.422Z"
    }
   },
   "outputs": [
    {
     "data": {
      "image/png": "[encoded data removed]",
      "text/plain": [
       "plot without title"
      ]
     },
     "metadata": {},
     "output_type": "display_data"
    }
   ],
   "source": [
    "# visualising the clustering results\n",
    "par(mfrow = c(2,2), mar = c(5,2,2,2))\n",
    "plot(russian.new[c(1,2)], col = result$cluster)\n",
    "\n",
    "# Plotting to see how Sepal.Length and Sepal.Width data points have been distributed\n",
    "# originally as per \"class\" attribute in dataset\n",
    "# ---\n",
    "#\n",
    "plot(russian.new[c(2,2)], col = russian.class)\n",
    "plot(russian.new[c(3,2)], col = result$cluster)\n",
    "plot(russian.new[c(4,2)], col = russian.class)"
   ]
  },
  {
   "cell_type": "code",
   "execution_count": 80,
   "metadata": {
    "ExecuteTime": {
     "end_time": "2020-03-12T09:27:24.486488Z",
     "start_time": "2020-03-12T09:27:24.442Z"
    }
   },
   "outputs": [
    {
     "data": {
      "text/plain": [
       "   russian.class\n",
       "    FALSE TRUE\n",
       "  1  1016    6\n",
       "  2  9406 1902"
      ]
     },
     "metadata": {},
     "output_type": "display_data"
    }
   ],
   "source": [
    "table(result$cluster, russian.class)"
   ]
  },
  {
   "cell_type": "markdown",
   "metadata": {},
   "source": [
    "### strengths"
   ]
  },
  {
   "cell_type": "markdown",
   "metadata": {},
   "source": [
    "It was easy to implement\n",
    "\n",
    "An instance can change cluster (move to another cluster) when the centroids are recomputed"
   ]
  },
  {
   "cell_type": "markdown",
   "metadata": {},
   "source": [
    "### weaknesses"
   ]
  },
  {
   "cell_type": "markdown",
   "metadata": {},
   "source": [
    "It was difficult to predict the number of clusters (K-Value)\n",
    "\n",
    "The order of the data has an impact on the final results"
   ]
  },
  {
   "cell_type": "markdown",
   "metadata": {},
   "source": [
    "# Clustering"
   ]
  },
  {
   "cell_type": "code",
   "execution_count": 81,
   "metadata": {
    "ExecuteTime": {
     "end_time": "2020-03-12T09:31:05.054332Z",
     "start_time": "2020-03-12T09:30:43.241Z"
    }
   },
   "outputs": [
    {
     "name": "stderr",
     "output_type": "stream",
     "text": [
      "Warning message in dist(russian, method = \"euclidean\"):\n",
      "\"NAs introduced by coercion\""
     ]
    },
    {
     "data": {
      "image/png": "[encoded data removed]",
      "text/plain": [
       "Plot with title \"Cluster Dendrogram\""
      ]
     },
     "metadata": {},
     "output_type": "display_data"
    }
   ],
   "source": [
    "d <- dist(russian, method = \"euclidean\")\n",
    "res.hc <- hclust(d, method = \"ward.D2\" )\n",
    "plot(res.hc, cex = 0.6, hang = -1)"
   ]
  },
  {
   "cell_type": "markdown",
   "metadata": {},
   "source": [
    "### strengths\n"
   ]
  },
  {
   "cell_type": "markdown",
   "metadata": {},
   "source": [
    "It was easy to implement\n",
    "\n",
    "We did not need to specify the number of clusters required for the algorithm."
   ]
  },
  {
   "cell_type": "markdown",
   "metadata": {},
   "source": [
    "### weaknesses"
   ]
  },
  {
   "cell_type": "markdown",
   "metadata": {},
   "source": [
    "There was no mathematical objective for Hierarchical clustering.\n",
    "\n",
    "High space and time complexity for Hierarchical clustering. Hence this clustering algorithm cannot be used when we have huge data."
   ]
  }
 ],
 "metadata": {
  "hide_input": false,
  "kernelspec": {
   "display_name": "R",
   "language": "R",
   "name": "ir"
  },
  "language_info": {
   "codemirror_mode": "r",
   "file_extension": ".r",
   "mimetype": "text/x-r-source",
   "name": "R",
   "pygments_lexer": "r",
   "version": "3.6.1"
  },
  "latex_envs": {
   "LaTeX_envs_menu_present": true,
   "autoclose": false,
   "autocomplete": true,
   "bibliofile": "biblio.bib",
   "cite_by": "apalike",
   "current_citInitial": 1,
   "eqLabelWithNumbers": true,
   "eqNumInitial": 1,
   "hotkeys": {
    "equation": "Ctrl-E",
    "itemize": "Ctrl-I"
   },
   "labels_anchors": false,
   "latex_user_defs": false,
   "report_style_numbering": false,
   "user_envs_cfg": false
  },
  "nbTranslate": {
   "displayLangs": [
    "*"
   ],
   "hotkey": "alt-t",
   "langInMainMenu": true,
   "sourceLang": "en",
   "targetLang": "fr",
   "useGoogleTranslate": true
  },
  "toc": {
   "base_numbering": 1,
   "nav_menu": {},
   "number_sections": true,
   "sideBar": true,
   "skip_h1_title": false,
   "title_cell": "Table of Contents",
   "title_sidebar": "Contents",
   "toc_cell": false,
   "toc_position": {},
   "toc_section_display": true,
   "toc_window_display": false
  },
  "varInspector": {
   "cols": {
    "lenName": 16,
    "lenType": 16,
    "lenVar": 40
   },
   "kernels_config": {
    "python": {
     "delete_cmd_postfix": "",
     "delete_cmd_prefix": "del ",
     "library": "var_list.py",
     "varRefreshCmd": "print(var_dic_list())"
    },
    "r": {
     "delete_cmd_postfix": ") ",
     "delete_cmd_prefix": "rm(",
     "library": "var_list.r",
     "varRefreshCmd": "cat(var_dic_list()) "
    }
   },
   "types_to_exclude": [
    "module",
    "function",
    "builtin_function_or_method",
    "instance",
    "_Feature"
   ],
   "window_display": false
  }
 },
 "nbformat": 4,
 "nbformat_minor": 4
}
