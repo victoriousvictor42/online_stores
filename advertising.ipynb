{
 "cells": [
  {
   "cell_type": "code",
   "execution_count": null,
   "metadata": {
    "lines_to_next_cell": 2
   },
   "outputs": [],
   "source": [
    "# Defining the question\n",
    "#### Identifying the individuals who are most likely going to click on the Kenyan entrepreneur's ads\n",
    "\n",
    "# Metric for success\n",
    "#### supervised learning\n",
    "\n",
    "# Context\n",
    "#### a Kenyan entreneur has started an online cryptography course and would want to advertise it on her blog. she targets audiences from various countries.\n",
    "\n",
    "# Experimental design \n",
    "#### kNN\n",
    "#### SVM\n",
    "#### Naive Bayes\n",
    "\n",
    "# Appropriateness of the data\n",
    "#### The Kenyan Entrepreneur has already collected the data that will enable me to work on. "
   ]
  },
  {
   "cell_type": "code",
   "execution_count": null,
   "metadata": {},
   "outputs": [],
   "source": [
    "# Loading the dataset\n",
    "advertising <- read.csv(\"C:/Users/I/Downloads/advertising.csv\")\n"
   ]
  },
  {
   "cell_type": "markdown",
   "metadata": {
    "lines_to_next_cell": 0
   },
   "source": [
    "# Checking the dataset"
   ]
  },
  {
   "cell_type": "code",
   "execution_count": null,
   "metadata": {
    "lines_to_next_cell": 2
   },
   "outputs": [],
   "source": [
    "# checking for the data types in the dataset\n",
    "str(advertising)"
   ]
  },
  {
   "cell_type": "code",
   "execution_count": null,
   "metadata": {
    "lines_to_next_cell": 2
   },
   "outputs": [],
   "source": [
    "# Previwing the top of the dataset\n",
    "head(advertising)"
   ]
  },
  {
   "cell_type": "code",
   "execution_count": null,
   "metadata": {
    "lines_to_next_cell": 2
   },
   "outputs": [],
   "source": [
    "# Previewing the bottom of the dataset\n",
    "tail(advertising)"
   ]
  },
  {
   "cell_type": "code",
   "execution_count": null,
   "metadata": {
    "lines_to_next_cell": 0
   },
   "outputs": [],
   "source": [
    "# Checking the columns of the dataset\n",
    "colnames(advertising)"
   ]
  },
  {
   "cell_type": "markdown",
   "metadata": {},
   "source": [
    "\n"
   ]
  },
  {
   "cell_type": "code",
   "execution_count": null,
   "metadata": {},
   "outputs": [],
   "source": [
    "# Checking for the data types in the dataset\n",
    "dim(advertising)"
   ]
  },
  {
   "cell_type": "markdown",
   "metadata": {},
   "source": [
    "there are 1000 rows and 10 columns\n"
   ]
  },
  {
   "cell_type": "markdown",
   "metadata": {
    "lines_to_next_cell": 0
   },
   "source": [
    "# Tidying the dataset"
   ]
  },
  {
   "cell_type": "code",
   "execution_count": null,
   "metadata": {},
   "outputs": [],
   "source": [
    "# Checking for missing data\n",
    "colSums(is.na(advertising))"
   ]
  },
  {
   "cell_type": "markdown",
   "metadata": {},
   "source": [
    "there are no missing data in the dataset\n"
   ]
  },
  {
   "cell_type": "code",
   "execution_count": null,
   "metadata": {
    "lines_to_next_cell": 2
   },
   "outputs": [],
   "source": [
    "# Showing whether there are repeat entries\n",
    "advertising[duplicated(advertising), ]"
   ]
  },
  {
   "cell_type": "markdown",
   "metadata": {
    "lines_to_next_cell": 0
   },
   "source": [
    "there are no duplicated data in the dataset\n",
    "# Checking for outliers"
   ]
  },
  {
   "cell_type": "code",
   "execution_count": null,
   "metadata": {
    "lines_to_next_cell": 2
   },
   "outputs": [],
   "source": [
    "# In Daily.Time.Spent.on.Site\n",
    "boxplot(advertising$Daily.Time.Spent.on.Site)"
   ]
  },
  {
   "cell_type": "markdown",
   "metadata": {
    "lines_to_next_cell": 0
   },
   "source": [
    "there are no outliers in the time spent on site columns"
   ]
  },
  {
   "cell_type": "code",
   "execution_count": null,
   "metadata": {},
   "outputs": [],
   "source": [
    "# In Age  \n",
    "boxplot(advertising$Age)"
   ]
  },
  {
   "cell_type": "markdown",
   "metadata": {
    "lines_to_next_cell": 0
   },
   "source": [
    "there are no outliers in the Age column"
   ]
  },
  {
   "cell_type": "code",
   "execution_count": null,
   "metadata": {},
   "outputs": [],
   "source": [
    "# In Area.Income\n",
    "boxplot(advertising$Area.Income)"
   ]
  },
  {
   "cell_type": "markdown",
   "metadata": {},
   "source": [
    "there are outliers that are less than 20,000. The outliers look valid since they are from a dataset that has been collected by the entrepreneur over a period of time"
   ]
  },
  {
   "cell_type": "code",
   "execution_count": null,
   "metadata": {
    "lines_to_next_cell": 0
   },
   "outputs": [],
   "source": [
    "# Male\n",
    "boxplot(advertising$Male)"
   ]
  },
  {
   "cell_type": "markdown",
   "metadata": {},
   "source": []
  },
  {
   "cell_type": "markdown",
   "metadata": {
    "lines_to_next_cell": 0
   },
   "source": [
    "there are no outliers in the column"
   ]
  },
  {
   "cell_type": "code",
   "execution_count": null,
   "metadata": {},
   "outputs": [],
   "source": [
    "# Clicked.on.Ad\n",
    "boxplot(advertising$Clicked.on.Ad)"
   ]
  },
  {
   "cell_type": "markdown",
   "metadata": {
    "lines_to_next_cell": 0
   },
   "source": [
    "there are no clicks on ad\n",
    "\n",
    "# Feature engineering"
   ]
  },
  {
   "cell_type": "code",
   "execution_count": null,
   "metadata": {},
   "outputs": [],
   "source": [
    "# Making the column names uniform\n",
    "names(advertising)[names(advertising)==\"Daily.Time.Spent.on.Site\"] <- \"daily_time_spent_on_site\"\n",
    "names(advertising)[names(advertising)==\"Age\"] <- \"age\"\n",
    "names(advertising)[names(advertising)==\"Area.Income\"] <- \"area_income\"\n",
    "names(advertising)[names(advertising)==\"Daily.Internet.Usage\"] <- \"daily_internet_usage\"\n",
    "names(advertising)[names(advertising)==\"Ad.Topic.Line\"] <- \"ad_topic_line\"\n",
    "names(advertising)[names(advertising)==\"City\"] <- \"city\"\n",
    "names(advertising)[names(advertising)==\"Male\"] <- \"sex\" #changing the male name to sex because is representing males and female\n",
    "names(advertising)[names(advertising)==\"Country\"] <- \"country\"\n",
    "names(advertising)[names(advertising)==\"Timestamp\"] <- \"timestamp\"\n",
    "names(advertising)[names(advertising)==\"Clicked.on.Ad\"] <- \"clicked_on_ad\""
   ]
  },
  {
   "cell_type": "code",
   "execution_count": null,
   "metadata": {},
   "outputs": [],
   "source": [
    "colnames(advertising)"
   ]
  },
  {
   "cell_type": "markdown",
   "metadata": {},
   "source": [
    "verifying that the suggested changes has taken place"
   ]
  },
  {
   "cell_type": "code",
   "execution_count": null,
   "metadata": {},
   "outputs": [],
   "source": [
    "# Removing the ad_topic_line column because i do not see its relevancy\n",
    "advertising$ad_topic_line <- NULL"
   ]
  },
  {
   "cell_type": "code",
   "execution_count": null,
   "metadata": {
    "lines_to_next_cell": 0
   },
   "outputs": [],
   "source": [
    "colnames(advertising)"
   ]
  },
  {
   "cell_type": "markdown",
   "metadata": {
    "lines_to_next_cell": 0
   },
   "source": [
    "we have now verified that the ad topic line has been removed from the dataset\n",
    "\n",
    "# Univariate data analysis"
   ]
  },
  {
   "cell_type": "code",
   "execution_count": null,
   "metadata": {},
   "outputs": [],
   "source": [
    "# Daily time spent on site\n",
    "x = hist(advertising$daily_time_spent_on_site,\n",
    "         main = \"Daily time Spent on Site\",\n",
    "         xlab = \"Daily time Spent on Site\",\n",
    "         col ='green')"
   ]
  },
  {
   "cell_type": "markdown",
   "metadata": {},
   "source": [
    "the data is skewed to the left and most of the data is distributed between 65 and 85       "
   ]
  },
  {
   "cell_type": "code",
   "execution_count": null,
   "metadata": {
    "lines_to_next_cell": 0
   },
   "outputs": [],
   "source": [
    "# Age\n",
    "x = hist(advertising$age,\n",
    "         main = \"Age\",\n",
    "         xlab = \"Age\",\n",
    "         col ='green')"
   ]
  },
  {
   "cell_type": "markdown",
   "metadata": {
    "lines_to_next_cell": 0
   },
   "source": [
    "data is skewed to the right and most of the data is distributed between 25 and 40"
   ]
  },
  {
   "cell_type": "code",
   "execution_count": null,
   "metadata": {
    "lines_to_next_cell": 0
   },
   "outputs": [],
   "source": [
    "# Area_income\n",
    "x = hist(advertising$area_income,\n",
    "         main = \"area income\",\n",
    "         xlab = \"area income\",\n",
    "         col ='green')"
   ]
  },
  {
   "cell_type": "markdown",
   "metadata": {
    "lines_to_next_cell": 0
   },
   "source": [
    "data is skewed to the left and most of the data is distributed between 50,000 and 70,000"
   ]
  },
  {
   "cell_type": "code",
   "execution_count": null,
   "metadata": {},
   "outputs": [],
   "source": [
    "# Daily_internet_usage\n",
    "x = hist(advertising$daily_internet_usage,\n",
    "         main = \"daily internet usage\",\n",
    "         xlab = \"daily internet usage\",\n",
    "         col ='green')"
   ]
  },
  {
   "cell_type": "markdown",
   "metadata": {},
   "source": [
    "data is used a lot and most of it is distributed between 200 and 225"
   ]
  },
  {
   "cell_type": "code",
   "execution_count": null,
   "metadata": {
    "lines_to_next_cell": 0
   },
   "outputs": [],
   "source": [
    "# Sex\n",
    "table(advertising$sex) # there are 519 males and 481 females\n",
    "\n",
    "barplot(table(advertising$sex),\n",
    "    main=\"sex\")"
   ]
  },
  {
   "cell_type": "code",
   "execution_count": null,
   "metadata": {},
   "outputs": [],
   "source": [
    "# Country\n",
    "table(advertising$country)\n",
    "sample <- head(table(advertising$country))\n",
    "barplot(sample, main=\"Country\")"
   ]
  },
  {
   "cell_type": "markdown",
   "metadata": {},
   "source": [
    "we see that afghanistan has the most appearance."
   ]
  },
  {
   "cell_type": "code",
   "execution_count": null,
   "metadata": {},
   "outputs": [],
   "source": [
    "# Clicked_on_ad\n",
    "\n",
    "pie(table(advertising$clicked_on_ad))"
   ]
  },
  {
   "cell_type": "markdown",
   "metadata": {},
   "source": [
    "there are 500 no clicks and 500 click on ads"
   ]
  },
  {
   "cell_type": "markdown",
   "metadata": {},
   "source": [
    "# Bivariate Analysis"
   ]
  },
  {
   "cell_type": "code",
   "execution_count": null,
   "metadata": {
    "lines_to_next_cell": 2
   },
   "outputs": [],
   "source": [
    "# Converting variables into string so as to enable to make good visualisations.\n",
    "a = c('city', 'country')\n",
    "for (i in a) {\n",
    "  advertising[,i] = as.factor(advertising[,i])\n",
    "}"
   ]
  },
  {
   "cell_type": "code",
   "execution_count": null,
   "metadata": {
    "lines_to_next_cell": 0
   },
   "outputs": [],
   "source": [
    "# Converting variables into factors so as to enable to make good visualisations.\n",
    "b = c('sex', 'clicked_on_ad')\n",
    "for (i in b) {\n",
    "advertising[,i] = as.factor(advertising[,i])\n",
    "}"
   ]
  },
  {
   "cell_type": "markdown",
   "metadata": {},
   "source": [
    "\n"
   ]
  },
  {
   "cell_type": "code",
   "execution_count": null,
   "metadata": {
    "lines_to_next_cell": 2
   },
   "outputs": [],
   "source": [
    "# Importing the ggplot library\n",
    "library(ggplot2)\n"
   ]
  },
  {
   "cell_type": "code",
   "execution_count": null,
   "metadata": {
    "lines_to_next_cell": 2
   },
   "outputs": [],
   "source": [
    "# Sex vs clicked on ad \n",
    "sex_vs_ad = ggplot(data = advertising, aes(x = sex, fill = clicked_on_ad))+\n",
    "geom_bar(width = 0.5)\n",
    "sex_vs_ad\n"
   ]
  },
  {
   "cell_type": "code",
   "execution_count": null,
   "metadata": {
    "lines_to_next_cell": 0
   },
   "outputs": [],
   "source": [
    "# Area_income vs clicked on ad\n",
    "area_vs_ad = ggplot(data = advertising, aes(x = area_income, fill = clicked_on_ad))+ \n",
    "geom_histogram(bins = 25)\n",
    "area_vs_ad"
   ]
  },
  {
   "cell_type": "markdown",
   "metadata": {},
   "source": [
    "many people who had an income between 50,000 and 70,000 did not click on the ad compared to those who did"
   ]
  },
  {
   "cell_type": "code",
   "execution_count": null,
   "metadata": {
    "lines_to_next_cell": 0
   },
   "outputs": [],
   "source": [
    "# Daily_internet_usage vs clicked on ad\n",
    "daily_vs_ad = ggplot(data = advertising, aes(x = daily_internet_usage, fill = clicked_on_ad))+ \n",
    "geom_histogram(bins = 25)\n",
    "daily_vs_ad"
   ]
  },
  {
   "cell_type": "markdown",
   "metadata": {},
   "source": [
    "between 100 and 150 there are more people who clicked the ad than those who did not."
   ]
  },
  {
   "cell_type": "code",
   "execution_count": null,
   "metadata": {
    "lines_to_next_cell": 0
   },
   "outputs": [],
   "source": [
    "# Age vs clicked on ad\n",
    "age_vs_ad = ggplot(data = advertising, aes(x = age, fill = clicked_on_ad))+ \n",
    "geom_histogram(bins = 25)\n",
    "age_vs_ad"
   ]
  },
  {
   "cell_type": "markdown",
   "metadata": {
    "lines_to_next_cell": 0
   },
   "source": [
    "generally many people do not click ads\n",
    " \n",
    "# Recommendation\n",
    "#### The entrepreneur should focus on people with an income between 10,000 and 50,000\n",
    "#### The entrepreneur should focus on people with the age between 45 and 60\n",
    "#### The entrepreneur should focus on people with a daily internet usage between 100 and 175\n",
    "\n",
    "# Modelling\n",
    "#### KNN"
   ]
  },
  {
   "cell_type": "code",
   "execution_count": null,
   "metadata": {
    "lines_to_next_cell": 2
   },
   "outputs": [],
   "source": [
    "# Creating a random number equal 90% of total number of rows\n",
    "rand <- sample(1:nrow(advertising),0.9 * nrow(advertising))"
   ]
  },
  {
   "cell_type": "code",
   "execution_count": null,
   "metadata": {},
   "outputs": [],
   "source": [
    "# The normalization function is created\n",
    "normal <-function(x) { (x -min(x))/(max(x)-min(x))   }\n",
    " \n",
    "# Normalization function is applied to the dataframe\n",
    "advert <- as.data.frame(lapply(advertising[,c(1,2,3,4)], normal))"
   ]
  },
  {
   "cell_type": "code",
   "execution_count": null,
   "metadata": {},
   "outputs": [],
   "source": [
    "# The training dataset extracted\n",
    "advert_train <- advert[rand,]"
   ]
  },
  {
   "cell_type": "code",
   "execution_count": null,
   "metadata": {},
   "outputs": [],
   "source": [
    "# The test dataset extracted\n",
    "advert_test <- advert[-rand,]"
   ]
  },
  {
   "cell_type": "code",
   "execution_count": null,
   "metadata": {},
   "outputs": [],
   "source": [
    "# getting the training and test data from the target\n",
    "advert_target <- advertising[rand,9]\n",
    "test_advert <- advertising[-rand,9]"
   ]
  },
  {
   "cell_type": "code",
   "execution_count": null,
   "metadata": {},
   "outputs": [],
   "source": [
    "# Running the knn function\n",
    "library(class)\n",
    "pr <- knn(advert_train,advert_test,cl=advert_target,k=20)"
   ]
  },
  {
   "cell_type": "code",
   "execution_count": null,
   "metadata": {
    "lines_to_next_cell": 0
   },
   "outputs": [],
   "source": [
    "# Creating the confucion matrix\n",
    "tb <- table(pr,test_advert)\n",
    "tb"
   ]
  },
  {
   "cell_type": "markdown",
   "metadata": {
    "lines_to_next_cell": 0
   },
   "source": [
    "there are 49 and 50 correctly predicted items"
   ]
  },
  {
   "cell_type": "code",
   "execution_count": null,
   "metadata": {
    "lines_to_next_cell": 0
   },
   "outputs": [],
   "source": [
    "# Checking the accuracy\n",
    "accuracy <- function(x){sum(diag(x)/(sum(rowSums(x)))) * 100}\n",
    "accuracy(tb)"
   ]
  },
  {
   "cell_type": "markdown",
   "metadata": {},
   "source": [
    "the accuracy score is 99% which is very good"
   ]
  },
  {
   "cell_type": "markdown",
   "metadata": {
    "lines_to_next_cell": 0
   },
   "source": [
    "# SVM"
   ]
  },
  {
   "cell_type": "code",
   "execution_count": null,
   "metadata": {},
   "outputs": [],
   "source": [
    "# We will now install and load the required packages\n",
    "# ---\n",
    "#  \n",
    "install.packages('tidyverse')\n",
    "library(tidyverse)\n",
    "\n",
    "install.packages('ggplot2')\n",
    "library(ggplot2)\n",
    "\n",
    "install.packages('caret')\n",
    "library(caret)\n",
    "\n",
    "install.packages('caretEnsemble')\n",
    "library(caretEnsemble)\n",
    "\n",
    "install.packages('psych')\n",
    "library(psych)\n",
    "\n",
    "install.packages('Amelia')\n",
    "library(Amelia)\n",
    "\n",
    "install.packages('mice')\n",
    "library(mice)\n",
    "\n",
    "install.packages('GGally')\n",
    "library(GGally)\n",
    "\n",
    "install.packages('rpart')\n",
    "library(rpart)\n",
    "\n",
    "install.packages('randomForest')\n",
    "library(randomForest)"
   ]
  },
  {
   "cell_type": "code",
   "execution_count": null,
   "metadata": {},
   "outputs": [],
   "source": [
    "colnames(advertising)"
   ]
  },
  {
   "cell_type": "code",
   "execution_count": null,
   "metadata": {},
   "outputs": [],
   "source": [
    "# splitting the dataset into train and test\n",
    "intrain <- createDataPartition(y = advertising$clicked_on_ad, p= 0.7, list = FALSE)\n",
    "training <- advertising[intrain,]\n",
    "testing <- advertising[-intrain,]"
   ]
  },
  {
   "cell_type": "code",
   "execution_count": null,
   "metadata": {
    "lines_to_next_cell": 0
   },
   "outputs": [],
   "source": [
    "# We check the dimensions of out training dataframe and testing dataframe\n",
    "# ---\n",
    "# \n",
    "dim(training); \n",
    "dim(testing);"
   ]
  },
  {
   "cell_type": "code",
   "execution_count": null,
   "metadata": {},
   "outputs": [],
   "source": [
    "testing"
   ]
  },
  {
   "cell_type": "code",
   "execution_count": null,
   "metadata": {},
   "outputs": [],
   "source": [
    "trctrl <- trainControl(method = \"repeatedcv\", number = 10, repeats = 3)\n",
    "\n",
    "svm_Linear <- train(clicked_on_ad ~., data = training, method = \"svmLinear\",\n",
    "trControl=trctrl,\n",
    "preProcess = c(\"center\", \"scale\"),\n",
    "tuneLength = 10)"
   ]
  },
  {
   "cell_type": "code",
   "execution_count": null,
   "metadata": {},
   "outputs": [],
   "source": [
    "# We can then check the reult of our train() model as shown below\n",
    "# ---\n",
    "# \n",
    "svm_Linear"
   ]
  },
  {
   "cell_type": "code",
   "execution_count": null,
   "metadata": {},
   "outputs": [],
   "source": [
    "# We can use the predict() method for predicting results as shown below. \n",
    "# We pass 2 arguements, our trained model and our testing data frame.\n",
    "# ---\n",
    "# \n",
    "test_pred <- predict(svm_Linear, newdata = testing)\n",
    "test_pred"
   ]
  },
  {
   "cell_type": "code",
   "execution_count": null,
   "metadata": {
    "lines_to_next_cell": 0
   },
   "outputs": [],
   "source": [
    "# Now checking for our accuracy of our model by using a confusion matrix \n",
    "# ---\n",
    "# \n",
    "confusionMatrix(table(test_pred, testing$clicked_on_ad))"
   ]
  },
  {
   "cell_type": "markdown",
   "metadata": {},
   "source": [
    "144 and 133 items were correctly predicted\n",
    "the accuracy is 92.33% \n",
    "# Naive Bayes\n",
    "\n"
   ]
  },
  {
   "cell_type": "code",
   "execution_count": null,
   "metadata": {},
   "outputs": [],
   "source": [
    "# Splitting data into training and test data sets\n",
    "# ---\n",
    "# \n",
    "indxTrain <- createDataPartition(y = advertising$clicked_on_ad,p = 0.75,list = FALSE)\n",
    "training <- advertising[indxTrain,]\n",
    "testing <- advertising[-indxTrain,]"
   ]
  },
  {
   "cell_type": "code",
   "execution_count": null,
   "metadata": {},
   "outputs": [],
   "source": [
    "x = training[,-9]\n",
    "y = training$clicked_on_ad"
   ]
  },
  {
   "cell_type": "code",
   "execution_count": null,
   "metadata": {},
   "outputs": [],
   "source": [
    "# Loading our inbuilt e1071 package that holds the Naive Bayes function.\n",
    "# ---\n",
    "# \n",
    "library(e1071)"
   ]
  },
  {
   "cell_type": "code",
   "execution_count": null,
   "metadata": {},
   "outputs": [],
   "source": [
    "# Now building our model \n",
    "# ---\n",
    "# \n",
    "model = train(x,y,'nb',trControl=trainControl(method='cv',number=10))"
   ]
  },
  {
   "cell_type": "code",
   "execution_count": null,
   "metadata": {},
   "outputs": [],
   "source": [
    "# Model Evalution\n",
    "# ---\n",
    "# Predicting our testing set\n",
    "# \n",
    "Predict <- predict(model,newdata = testing )"
   ]
  },
  {
   "cell_type": "code",
   "execution_count": null,
   "metadata": {
    "lines_to_next_cell": 0
   },
   "outputs": [],
   "source": [
    "# Getting the confusion matrix to see accuracy value and other parameter values\n",
    "# ---\n",
    "# \n",
    "confusionMatrix(Predict, testing$clicked_on_ad )"
   ]
  },
  {
   "cell_type": "markdown",
   "metadata": {},
   "source": [
    "there are 120 and 121 corectly predicted click on ads\n",
    "the accuracy score is 96.4%\n",
    "\n",
    "# Challenging the model\n",
    "KNN is the best model of the three . it has an accuracy of 99%.\n",
    "there is no point of challenging it for its the best\n",
    "\n",
    "# Recommendation\n",
    "all is well. we can work with the KNN model."
   ]
  }
 ],
 "metadata": {
  "jupytext": {
   "cell_metadata_filter": "-all",
   "main_language": "R",
   "notebook_metadata_filter": "-all"
  }
 },
 "nbformat": 4,
 "nbformat_minor": 4
}
