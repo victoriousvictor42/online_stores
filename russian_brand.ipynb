{
 "cells": [
  {
   "cell_type": "code",
   "execution_count": null,
   "metadata": {
    "lines_to_next_cell": 2
   },
   "outputs": [],
   "source": [
    "# Defining the question\n",
    "#### use Uservised learning to learn the characteristics of customer groups of Kira Plastinina\n",
    "\n",
    "# Metrics of success\n",
    "#### Unsupervised Learning\n",
    "\n",
    "# Understanding the context\n",
    "#### Kira Plastinina is a Russian brand thais sold through a defunct chain of retail store in different parts of the world, for example, China and Belarus. The Brand's Sales and Marketing Team would like to understand their customer's behaviour from the data they collected oer the past year.\n",
    "\n",
    "# Recording the Experimental Design\n",
    "#### Use K-Means Clustering\n",
    "#### use Hierachical Clustering\n",
    "\n",
    "# Data Relevance\n",
    "#### The data is from Kira Plastinina. Therefore we expect the data to be relevant. "
   ]
  },
  {
   "cell_type": "code",
   "execution_count": null,
   "metadata": {},
   "outputs": [],
   "source": [
    "# loading the data\n",
    "russian <- read.csv(\"C:/Users/I/Downloads/online_shoppers_intention.csv\")"
   ]
  },
  {
   "cell_type": "code",
   "execution_count": null,
   "metadata": {
    "lines_to_next_cell": 0
   },
   "outputs": [],
   "source": [
    "# Looking at the structure of the dataset\n",
    "str(russian)"
   ]
  },
  {
   "cell_type": "markdown",
   "metadata": {},
   "source": [
    "there are 12 numerical data, 2 factors and 2 logical data"
   ]
  },
  {
   "cell_type": "code",
   "execution_count": null,
   "metadata": {
    "lines_to_next_cell": 0
   },
   "outputs": [],
   "source": [
    "# Checking for the size of the dataset\n",
    "dim(russian)"
   ]
  },
  {
   "cell_type": "markdown",
   "metadata": {
    "lines_to_next_cell": 0
   },
   "source": [
    "there are 12,380 rows and 18 columns"
   ]
  },
  {
   "cell_type": "code",
   "execution_count": null,
   "metadata": {
    "lines_to_next_cell": 0
   },
   "outputs": [],
   "source": [
    "# Checking for the column names\n",
    "colnames(russian)"
   ]
  },
  {
   "cell_type": "markdown",
   "metadata": {
    "lines_to_next_cell": 0
   },
   "source": [
    "the column nams are not uniform. Hence we will need to standardise them during feature engineering"
   ]
  },
  {
   "cell_type": "code",
   "execution_count": null,
   "metadata": {},
   "outputs": [],
   "source": [
    "# Previewing the top of the dataset\n",
    "head(russian)"
   ]
  },
  {
   "cell_type": "code",
   "execution_count": null,
   "metadata": {},
   "outputs": [],
   "source": [
    "# Previewing the bottom of the dataset\n",
    "tail(russian)"
   ]
  },
  {
   "cell_type": "markdown",
   "metadata": {
    "lines_to_next_cell": 0
   },
   "source": [
    "# Data Wrangling"
   ]
  },
  {
   "cell_type": "code",
   "execution_count": null,
   "metadata": {
    "lines_to_next_cell": 0
   },
   "outputs": [],
   "source": [
    "# Checking for missing data in the dataset\n",
    "colSums(is.na(russian))"
   ]
  },
  {
   "cell_type": "markdown",
   "metadata": {
    "lines_to_next_cell": 0
   },
   "source": [
    "there are 14 missing values in the first 8 features"
   ]
  },
  {
   "cell_type": "code",
   "execution_count": null,
   "metadata": {
    "lines_to_next_cell": 0
   },
   "outputs": [],
   "source": [
    "# Checking for duplicates\n",
    "dup_rows <- russian[duplicated(russian), ]\n",
    "dup_rows"
   ]
  },
  {
   "cell_type": "markdown",
   "metadata": {
    "lines_to_next_cell": 0
   },
   "source": [
    "there is presence of missing data"
   ]
  },
  {
   "cell_type": "code",
   "execution_count": null,
   "metadata": {
    "lines_to_next_cell": 0
   },
   "outputs": [],
   "source": [
    "# Checking for outliers\n",
    "boxplot(russian$Administrative)"
   ]
  },
  {
   "cell_type": "markdown",
   "metadata": {
    "lines_to_next_cell": 0
   },
   "source": [
    "there is presence of missing data in the administrative feature. "
   ]
  },
  {
   "cell_type": "code",
   "execution_count": null,
   "metadata": {
    "lines_to_next_cell": 0
   },
   "outputs": [],
   "source": [
    "boxplot(russian$Administrative_Duration)"
   ]
  },
  {
   "cell_type": "markdown",
   "metadata": {
    "lines_to_next_cell": 0
   },
   "source": [
    "there is presence of missing data in the administrative duration feature. "
   ]
  },
  {
   "cell_type": "code",
   "execution_count": null,
   "metadata": {
    "lines_to_next_cell": 0
   },
   "outputs": [],
   "source": [
    "boxplot(russian$Informational)"
   ]
  },
  {
   "cell_type": "markdown",
   "metadata": {
    "lines_to_next_cell": 0
   },
   "source": [
    "there is presence of missing data in the informational feature. "
   ]
  },
  {
   "cell_type": "code",
   "execution_count": null,
   "metadata": {
    "lines_to_next_cell": 0
   },
   "outputs": [],
   "source": [
    "boxplot(russian$Informational_Duration)"
   ]
  },
  {
   "cell_type": "markdown",
   "metadata": {
    "lines_to_next_cell": 0
   },
   "source": [
    "there is presence of missing data in the informational duraton feature. "
   ]
  },
  {
   "cell_type": "code",
   "execution_count": null,
   "metadata": {
    "lines_to_next_cell": 0
   },
   "outputs": [],
   "source": [
    "boxplot(russian$ProductRelated)"
   ]
  },
  {
   "cell_type": "markdown",
   "metadata": {
    "lines_to_next_cell": 0
   },
   "source": [
    "there is presence of missing data in the product related feature. "
   ]
  },
  {
   "cell_type": "code",
   "execution_count": null,
   "metadata": {
    "lines_to_next_cell": 0
   },
   "outputs": [],
   "source": [
    "boxplot(russian$ProductRelated_Duration)"
   ]
  },
  {
   "cell_type": "markdown",
   "metadata": {
    "lines_to_next_cell": 0
   },
   "source": [
    "there is presence of missing data in the product related duration feature. "
   ]
  },
  {
   "cell_type": "code",
   "execution_count": null,
   "metadata": {
    "lines_to_next_cell": 0
   },
   "outputs": [],
   "source": [
    "boxplot(russian$BounceRates)"
   ]
  },
  {
   "cell_type": "markdown",
   "metadata": {
    "lines_to_next_cell": 0
   },
   "source": [
    "there is presence of missing data in the bounce rates feature. "
   ]
  },
  {
   "cell_type": "code",
   "execution_count": null,
   "metadata": {
    "lines_to_next_cell": 0
   },
   "outputs": [],
   "source": [
    "boxplot(russian$ExitRates)"
   ]
  },
  {
   "cell_type": "markdown",
   "metadata": {
    "lines_to_next_cell": 0
   },
   "source": [
    "there is presence of missing data in the exit rates feature. "
   ]
  },
  {
   "cell_type": "code",
   "execution_count": null,
   "metadata": {
    "lines_to_next_cell": 0
   },
   "outputs": [],
   "source": [
    "boxplot(russian$PageValues)"
   ]
  },
  {
   "cell_type": "markdown",
   "metadata": {
    "lines_to_next_cell": 0
   },
   "source": [
    "there is presence of missing data in the page values feature. "
   ]
  },
  {
   "cell_type": "code",
   "execution_count": null,
   "metadata": {
    "lines_to_next_cell": 0
   },
   "outputs": [],
   "source": [
    "boxplot(russian$SpecialDay)"
   ]
  },
  {
   "cell_type": "markdown",
   "metadata": {
    "lines_to_next_cell": 0
   },
   "source": [
    "there is presence of missing data in the special day feature. "
   ]
  },
  {
   "cell_type": "code",
   "execution_count": null,
   "metadata": {
    "lines_to_next_cell": 0
   },
   "outputs": [],
   "source": [
    "boxplot(russian$OperatingSystems)"
   ]
  },
  {
   "cell_type": "markdown",
   "metadata": {
    "lines_to_next_cell": 0
   },
   "source": [
    "there is presence of missing data in the operating systems feature. "
   ]
  },
  {
   "cell_type": "code",
   "execution_count": null,
   "metadata": {
    "lines_to_next_cell": 0
   },
   "outputs": [],
   "source": [
    "boxplot(russian$Browser)"
   ]
  },
  {
   "cell_type": "markdown",
   "metadata": {
    "lines_to_next_cell": 0
   },
   "source": [
    "there is presence of missing data in the browser feature. "
   ]
  },
  {
   "cell_type": "code",
   "execution_count": null,
   "metadata": {
    "lines_to_next_cell": 0
   },
   "outputs": [],
   "source": [
    "boxplot(russian$Region)"
   ]
  },
  {
   "cell_type": "markdown",
   "metadata": {
    "lines_to_next_cell": 0
   },
   "source": [
    "there is presence of missing data in the region feature. "
   ]
  },
  {
   "cell_type": "code",
   "execution_count": null,
   "metadata": {
    "lines_to_next_cell": 0
   },
   "outputs": [],
   "source": [
    "boxplot(russian$TrafficType)"
   ]
  },
  {
   "cell_type": "markdown",
   "metadata": {
    "lines_to_next_cell": 0
   },
   "source": [
    "there is presence of missing data in the traffic type feature. "
   ]
  },
  {
   "cell_type": "code",
   "execution_count": null,
   "metadata": {
    "lines_to_next_cell": 0
   },
   "outputs": [],
   "source": [
    "boxplot(russian$Weekend)"
   ]
  },
  {
   "cell_type": "markdown",
   "metadata": {
    "lines_to_next_cell": 0
   },
   "source": [
    "there is presence of missing data in the weekend feature. "
   ]
  },
  {
   "cell_type": "code",
   "execution_count": null,
   "metadata": {
    "lines_to_next_cell": 0
   },
   "outputs": [],
   "source": [
    "boxplot(russian$Revenue)"
   ]
  },
  {
   "cell_type": "markdown",
   "metadata": {},
   "source": [
    "there is presence of missing data in the revenue feature. "
   ]
  },
  {
   "cell_type": "markdown",
   "metadata": {
    "lines_to_next_cell": 0
   },
   "source": [
    "# Dealing with Annomalies"
   ]
  },
  {
   "cell_type": "code",
   "execution_count": null,
   "metadata": {},
   "outputs": [],
   "source": [
    "# removing missing data\n",
    "# we are going to use the mice package to make predictions on the missing values\n",
    "install.packages(\"mice\")\n",
    "library(mice)\n",
    "mice_mod <- mice(russian[, c(\"Administrative\",\"Administrative_Duration\",\"Informational\",\"Informational_Duration\",\"ProductRelated\",\"ProductRelated_Duration\",\"BounceRates\",\"ExitRates\" )], method='rf')\n",
    "install.packages(\"mice\")\n",
    "mice_complete <- complete(mice_mod)"
   ]
  },
  {
   "cell_type": "code",
   "execution_count": null,
   "metadata": {},
   "outputs": [],
   "source": [
    "# we now transfer the missing data values in the dataset\n",
    "russian$Administrative <- mice_complete$Administrative\n",
    "russian$Administrative_Duration <- mice_complete$Administrative_Duration\n",
    "russian$Informational <- mice_complete$Informational\n",
    "russian$Informational_Duration <- mice_complete$Informational_Duration\n",
    "russian$ProductRelated <- mice_complete$ProductRelated\n",
    "russian$ProductRelated_Duration <- mice_complete$ProductRelated_Duration\n",
    "russian$BounceRates <- mice_complete$BounceRates\n",
    "russian$ExitRates <- mice_complete$ExitRates"
   ]
  },
  {
   "cell_type": "code",
   "execution_count": null,
   "metadata": {
    "lines_to_next_cell": 0
   },
   "outputs": [],
   "source": [
    "# we are now going to remove the duplicates that are in the datasets\n",
    "library(dplyr)\n",
    "russia <- russian\n",
    "distinct(russian, .keep_all= TRUE)\n",
    "duplicated(russian)\n",
    "russian[duplicated(russian),]\n",
    "russian[duplicated(!russian),]"
   ]
  },
  {
   "cell_type": "markdown",
   "metadata": {},
   "source": [
    "# the are no absolute reason that we should remove the outliers because they seem valid"
   ]
  },
  {
   "cell_type": "code",
   "execution_count": null,
   "metadata": {},
   "outputs": [],
   "source": [
    "# Standardising the column names\n",
    "names(russian)[names(russian) == \"Administrative\"] <- \"administrative\"\n",
    "names(russian)[names(russian) == \"Administrative_Duration\"] <- \"administrative_duration\"\n",
    "names(russian)[names(russian) == \"Informational\"] <- \"informational\"\n",
    "names(russian)[names(russian) == \"Informational_Duration\"] <- \"informational_duration\"\n",
    "names(russian)[names(russian) == \"ProductRelated\"] <- \"product_related\"\n",
    "names(russian)[names(russian) == \"ProductRelated_Duration\"] <- \"product_related_duration\"\n",
    "names(russian)[names(russian) == \"BounceRates\"] <- \"bounce_rates\"\n",
    "names(russian)[names(russian) == \"ExitRates\"] <- \"exit_rates\"\n",
    "names(russian)[names(russian) == \"PageValues\"] <- \"page_values\"\n",
    "names(russian)[names(russian) == \"SpecialDay\"] <- \"special_day\"\n",
    "names(russian)[names(russian) == \"Month\"] <- \"month\"\n",
    "names(russian)[names(russian) == \"Operatingsystems\"] <- \"operating_systems\"\n",
    "names(russian)[names(russian) == \"Browser\"] <- \"browser\"\n",
    "names(russian)[names(russian) == \"Region\"] <- \"region\"\n",
    "names(russian)[names(russian) == \"TrafficType\"] <- \"traffic_type\"\n",
    "names(russian)[names(russian) == \"VisitorType\"] <- \"visitor_type\"\n",
    "names(russian)[names(russian) == \"Weekend\"] <- \"weekend\"\n",
    "names(russian)[names(russian) == \"Revenue\"] <- \"revenue\""
   ]
  },
  {
   "cell_type": "code",
   "execution_count": null,
   "metadata": {},
   "outputs": [],
   "source": [
    "# converting the revenue column to a factor since it our label\n",
    "b = c('revenue')\n",
    "for (i in b) {\n",
    "russian[,i] = as.factor(russian[,i])\n",
    "}"
   ]
  },
  {
   "cell_type": "markdown",
   "metadata": {
    "lines_to_next_cell": 0
   },
   "source": [
    "# Univariate Analysis"
   ]
  },
  {
   "cell_type": "code",
   "execution_count": null,
   "metadata": {
    "lines_to_next_cell": 0
   },
   "outputs": [],
   "source": [
    "hist(russian$administrative,\n",
    "main=\"Administrative\",\n",
    "xlab = \"Administrative\",\n",
    "col='green')"
   ]
  },
  {
   "cell_type": "markdown",
   "metadata": {
    "lines_to_next_cell": 0
   },
   "source": [
    "data is skewed to the right and most of the data is skewed between 0 and 5  "
   ]
  },
  {
   "cell_type": "code",
   "execution_count": null,
   "metadata": {
    "lines_to_next_cell": 0
   },
   "outputs": [],
   "source": [
    "hist(russian$administrative_duration,\n",
    "main= \"Administrative Duration\",\n",
    "xlab= \"Administrative Duration\",\n",
    "col= \"green\")"
   ]
  },
  {
   "cell_type": "markdown",
   "metadata": {
    "lines_to_next_cell": 0
   },
   "source": [
    "data is skewed to the right and most of the data is skewed between 0 and 250 "
   ]
  },
  {
   "cell_type": "code",
   "execution_count": null,
   "metadata": {
    "lines_to_next_cell": 0
   },
   "outputs": [],
   "source": [
    "hist(russian$informational,\n",
    "main =  \"Informational\",\n",
    "xlab = \"Informational\",\n",
    "col = \"red\")"
   ]
  },
  {
   "cell_type": "markdown",
   "metadata": {
    "lines_to_next_cell": 0
   },
   "source": [
    "data is skewed to the right and most of the data is skewed between 0 and 3"
   ]
  },
  {
   "cell_type": "code",
   "execution_count": null,
   "metadata": {
    "lines_to_next_cell": 0
   },
   "outputs": [],
   "source": [
    "hist(russian$informational_duration,\n",
    "main = \"Informational Duration\",\n",
    "xlab= \"Informational Duration\",\n",
    "col = \"blue\")"
   ]
  },
  {
   "cell_type": "markdown",
   "metadata": {},
   "source": [
    "data is skewed to the right and most of the data is skewed between 0 and 250"
   ]
  },
  {
   "cell_type": "code",
   "execution_count": null,
   "metadata": {
    "lines_to_next_cell": 0
   },
   "outputs": [],
   "source": [
    "hist(russian$product_related,\n",
    "main = \"Product Related\",\n",
    "xlab = \"Product Related\",\n",
    "col = \"blue\")"
   ]
  },
  {
   "cell_type": "markdown",
   "metadata": {
    "lines_to_next_cell": 0
   },
   "source": [
    "data is skewed to the right and most of the data is skewed between 0 and 100"
   ]
  },
  {
   "cell_type": "code",
   "execution_count": null,
   "metadata": {
    "lines_to_next_cell": 0
   },
   "outputs": [],
   "source": [
    "hist(russian$product_related_duration,\n",
    "main = \"Product Related Duration\",\n",
    "xlab = \"Product Related Duration\",\n",
    "col = \"red\")"
   ]
  },
  {
   "cell_type": "markdown",
   "metadata": {
    "lines_to_next_cell": 0
   },
   "source": [
    "data is skewed to the right and most of the data is skewed between 0 and 10,000"
   ]
  },
  {
   "cell_type": "code",
   "execution_count": null,
   "metadata": {
    "lines_to_next_cell": 0
   },
   "outputs": [],
   "source": [
    "hist(russian$bounce_rates,\n",
    "main = \"Bounce Rates\",\n",
    "xlab = \"Bounce Rates\",\n",
    "col = \"purple\")"
   ]
  },
  {
   "cell_type": "markdown",
   "metadata": {
    "lines_to_next_cell": 0
   },
   "source": [
    "data is skewed to the right and most of the data is skewed between 0 and 0.02"
   ]
  },
  {
   "cell_type": "code",
   "execution_count": null,
   "metadata": {
    "lines_to_next_cell": 0
   },
   "outputs": [],
   "source": [
    "hist(russian$exit_rates,\n",
    "main = \"Exit Rates\",\n",
    "xlab = \"Exit Rates\",\n",
    "col = \"blue\")"
   ]
  },
  {
   "cell_type": "markdown",
   "metadata": {
    "lines_to_next_cell": 0
   },
   "source": [
    "data is skewed to the right and most of the data is skewed between 0 and 0.05"
   ]
  },
  {
   "cell_type": "code",
   "execution_count": null,
   "metadata": {
    "lines_to_next_cell": 0
   },
   "outputs": [],
   "source": [
    "hist(russian$page_values,\n",
    "main = \"Page Values\",\n",
    "xlab = \"Page Values\",\n",
    "col = \"blue\")"
   ]
  },
  {
   "cell_type": "markdown",
   "metadata": {
    "lines_to_next_cell": 0
   },
   "source": [
    "data is skewed to the right and most of the data is skewed between 0 and 25"
   ]
  },
  {
   "cell_type": "code",
   "execution_count": null,
   "metadata": {
    "lines_to_next_cell": 0
   },
   "outputs": [],
   "source": [
    "barplot(table(russian$special_day),\n",
    "main = \"Special Day\",\n",
    "xlab = \"Special Day\",\n",
    "col = \"blue\")"
   ]
  },
  {
   "cell_type": "markdown",
   "metadata": {
    "lines_to_next_cell": 0
   },
   "source": [
    "the special day of 0 has the most visits"
   ]
  },
  {
   "cell_type": "code",
   "execution_count": null,
   "metadata": {
    "lines_to_next_cell": 0
   },
   "outputs": [],
   "source": [
    "barplot(table(russian$month),\n",
    "main = \"Month\",\n",
    "xlab = \"Month\",\n",
    "col = \"blue\")"
   ]
  },
  {
   "cell_type": "markdown",
   "metadata": {
    "lines_to_next_cell": 0
   },
   "source": [
    "the month of May had most visits"
   ]
  },
  {
   "cell_type": "code",
   "execution_count": null,
   "metadata": {
    "lines_to_next_cell": 0
   },
   "outputs": [],
   "source": [
    "barplot(table(russian$OperatingSystems),\n",
    "main = \"Operating Systems\",\n",
    "xlab = \"Operating Systems\",\n",
    "col = \"green\")"
   ]
  },
  {
   "cell_type": "markdown",
   "metadata": {
    "lines_to_next_cell": 0
   },
   "source": [
    "operating systems 2 is the most used to access the website"
   ]
  },
  {
   "cell_type": "code",
   "execution_count": null,
   "metadata": {
    "lines_to_next_cell": 0
   },
   "outputs": [],
   "source": [
    "barplot(table(russian$browser),\n",
    "main = \"browser\",\n",
    "xlab = \"browser\",\n",
    "col = \"green\")"
   ]
  },
  {
   "cell_type": "markdown",
   "metadata": {
    "lines_to_next_cell": 0
   },
   "source": [
    "browser 2 is the most used to access the website"
   ]
  },
  {
   "cell_type": "code",
   "execution_count": null,
   "metadata": {
    "lines_to_next_cell": 0
   },
   "outputs": [],
   "source": [
    "barplot(table(russian$region),\n",
    "main = \"region\",\n",
    "xlab = \"region\",\n",
    "col = \"green\")"
   ]
  },
  {
   "cell_type": "markdown",
   "metadata": {
    "lines_to_next_cell": 0
   },
   "source": [
    "region 1 has the most number of people visiting the system"
   ]
  },
  {
   "cell_type": "code",
   "execution_count": null,
   "metadata": {
    "lines_to_next_cell": 0
   },
   "outputs": [],
   "source": [
    "barplot(table(russian$traffic_type),\n",
    "main = \"Traffic Type\",\n",
    "xlab = \"Traffic Type\",\n",
    "col = \"green\")"
   ]
  },
  {
   "cell_type": "markdown",
   "metadata": {
    "lines_to_next_cell": 0
   },
   "source": [
    "traffic type 2 is has the most visits"
   ]
  },
  {
   "cell_type": "code",
   "execution_count": null,
   "metadata": {
    "lines_to_next_cell": 0
   },
   "outputs": [],
   "source": [
    "barplot(table(russian$visitor_type),\n",
    "main = \"Visitor Type\",\n",
    "xlab = \"Visitor Type\",\n",
    "col = \"blue\")"
   ]
  },
  {
   "cell_type": "markdown",
   "metadata": {
    "lines_to_next_cell": 0
   },
   "source": [
    "returning visitorsare the most frequent visitors of the website"
   ]
  },
  {
   "cell_type": "code",
   "execution_count": null,
   "metadata": {
    "lines_to_next_cell": 0
   },
   "outputs": [],
   "source": [
    "barplot(table(russian$weekend),\n",
    "main = \"Weekend\",\n",
    "xlab = \"Weekend\",\n",
    "col = \"green\")"
   ]
  },
  {
   "cell_type": "markdown",
   "metadata": {
    "lines_to_next_cell": 0
   },
   "source": [
    "most visit are done during the weekdays"
   ]
  },
  {
   "cell_type": "code",
   "execution_count": null,
   "metadata": {
    "lines_to_next_cell": 0
   },
   "outputs": [],
   "source": [
    "barplot(table(russian$revenue),\n",
    "main = \"Revenue\",\n",
    "xlab = \"Revenue\",\n",
    "col = \"black\")"
   ]
  },
  {
   "cell_type": "markdown",
   "metadata": {
    "lines_to_next_cell": 0
   },
   "source": [
    "revenue collected by the company is less compared to the one that is not collected\n",
    "\n",
    "#Bivariate Analysis"
   ]
  },
  {
   "cell_type": "code",
   "execution_count": null,
   "metadata": {},
   "outputs": [],
   "source": [
    "# we are going to import the library that is responsible for visualisations\n",
    "library(ggplot2)"
   ]
  },
  {
   "cell_type": "code",
   "execution_count": null,
   "metadata": {
    "lines_to_next_cell": 0
   },
   "outputs": [],
   "source": [
    "# administrative ve revenue\n",
    "admin =ggplot(data=russian, aes(x=administrative, fill= revenue)) + geom_bar()\n",
    "admin"
   ]
  },
  {
   "cell_type": "markdown",
   "metadata": {
    "lines_to_next_cell": 0
   },
   "source": [
    "generally, there is less revenue collected from the administrative page"
   ]
  },
  {
   "cell_type": "code",
   "execution_count": null,
   "metadata": {
    "lines_to_next_cell": 0
   },
   "outputs": [],
   "source": [
    "# informational vs revenue\n",
    "info = ggplot(data = russian, aes(x = informational, fill= revenue)) + geom_bar()\n",
    "info"
   ]
  },
  {
   "cell_type": "markdown",
   "metadata": {
    "lines_to_next_cell": 0
   },
   "source": [
    "generally, there is less revenue collected from the informational page"
   ]
  },
  {
   "cell_type": "code",
   "execution_count": null,
   "metadata": {
    "lines_to_next_cell": 0
   },
   "outputs": [],
   "source": [
    "# Product related vs revenue\n",
    "product = ggplot(data = russian, aes(x = product_related, fill= revenue)) + geom_bar()\n",
    "product"
   ]
  },
  {
   "cell_type": "markdown",
   "metadata": {
    "lines_to_next_cell": 0
   },
   "source": [
    "generally, there is less revenue collected from the product related page"
   ]
  },
  {
   "cell_type": "code",
   "execution_count": null,
   "metadata": {
    "lines_to_next_cell": 0
   },
   "outputs": [],
   "source": [
    "# Product related vs revenue\n",
    "product = ggplot(data = russian, aes(x = special_day, fill= revenue)) + geom_bar()\n",
    "product"
   ]
  },
  {
   "cell_type": "markdown",
   "metadata": {
    "lines_to_next_cell": 0
   },
   "source": [
    "generally, there is less revenue collected in the special days\n",
    "most of the revenue is collected during the special day of 0"
   ]
  },
  {
   "cell_type": "code",
   "execution_count": null,
   "metadata": {
    "lines_to_next_cell": 0
   },
   "outputs": [],
   "source": [
    "# Product related vs revenue\n",
    "product = ggplot(data = russian, aes(x = month, fill= revenue)) + geom_bar()\n",
    "product"
   ]
  },
  {
   "cell_type": "markdown",
   "metadata": {
    "lines_to_next_cell": 0
   },
   "source": [
    "generally, there is less revenue collected through out the year\n",
    "November made a lot revenue"
   ]
  },
  {
   "cell_type": "code",
   "execution_count": null,
   "metadata": {
    "lines_to_next_cell": 0
   },
   "outputs": [],
   "source": [
    "# Product related vs revenue\n",
    "product = ggplot(data = russian, aes(x = OperatingSystems, fill= revenue)) + geom_bar()\n",
    "product"
   ]
  },
  {
   "cell_type": "markdown",
   "metadata": {
    "lines_to_next_cell": 0
   },
   "source": [
    "operating system 2 helps the brand to generate revenue  "
   ]
  },
  {
   "cell_type": "code",
   "execution_count": null,
   "metadata": {
    "lines_to_next_cell": 0
   },
   "outputs": [],
   "source": [
    "# Product related vs revenue\n",
    "product = ggplot(data = russian, aes(x = browser, fill= revenue)) + geom_bar()\n",
    "product"
   ]
  },
  {
   "cell_type": "markdown",
   "metadata": {
    "lines_to_next_cell": 0
   },
   "source": [
    "browser 2 helps the brand to generate a lot of revenue"
   ]
  },
  {
   "cell_type": "code",
   "execution_count": null,
   "metadata": {
    "lines_to_next_cell": 0
   },
   "outputs": [],
   "source": [
    "# Product region vs revenue\n",
    "product = ggplot(data = russian, aes(x = region, fill= revenue)) + geom_bar()\n",
    "product"
   ]
  },
  {
   "cell_type": "markdown",
   "metadata": {
    "lines_to_next_cell": 0
   },
   "source": [
    "Alot of revenue is collected from region 1"
   ]
  },
  {
   "cell_type": "code",
   "execution_count": null,
   "metadata": {
    "lines_to_next_cell": 0
   },
   "outputs": [],
   "source": [
    "# Product related vs revenue\n",
    "product = ggplot(data = russian, aes(x = traffic_type, fill= revenue)) + geom_bar()\n",
    "product"
   ]
  },
  {
   "cell_type": "markdown",
   "metadata": {
    "lines_to_next_cell": 0
   },
   "source": [
    "the second type of traffic helps the brand generate a lot of revenue"
   ]
  },
  {
   "cell_type": "code",
   "execution_count": null,
   "metadata": {
    "lines_to_next_cell": 0
   },
   "outputs": [],
   "source": [
    "# Product related vs revenue\n",
    "product = ggplot(data = russian, aes(x = visitor_type, fill= revenue)) + geom_bar()\n",
    "product"
   ]
  },
  {
   "cell_type": "markdown",
   "metadata": {
    "lines_to_next_cell": 0
   },
   "source": [
    "returning visitors are the ones who are making the brand generate a lot of revenue compared to other types of visitors"
   ]
  },
  {
   "cell_type": "code",
   "execution_count": null,
   "metadata": {
    "lines_to_next_cell": 0
   },
   "outputs": [],
   "source": [
    "# Product related vs revenue\n",
    "product = ggplot(data = russian, aes(x = weekend, fill= revenue)) + geom_bar()\n",
    "product"
   ]
  },
  {
   "cell_type": "markdown",
   "metadata": {
    "lines_to_next_cell": 0
   },
   "source": [
    "Most of the revenue is generated during the weekdays\n",
    "\n",
    "# Modelling\n",
    "###K-Means"
   ]
  },
  {
   "cell_type": "code",
   "execution_count": null,
   "metadata": {},
   "outputs": [],
   "source": [
    "# Preprocessing the data\n",
    "# for clustering is a form of unsupervised learning,\n",
    "# we are going to remove the dependent variable and assign it a separate variable from the independent variables.\n",
    "# then, we shall normalise the independent variable.\n",
    "russian.new <- russian[, c(1,2,3,4,5,6,7,8,9,10,12,13,14,15,17)]\n",
    "russian.class <- russian[, \"revenue\"]\n",
    "head(russian.new)"
   ]
  },
  {
   "cell_type": "code",
   "execution_count": null,
   "metadata": {},
   "outputs": [],
   "source": [
    "# previewing the dependent variable\n",
    "head(russian.class)"
   ]
  },
  {
   "cell_type": "code",
   "execution_count": null,
   "metadata": {},
   "outputs": [],
   "source": [
    "# converting categorical data to numerical data\n",
    "a = c('month', 'visitor_type', \"weekend\")\n",
    "for (i in a) {\n",
    "russian[,i] = as.factor(russian[,i])\n",
    "}"
   ]
  },
  {
   "cell_type": "code",
   "execution_count": null,
   "metadata": {},
   "outputs": [],
   "source": [
    "# normalizing the dataset so as no particular attribute has more impact than another\n",
    "normalize <- function(x){\n",
    "return ((x-min(x)) / (max(x)-min(x)))\n",
    "}\n",
    "russian.new$administrative <- normalize(russian.new$administrative)\n",
    "russian.new$administrative_duration <- normalize(russian.new$administrative_duration)\n",
    "russian.new$informational <- normalize(russian.new$informational)\n",
    "russian.new$informational_duration <- normalize(russian.new$informational_duration)\n",
    "russian.new$product_related <- normalize(russian.new$product_related)\n",
    "russian.new$product_related_duration <- normalize(russian.new$product_related_duration)\n",
    "russian.new$bounce_rates <- normalize(russian.new$bounce_rates)\n",
    "russian.new$exit_rates <- normalize(russian.new$exit_rates)\n",
    "russian.new$page_values <- normalize(russian.new$page_values)\n",
    "russian.new$special_day <- normalize(russian.new$special_day)\n",
    "#russian.new$month <- normalize(russian.new$month)\n",
    "russian.new$OperatingSystems <- normalize(russian.new$OperatingSystems)\n",
    "russian.new$browser <- normalize(russian.new$browser)\n",
    "russian.new$region <- normalize(russian.new$browser)\n",
    "russian.new$traffic_type <- normalize(russian.new$traffic_type)\n",
    "#russian.new$visitor_type <- normalize(russian.new$visitor_type)\n",
    "russian.new$weekend <- normalize(russian.new$weekend)"
   ]
  },
  {
   "cell_type": "code",
   "execution_count": null,
   "metadata": {},
   "outputs": [],
   "source": [
    "# Applying the K-means clustering algorithm with no. of centroids(k)=5\n",
    "result <- kmeans(na.omit(russian.new),2)"
   ]
  },
  {
   "cell_type": "code",
   "execution_count": null,
   "metadata": {},
   "outputs": [],
   "source": [
    "# Previewing the no. of records in each cluster\n",
    "result$size"
   ]
  },
  {
   "cell_type": "code",
   "execution_count": null,
   "metadata": {},
   "outputs": [],
   "source": [
    "# Getting the value of the cluster center\n",
    "result$centers"
   ]
  },
  {
   "cell_type": "code",
   "execution_count": null,
   "metadata": {},
   "outputs": [],
   "source": [
    "# Getting the cluster vector that shows the cluster where each record falls\n",
    "dim(result$cluster)"
   ]
  },
  {
   "cell_type": "code",
   "execution_count": null,
   "metadata": {
    "lines_to_next_cell": 2
   },
   "outputs": [],
   "source": [
    "# visualising the clustering results\n",
    "par(mfrow = c(2,2), mar = c(5,2,2,2))\n",
    "plot(russian.new[c(1,2)], col = result$cluster)\n",
    "\n",
    "# Plotting to see how Sepal.Length and Sepal.Width data points have been distributed\n",
    "# originally as per \"class\" attribute in dataset\n",
    "# ---\n",
    "#\n",
    "plot(russian.new[c(2,2)], col = russian.class)\n",
    "plot(russian.new[c(3,2)], col = result$cluster)\n",
    "plot(russian.new[c(4,2)], col = russian.class)"
   ]
  },
  {
   "cell_type": "code",
   "execution_count": null,
   "metadata": {
    "lines_to_next_cell": 0
   },
   "outputs": [],
   "source": [
    "table(result$cluster, russian.class)"
   ]
  },
  {
   "cell_type": "markdown",
   "metadata": {},
   "source": [
    "the true value has less revenue made than the false.\n",
    "\n",
    "# strengths\n",
    "#### it was easy to implement\n",
    "#### An instance can change cluster (move to another cluster) when the centroids are recomputed\n",
    "\n",
    "# weaknesses\n",
    "#### it was difficult to predict the number of clusters (K-Value)\n",
    "#### The order of the data has an impact on the final results\n",
    "# Clustering\n"
   ]
  },
  {
   "cell_type": "code",
   "execution_count": null,
   "metadata": {
    "lines_to_next_cell": 0
   },
   "outputs": [],
   "source": [
    "d <- dist(russian, method = \"euclidean\")\n",
    "res.hc <- hclust(d, method = \"ward.D2\" )\n",
    "plot(res.hc, cex = 0.6, hang = -1)"
   ]
  },
  {
   "cell_type": "markdown",
   "metadata": {},
   "source": [
    "# strengths\n",
    "#### It was easy to implement\n",
    "#### We did not need to specify the number of clusters required for the algorithm.\n",
    "# weaknesses\n",
    "#### There was no mathematical objective for Hierarchical clustering.\n",
    "#### High space and time complexity for Hierarchical clustering. Hence this clustering algorithm cannot be used when we have huge data."
   ]
  }
 ],
 "metadata": {
  "jupytext": {
   "cell_metadata_filter": "-all",
   "main_language": "R",
   "notebook_metadata_filter": "-all"
  }
 },
 "nbformat": 4,
 "nbformat_minor": 4
}
